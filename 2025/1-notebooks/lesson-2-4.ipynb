{
 "cells": [
  {
   "cell_type": "markdown",
   "id": "c59aecd7",
   "metadata": {
    "id": "c59aecd7"
   },
   "source": [
    "# NN Heston Model - Model Training"
   ]
  },
  {
   "cell_type": "code",
   "execution_count": 1,
   "id": "e3df4be4",
   "metadata": {
    "executionInfo": {
     "elapsed": 964,
     "status": "ok",
     "timestamp": 1651686824714,
     "user": {
      "displayName": "Giovanni Della Lunga",
      "userId": "13927304036683734865"
     },
     "user_tz": -120
    },
    "id": "e3df4be4"
   },
   "outputs": [],
   "source": [
    "import pandas as pd\n",
    "from sklearn.model_selection import train_test_split"
   ]
  },
  {
   "cell_type": "markdown",
   "id": "ab5ed3c3",
   "metadata": {
    "id": "ab5ed3c3"
   },
   "source": [
    "## Data Preprocessing"
   ]
  },
  {
   "cell_type": "markdown",
   "id": "53c8124f",
   "metadata": {
    "id": "53c8124f"
   },
   "source": [
    "**Initialization**"
   ]
  },
  {
   "cell_type": "code",
   "execution_count": 2,
   "id": "a6db15f9",
   "metadata": {
    "colab": {
     "base_uri": "https://localhost:8080/"
    },
    "executionInfo": {
     "elapsed": 14,
     "status": "ok",
     "timestamp": 1651686824716,
     "user": {
      "displayName": "Giovanni Della Lunga",
      "userId": "13927304036683734865"
     },
     "user_tz": -120
    },
    "id": "a6db15f9",
    "outputId": "e94bcbea-67b9-4a95-c555-f893e4f903b1"
   },
   "outputs": [
    {
     "name": "stdout",
     "output_type": "stream",
     "text": [
      "inFile     :  c:/data/full_10000_VFA.csv\n",
      "scalerFile :  c:/data/scaler_10000_VFA.pkl\n",
      "mdlDir     :  c:/data/model_10000_VFA.keras\n",
      "\n",
      "c:/data/full_10000_VFA.csv -> c:/data/full_10000_VFA_trained.png\n"
     ]
    }
   ],
   "source": [
    "import os\n",
    "import re\n",
    "\n",
    "verbose    = True\n",
    "TAG        = '10000_VFA'\n",
    "\n",
    "workDir    = 'c:/data/'\n",
    "\n",
    "inFile     = \"full_%s.csv\" %(TAG)\n",
    "scalerFile = \"scaler_%s.pkl\" %(TAG)\n",
    "mdlDir     = \"model_%s.keras\" %(TAG)\n",
    "\n",
    "inFile     = os.path.join(workDir, inFile)\n",
    "scalerFile = os.path.join(workDir, scalerFile)\n",
    "mdlDir     = os.path.join(workDir, mdlDir)\n",
    "\n",
    "print(\"inFile     : \", inFile)\n",
    "print(\"scalerFile : \", scalerFile)\n",
    "print(\"mdlDir     : \", mdlDir)\n",
    "\n",
    "resFile    = re.sub(\"\\..*$\",\"_trained.png\", inFile)\n",
    "print(\"\\n%s -> %s\" %(inFile, resFile))    "
   ]
  },
  {
   "cell_type": "markdown",
   "id": "4a268098",
   "metadata": {
    "id": "4a268098"
   },
   "source": [
    "**Read the training DB**"
   ]
  },
  {
   "cell_type": "code",
   "execution_count": 3,
   "id": "nBeQpsIuP3Cz",
   "metadata": {
    "colab": {
     "base_uri": "https://localhost:8080/",
     "height": 73,
     "resources": {
      "http://localhost:8080/nbextensions/google.colab/files.js": {
       "data": "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",
       "headers": [
        [
         "content-type",
         "application/javascript"
        ]
       ],
       "ok": true,
       "status": 200,
       "status_text": ""
      }
     }
    },
    "executionInfo": {
     "elapsed": 69049,
     "status": "ok",
     "timestamp": 1651686893755,
     "user": {
      "displayName": "Giovanni Della Lunga",
      "userId": "13927304036683734865"
     },
     "user_tz": -120
    },
    "id": "nBeQpsIuP3Cz",
    "outputId": "782d50cd-97f5-423b-ee55-9ee090a5f8d7"
   },
   "outputs": [],
   "source": [
    "if 'google.colab' in str(get_ipython()):\n",
    "    from google.colab import files\n",
    "    uploaded = files.upload()"
   ]
  },
  {
   "cell_type": "code",
   "execution_count": 4,
   "id": "dd9ae022",
   "metadata": {
    "colab": {
     "base_uri": "https://localhost:8080/"
    },
    "executionInfo": {
     "elapsed": 296,
     "status": "ok",
     "timestamp": 1651686898054,
     "user": {
      "displayName": "Giovanni Della Lunga",
      "userId": "13927304036683734865"
     },
     "user_tz": -120
    },
    "id": "dd9ae022",
    "outputId": "43e1aa1f-87ab-4479-a170-ca50a701e8c1"
   },
   "outputs": [
    {
     "name": "stdout",
     "output_type": "stream",
     "text": [
      "@ Info                    : reading from 'c:/data/full_10000_VFA.csv'\n"
     ]
    }
   ],
   "source": [
    "# Read in training data\n",
    "print(\"@ %-24s: reading from '%s'\" %(\"Info\", inFile))\n",
    "db = pd.read_csv(inFile, sep=',')"
   ]
  },
  {
   "cell_type": "markdown",
   "id": "e2b41815",
   "metadata": {
    "id": "e2b41815"
   },
   "source": [
    "check that it is is what we expect"
   ]
  },
  {
   "cell_type": "code",
   "execution_count": 5,
   "id": "dcd4258a",
   "metadata": {
    "colab": {
     "base_uri": "https://localhost:8080/"
    },
    "executionInfo": {
     "elapsed": 268,
     "status": "ok",
     "timestamp": 1651686901434,
     "user": {
      "displayName": "Giovanni Della Lunga",
      "userId": "13927304036683734865"
     },
     "user_tz": -120
    },
    "id": "dcd4258a",
    "outputId": "477f5d49-33c8-4d87-f92e-8d9fb876b181",
    "scrolled": false
   },
   "outputs": [
    {
     "data": {
      "text/html": [
       "<div>\n",
       "<style scoped>\n",
       "    .dataframe tbody tr th:only-of-type {\n",
       "        vertical-align: middle;\n",
       "    }\n",
       "\n",
       "    .dataframe tbody tr th {\n",
       "        vertical-align: top;\n",
       "    }\n",
       "\n",
       "    .dataframe thead th {\n",
       "        text-align: right;\n",
       "    }\n",
       "</style>\n",
       "<table border=\"1\" class=\"dataframe\">\n",
       "  <thead>\n",
       "    <tr style=\"text-align: right;\">\n",
       "      <th></th>\n",
       "      <th>k=0.800</th>\n",
       "      <th>k=0.825</th>\n",
       "      <th>k=0.850</th>\n",
       "      <th>k=0.875</th>\n",
       "      <th>k=0.900</th>\n",
       "      <th>k=0.925</th>\n",
       "      <th>k=0.950</th>\n",
       "      <th>k=0.975</th>\n",
       "      <th>k=1.000</th>\n",
       "      <th>k=1.025</th>\n",
       "      <th>k=1.050</th>\n",
       "      <th>k=1.075</th>\n",
       "      <th>k=1.100</th>\n",
       "      <th>k=1.125</th>\n",
       "      <th>k=1.150</th>\n",
       "      <th>k=1.175</th>\n",
       "      <th>T</th>\n",
       "      <th>Price</th>\n",
       "      <th>Strike</th>\n",
       "    </tr>\n",
       "  </thead>\n",
       "  <tbody>\n",
       "    <tr>\n",
       "      <th>0</th>\n",
       "      <td>0.842813</td>\n",
       "      <td>0.839014</td>\n",
       "      <td>0.835301</td>\n",
       "      <td>0.831669</td>\n",
       "      <td>0.828116</td>\n",
       "      <td>0.824635</td>\n",
       "      <td>0.821225</td>\n",
       "      <td>0.817880</td>\n",
       "      <td>0.814599</td>\n",
       "      <td>0.811379</td>\n",
       "      <td>0.808216</td>\n",
       "      <td>0.805107</td>\n",
       "      <td>0.802052</td>\n",
       "      <td>0.799047</td>\n",
       "      <td>0.796091</td>\n",
       "      <td>0.793181</td>\n",
       "      <td>0.267238</td>\n",
       "      <td>0.045352</td>\n",
       "      <td>0.70604</td>\n",
       "    </tr>\n",
       "    <tr>\n",
       "      <th>1</th>\n",
       "      <td>0.615871</td>\n",
       "      <td>0.615296</td>\n",
       "      <td>0.614739</td>\n",
       "      <td>0.614198</td>\n",
       "      <td>0.613672</td>\n",
       "      <td>0.613160</td>\n",
       "      <td>0.612662</td>\n",
       "      <td>0.612176</td>\n",
       "      <td>0.611703</td>\n",
       "      <td>0.611241</td>\n",
       "      <td>0.610791</td>\n",
       "      <td>0.610351</td>\n",
       "      <td>0.609921</td>\n",
       "      <td>0.609500</td>\n",
       "      <td>0.609089</td>\n",
       "      <td>0.608687</td>\n",
       "      <td>0.221429</td>\n",
       "      <td>0.009650</td>\n",
       "      <td>0.67428</td>\n",
       "    </tr>\n",
       "    <tr>\n",
       "      <th>2</th>\n",
       "      <td>0.521705</td>\n",
       "      <td>0.519546</td>\n",
       "      <td>0.517512</td>\n",
       "      <td>0.515598</td>\n",
       "      <td>0.513799</td>\n",
       "      <td>0.512110</td>\n",
       "      <td>0.510529</td>\n",
       "      <td>0.509049</td>\n",
       "      <td>0.507667</td>\n",
       "      <td>0.506380</td>\n",
       "      <td>0.505183</td>\n",
       "      <td>0.504072</td>\n",
       "      <td>0.503043</td>\n",
       "      <td>0.502094</td>\n",
       "      <td>0.501220</td>\n",
       "      <td>0.500418</td>\n",
       "      <td>1.305304</td>\n",
       "      <td>0.462710</td>\n",
       "      <td>1.33812</td>\n",
       "    </tr>\n",
       "    <tr>\n",
       "      <th>3</th>\n",
       "      <td>0.665460</td>\n",
       "      <td>0.664937</td>\n",
       "      <td>0.664442</td>\n",
       "      <td>0.663973</td>\n",
       "      <td>0.663530</td>\n",
       "      <td>0.663109</td>\n",
       "      <td>0.662711</td>\n",
       "      <td>0.662333</td>\n",
       "      <td>0.661974</td>\n",
       "      <td>0.661634</td>\n",
       "      <td>0.661310</td>\n",
       "      <td>0.661003</td>\n",
       "      <td>0.660711</td>\n",
       "      <td>0.660434</td>\n",
       "      <td>0.660170</td>\n",
       "      <td>0.659919</td>\n",
       "      <td>1.040421</td>\n",
       "      <td>0.253770</td>\n",
       "      <td>0.98300</td>\n",
       "    </tr>\n",
       "    <tr>\n",
       "      <th>4</th>\n",
       "      <td>0.427631</td>\n",
       "      <td>0.420882</td>\n",
       "      <td>0.414414</td>\n",
       "      <td>0.408261</td>\n",
       "      <td>0.402458</td>\n",
       "      <td>0.397045</td>\n",
       "      <td>0.392063</td>\n",
       "      <td>0.387551</td>\n",
       "      <td>0.383544</td>\n",
       "      <td>0.380070</td>\n",
       "      <td>0.377144</td>\n",
       "      <td>0.374770</td>\n",
       "      <td>0.372938</td>\n",
       "      <td>0.371622</td>\n",
       "      <td>0.370789</td>\n",
       "      <td>0.370395</td>\n",
       "      <td>0.715546</td>\n",
       "      <td>0.016937</td>\n",
       "      <td>0.60348</td>\n",
       "    </tr>\n",
       "  </tbody>\n",
       "</table>\n",
       "</div>"
      ],
      "text/plain": [
       "    k=0.800   k=0.825   k=0.850   k=0.875   k=0.900   k=0.925   k=0.950  \\\n",
       "0  0.842813  0.839014  0.835301  0.831669  0.828116  0.824635  0.821225   \n",
       "1  0.615871  0.615296  0.614739  0.614198  0.613672  0.613160  0.612662   \n",
       "2  0.521705  0.519546  0.517512  0.515598  0.513799  0.512110  0.510529   \n",
       "3  0.665460  0.664937  0.664442  0.663973  0.663530  0.663109  0.662711   \n",
       "4  0.427631  0.420882  0.414414  0.408261  0.402458  0.397045  0.392063   \n",
       "\n",
       "    k=0.975   k=1.000   k=1.025   k=1.050   k=1.075   k=1.100   k=1.125  \\\n",
       "0  0.817880  0.814599  0.811379  0.808216  0.805107  0.802052  0.799047   \n",
       "1  0.612176  0.611703  0.611241  0.610791  0.610351  0.609921  0.609500   \n",
       "2  0.509049  0.507667  0.506380  0.505183  0.504072  0.503043  0.502094   \n",
       "3  0.662333  0.661974  0.661634  0.661310  0.661003  0.660711  0.660434   \n",
       "4  0.387551  0.383544  0.380070  0.377144  0.374770  0.372938  0.371622   \n",
       "\n",
       "    k=1.150   k=1.175         T     Price   Strike  \n",
       "0  0.796091  0.793181  0.267238  0.045352  0.70604  \n",
       "1  0.609089  0.608687  0.221429  0.009650  0.67428  \n",
       "2  0.501220  0.500418  1.305304  0.462710  1.33812  \n",
       "3  0.660170  0.659919  1.040421  0.253770  0.98300  \n",
       "4  0.370789  0.370395  0.715546  0.016937  0.60348  "
      ]
     },
     "execution_count": 5,
     "metadata": {},
     "output_type": "execute_result"
    }
   ],
   "source": [
    "db.head()"
   ]
  },
  {
   "cell_type": "code",
   "execution_count": 6,
   "id": "e017ccad",
   "metadata": {
    "executionInfo": {
     "elapsed": 384,
     "status": "ok",
     "timestamp": 1651686914291,
     "user": {
      "displayName": "Giovanni Della Lunga",
      "userId": "13927304036683734865"
     },
     "user_tz": -120
    },
    "id": "e017ccad"
   },
   "outputs": [],
   "source": [
    "from sklearn.preprocessing import StandardScaler\n",
    "\n",
    "'''\n",
    "    It is critical that any data preparation performed on a training dataset is also performed \n",
    "    on a new dataset in the future. This may include a test dataset when evaluating a model \n",
    "    or new data from the domain when using a model to make predictions. Typically, the model fit \n",
    "    on the training dataset is saved for later use. The correct solution to preparing new data \n",
    "    for the model in the future is to also save any data preparation objects, like data scaling methods, \n",
    "    to file along with the model.\n",
    "'''\n",
    "\n",
    "def preprocess(**keywrds):\n",
    "\n",
    "    db = keywrds[\"db\"]\n",
    "    \n",
    "\n",
    "    # Specify the target labels and flatten the array \n",
    "    #t=np.ravel(db[\"Price\"])\n",
    "    t=db[\"Price\"]\n",
    "\n",
    "    # Specify the data \n",
    "    X = db.drop(columns=\"Price\")\n",
    "\n",
    "    print(\"Info\")\n",
    "    print(X.info())\n",
    "    print('\\n\\n')\n",
    "    print(\"Describe\")\n",
    "    print(X.describe())\n",
    "    print('\\n\\n')    \n",
    "\n",
    "    # Define the scaler \n",
    "    scaler = StandardScaler().fit(X)\n",
    "\n",
    "    # Split the data up in train and test sets\n",
    "    X_train, X_test, t_train, t_test = train_test_split(X, t, test_size=0.33, random_state=42)\n",
    "\n",
    "    # Scale the train set\n",
    "    X_train = scaler.transform(X_train)\n",
    "\n",
    "    # Scale the test set\n",
    "    X_test = scaler.transform(X_test)\n",
    "\n",
    "    return scaler, X_train, X_test, t_train, t_test"
   ]
  },
  {
   "cell_type": "code",
   "execution_count": 7,
   "id": "93759174",
   "metadata": {
    "colab": {
     "base_uri": "https://localhost:8080/"
    },
    "executionInfo": {
     "elapsed": 375,
     "status": "ok",
     "timestamp": 1651686915004,
     "user": {
      "displayName": "Giovanni Della Lunga",
      "userId": "13927304036683734865"
     },
     "user_tz": -120
    },
    "id": "93759174",
    "outputId": "201644bb-10b4-477c-db68-dc4f5014d8cc"
   },
   "outputs": [
    {
     "name": "stdout",
     "output_type": "stream",
     "text": [
      "Info\n",
      "<class 'pandas.core.frame.DataFrame'>\n",
      "RangeIndex: 6693 entries, 0 to 6692\n",
      "Data columns (total 18 columns):\n",
      " #   Column   Non-Null Count  Dtype  \n",
      "---  ------   --------------  -----  \n",
      " 0   k=0.800  6693 non-null   float64\n",
      " 1   k=0.825  6693 non-null   float64\n",
      " 2   k=0.850  6693 non-null   float64\n",
      " 3   k=0.875  6693 non-null   float64\n",
      " 4   k=0.900  6693 non-null   float64\n",
      " 5   k=0.925  6693 non-null   float64\n",
      " 6   k=0.950  6693 non-null   float64\n",
      " 7   k=0.975  6693 non-null   float64\n",
      " 8   k=1.000  6693 non-null   float64\n",
      " 9   k=1.025  6693 non-null   float64\n",
      " 10  k=1.050  6693 non-null   float64\n",
      " 11  k=1.075  6693 non-null   float64\n",
      " 12  k=1.100  6693 non-null   float64\n",
      " 13  k=1.125  6693 non-null   float64\n",
      " 14  k=1.150  6693 non-null   float64\n",
      " 15  k=1.175  6693 non-null   float64\n",
      " 16  T        6693 non-null   float64\n",
      " 17  Strike   6693 non-null   float64\n",
      "dtypes: float64(18)\n",
      "memory usage: 941.3 KB\n",
      "None\n",
      "\n",
      "\n",
      "\n",
      "Describe\n",
      "           k=0.800      k=0.825      k=0.850      k=0.875      k=0.900  \\\n",
      "count  6693.000000  6693.000000  6693.000000  6693.000000  6693.000000   \n",
      "mean      0.603571     0.600450     0.597419     0.594473     0.591613   \n",
      "std       0.160029     0.161104     0.162199     0.163310     0.164432   \n",
      "min       0.142434     0.137958     0.126865     0.115637     0.104214   \n",
      "25%       0.491283     0.487263     0.483252     0.479307     0.475998   \n",
      "50%       0.619443     0.616792     0.613988     0.611166     0.608940   \n",
      "75%       0.732891     0.730357     0.727974     0.725680     0.724301   \n",
      "max       0.908779     0.902568     0.896667     0.892031     0.887965   \n",
      "\n",
      "           k=0.925      k=0.950      k=0.975      k=1.000      k=1.025  \\\n",
      "count  6693.000000  6693.000000  6693.000000  6693.000000  6693.000000   \n",
      "mean      0.588839     0.586152     0.583555     0.581058     0.578675   \n",
      "std       0.165560     0.166685     0.167792     0.168859     0.169838   \n",
      "min       0.092531     0.080516     0.068152     0.055896     0.047624   \n",
      "25%       0.473228     0.469741     0.466241     0.463661     0.461225   \n",
      "50%       0.607079     0.604658     0.602557     0.599843     0.597567   \n",
      "75%       0.722631     0.720741     0.718500     0.716438     0.714931   \n",
      "max       0.887677     0.887397     0.887124     0.886859     0.886599   \n",
      "\n",
      "           k=1.050      k=1.075      k=1.100      k=1.125      k=1.150  \\\n",
      "count  6693.000000  6693.000000  6693.000000  6693.000000  6693.000000   \n",
      "mean      0.576422     0.574298     0.572300     0.570420     0.568650   \n",
      "std       0.170687     0.171406     0.171999     0.172481     0.172870   \n",
      "min       0.048959     0.046060     0.039165     0.038473     0.039275   \n",
      "25%       0.458554     0.456423     0.454555     0.452950     0.451187   \n",
      "50%       0.595206     0.593053     0.590849     0.589263     0.587531   \n",
      "75%       0.713293     0.712047     0.710397     0.708844     0.707089   \n",
      "max       0.886346     0.886099     0.885858     0.885622     0.885391   \n",
      "\n",
      "           k=1.175            T       Strike  \n",
      "count  6693.000000  6693.000000  6693.000000  \n",
      "mean      0.566980     1.033923     1.001951  \n",
      "std       0.173180     0.553591     0.231237  \n",
      "min       0.040256     0.083429     0.600040  \n",
      "25%       0.449382     0.555313     0.803720  \n",
      "50%       0.585780     1.031988     1.003560  \n",
      "75%       0.705946     1.509046     1.201960  \n",
      "max       0.885165     1.999521     1.399960  \n",
      "\n",
      "\n",
      "\n"
     ]
    }
   ],
   "source": [
    "scaler, X_train, X_test, t_train, t_test = preprocess(db = db)"
   ]
  },
  {
   "cell_type": "markdown",
   "id": "2d199fd6",
   "metadata": {
    "id": "2d199fd6"
   },
   "source": [
    "## Auxiliary Functions"
   ]
  },
  {
   "cell_type": "code",
   "execution_count": 8,
   "id": "fd4e3d32",
   "metadata": {
    "executionInfo": {
     "elapsed": 451,
     "status": "ok",
     "timestamp": 1651686917262,
     "user": {
      "displayName": "Giovanni Della Lunga",
      "userId": "13927304036683734865"
     },
     "user_tz": -120
    },
    "id": "fd4e3d32"
   },
   "outputs": [],
   "source": [
    "def show_scattered( y, t, tag, ax = None):\n",
    "    #x      = model.predict(X)\n",
    "    #y      = np.ravel(x)\n",
    "    xMin = min(t)\n",
    "    xMax = max(t)\n",
    "    v    = np.arange(xMin, xMax, (xMax-xMin)/100.)\n",
    "\n",
    "    diff   = np.fabs(y - t)\n",
    "    print(\"@ %-24s: E[y-t]: %.6f Std(y-t): %.6f\" %( tag, np.mean(diff), np.std(diff)))\n",
    "    if ax == None: return\n",
    "\n",
    "    ax.plot( y, t, \".\")\n",
    "    ax.plot( v, v, color=\"red\")\n",
    "    ax.set_title(\"%s mae=%8.4f, std=%8.4f\" %(tag, np.mean(diff), np.std(diff)))\n",
    "    ax.set_xlabel(\"predicted\")\n",
    "    ax.set_ylabel(\"target\")"
   ]
  },
  {
   "cell_type": "code",
   "execution_count": 9,
   "id": "edaceb5a",
   "metadata": {
    "executionInfo": {
     "elapsed": 3,
     "status": "ok",
     "timestamp": 1651686917749,
     "user": {
      "displayName": "Giovanni Della Lunga",
      "userId": "13927304036683734865"
     },
     "user_tz": -120
    },
    "id": "edaceb5a"
   },
   "outputs": [],
   "source": [
    "def display_nn_results( model, X_train, X_test, t_train, t_test, resFile=None):\n",
    "\n",
    "    fig, ax = plt.subplots(1,2, figsize=(12,6))\n",
    "    fig.suptitle(\"Scattered plots\")\n",
    "\n",
    "    y_train  = np.ravel(model.predict(X_train))\n",
    "    show_scattered( y_train, t_train, \"InSample\", ax = ax[0])\n",
    "    \n",
    "    diff   = np.fabs(y_train - t_train)\n",
    "    RES    = pd.DataFrame({\"predicted\": y_train, \"target\": t_train, \"err:\": diff})\n",
    "    RES.to_csv(os.path.join(workDir, \"res_in__sample.csv\"), sep=',', float_format=\"%.6f\", index=True)\n",
    "    print(\"@\")\n",
    "    y_test  = np.ravel(model.predict(X_test))\n",
    "    show_scattered( y_test , t_test, \"OutOfSample\", ax= ax[1])\n",
    "    \n",
    "    diff   = np.fabs(y_test-t_test)\n",
    "    RES    = pd.DataFrame({\"predicted\": y_test, \"target\": t_test, \"err:\": diff})\n",
    "    RES.to_csv(os.path.join(workDir, \"res_out_sample.csv\"), sep=',', float_format=\"%.6f\", index=True)\n",
    "\n",
    "    print(\"@\")\n",
    "\n",
    "    if resFile != None:\n",
    "        plt.savefig(resFile, format=\"png\")\n",
    "        print(\"@ %-12s: results saved to '%s' \"%(\"Info\", resFile))\n",
    "    plt.show()\n",
    "\n",
    "\n",
    "    score = model.evaluate(X_test, t_test, verbose=1)\n",
    "    print('Score:'); print(score)"
   ]
  },
  {
   "cell_type": "markdown",
   "id": "4aa58615",
   "metadata": {
    "id": "4aa58615"
   },
   "source": [
    "## Build the model"
   ]
  },
  {
   "cell_type": "code",
   "execution_count": 10,
   "id": "864488b0",
   "metadata": {
    "executionInfo": {
     "elapsed": 2350,
     "status": "ok",
     "timestamp": 1651686921437,
     "user": {
      "displayName": "Giovanni Della Lunga",
      "userId": "13927304036683734865"
     },
     "user_tz": -120
    },
    "id": "864488b0"
   },
   "outputs": [],
   "source": [
    "from keras.models import Sequential\n",
    "from keras.layers import Dense\n",
    "\n",
    "def model_builder( inputShape = (1,)):\n",
    "    \n",
    "    # Initialize the constructor\n",
    "    model = Sequential()\n",
    "\n",
    "    # Add an input layer \n",
    "    model.add(Dense(128, activation='relu', input_shape=inputShape))\n",
    "\n",
    "    # Add one more hidden layer \n",
    "    model.add(Dense(64, activation='relu'))\n",
    "\n",
    "    # Add one more hidden layer \n",
    "    model.add(Dense(32, activation='relu'))\n",
    "\n",
    "    # Add one more hidden layer \n",
    "    model.add(Dense(16, activation='relu'))\n",
    "\n",
    "    # Add an output layer \n",
    "    model.add(Dense(1))\n",
    "    # End model construction\n",
    "\n",
    "    # Model output shape\n",
    "    print(\"model.output_shape: %s\" %(str(model.output_shape)))\n",
    "\n",
    "    # Model summary\n",
    "    print(\"Model.summary\"); model.summary()\n",
    "\n",
    "    # Model config\n",
    "    print(\"Model.config\"); model.get_config()\n",
    "\n",
    "    model.compile(loss='mse', optimizer='rmsprop', metrics=['mae'])\n",
    "    return model\n"
   ]
  },
  {
   "cell_type": "markdown",
   "id": "4a48ba78",
   "metadata": {
    "id": "4a48ba78"
   },
   "source": [
    "Let’s go through this code line by line:\n",
    "\n",
    "- The first line creates a **Sequential** model. This is the simplest kind of Keras model, for neural networks that are just composed of a single stack of layers, connected sequentially. This is called the sequential API.\n",
    "\n",
    "- Next, we build the first layer and add it to the model. It is a **Dense** hidden layer with XXX neurons. It will use the **ReLu** activation function. Each Dense layer manages its own weight matrix, containing all the connection weights between the neurons and their inputs. It also manages a vector of bias terms (one per neuron).\n",
    "\n",
    "- Next we add a second Dense hidden layer with XXX neurons, also using the ReLu activation function and a third one ...\n",
    "\n",
    "- Finally, we add a Dense output layer with only 1 neurons, using the ReLu activation function (because...).\n"
   ]
  },
  {
   "cell_type": "code",
   "execution_count": 11,
   "id": "162f642f",
   "metadata": {
    "colab": {
     "base_uri": "https://localhost:8080/"
    },
    "executionInfo": {
     "elapsed": 346,
     "status": "ok",
     "timestamp": 1651686921779,
     "user": {
      "displayName": "Giovanni Della Lunga",
      "userId": "13927304036683734865"
     },
     "user_tz": -120
    },
    "id": "162f642f",
    "outputId": "c3af7568-efa3-4989-e154-e145ca1bc472"
   },
   "outputs": [
    {
     "name": "stdout",
     "output_type": "stream",
     "text": [
      "model.output_shape: (None, 1)\n",
      "Model.summary\n"
     ]
    },
    {
     "name": "stderr",
     "output_type": "stream",
     "text": [
      "C:\\Users\\User\\anaconda3\\lib\\site-packages\\keras\\src\\layers\\core\\dense.py:87: UserWarning: Do not pass an `input_shape`/`input_dim` argument to a layer. When using Sequential models, prefer using an `Input(shape)` object as the first layer in the model instead.\n",
      "  super().__init__(activity_regularizer=activity_regularizer, **kwargs)\n"
     ]
    },
    {
     "data": {
      "text/html": [
       "<pre style=\"white-space:pre;overflow-x:auto;line-height:normal;font-family:Menlo,'DejaVu Sans Mono',consolas,'Courier New',monospace\"><span style=\"font-weight: bold\">Model: \"sequential\"</span>\n",
       "</pre>\n"
      ],
      "text/plain": [
       "\u001b[1mModel: \"sequential\"\u001b[0m\n"
      ]
     },
     "metadata": {},
     "output_type": "display_data"
    },
    {
     "data": {
      "text/html": [
       "<pre style=\"white-space:pre;overflow-x:auto;line-height:normal;font-family:Menlo,'DejaVu Sans Mono',consolas,'Courier New',monospace\">┏━━━━━━━━━━━━━━━━━━━━━━━━━━━━━━━━━━━━━━┳━━━━━━━━━━━━━━━━━━━━━━━━━━━━━┳━━━━━━━━━━━━━━━━━┓\n",
       "┃<span style=\"font-weight: bold\"> Layer (type)                         </span>┃<span style=\"font-weight: bold\"> Output Shape                </span>┃<span style=\"font-weight: bold\">         Param # </span>┃\n",
       "┡━━━━━━━━━━━━━━━━━━━━━━━━━━━━━━━━━━━━━━╇━━━━━━━━━━━━━━━━━━━━━━━━━━━━━╇━━━━━━━━━━━━━━━━━┩\n",
       "│ dense (<span style=\"color: #0087ff; text-decoration-color: #0087ff\">Dense</span>)                        │ (<span style=\"color: #00d7ff; text-decoration-color: #00d7ff\">None</span>, <span style=\"color: #00af00; text-decoration-color: #00af00\">128</span>)                 │           <span style=\"color: #00af00; text-decoration-color: #00af00\">2,432</span> │\n",
       "├──────────────────────────────────────┼─────────────────────────────┼─────────────────┤\n",
       "│ dense_1 (<span style=\"color: #0087ff; text-decoration-color: #0087ff\">Dense</span>)                      │ (<span style=\"color: #00d7ff; text-decoration-color: #00d7ff\">None</span>, <span style=\"color: #00af00; text-decoration-color: #00af00\">64</span>)                  │           <span style=\"color: #00af00; text-decoration-color: #00af00\">8,256</span> │\n",
       "├──────────────────────────────────────┼─────────────────────────────┼─────────────────┤\n",
       "│ dense_2 (<span style=\"color: #0087ff; text-decoration-color: #0087ff\">Dense</span>)                      │ (<span style=\"color: #00d7ff; text-decoration-color: #00d7ff\">None</span>, <span style=\"color: #00af00; text-decoration-color: #00af00\">32</span>)                  │           <span style=\"color: #00af00; text-decoration-color: #00af00\">2,080</span> │\n",
       "├──────────────────────────────────────┼─────────────────────────────┼─────────────────┤\n",
       "│ dense_3 (<span style=\"color: #0087ff; text-decoration-color: #0087ff\">Dense</span>)                      │ (<span style=\"color: #00d7ff; text-decoration-color: #00d7ff\">None</span>, <span style=\"color: #00af00; text-decoration-color: #00af00\">16</span>)                  │             <span style=\"color: #00af00; text-decoration-color: #00af00\">528</span> │\n",
       "├──────────────────────────────────────┼─────────────────────────────┼─────────────────┤\n",
       "│ dense_4 (<span style=\"color: #0087ff; text-decoration-color: #0087ff\">Dense</span>)                      │ (<span style=\"color: #00d7ff; text-decoration-color: #00d7ff\">None</span>, <span style=\"color: #00af00; text-decoration-color: #00af00\">1</span>)                   │              <span style=\"color: #00af00; text-decoration-color: #00af00\">17</span> │\n",
       "└──────────────────────────────────────┴─────────────────────────────┴─────────────────┘\n",
       "</pre>\n"
      ],
      "text/plain": [
       "┏━━━━━━━━━━━━━━━━━━━━━━━━━━━━━━━━━━━━━━┳━━━━━━━━━━━━━━━━━━━━━━━━━━━━━┳━━━━━━━━━━━━━━━━━┓\n",
       "┃\u001b[1m \u001b[0m\u001b[1mLayer (type)                        \u001b[0m\u001b[1m \u001b[0m┃\u001b[1m \u001b[0m\u001b[1mOutput Shape               \u001b[0m\u001b[1m \u001b[0m┃\u001b[1m \u001b[0m\u001b[1m        Param #\u001b[0m\u001b[1m \u001b[0m┃\n",
       "┡━━━━━━━━━━━━━━━━━━━━━━━━━━━━━━━━━━━━━━╇━━━━━━━━━━━━━━━━━━━━━━━━━━━━━╇━━━━━━━━━━━━━━━━━┩\n",
       "│ dense (\u001b[38;5;33mDense\u001b[0m)                        │ (\u001b[38;5;45mNone\u001b[0m, \u001b[38;5;34m128\u001b[0m)                 │           \u001b[38;5;34m2,432\u001b[0m │\n",
       "├──────────────────────────────────────┼─────────────────────────────┼─────────────────┤\n",
       "│ dense_1 (\u001b[38;5;33mDense\u001b[0m)                      │ (\u001b[38;5;45mNone\u001b[0m, \u001b[38;5;34m64\u001b[0m)                  │           \u001b[38;5;34m8,256\u001b[0m │\n",
       "├──────────────────────────────────────┼─────────────────────────────┼─────────────────┤\n",
       "│ dense_2 (\u001b[38;5;33mDense\u001b[0m)                      │ (\u001b[38;5;45mNone\u001b[0m, \u001b[38;5;34m32\u001b[0m)                  │           \u001b[38;5;34m2,080\u001b[0m │\n",
       "├──────────────────────────────────────┼─────────────────────────────┼─────────────────┤\n",
       "│ dense_3 (\u001b[38;5;33mDense\u001b[0m)                      │ (\u001b[38;5;45mNone\u001b[0m, \u001b[38;5;34m16\u001b[0m)                  │             \u001b[38;5;34m528\u001b[0m │\n",
       "├──────────────────────────────────────┼─────────────────────────────┼─────────────────┤\n",
       "│ dense_4 (\u001b[38;5;33mDense\u001b[0m)                      │ (\u001b[38;5;45mNone\u001b[0m, \u001b[38;5;34m1\u001b[0m)                   │              \u001b[38;5;34m17\u001b[0m │\n",
       "└──────────────────────────────────────┴─────────────────────────────┴─────────────────┘\n"
      ]
     },
     "metadata": {},
     "output_type": "display_data"
    },
    {
     "data": {
      "text/html": [
       "<pre style=\"white-space:pre;overflow-x:auto;line-height:normal;font-family:Menlo,'DejaVu Sans Mono',consolas,'Courier New',monospace\"><span style=\"font-weight: bold\"> Total params: </span><span style=\"color: #00af00; text-decoration-color: #00af00\">13,313</span> (52.00 KB)\n",
       "</pre>\n"
      ],
      "text/plain": [
       "\u001b[1m Total params: \u001b[0m\u001b[38;5;34m13,313\u001b[0m (52.00 KB)\n"
      ]
     },
     "metadata": {},
     "output_type": "display_data"
    },
    {
     "data": {
      "text/html": [
       "<pre style=\"white-space:pre;overflow-x:auto;line-height:normal;font-family:Menlo,'DejaVu Sans Mono',consolas,'Courier New',monospace\"><span style=\"font-weight: bold\"> Trainable params: </span><span style=\"color: #00af00; text-decoration-color: #00af00\">13,313</span> (52.00 KB)\n",
       "</pre>\n"
      ],
      "text/plain": [
       "\u001b[1m Trainable params: \u001b[0m\u001b[38;5;34m13,313\u001b[0m (52.00 KB)\n"
      ]
     },
     "metadata": {},
     "output_type": "display_data"
    },
    {
     "data": {
      "text/html": [
       "<pre style=\"white-space:pre;overflow-x:auto;line-height:normal;font-family:Menlo,'DejaVu Sans Mono',consolas,'Courier New',monospace\"><span style=\"font-weight: bold\"> Non-trainable params: </span><span style=\"color: #00af00; text-decoration-color: #00af00\">0</span> (0.00 B)\n",
       "</pre>\n"
      ],
      "text/plain": [
       "\u001b[1m Non-trainable params: \u001b[0m\u001b[38;5;34m0\u001b[0m (0.00 B)\n"
      ]
     },
     "metadata": {},
     "output_type": "display_data"
    },
    {
     "name": "stdout",
     "output_type": "stream",
     "text": [
      "Model.config\n"
     ]
    }
   ],
   "source": [
    "model = model_builder( inputShape = (X_train.shape[1],))"
   ]
  },
  {
   "cell_type": "markdown",
   "id": "7f8ef0b9",
   "metadata": {
    "id": "7f8ef0b9"
   },
   "source": [
    "Note that Dense layers often have a lot of parameters. For example, the first hidden\n",
    "layer has n × n connection weights, plus 300 bias terms, which adds up to\n",
    "XXX parameters! This gives the model quite a lot of flexibility to fit the training\n",
    "data, but it also means that the model runs the risk of overfitting, especially when you\n",
    "do not have a lot of training data."
   ]
  },
  {
   "cell_type": "markdown",
   "id": "97a01a30",
   "metadata": {
    "id": "97a01a30"
   },
   "source": [
    "You can easily get a model’s list of layers, to fetch a layer by its index, or you can fetch\n",
    "it by name:"
   ]
  },
  {
   "cell_type": "code",
   "execution_count": 12,
   "id": "db6a912d",
   "metadata": {
    "colab": {
     "base_uri": "https://localhost:8080/"
    },
    "executionInfo": {
     "elapsed": 319,
     "status": "ok",
     "timestamp": 1651686924929,
     "user": {
      "displayName": "Giovanni Della Lunga",
      "userId": "13927304036683734865"
     },
     "user_tz": -120
    },
    "id": "db6a912d",
    "outputId": "bcef72bb-4f35-4fbe-b1cb-e654e2896a1b"
   },
   "outputs": [
    {
     "data": {
      "text/plain": [
       "[<Dense name=dense, built=True>,\n",
       " <Dense name=dense_1, built=True>,\n",
       " <Dense name=dense_2, built=True>,\n",
       " <Dense name=dense_3, built=True>,\n",
       " <Dense name=dense_4, built=True>]"
      ]
     },
     "execution_count": 12,
     "metadata": {},
     "output_type": "execute_result"
    }
   ],
   "source": [
    "model.layers"
   ]
  },
  {
   "cell_type": "code",
   "execution_count": 13,
   "id": "92d707c3",
   "metadata": {
    "colab": {
     "base_uri": "https://localhost:8080/",
     "height": 35
    },
    "executionInfo": {
     "elapsed": 8,
     "status": "ok",
     "timestamp": 1651686925301,
     "user": {
      "displayName": "Giovanni Della Lunga",
      "userId": "13927304036683734865"
     },
     "user_tz": -120
    },
    "id": "92d707c3",
    "outputId": "4e40eed0-f1b9-440d-a2c2-456f70fff71a"
   },
   "outputs": [
    {
     "data": {
      "text/plain": [
       "'dense_1'"
      ]
     },
     "execution_count": 13,
     "metadata": {},
     "output_type": "execute_result"
    }
   ],
   "source": [
    "model.layers[1].name"
   ]
  },
  {
   "cell_type": "markdown",
   "id": "c4bf0502",
   "metadata": {
    "id": "c4bf0502"
   },
   "source": [
    "After a model is created, you must call its ***compile()*** method to specify the loss function\n",
    "and the optimizer to use. Optionally, you can also specify a list of extra metrics to\n",
    "compute during training and evaluation. In this case we have chosen\n",
    "\n",
    "`model.compile(loss='mse', optimizer='rmsprop', metrics=['mae'])`\n",
    "\n"
   ]
  },
  {
   "cell_type": "markdown",
   "id": "2c24e072",
   "metadata": {
    "id": "2c24e072"
   },
   "source": [
    "## Train the model"
   ]
  },
  {
   "cell_type": "markdown",
   "id": "d8ceaf27",
   "metadata": {
    "id": "d8ceaf27"
   },
   "source": [
    "Now the model is ready to be trained. For this we simply need to call its ***fit()***\n",
    "method. We pass it the input features (***X_train***) and the target classes (***y_train***), as\n",
    "well as the number of epochs to train (or else it would default to just 1, which would\n",
    "definitely not be enough to converge to a good solution). We could also pass a validation set\n",
    "(this is optional): Keras will measure the loss and the extra metrics on this set at the\n",
    "end of each epoch, which is very useful to see how well the model really performs: if\n",
    "the performance on the training set is much better than on the validation set, your model is probably overfitting the training set (or there is a bug, such as a data mismatch\n",
    "between the training set and the validation set)."
   ]
  },
  {
   "cell_type": "code",
   "execution_count": 14,
   "id": "77a4b3ac",
   "metadata": {
    "colab": {
     "base_uri": "https://localhost:8080/"
    },
    "executionInfo": {
     "elapsed": 112369,
     "status": "ok",
     "timestamp": 1651687041457,
     "user": {
      "displayName": "Giovanni Della Lunga",
      "userId": "13927304036683734865"
     },
     "user_tz": -120
    },
    "id": "77a4b3ac",
    "outputId": "079d2b3f-3560-493d-d171-c893a4a7f170"
   },
   "outputs": [
    {
     "name": "stdout",
     "output_type": "stream",
     "text": [
      "Epoch 1/50\n",
      "\u001b[1m141/141\u001b[0m \u001b[32m━━━━━━━━━━━━━━━━━━━━\u001b[0m\u001b[37m\u001b[0m \u001b[1m2s\u001b[0m 4ms/step - loss: 0.0153 - mae: 0.0741\n",
      "Epoch 2/50\n",
      "\u001b[1m141/141\u001b[0m \u001b[32m━━━━━━━━━━━━━━━━━━━━\u001b[0m\u001b[37m\u001b[0m \u001b[1m1s\u001b[0m 3ms/step - loss: 0.0012 - mae: 0.0249\n",
      "Epoch 3/50\n",
      "\u001b[1m141/141\u001b[0m \u001b[32m━━━━━━━━━━━━━━━━━━━━\u001b[0m\u001b[37m\u001b[0m \u001b[1m0s\u001b[0m 3ms/step - loss: 5.8416e-04 - mae: 0.0168\n",
      "Epoch 4/50\n",
      "\u001b[1m141/141\u001b[0m \u001b[32m━━━━━━━━━━━━━━━━━━━━\u001b[0m\u001b[37m\u001b[0m \u001b[1m1s\u001b[0m 4ms/step - loss: 3.8803e-04 - mae: 0.0138\n",
      "Epoch 5/50\n",
      "\u001b[1m141/141\u001b[0m \u001b[32m━━━━━━━━━━━━━━━━━━━━\u001b[0m\u001b[37m\u001b[0m \u001b[1m1s\u001b[0m 4ms/step - loss: 2.4906e-04 - mae: 0.0111\n",
      "Epoch 6/50\n",
      "\u001b[1m141/141\u001b[0m \u001b[32m━━━━━━━━━━━━━━━━━━━━\u001b[0m\u001b[37m\u001b[0m \u001b[1m1s\u001b[0m 4ms/step - loss: 2.1029e-04 - mae: 0.0100\n",
      "Epoch 7/50\n",
      "\u001b[1m141/141\u001b[0m \u001b[32m━━━━━━━━━━━━━━━━━━━━\u001b[0m\u001b[37m\u001b[0m \u001b[1m1s\u001b[0m 4ms/step - loss: 1.8866e-04 - mae: 0.0096\n",
      "Epoch 8/50\n",
      "\u001b[1m141/141\u001b[0m \u001b[32m━━━━━━━━━━━━━━━━━━━━\u001b[0m\u001b[37m\u001b[0m \u001b[1m1s\u001b[0m 4ms/step - loss: 1.6381e-04 - mae: 0.0092\n",
      "Epoch 9/50\n",
      "\u001b[1m141/141\u001b[0m \u001b[32m━━━━━━━━━━━━━━━━━━━━\u001b[0m\u001b[37m\u001b[0m \u001b[1m1s\u001b[0m 4ms/step - loss: 1.1419e-04 - mae: 0.0073\n",
      "Epoch 10/50\n",
      "\u001b[1m141/141\u001b[0m \u001b[32m━━━━━━━━━━━━━━━━━━━━\u001b[0m\u001b[37m\u001b[0m \u001b[1m1s\u001b[0m 4ms/step - loss: 1.0639e-04 - mae: 0.0074\n",
      "Epoch 11/50\n",
      "\u001b[1m141/141\u001b[0m \u001b[32m━━━━━━━━━━━━━━━━━━━━\u001b[0m\u001b[37m\u001b[0m \u001b[1m1s\u001b[0m 3ms/step - loss: 1.3085e-04 - mae: 0.0077\n",
      "Epoch 12/50\n",
      "\u001b[1m141/141\u001b[0m \u001b[32m━━━━━━━━━━━━━━━━━━━━\u001b[0m\u001b[37m\u001b[0m \u001b[1m1s\u001b[0m 4ms/step - loss: 9.7812e-05 - mae: 0.0073\n",
      "Epoch 13/50\n",
      "\u001b[1m141/141\u001b[0m \u001b[32m━━━━━━━━━━━━━━━━━━━━\u001b[0m\u001b[37m\u001b[0m \u001b[1m1s\u001b[0m 4ms/step - loss: 1.0585e-04 - mae: 0.0070\n",
      "Epoch 14/50\n",
      "\u001b[1m141/141\u001b[0m \u001b[32m━━━━━━━━━━━━━━━━━━━━\u001b[0m\u001b[37m\u001b[0m \u001b[1m1s\u001b[0m 4ms/step - loss: 9.4380e-05 - mae: 0.0068\n",
      "Epoch 15/50\n",
      "\u001b[1m141/141\u001b[0m \u001b[32m━━━━━━━━━━━━━━━━━━━━\u001b[0m\u001b[37m\u001b[0m \u001b[1m1s\u001b[0m 4ms/step - loss: 7.1467e-05 - mae: 0.0062\n",
      "Epoch 16/50\n",
      "\u001b[1m141/141\u001b[0m \u001b[32m━━━━━━━━━━━━━━━━━━━━\u001b[0m\u001b[37m\u001b[0m \u001b[1m1s\u001b[0m 3ms/step - loss: 7.4407e-05 - mae: 0.0063\n",
      "Epoch 17/50\n",
      "\u001b[1m141/141\u001b[0m \u001b[32m━━━━━━━━━━━━━━━━━━━━\u001b[0m\u001b[37m\u001b[0m \u001b[1m1s\u001b[0m 5ms/step - loss: 7.1285e-05 - mae: 0.0063\n",
      "Epoch 18/50\n",
      "\u001b[1m141/141\u001b[0m \u001b[32m━━━━━━━━━━━━━━━━━━━━\u001b[0m\u001b[37m\u001b[0m \u001b[1m1s\u001b[0m 4ms/step - loss: 5.9722e-05 - mae: 0.0055\n",
      "Epoch 19/50\n",
      "\u001b[1m141/141\u001b[0m \u001b[32m━━━━━━━━━━━━━━━━━━━━\u001b[0m\u001b[37m\u001b[0m \u001b[1m1s\u001b[0m 4ms/step - loss: 7.2922e-05 - mae: 0.0060\n",
      "Epoch 20/50\n",
      "\u001b[1m141/141\u001b[0m \u001b[32m━━━━━━━━━━━━━━━━━━━━\u001b[0m\u001b[37m\u001b[0m \u001b[1m1s\u001b[0m 4ms/step - loss: 6.7922e-05 - mae: 0.0059\n",
      "Epoch 21/50\n",
      "\u001b[1m141/141\u001b[0m \u001b[32m━━━━━━━━━━━━━━━━━━━━\u001b[0m\u001b[37m\u001b[0m \u001b[1m1s\u001b[0m 3ms/step - loss: 6.6858e-05 - mae: 0.0058\n",
      "Epoch 22/50\n",
      "\u001b[1m141/141\u001b[0m \u001b[32m━━━━━━━━━━━━━━━━━━━━\u001b[0m\u001b[37m\u001b[0m \u001b[1m1s\u001b[0m 4ms/step - loss: 6.0954e-05 - mae: 0.0057\n",
      "Epoch 23/50\n",
      "\u001b[1m141/141\u001b[0m \u001b[32m━━━━━━━━━━━━━━━━━━━━\u001b[0m\u001b[37m\u001b[0m \u001b[1m1s\u001b[0m 6ms/step - loss: 5.9786e-05 - mae: 0.0057\n",
      "Epoch 24/50\n",
      "\u001b[1m141/141\u001b[0m \u001b[32m━━━━━━━━━━━━━━━━━━━━\u001b[0m\u001b[37m\u001b[0m \u001b[1m1s\u001b[0m 5ms/step - loss: 6.0785e-05 - mae: 0.0057\n",
      "Epoch 25/50\n",
      "\u001b[1m141/141\u001b[0m \u001b[32m━━━━━━━━━━━━━━━━━━━━\u001b[0m\u001b[37m\u001b[0m \u001b[1m1s\u001b[0m 3ms/step - loss: 5.0321e-05 - mae: 0.0052\n",
      "Epoch 26/50\n",
      "\u001b[1m141/141\u001b[0m \u001b[32m━━━━━━━━━━━━━━━━━━━━\u001b[0m\u001b[37m\u001b[0m \u001b[1m1s\u001b[0m 5ms/step - loss: 6.0125e-05 - mae: 0.0055\n",
      "Epoch 27/50\n",
      "\u001b[1m141/141\u001b[0m \u001b[32m━━━━━━━━━━━━━━━━━━━━\u001b[0m\u001b[37m\u001b[0m \u001b[1m1s\u001b[0m 5ms/step - loss: 5.8869e-05 - mae: 0.0057\n",
      "Epoch 28/50\n",
      "\u001b[1m141/141\u001b[0m \u001b[32m━━━━━━━━━━━━━━━━━━━━\u001b[0m\u001b[37m\u001b[0m \u001b[1m1s\u001b[0m 6ms/step - loss: 4.9980e-05 - mae: 0.0049\n",
      "Epoch 29/50\n",
      "\u001b[1m141/141\u001b[0m \u001b[32m━━━━━━━━━━━━━━━━━━━━\u001b[0m\u001b[37m\u001b[0m \u001b[1m1s\u001b[0m 5ms/step - loss: 4.3624e-05 - mae: 0.0047\n",
      "Epoch 30/50\n",
      "\u001b[1m141/141\u001b[0m \u001b[32m━━━━━━━━━━━━━━━━━━━━\u001b[0m\u001b[37m\u001b[0m \u001b[1m1s\u001b[0m 5ms/step - loss: 4.0346e-05 - mae: 0.0047\n",
      "Epoch 31/50\n",
      "\u001b[1m141/141\u001b[0m \u001b[32m━━━━━━━━━━━━━━━━━━━━\u001b[0m\u001b[37m\u001b[0m \u001b[1m1s\u001b[0m 4ms/step - loss: 4.3235e-05 - mae: 0.0046\n",
      "Epoch 32/50\n",
      "\u001b[1m141/141\u001b[0m \u001b[32m━━━━━━━━━━━━━━━━━━━━\u001b[0m\u001b[37m\u001b[0m \u001b[1m1s\u001b[0m 5ms/step - loss: 4.3518e-05 - mae: 0.0049\n",
      "Epoch 33/50\n",
      "\u001b[1m141/141\u001b[0m \u001b[32m━━━━━━━━━━━━━━━━━━━━\u001b[0m\u001b[37m\u001b[0m \u001b[1m1s\u001b[0m 4ms/step - loss: 3.8641e-05 - mae: 0.0045\n",
      "Epoch 34/50\n",
      "\u001b[1m141/141\u001b[0m \u001b[32m━━━━━━━━━━━━━━━━━━━━\u001b[0m\u001b[37m\u001b[0m \u001b[1m1s\u001b[0m 5ms/step - loss: 3.8724e-05 - mae: 0.0047\n",
      "Epoch 35/50\n",
      "\u001b[1m141/141\u001b[0m \u001b[32m━━━━━━━━━━━━━━━━━━━━\u001b[0m\u001b[37m\u001b[0m \u001b[1m1s\u001b[0m 4ms/step - loss: 4.4943e-05 - mae: 0.0051\n",
      "Epoch 36/50\n",
      "\u001b[1m141/141\u001b[0m \u001b[32m━━━━━━━━━━━━━━━━━━━━\u001b[0m\u001b[37m\u001b[0m \u001b[1m1s\u001b[0m 6ms/step - loss: 4.7621e-05 - mae: 0.0051\n",
      "Epoch 37/50\n",
      "\u001b[1m141/141\u001b[0m \u001b[32m━━━━━━━━━━━━━━━━━━━━\u001b[0m\u001b[37m\u001b[0m \u001b[1m1s\u001b[0m 4ms/step - loss: 3.7793e-05 - mae: 0.0046\n",
      "Epoch 38/50\n",
      "\u001b[1m141/141\u001b[0m \u001b[32m━━━━━━━━━━━━━━━━━━━━\u001b[0m\u001b[37m\u001b[0m \u001b[1m1s\u001b[0m 4ms/step - loss: 4.5638e-05 - mae: 0.0046\n",
      "Epoch 39/50\n",
      "\u001b[1m141/141\u001b[0m \u001b[32m━━━━━━━━━━━━━━━━━━━━\u001b[0m\u001b[37m\u001b[0m \u001b[1m1s\u001b[0m 4ms/step - loss: 3.9744e-05 - mae: 0.0046\n",
      "Epoch 40/50\n",
      "\u001b[1m141/141\u001b[0m \u001b[32m━━━━━━━━━━━━━━━━━━━━\u001b[0m\u001b[37m\u001b[0m \u001b[1m1s\u001b[0m 4ms/step - loss: 3.4039e-05 - mae: 0.0042\n",
      "Epoch 41/50\n",
      "\u001b[1m141/141\u001b[0m \u001b[32m━━━━━━━━━━━━━━━━━━━━\u001b[0m\u001b[37m\u001b[0m \u001b[1m1s\u001b[0m 4ms/step - loss: 3.8298e-05 - mae: 0.0045\n",
      "Epoch 42/50\n",
      "\u001b[1m141/141\u001b[0m \u001b[32m━━━━━━━━━━━━━━━━━━━━\u001b[0m\u001b[37m\u001b[0m \u001b[1m1s\u001b[0m 4ms/step - loss: 3.4624e-05 - mae: 0.0044\n",
      "Epoch 43/50\n",
      "\u001b[1m141/141\u001b[0m \u001b[32m━━━━━━━━━━━━━━━━━━━━\u001b[0m\u001b[37m\u001b[0m \u001b[1m1s\u001b[0m 4ms/step - loss: 4.1511e-05 - mae: 0.0049\n",
      "Epoch 44/50\n",
      "\u001b[1m141/141\u001b[0m \u001b[32m━━━━━━━━━━━━━━━━━━━━\u001b[0m\u001b[37m\u001b[0m \u001b[1m1s\u001b[0m 5ms/step - loss: 4.1850e-05 - mae: 0.0046\n",
      "Epoch 45/50\n",
      "\u001b[1m141/141\u001b[0m \u001b[32m━━━━━━━━━━━━━━━━━━━━\u001b[0m\u001b[37m\u001b[0m \u001b[1m1s\u001b[0m 4ms/step - loss: 3.1863e-05 - mae: 0.0042\n",
      "Epoch 46/50\n",
      "\u001b[1m141/141\u001b[0m \u001b[32m━━━━━━━━━━━━━━━━━━━━\u001b[0m\u001b[37m\u001b[0m \u001b[1m1s\u001b[0m 5ms/step - loss: 3.9106e-05 - mae: 0.0047\n",
      "Epoch 47/50\n",
      "\u001b[1m141/141\u001b[0m \u001b[32m━━━━━━━━━━━━━━━━━━━━\u001b[0m\u001b[37m\u001b[0m \u001b[1m1s\u001b[0m 5ms/step - loss: 3.1946e-05 - mae: 0.0041\n",
      "Epoch 48/50\n",
      "\u001b[1m141/141\u001b[0m \u001b[32m━━━━━━━━━━━━━━━━━━━━\u001b[0m\u001b[37m\u001b[0m \u001b[1m1s\u001b[0m 4ms/step - loss: 3.4849e-05 - mae: 0.0043\n",
      "Epoch 49/50\n",
      "\u001b[1m141/141\u001b[0m \u001b[32m━━━━━━━━━━━━━━━━━━━━\u001b[0m\u001b[37m\u001b[0m \u001b[1m1s\u001b[0m 4ms/step - loss: 3.8318e-05 - mae: 0.0046\n",
      "Epoch 50/50\n",
      "\u001b[1m141/141\u001b[0m \u001b[32m━━━━━━━━━━━━━━━━━━━━\u001b[0m\u001b[37m\u001b[0m \u001b[1m1s\u001b[0m 4ms/step - loss: 2.6293e-05 - mae: 0.0038\n"
     ]
    }
   ],
   "source": [
    "history = model.fit(X_train, t_train, epochs=50, verbose=verbose)"
   ]
  },
  {
   "cell_type": "markdown",
   "id": "7ac730b4",
   "metadata": {
    "id": "7ac730b4"
   },
   "source": [
    "And that’s it! The neural network is trained. At each epoch during training, Keras displays\n",
    "the number of instances processed so far (along with a progress bar), the mean\n",
    "training time per sample, the loss and accuracy (or any other extra metrics you asked\n",
    "for), both on the training set and the validation set. You can see that the training loss\n",
    "went down, which is a good sign, and the validation accuracy reached XXX% after 50\n",
    "epochs, not too far from the training accuracy, so there does not seem to be much\n",
    "overfitting going on."
   ]
  },
  {
   "cell_type": "markdown",
   "id": "4d29932f",
   "metadata": {
    "id": "4d29932f"
   },
   "source": [
    "All the parameters of a layer can be accessed using its ***get_weights()*** and\n",
    "***set_weights()*** method. For a Dense layer, this includes both the connection weights\n",
    "and the bias terms:"
   ]
  },
  {
   "cell_type": "code",
   "execution_count": 15,
   "id": "5e6b1834",
   "metadata": {
    "colab": {
     "base_uri": "https://localhost:8080/"
    },
    "executionInfo": {
     "elapsed": 286,
     "status": "ok",
     "timestamp": 1651687046330,
     "user": {
      "displayName": "Giovanni Della Lunga",
      "userId": "13927304036683734865"
     },
     "user_tz": -120
    },
    "id": "5e6b1834",
    "outputId": "fc5cbbc0-71de-4bf5-d51b-0510d7a11d2d"
   },
   "outputs": [
    {
     "data": {
      "text/plain": [
       "array([[-0.03010417, -0.10553987,  0.11438935, ...,  0.09621026,\n",
       "        -0.14338113,  0.16136777],\n",
       "       [-0.17028686,  0.08558258,  0.1463772 , ..., -0.04675479,\n",
       "        -0.12205896, -0.0137651 ],\n",
       "       [-0.040621  ,  0.13650565,  0.0716951 , ...,  0.01076325,\n",
       "        -0.09941122,  0.15620857],\n",
       "       ...,\n",
       "       [-0.00619484, -0.05259831,  0.03315455, ..., -0.11905353,\n",
       "         0.03721566,  0.03040141],\n",
       "       [-0.08991458, -0.04578706, -0.14857212, ...,  0.01741144,\n",
       "         0.07825191, -0.15917778],\n",
       "       [ 0.0741815 , -0.06786869,  0.1143989 , ..., -0.11857122,\n",
       "        -0.05517583, -0.13251317]], dtype=float32)"
      ]
     },
     "execution_count": 15,
     "metadata": {},
     "output_type": "execute_result"
    }
   ],
   "source": [
    "weights, biases = model.layers[1].get_weights()\n",
    "weights"
   ]
  },
  {
   "cell_type": "code",
   "execution_count": 16,
   "id": "6fd4a1c1",
   "metadata": {
    "colab": {
     "base_uri": "https://localhost:8080/",
     "height": 570
    },
    "executionInfo": {
     "elapsed": 5409,
     "status": "ok",
     "timestamp": 1651687052692,
     "user": {
      "displayName": "Giovanni Della Lunga",
      "userId": "13927304036683734865"
     },
     "user_tz": -120
    },
    "id": "6fd4a1c1",
    "outputId": "03b6355a-f023-4a84-f901-be4a596b69c4"
   },
   "outputs": [
    {
     "name": "stdout",
     "output_type": "stream",
     "text": [
      "\u001b[1m141/141\u001b[0m \u001b[32m━━━━━━━━━━━━━━━━━━━━\u001b[0m\u001b[37m\u001b[0m \u001b[1m0s\u001b[0m 3ms/step\n",
      "@ InSample                : E[y-t]: 0.005303 Std(y-t): 0.003349\n",
      "@\n",
      "\u001b[1m70/70\u001b[0m \u001b[32m━━━━━━━━━━━━━━━━━━━━\u001b[0m\u001b[37m\u001b[0m \u001b[1m0s\u001b[0m 2ms/step\n",
      "@ OutOfSample             : E[y-t]: 0.005599 Std(y-t): 0.003664\n",
      "@\n",
      "@ Info        : results saved to 'c:/data/full_10000_VFA_trained.png' \n"
     ]
    },
    {
     "data": {
      "image/png": "[encoded data removed]",
      "text/plain": [
       "<Figure size 1200x600 with 2 Axes>"
      ]
     },
     "metadata": {},
     "output_type": "display_data"
    },
    {
     "name": "stdout",
     "output_type": "stream",
     "text": [
      "\u001b[1m70/70\u001b[0m \u001b[32m━━━━━━━━━━━━━━━━━━━━\u001b[0m\u001b[37m\u001b[0m \u001b[1m0s\u001b[0m 3ms/step - loss: 4.3290e-05 - mae: 0.0055\n",
      "Score:\n",
      "[4.478127812035382e-05, 0.005599461030215025]\n"
     ]
    }
   ],
   "source": [
    "import warnings\n",
    "warnings.simplefilter('ignore')\n",
    "\n",
    "import matplotlib.pyplot as plt\n",
    "import numpy             as np\n",
    "\n",
    "display_nn_results(model, X_train, X_test, t_train, t_test, resFile = resFile)"
   ]
  },
  {
   "cell_type": "markdown",
   "id": "79cc9e70",
   "metadata": {
    "id": "79cc9e70"
   },
   "source": [
    "## Save Scaler and Model on Disk"
   ]
  },
  {
   "cell_type": "code",
   "execution_count": 17,
   "id": "e7e79d55",
   "metadata": {
    "colab": {
     "base_uri": "https://localhost:8080/"
    },
    "executionInfo": {
     "elapsed": 1358,
     "status": "ok",
     "timestamp": 1651654252725,
     "user": {
      "displayName": "Giovanni Della Lunga",
      "userId": "13927304036683734865"
     },
     "user_tz": -120
    },
    "id": "e7e79d55",
    "outputId": "6dbf2d7c-b8b5-4fb7-aa1a-5484c2989c03"
   },
   "outputs": [
    {
     "name": "stdout",
     "output_type": "stream",
     "text": [
      "@ Info                    : scaler saved to 'c:/data/scaler_10000_VFA.pkl'\n",
      "@ Info                    : model saved to 'c:/data/model_10000_VFA.keras'\n"
     ]
    }
   ],
   "source": [
    "from pickle import dump, load\n",
    "\n",
    "dump(scaler, open(scalerFile, 'wb'))\n",
    "print(\"@ %-24s: scaler saved to '%s'\" %(\"Info\", scalerFile))\n",
    "\n",
    "model.save(mdlDir)\n",
    "print(\"@ %-24s: model saved to '%s'\" %(\"Info\", mdlDir))    "
   ]
  },
  {
   "cell_type": "code",
   "execution_count": 18,
   "id": "xRsoFh8qQq29",
   "metadata": {
    "colab": {
     "base_uri": "https://localhost:8080/",
     "height": 34
    },
    "executionInfo": {
     "elapsed": 420,
     "status": "ok",
     "timestamp": 1651654282819,
     "user": {
      "displayName": "Giovanni Della Lunga",
      "userId": "13927304036683734865"
     },
     "user_tz": -120
    },
    "id": "xRsoFh8qQq29",
    "outputId": "8f2e2bff-0dff-4895-b820-32237982f241"
   },
   "outputs": [],
   "source": [
    "if 'google.colab' in str(get_ipython()):\n",
    "    from google.colab import files\n",
    "    files.download(scalerFile)\n",
    "    #files.download(mdlDir)"
   ]
  },
  {
   "cell_type": "markdown",
   "id": "57725678",
   "metadata": {},
   "source": [
    "## Using the History Object"
   ]
  },
  {
   "cell_type": "markdown",
   "id": "c8a1fd8f",
   "metadata": {
    "id": "c8a1fd8f"
   },
   "source": [
    "The ***fit()*** method returns a History object containing the training parameters (history.params), the list of epochs it went through (history.epoch), and most importantly\n",
    "a dictionary (history.history) containing the loss and extra metrics it\n",
    "measured at the end of each epoch on the training set and on the validation set (if any). If you create a Pandas DataFrame using this dictionary and call its plot()\n",
    "method, you get the learning curves."
   ]
  },
  {
   "cell_type": "code",
   "execution_count": 19,
   "id": "eff51578",
   "metadata": {
    "executionInfo": {
     "elapsed": 4,
     "status": "ok",
     "timestamp": 1651687054135,
     "user": {
      "displayName": "Giovanni Della Lunga",
      "userId": "13927304036683734865"
     },
     "user_tz": -120
    },
    "id": "eff51578"
   },
   "outputs": [],
   "source": [
    "X = db.drop(columns=\"Price\")\n",
    "Y = db[\"Price\"]"
   ]
  },
  {
   "cell_type": "code",
   "execution_count": 20,
   "id": "580f830b",
   "metadata": {
    "colab": {
     "base_uri": "https://localhost:8080/"
    },
    "executionInfo": {
     "elapsed": 204058,
     "status": "ok",
     "timestamp": 1651687259064,
     "user": {
      "displayName": "Giovanni Della Lunga",
      "userId": "13927304036683734865"
     },
     "user_tz": -120
    },
    "id": "580f830b",
    "outputId": "83161f3b-a319-4f62-fd40-f539e47b3736"
   },
   "outputs": [
    {
     "name": "stdout",
     "output_type": "stream",
     "text": [
      "Epoch 1/50\n",
      "\u001b[1m141/141\u001b[0m \u001b[32m━━━━━━━━━━━━━━━━━━━━\u001b[0m\u001b[37m\u001b[0m \u001b[1m1s\u001b[0m 5ms/step - loss: 0.0170 - mae: 0.1065 - val_loss: 0.0049 - val_mae: 0.0613\n",
      "Epoch 2/50\n",
      "\u001b[1m141/141\u001b[0m \u001b[32m━━━━━━━━━━━━━━━━━━━━\u001b[0m\u001b[37m\u001b[0m \u001b[1m1s\u001b[0m 4ms/step - loss: 0.0034 - mae: 0.0474 - val_loss: 0.0038 - val_mae: 0.0505\n",
      "Epoch 3/50\n",
      "\u001b[1m141/141\u001b[0m \u001b[32m━━━━━━━━━━━━━━━━━━━━\u001b[0m\u001b[37m\u001b[0m \u001b[1m1s\u001b[0m 4ms/step - loss: 0.0022 - mae: 0.0387 - val_loss: 0.0143 - val_mae: 0.1136\n",
      "Epoch 4/50\n",
      "\u001b[1m141/141\u001b[0m \u001b[32m━━━━━━━━━━━━━━━━━━━━\u001b[0m\u001b[37m\u001b[0m \u001b[1m1s\u001b[0m 4ms/step - loss: 0.0023 - mae: 0.0356 - val_loss: 4.8920e-04 - val_mae: 0.0165\n",
      "Epoch 5/50\n",
      "\u001b[1m141/141\u001b[0m \u001b[32m━━━━━━━━━━━━━━━━━━━━\u001b[0m\u001b[37m\u001b[0m \u001b[1m1s\u001b[0m 4ms/step - loss: 0.0015 - mae: 0.0299 - val_loss: 3.6209e-04 - val_mae: 0.0138\n",
      "Epoch 6/50\n",
      "\u001b[1m141/141\u001b[0m \u001b[32m━━━━━━━━━━━━━━━━━━━━\u001b[0m\u001b[37m\u001b[0m \u001b[1m1s\u001b[0m 5ms/step - loss: 0.0014 - mae: 0.0300 - val_loss: 0.0024 - val_mae: 0.0443\n",
      "Epoch 7/50\n",
      "\u001b[1m141/141\u001b[0m \u001b[32m━━━━━━━━━━━━━━━━━━━━\u001b[0m\u001b[37m\u001b[0m \u001b[1m1s\u001b[0m 5ms/step - loss: 0.0012 - mae: 0.0261 - val_loss: 8.2928e-04 - val_mae: 0.0250\n",
      "Epoch 8/50\n",
      "\u001b[1m141/141\u001b[0m \u001b[32m━━━━━━━━━━━━━━━━━━━━\u001b[0m\u001b[37m\u001b[0m \u001b[1m1s\u001b[0m 6ms/step - loss: 0.0011 - mae: 0.0276 - val_loss: 0.0014 - val_mae: 0.0333\n",
      "Epoch 9/50\n",
      "\u001b[1m141/141\u001b[0m \u001b[32m━━━━━━━━━━━━━━━━━━━━\u001b[0m\u001b[37m\u001b[0m \u001b[1m1s\u001b[0m 5ms/step - loss: 0.0011 - mae: 0.0276 - val_loss: 0.0020 - val_mae: 0.0387\n",
      "Epoch 10/50\n",
      "\u001b[1m141/141\u001b[0m \u001b[32m━━━━━━━━━━━━━━━━━━━━\u001b[0m\u001b[37m\u001b[0m \u001b[1m2s\u001b[0m 7ms/step - loss: 0.0010 - mae: 0.0259 - val_loss: 9.1382e-04 - val_mae: 0.0268\n",
      "Epoch 11/50\n",
      "\u001b[1m141/141\u001b[0m \u001b[32m━━━━━━━━━━━━━━━━━━━━\u001b[0m\u001b[37m\u001b[0m \u001b[1m1s\u001b[0m 5ms/step - loss: 9.1103e-04 - mae: 0.0248 - val_loss: 0.0010 - val_mae: 0.0288\n",
      "Epoch 12/50\n",
      "\u001b[1m141/141\u001b[0m \u001b[32m━━━━━━━━━━━━━━━━━━━━\u001b[0m\u001b[37m\u001b[0m \u001b[1m1s\u001b[0m 5ms/step - loss: 8.4901e-04 - mae: 0.0238 - val_loss: 1.8953e-04 - val_mae: 0.0118\n",
      "Epoch 13/50\n",
      "\u001b[1m141/141\u001b[0m \u001b[32m━━━━━━━━━━━━━━━━━━━━\u001b[0m\u001b[37m\u001b[0m \u001b[1m1s\u001b[0m 5ms/step - loss: 9.5536e-04 - mae: 0.0241 - val_loss: 1.7169e-04 - val_mae: 0.0093\n",
      "Epoch 14/50\n",
      "\u001b[1m141/141\u001b[0m \u001b[32m━━━━━━━━━━━━━━━━━━━━\u001b[0m\u001b[37m\u001b[0m \u001b[1m2s\u001b[0m 7ms/step - loss: 7.7797e-04 - mae: 0.0225 - val_loss: 0.0012 - val_mae: 0.0298\n",
      "Epoch 15/50\n",
      "\u001b[1m141/141\u001b[0m \u001b[32m━━━━━━━━━━━━━━━━━━━━\u001b[0m\u001b[37m\u001b[0m \u001b[1m1s\u001b[0m 4ms/step - loss: 8.7515e-04 - mae: 0.0251 - val_loss: 2.6833e-04 - val_mae: 0.0144\n",
      "Epoch 16/50\n",
      "\u001b[1m141/141\u001b[0m \u001b[32m━━━━━━━━━━━━━━━━━━━━\u001b[0m\u001b[37m\u001b[0m \u001b[1m1s\u001b[0m 7ms/step - loss: 7.9563e-04 - mae: 0.0212 - val_loss: 9.0435e-04 - val_mae: 0.0263\n",
      "Epoch 17/50\n",
      "\u001b[1m141/141\u001b[0m \u001b[32m━━━━━━━━━━━━━━━━━━━━\u001b[0m\u001b[37m\u001b[0m \u001b[1m1s\u001b[0m 6ms/step - loss: 7.1533e-04 - mae: 0.0221 - val_loss: 0.0039 - val_mae: 0.0588\n",
      "Epoch 18/50\n",
      "\u001b[1m141/141\u001b[0m \u001b[32m━━━━━━━━━━━━━━━━━━━━\u001b[0m\u001b[37m\u001b[0m \u001b[1m1s\u001b[0m 4ms/step - loss: 8.1333e-04 - mae: 0.0210 - val_loss: 3.2037e-04 - val_mae: 0.0150\n",
      "Epoch 19/50\n",
      "\u001b[1m141/141\u001b[0m \u001b[32m━━━━━━━━━━━━━━━━━━━━\u001b[0m\u001b[37m\u001b[0m \u001b[1m1s\u001b[0m 4ms/step - loss: 6.4323e-04 - mae: 0.0205 - val_loss: 1.8380e-04 - val_mae: 0.0117\n",
      "Epoch 20/50\n",
      "\u001b[1m141/141\u001b[0m \u001b[32m━━━━━━━━━━━━━━━━━━━━\u001b[0m\u001b[37m\u001b[0m \u001b[1m1s\u001b[0m 6ms/step - loss: 6.0282e-04 - mae: 0.0189 - val_loss: 0.0044 - val_mae: 0.0594\n",
      "Epoch 21/50\n",
      "\u001b[1m141/141\u001b[0m \u001b[32m━━━━━━━━━━━━━━━━━━━━\u001b[0m\u001b[37m\u001b[0m \u001b[1m1s\u001b[0m 5ms/step - loss: 7.5174e-04 - mae: 0.0213 - val_loss: 2.9007e-04 - val_mae: 0.0141\n",
      "Epoch 22/50\n",
      "\u001b[1m141/141\u001b[0m \u001b[32m━━━━━━━━━━━━━━━━━━━━\u001b[0m\u001b[37m\u001b[0m \u001b[1m1s\u001b[0m 5ms/step - loss: 6.5640e-04 - mae: 0.0200 - val_loss: 5.9686e-04 - val_mae: 0.0214\n",
      "Epoch 23/50\n",
      "\u001b[1m141/141\u001b[0m \u001b[32m━━━━━━━━━━━━━━━━━━━━\u001b[0m\u001b[37m\u001b[0m \u001b[1m1s\u001b[0m 5ms/step - loss: 6.0028e-04 - mae: 0.0201 - val_loss: 9.3915e-04 - val_mae: 0.0268\n",
      "Epoch 24/50\n",
      "\u001b[1m141/141\u001b[0m \u001b[32m━━━━━━━━━━━━━━━━━━━━\u001b[0m\u001b[37m\u001b[0m \u001b[1m1s\u001b[0m 5ms/step - loss: 5.6502e-04 - mae: 0.0192 - val_loss: 8.9994e-05 - val_mae: 0.0078\n",
      "Epoch 25/50\n",
      "\u001b[1m141/141\u001b[0m \u001b[32m━━━━━━━━━━━━━━━━━━━━\u001b[0m\u001b[37m\u001b[0m \u001b[1m1s\u001b[0m 5ms/step - loss: 5.3335e-04 - mae: 0.0167 - val_loss: 7.8492e-05 - val_mae: 0.0068\n",
      "Epoch 26/50\n",
      "\u001b[1m141/141\u001b[0m \u001b[32m━━━━━━━━━━━━━━━━━━━━\u001b[0m\u001b[37m\u001b[0m \u001b[1m1s\u001b[0m 4ms/step - loss: 5.7952e-04 - mae: 0.0196 - val_loss: 7.8880e-05 - val_mae: 0.0070\n",
      "Epoch 27/50\n",
      "\u001b[1m141/141\u001b[0m \u001b[32m━━━━━━━━━━━━━━━━━━━━\u001b[0m\u001b[37m\u001b[0m \u001b[1m1s\u001b[0m 5ms/step - loss: 6.1548e-04 - mae: 0.0188 - val_loss: 0.0016 - val_mae: 0.0360\n",
      "Epoch 28/50\n",
      "\u001b[1m141/141\u001b[0m \u001b[32m━━━━━━━━━━━━━━━━━━━━\u001b[0m\u001b[37m\u001b[0m \u001b[1m1s\u001b[0m 4ms/step - loss: 6.2919e-04 - mae: 0.0203 - val_loss: 1.9245e-04 - val_mae: 0.0106\n",
      "Epoch 29/50\n",
      "\u001b[1m141/141\u001b[0m \u001b[32m━━━━━━━━━━━━━━━━━━━━\u001b[0m\u001b[37m\u001b[0m \u001b[1m1s\u001b[0m 4ms/step - loss: 5.7517e-04 - mae: 0.0192 - val_loss: 1.7398e-04 - val_mae: 0.0104\n",
      "Epoch 30/50\n",
      "\u001b[1m141/141\u001b[0m \u001b[32m━━━━━━━━━━━━━━━━━━━━\u001b[0m\u001b[37m\u001b[0m \u001b[1m1s\u001b[0m 5ms/step - loss: 4.9528e-04 - mae: 0.0179 - val_loss: 2.7150e-04 - val_mae: 0.0149\n",
      "Epoch 31/50\n",
      "\u001b[1m141/141\u001b[0m \u001b[32m━━━━━━━━━━━━━━━━━━━━\u001b[0m\u001b[37m\u001b[0m \u001b[1m1s\u001b[0m 6ms/step - loss: 4.8872e-04 - mae: 0.0174 - val_loss: 0.0013 - val_mae: 0.0339\n",
      "Epoch 32/50\n",
      "\u001b[1m141/141\u001b[0m \u001b[32m━━━━━━━━━━━━━━━━━━━━\u001b[0m\u001b[37m\u001b[0m \u001b[1m1s\u001b[0m 5ms/step - loss: 5.1513e-04 - mae: 0.0186 - val_loss: 0.0012 - val_mae: 0.0321\n",
      "Epoch 33/50\n",
      "\u001b[1m141/141\u001b[0m \u001b[32m━━━━━━━━━━━━━━━━━━━━\u001b[0m\u001b[37m\u001b[0m \u001b[1m1s\u001b[0m 5ms/step - loss: 4.7496e-04 - mae: 0.0173 - val_loss: 1.2010e-04 - val_mae: 0.0092\n",
      "Epoch 34/50\n",
      "\u001b[1m141/141\u001b[0m \u001b[32m━━━━━━━━━━━━━━━━━━━━\u001b[0m\u001b[37m\u001b[0m \u001b[1m1s\u001b[0m 5ms/step - loss: 4.8241e-04 - mae: 0.0177 - val_loss: 7.7945e-04 - val_mae: 0.0253\n",
      "Epoch 35/50\n",
      "\u001b[1m141/141\u001b[0m \u001b[32m━━━━━━━━━━━━━━━━━━━━\u001b[0m\u001b[37m\u001b[0m \u001b[1m1s\u001b[0m 5ms/step - loss: 5.4791e-04 - mae: 0.0193 - val_loss: 4.2338e-04 - val_mae: 0.0156\n",
      "Epoch 36/50\n",
      "\u001b[1m141/141\u001b[0m \u001b[32m━━━━━━━━━━━━━━━━━━━━\u001b[0m\u001b[37m\u001b[0m \u001b[1m1s\u001b[0m 4ms/step - loss: 5.3545e-04 - mae: 0.0185 - val_loss: 6.7233e-05 - val_mae: 0.0066\n",
      "Epoch 37/50\n",
      "\u001b[1m141/141\u001b[0m \u001b[32m━━━━━━━━━━━━━━━━━━━━\u001b[0m\u001b[37m\u001b[0m \u001b[1m1s\u001b[0m 5ms/step - loss: 4.7732e-04 - mae: 0.0159 - val_loss: 7.3337e-04 - val_mae: 0.0240\n",
      "Epoch 38/50\n",
      "\u001b[1m141/141\u001b[0m \u001b[32m━━━━━━━━━━━━━━━━━━━━\u001b[0m\u001b[37m\u001b[0m \u001b[1m1s\u001b[0m 5ms/step - loss: 5.0639e-04 - mae: 0.0183 - val_loss: 5.5657e-04 - val_mae: 0.0217\n",
      "Epoch 39/50\n",
      "\u001b[1m141/141\u001b[0m \u001b[32m━━━━━━━━━━━━━━━━━━━━\u001b[0m\u001b[37m\u001b[0m \u001b[1m1s\u001b[0m 5ms/step - loss: 4.6057e-04 - mae: 0.0174 - val_loss: 7.8864e-04 - val_mae: 0.0241\n",
      "Epoch 40/50\n",
      "\u001b[1m141/141\u001b[0m \u001b[32m━━━━━━━━━━━━━━━━━━━━\u001b[0m\u001b[37m\u001b[0m \u001b[1m1s\u001b[0m 7ms/step - loss: 4.4904e-04 - mae: 0.0170 - val_loss: 1.6815e-04 - val_mae: 0.0102\n",
      "Epoch 41/50\n",
      "\u001b[1m141/141\u001b[0m \u001b[32m━━━━━━━━━━━━━━━━━━━━\u001b[0m\u001b[37m\u001b[0m \u001b[1m1s\u001b[0m 5ms/step - loss: 4.6249e-04 - mae: 0.0171 - val_loss: 8.1520e-05 - val_mae: 0.0069\n",
      "Epoch 42/50\n",
      "\u001b[1m141/141\u001b[0m \u001b[32m━━━━━━━━━━━━━━━━━━━━\u001b[0m\u001b[37m\u001b[0m \u001b[1m1s\u001b[0m 6ms/step - loss: 4.2854e-04 - mae: 0.0164 - val_loss: 3.0536e-04 - val_mae: 0.0148\n",
      "Epoch 43/50\n",
      "\u001b[1m141/141\u001b[0m \u001b[32m━━━━━━━━━━━━━━━━━━━━\u001b[0m\u001b[37m\u001b[0m \u001b[1m1s\u001b[0m 5ms/step - loss: 4.7520e-04 - mae: 0.0178 - val_loss: 4.9503e-05 - val_mae: 0.0054\n",
      "Epoch 44/50\n",
      "\u001b[1m141/141\u001b[0m \u001b[32m━━━━━━━━━━━━━━━━━━━━\u001b[0m\u001b[37m\u001b[0m \u001b[1m1s\u001b[0m 5ms/step - loss: 4.5081e-04 - mae: 0.0157 - val_loss: 1.7552e-04 - val_mae: 0.0113\n",
      "Epoch 45/50\n",
      "\u001b[1m141/141\u001b[0m \u001b[32m━━━━━━━━━━━━━━━━━━━━\u001b[0m\u001b[37m\u001b[0m \u001b[1m2s\u001b[0m 8ms/step - loss: 4.3361e-04 - mae: 0.0164 - val_loss: 2.3785e-04 - val_mae: 0.0132\n",
      "Epoch 46/50\n",
      "\u001b[1m141/141\u001b[0m \u001b[32m━━━━━━━━━━━━━━━━━━━━\u001b[0m\u001b[37m\u001b[0m \u001b[1m1s\u001b[0m 6ms/step - loss: 4.1742e-04 - mae: 0.0166 - val_loss: 6.3745e-04 - val_mae: 0.0228\n",
      "Epoch 47/50\n",
      "\u001b[1m141/141\u001b[0m \u001b[32m━━━━━━━━━━━━━━━━━━━━\u001b[0m\u001b[37m\u001b[0m \u001b[1m1s\u001b[0m 5ms/step - loss: 4.1731e-04 - mae: 0.0169 - val_loss: 1.2132e-04 - val_mae: 0.0094\n",
      "Epoch 48/50\n",
      "\u001b[1m141/141\u001b[0m \u001b[32m━━━━━━━━━━━━━━━━━━━━\u001b[0m\u001b[37m\u001b[0m \u001b[1m1s\u001b[0m 5ms/step - loss: 4.5026e-04 - mae: 0.0156 - val_loss: 9.9590e-05 - val_mae: 0.0086\n",
      "Epoch 49/50\n",
      "\u001b[1m141/141\u001b[0m \u001b[32m━━━━━━━━━━━━━━━━━━━━\u001b[0m\u001b[37m\u001b[0m \u001b[1m1s\u001b[0m 5ms/step - loss: 3.9646e-04 - mae: 0.0163 - val_loss: 5.0833e-05 - val_mae: 0.0053\n",
      "Epoch 50/50\n",
      "\u001b[1m141/141\u001b[0m \u001b[32m━━━━━━━━━━━━━━━━━━━━\u001b[0m\u001b[37m\u001b[0m \u001b[1m1s\u001b[0m 5ms/step - loss: 3.9357e-04 - mae: 0.0159 - val_loss: 8.5634e-04 - val_mae: 0.0265\n"
     ]
    }
   ],
   "source": [
    "# Fit the model\n",
    "history = model.fit(X, Y, validation_split=0.33, epochs=50, verbose=1)"
   ]
  },
  {
   "cell_type": "code",
   "execution_count": 21,
   "id": "daf9c9c6",
   "metadata": {
    "colab": {
     "base_uri": "https://localhost:8080/",
     "height": 590
    },
    "executionInfo": {
     "elapsed": 846,
     "status": "ok",
     "timestamp": 1651687263500,
     "user": {
      "displayName": "Giovanni Della Lunga",
      "userId": "13927304036683734865"
     },
     "user_tz": -120
    },
    "id": "daf9c9c6",
    "outputId": "d407963c-396c-49f0-9680-209d2627e7fa"
   },
   "outputs": [
    {
     "name": "stdout",
     "output_type": "stream",
     "text": [
      "dict_keys(['loss', 'mae', 'val_loss', 'val_mae'])\n"
     ]
    },
    {
     "data": {
      "image/png": "[encoded data removed]",
      "text/plain": [
       "<Figure size 640x480 with 1 Axes>"
      ]
     },
     "metadata": {},
     "output_type": "display_data"
    },
    {
     "data": {
      "image/png": "[encoded data removed]",
      "text/plain": [
       "<Figure size 640x480 with 1 Axes>"
      ]
     },
     "metadata": {},
     "output_type": "display_data"
    }
   ],
   "source": [
    "# list all data in history\n",
    "print(history.history.keys())\n",
    "# summarize history for accuracy\n",
    "plt.plot(history.history['mae'])\n",
    "plt.plot(history.history['val_mae'])\n",
    "plt.title('model mae')\n",
    "plt.ylabel('mae')\n",
    "plt.xlabel('epoch')\n",
    "plt.legend(['train', 'test'], loc='upper left')\n",
    "plt.show()\n",
    "# summarize history for loss\n",
    "plt.plot(history.history['loss'])\n",
    "plt.plot(history.history['val_loss'])\n",
    "plt.title('model loss')\n",
    "plt.ylabel('loss')\n",
    "plt.xlabel('epoch')\n",
    "plt.legend(['train', 'test'], loc='upper left')\n",
    "plt.show()"
   ]
  },
  {
   "cell_type": "code",
   "execution_count": null,
   "id": "1ecf99a4",
   "metadata": {},
   "outputs": [],
   "source": []
  }
 ],
 "metadata": {
  "colab": {
   "collapsed_sections": [],
   "name": "chapter-3-3.ipynb",
   "provenance": [
    {
     "file_id": "https://github.com/polyhedron-gdl/advanced-machine-learning-for-finance/blob/main/2022/1-notebooks/chapter-3-3.ipynb",
     "timestamp": 1651653852375
    }
   ]
  },
  "kernelspec": {
   "display_name": "Python 3 (ipykernel)",
   "language": "python",
   "name": "python3"
  },
  "language_info": {
   "codemirror_mode": {
    "name": "ipython",
    "version": 3
   },
   "file_extension": ".py",
   "mimetype": "text/x-python",
   "name": "python",
   "nbconvert_exporter": "python",
   "pygments_lexer": "ipython3",
   "version": "3.10.9"
  },
  "toc": {
   "base_numbering": "3",
   "nav_menu": {},
   "number_sections": true,
   "sideBar": true,
   "skip_h1_title": false,
   "title_cell": "Table of Contents",
   "title_sidebar": "Contents",
   "toc_cell": false,
   "toc_position": {},
   "toc_section_display": true,
   "toc_window_display": false
  }
 },
 "nbformat": 4,
 "nbformat_minor": 5
}
