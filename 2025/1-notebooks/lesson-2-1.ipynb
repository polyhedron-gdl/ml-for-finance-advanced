{
 "cells": [
  {
   "cell_type": "markdown",
   "id": "e3e985d9",
   "metadata": {
    "id": "e3e985d9"
   },
   "source": [
    "<table align=\"left\">\n",
    "  <td>\n",
    "    <a target=\"_blank\" href=\"https://colab.research.google.com/github/polyhedron-gdl/advanced-machine-learning-for-finance/blob/main/2022/1-notebooks/chapter-2-1.ipynb\">\n",
    "        <img src=\"https://www.tensorflow.org/images/colab_logo_32px.png\" />Run in Google Colab</a>\n",
    "  </td>\n",
    "</table>"
   ]
  },
  {
   "cell_type": "markdown",
   "id": "03a718f1",
   "metadata": {
    "id": "03a718f1"
   },
   "source": [
    "# Deep Learning for Option Pricing"
   ]
  },
  {
   "cell_type": "markdown",
   "id": "f5236290",
   "metadata": {
    "id": "f5236290"
   },
   "source": [
    "## Introduction\n",
    "\n",
    "The problem of this first part of our lessons can be stated simply as follow. Let's say, from a very general point of view, that we have a contingent claim $\\cal{V}$ that depends on $D$ parameters:\n",
    "\n",
    "$$\n",
    "\\cal{V}(\\mathbf{x}), \\, \\mathbf{x}=\\left\\{x_1,\\dots, x_D \\right\\} \\in \\mathbb{R}^D\n",
    "$$\n",
    "\n",
    "We want to **approximate the pricing function with a neural network**. Remember that we can always consider the NN as a sort of mapping function \n",
    "\n",
    "$$\n",
    "\\Phi : \\mathbb{R}^D \\rightarrow \\mathbb{R}\n",
    "$$\n",
    "\n",
    "trained to compute prices given a point in $\\mathbb{R}^D$ representing a particular set of parameters. \n",
    "\n",
    "The use of a NN as a pricing functions has a number of advantages. the first is that in this way we are able to compute efficiently thousands of prices in a small amount of time, even when the derivative contract has complicated conditions and when the model is complex. This comes with the downside that the neural network may introduce systematic errors that could affect our estimation of the sensitivities in a number of ways. \n",
    "\n",
    "The second advantage is that instead of training the network on the model parameters, which in general are not observable, we could train the network ***using data that is directly observable in the market***. For example quotes and trades by market participants provide points on the\n",
    "volatility surface. Interpolating between these points as necessary, a trader can derive a reasonable\n",
    "estimate of the implied volatility appropriate for any new plain vanilla European or American\n",
    "option that is of interest. Plain vanilla options are therefore not priced using a model. They are\n",
    "simply priced to be consistent with the market. \n",
    "\n",
    "The volatility surface derived from the Black–Scholes–Merton model is a convenient interpolation tool for doing this.\n",
    "\n",
    "Exotic options are generally not as actively traded as plain vanilla options and, as a result, a\n",
    "model is required for pricing. A variety of different models are used in practice. Two conditions\n",
    "that traders would like the model to satisfy are:\n",
    "\n",
    "- A. The stochastic behavior assumed for the underlying asset price should correspond reasonably well to its observed behavior, and\n",
    "\n",
    "- B. The volatility surface derived from the model should be reasonably consistent with the volatility surface used to price plain vanilla options.\n",
    "\n",
    "Two categories of models that are used in practice can be distinguished. The models in the first\n",
    "category focus on condition A by assuming a process for the asset price that is roughly consistent\n",
    "with its observed behavior. The models have parameters that can be chosen to provide an\n",
    "approximate fit to the current volatility surface. Models in the second category focus on condition B\n",
    "and are designed to be exactly consistent with the current volatility surface. Many different models in the first category involving stochastic volatility and jumps have been\n",
    "proposed. Examples of stochastic volatility models are Hull and White (1987) and Heston (1993).\n",
    "Merton (1976) proposed a model that overlays Black-Scholes-Merton model with jumps. Bates\n",
    "(1996) adds jumps to Heston (1993). Madan et al (1998) propose a variance–gamma model where\n",
    "there are only jumps. More recently, rough volatility models where the process for volatility is\n",
    "non-Markov have been suggested by authors such as Gatheral et al (2018).\n",
    "\n",
    "The second category of models are referred to as local volatility models. The original onefactor\n",
    "local volatility model was suggested by Dupire (1994) and Derman and Kani (1994). It has been extended by authors such as Ren et al (2007) and Saporito et al (2019). Local volatility\n",
    "models by design satisfy condition B.\n",
    "\n",
    "The usual approach to implementing models in the first category is to choose model\n",
    "parameters to fit the volatility surface as closely as possible. This approach, which we refer to as\n",
    "the ***“model calibration approach”*** or ***MCA***. A drawback of the approach is that some of the points on the volatility\n",
    "surface are likely to be more important than others for any particular exotic option that is\n",
    "considered. It is of course possible to vary the weights assigned to different points on the volatility\n",
    "surface according to the instrument being valued. However, it is difficult to determine in advance\n",
    "what these weights should be. As a result, the points are usually given equal weight when model\n",
    "parameters are determined.\n",
    "\n",
    "Neural networks can be used in\n",
    "conjunction with MCA to provide fast pricing once model parameters have been determined.\n",
    "Consider an exotic option that is valued using Monte Carlo simulation. As a first step, it is necessary\n",
    "to devote computational resources to creating a data set relating model parameters and exotic\n",
    "option parameters to the price. The pricing model can then be replicated with a neural network.\n",
    "Once this has been done, valuation is several orders of magnitude faster than Monte Carlo\n",
    "simulation because it involves nothing more than a forward pass through the neural network.\n",
    "\n",
    "In this first notebook we will look at a simple example of this approach. For the sake of simplicity we will consider an example based on the Black and Scholes model for the pricing of a simple European option.\n",
    "\n",
    "In the second part of these lessons we'll see how to train a neural network on market data (volatility surface) using the heston model as the underlying model."
   ]
  },
  {
   "cell_type": "markdown",
   "id": "6236764a",
   "metadata": {},
   "source": [
    "**Specifically, in this notebook:**\n",
    "\n",
    "- We generate a large **synthetic dataset** of option parameters (maturity, strike-to-spot ratio, and volatility) using **Latin Hypercube Sampling (LHS)**, to cover the typical range of market conditions.\n",
    "- We compute exact Black-Scholes option prices for this synthetic data, building a training set that approximates the theoretical pricing function.\n",
    "- We construct and train a **fully connected feed-forward neural network** (three hidden layers, ReLU activation) to approximate the mapping from option features to prices.\n",
    "- We evaluate the performance of the network using Mean Absolute Error (MAE) and Mean Squared Error (MSE) metrics, ensuring consistency with the training objectives discussed in the lectures.\n",
    "- We save the trained model for later use in fast, real-time pricing applications.\n",
    "\n",
    "This exercise serves as the first, simpler example before extending the approach to more complex models (e.g., Heston stochastic volatility) and full VFA using implied volatility smiles, as discussed in later parts of the course."
   ]
  },
  {
   "cell_type": "markdown",
   "id": "b03ed348",
   "metadata": {
    "id": "b03ed348"
   },
   "source": [
    "## The Black and Scholes Model"
   ]
  },
  {
   "cell_type": "markdown",
   "id": "a780049e",
   "metadata": {
    "id": "a780049e"
   },
   "source": [
    "We consider an underlying process $S(t)$ described by the sde\n",
    "\n",
    "\\begin{equation}\n",
    "dS(t) = a(S,t) dt + b(S,t)dW\n",
    "\\end{equation}\n",
    "\n",
    "A scenario is a set of values $\\hat S^j (t_i), \\, i=1,\\dots,I$ that are an approximation to the $j-th$ realization,$S^j (t_i)$, \n",
    "of the solution of the sde evaluated at times $0 \\le t_i \\le T, \\, i=1,\\dots,I$.\n",
    "A scenario is also called a trajectory. A trajectory can be visualized as a line in the state-vs-time plane describing the path \n",
    "followed by a realization of the stochastic process (actually by an approzimation to the stochastic process).\n",
    "\n",
    "The Black and Scholes model assumes a market in which the tradable assets are:\n",
    "\n",
    "1. A risky asset, whose evolution is driven by a geometric brownian motion\n",
    "\n",
    "\\begin{equation}\n",
    "dS = \\mu S dt + \\sigma S dw \\Rightarrow S(T)=S(t_0) e^{(\\mu-\\frac{1}{2} \\sigma^2) (T-t_0) + \\sigma[w(T) - w(t_0)]}\n",
    "\\end{equation}\n",
    "\n",
    "2. The money market account, whose evolution is deterministic\n",
    "\n",
    "\\begin{equation}\n",
    "dB=Brdt \\Rightarrow B(T) = B(t_0) e^{r(T-t_0)}\n",
    "\\end{equation}\n",
    "\n",
    "The value for a non-dividend-paying underlying stock in terms of the Black–Scholes parameters is:\n",
    "\n",
    "\\begin{equation}\\label{eq:bs_call_price}\n",
    "C(S_{t},t)  =N(d_{1})S_{t}-N(d_{2})Ke^{-r(T-t)} \n",
    "\\end{equation}\n",
    "\n",
    "\\begin{equation} \\label{eq:bs_put_price}\n",
    "P(S_{t},t) = N(-d_{2})Ke^{-r(T-t)}-N(-d_{1})S_{t}\n",
    "\\end{equation}\n",
    "\n",
    "where\n",
    "\n",
    "\\begin{align}\n",
    "d_{1} &={\\frac {1}{\\sigma {\\sqrt {T-t}}}}\\left[\\ln \\left({\\frac {S_{t}}{K}}\\right)+\\left(r+{\\frac {\\sigma ^{2}}{2}}\\right)(T-t)\\right]\\\\\n",
    "d_{2} &= d_{1}-\\sigma {\\sqrt {T-t}}\n",
    "\\end{align}\n",
    "\n",
    "\n",
    "For both:\n",
    "\n",
    "- $N(\\cdot )$ is the cumulative distribution function of the standard normal distribution\n",
    "- $T-t$ is the time to maturity (expressed in years)\n",
    "- $S_{t}$ is the spot price of the underlying asset\n",
    "- $K$ is the strike price\n",
    "- $r$ is the risk free rate (annual rate, expressed in terms of continuous compounding)\n",
    "- $\\sigma$  is the volatility of returns of the underlying asset\n"
   ]
  },
  {
   "cell_type": "markdown",
   "id": "2fed8812",
   "metadata": {
    "id": "2fed8812"
   },
   "source": [
    "### Simpler formulation for vanilla options"
   ]
  },
  {
   "cell_type": "markdown",
   "id": "a934c2dd",
   "metadata": {
    "id": "a934c2dd"
   },
   "source": [
    "**A different form for plain vanilla put options**\n",
    "\n",
    "Up until now, we described the pricing of instruments with general payoffs\n",
    "and in particular of vanilla options. In the latter case, starting from the\n",
    "expression of the vanilla put option price\n",
    "\n",
    "$$\n",
    "P_t = \\mathbb{E} \\left[e^{-r(T-t)} (K-S_T)^+ \\right] \n",
    "$$\n",
    "\n",
    "Rewrite the payoff as:\n",
    "\n",
    "$$\n",
    "(K - S_T)^+ = S_t \\left( \\frac{K}{S_t} - \\frac{S_T}{S_t} \\right)^+\n",
    "$$\n",
    "\n",
    "because multiplying inside and outside by $S_t$ is the same since $S_t$ is not a random variable but a known value from the filtration $\\mathcal{F}_t$.\n",
    "\n",
    "Thus:\n",
    "\n",
    "$$\n",
    "P_t = \\mathbb{E}\\left[ e^{-r(T-t)} S_t \\left( \\frac{K}{S_t} - \\frac{S_T}{S_t} \\right)^+ \\right]\n",
    "= S_t \\, \\mathbb{E}\\left[ e^{-r(T-t)} \\left( \\frac{K}{S_t} - \\frac{S_T}{S_t} \\right)^+ \\right]\n",
    "$$\n",
    "\n",
    "\n",
    "$$\n",
    "\\Rightarrow P_t = S_t \\mathbb{E} \\left[ \\left( e^{-r(T-t)} \\frac{K}{S_t} - M_T \\right)^+ \\right] \n",
    "$$\n",
    "\n",
    "where $M_T = e^{-r(T-t)}S_T/S_t$ is the stochastic process of a martingale with the\n",
    "same volatility of $S_t$ and $M_t = 1$. By comparing this expression with the one\n",
    "from the Black Scholes formula, we notice that we can in general rewrite the\n",
    "price of a vanilla put option as\n",
    "\n",
    "$$\n",
    "P_(S_t,K,T,\\sigma,r) = S_t P(1, e^{-r(T-t)} K/{S_t}, T, \\sigma, 0)  \n",
    "$$\n",
    "\n",
    "From this we can see that we can calculate the price of any vanilla put option\n",
    "by calculating the value of a simpler put option with $r = 0$, $S_t = 1$ and\n",
    "$e^{-r(T-t)}K/S_t$ in place of the strike price. The exact same argument can be\n",
    "made for a vanilla call option. For simplicity, in the rest of this work we will\n",
    "always consider $r = 0$, since we don't lose any generality when the risk-free\n",
    "rate is independent of the asset price.\n",
    "---"
   ]
  },
  {
   "cell_type": "markdown",
   "id": "29848f6e",
   "metadata": {},
   "source": [
    "**What is an Asset-or-Nothing Option?**\n",
    "\n",
    "- An **asset-or-nothing** option is a type of exotic option that **pays the value of the underlying asset** at maturity if a certain condition is met (and zero otherwise).\n",
    "- For a **put** asset-or-nothing:\n",
    "  - You receive the asset $S_T$ **only if** $S_T \\leq K$ (strike).\n",
    "- For a **call** asset-or-nothing:\n",
    "  - You receive the asset $S_T$ **only if** $S_T > K$.\n",
    "\n",
    "**Payoff for an asset-or-nothing put:**\n",
    "$$\n",
    "\\text{Payoff} = S_T \\cdot \\mathbf{1}_{\\{S_T \\leq K\\}}\n",
    "$$\n",
    "\n",
    "---\n",
    "\n",
    "**What is a Cash-or-Nothing Option?**\n",
    "\n",
    "- A **cash-or-nothing** option is an exotic option that **pays a fixed amount of cash** (e.g., 1) if a certain condition is met, and nothing otherwise.\n",
    "- For a **put** cash-or-nothing:\n",
    "  - You receive a fixed cash payment (e.g., 1) **only if** $S_T \\leq K$.\n",
    "- For a **call** cash-or-nothing:\n",
    "  - You receive the cash payment **only if** $S_T > K$.\n",
    "\n",
    "**Payoff for a cash-or-nothing put:**\n",
    "$$\n",
    "\\text{Payoff} = \\mathbf{1}_{\\{S_T \\leq K\\}}\n",
    "$$\n",
    "\n",
    "---\n",
    "\n",
    "**How do they relate to plain vanilla options?**\n",
    "\n",
    "- A **plain vanilla European put** can be **decomposed** into a combination of:\n",
    "  - a **cash-or-nothing put** (giving a fixed amount $K$),\n",
    "  - minus an **asset-or-nothing put** (giving the asset $S_T$).\n",
    "\n",
    "**Formula:**\n",
    "\n",
    "$$\n",
    "(K - S_T)^+ = K \\cdot \\mathbf{1}_{\\{S_T \\leq K\\}} - S_T \\cdot \\mathbf{1}_{\\{S_T \\leq K\\}}\n",
    "$$\n",
    "meaning:\n",
    "\n",
    "- You get $K$ cash if $S_T \\leq K$ (cash-or-nothing),\n",
    "- and you \"lose\" $S_T$ if $S_T \\leq K$ (asset-or-nothing).\n",
    "\n",
    "Thus, the **price** of a European put can be built as:\n",
    "\n",
    "$$\n",
    "\\text{Put Price} = K \\times \\text{Cash-or-Nothing Put Price} - S_0 \\times \\text{Asset-or-Nothing Put Price}\n",
    "$$\n",
    "\n",
    "where the second term is evaluated correctly at time $0$ under risk-neutral probability.\n",
    "\n",
    "\n",
    "**Why is this decomposition useful?**\n",
    "\n",
    "- **Simplifies** pricing, especially when using forwards,\n",
    "- **Numerically stable** for small volatility or short maturities,\n",
    "- Helps in **building other exotic products** (because cash-or-nothing and asset-or-nothing are building blocks)."
   ]
  },
  {
   "cell_type": "markdown",
   "id": "3883bda5",
   "metadata": {},
   "source": [
    "### Function for Option Pricing"
   ]
  },
  {
   "cell_type": "markdown",
   "id": "064e3d2b",
   "metadata": {},
   "source": [
    "The following functions implement:\n",
    "\n",
    "- **Asset-or-nothing** options (using `__npan__`)\n",
    "- **Cash-or-nothing** options (using `__npcn__`)\n",
    "- Pricing of **European calls and puts** (using these two building blocks).\n",
    "\n",
    "They are **NumPy-enabled**, meaning they work not only for scalars but also for arrays (vectors of inputs) — efficient for Monte Carlo simulations or grid evaluations.\n",
    "\n",
    "They use the fact that:\n",
    "- Forward prices $F$ are more convenient when pricing European options,\n",
    "- $F = S_0 e^{rT}$ is the **forward price**,\n",
    "- Normal Black-Scholes assumptions are made: lognormal asset dynamics, constant volatility $\\sigma$, constant rate $r$."
   ]
  },
  {
   "cell_type": "code",
   "execution_count": 1,
   "id": "b521ffe1",
   "metadata": {
    "executionInfo": {
     "elapsed": 2567,
     "status": "ok",
     "timestamp": 1651847129160,
     "user": {
      "displayName": "Giovanni Della Lunga",
      "userId": "13927304036683734865"
     },
     "user_tz": -120
    },
    "id": "b521ffe1"
   },
   "outputs": [],
   "source": [
    "import sys\n",
    "import math\n",
    "import time\n",
    "import numpy             as np\n",
    "import pandas            as pd\n",
    "import matplotlib.pyplot as plt\n",
    "\n",
    "from scipy.stats             import norm\n",
    "from sklearn.model_selection import train_test_split"
   ]
  },
  {
   "cell_type": "markdown",
   "id": "aa0da7cb",
   "metadata": {},
   "source": [
    "**Safe Operation**\n",
    "\n",
    "In the following numerical implementation you will find some tricks to **safely handle very small volatility values** in computations, which is very important in the context of option pricing or Gaussian kernel calculations. Here's a detailed explanation of each step:\n",
    "\n",
    "```python\n",
    "s = sgma * np.sqrt(T)\n",
    "```\n",
    "\n",
    "* This computes the **standard deviation of returns** over time horizon $T$, where `sgma` is the instantaneous volatility (could be a scalar or array).\n",
    "* `s` now represents the **effective volatility** over the option’s time to maturity.\n",
    "\n",
    "```python\n",
    "mask = np.where(s < 1.e-8, 1, 0)\n",
    "MASK = np.where(s >= 1.e-8, 1, 0)\n",
    "```\n",
    "\n",
    "* These lines create two **boolean masks**:\n",
    "\n",
    "  * `mask` identifies the entries in `s` where the volatility is **very close to zero** (numerically, below $10^{-8}$).\n",
    "  * `MASK` is the complementary mask — it identifies the entries where volatility is **not negligible**.\n",
    "* These masks are typically used to apply **special-case logic** when volatility is nearly zero, which could otherwise cause **division by zero** or **numerical instability**.\n",
    "\n",
    "```python\n",
    "s = np.where(mask, 1., s)\n",
    "```\n",
    "\n",
    "* This line **modifies `s`** to ensure safe computation:\n",
    "\n",
    "  * Wherever the volatility is **too small**, it **replaces it with `1.0`**, purely as a placeholder.\n",
    "  * This prevents any downstream calculation from dividing by zero (or near-zero), while the use of the `mask` later allows to **undo or bypass** these artificial values where needed.\n",
    "  * The value `1.0` is arbitrary and acts as a **neutral denominator** — it won't affect results if properly masked out later.\n",
    "\n",
    "**Why This Matters**\n",
    "\n",
    "In computational finance, very small volatility values can:\n",
    "\n",
    "* Lead to **division by zero** (e.g., when computing $\\frac{x - \\mu}{\\sigma}$)\n",
    "* Cause **exploding gradients** or **NaNs** in neural network training\n",
    "* Trigger **singular matrices** or unstable numerical kernels\n",
    "\n",
    "This pattern is a **safe-guarding technique**: it keeps the computation stable while flagging special cases for controlled handling."
   ]
  },
  {
   "cell_type": "code",
   "execution_count": 2,
   "id": "98b0a8ce",
   "metadata": {
    "executionInfo": {
     "elapsed": 360,
     "status": "ok",
     "timestamp": 1651847130965,
     "user": {
      "displayName": "Giovanni Della Lunga",
      "userId": "13927304036683734865"
     },
     "user_tz": -120
    },
    "id": "98b0a8ce"
   },
   "outputs": [],
   "source": [
    "#\n",
    "# NumPy-enabled Asset-or-Nothing option function\n",
    "#\n",
    "def __npan__(Fw, T, sgma, k):\n",
    "    \"\"\"\n",
    "    Computes the asset-or-nothing put probability for given inputs.\n",
    "\n",
    "    Parameters:\n",
    "    - Fw   : Forward price (F = S0 * exp(r*T))\n",
    "    - T    : Time to maturity\n",
    "    - sgma : Volatility (sigma)\n",
    "    - k    : Strike price\n",
    "\n",
    "    Returns:\n",
    "    - Asset-or-nothing probability, elementwise if inputs are arrays\n",
    "    \"\"\"\n",
    "    s = sgma * np.sqrt(T)  # Standard deviation over time T\n",
    "    # Define masks: 'mask' for very small volatility cases, 'MASK' for normal cases\n",
    "    mask = np.where(s < 1.e-8, 1, 0)\n",
    "    MASK = np.where(s >= 1.e-8, 1, 0)\n",
    "    # Avoid division by zero in degenerate cases by setting s artificially to 1 where needed\n",
    "    s = np.where(mask, 1., s)\n",
    "    # Compute the d_minus term\n",
    "    dm = (np.log(k / Fw) - 0.5 * s * s) / s\n",
    "    # Compute asset-or-nothing probability (normal CDF of d_minus)\n",
    "    an = norm.cdf(dm)\n",
    "    # Handle degenerate cases explicitly\n",
    "    m1 = np.logical_and(mask, Fw <= k)\n",
    "    res = np.where(m1, 1., 0.)           # If Fw <= k and volatility ~0, probability = 1\n",
    "    res += np.where(MASK, an, 0.0)        # Otherwise use normal CDF\n",
    "    print(res.shape)\n",
    "    return res\n",
    "#\n",
    "# NumPy-enabled Cash-or-Nothing option function\n",
    "#\n",
    "def __npcn__(Fw, T, sgma, k):\n",
    "    \"\"\"\n",
    "    Computes the cash-or-nothing put probability for given inputs.\n",
    "\n",
    "    Parameters:\n",
    "    - Fw   : Forward price (F = S0 * exp(r*T))\n",
    "    - T    : Time to maturity\n",
    "    - sgma : Volatility (sigma)\n",
    "    - k    : Strike price\n",
    "\n",
    "    Returns:\n",
    "    - Cash-or-nothing probability, elementwise if inputs are arrays\n",
    "    \"\"\"\n",
    "    s = sgma * np.sqrt(T)  # Standard deviation over time T\n",
    "    # Define masks: 'mask' for very small volatility cases, 'MASK' for normal cases\n",
    "    mask = np.where(s < 1.e-8, 1, 0)\n",
    "    MASK = np.where(s >= 1.e-8, 1, 0)\n",
    "    # Avoid division by zero\n",
    "    s = np.where(mask, 1., s)\n",
    "    # Compute the d_plus term\n",
    "    dp = (np.log(k / Fw) + 0.5 * s * s) / s\n",
    "    # Compute cash-or-nothing probability (normal CDF of d_plus)\n",
    "    cn = norm.cdf(dp)\n",
    "    # Handle degenerate cases explicitly\n",
    "    m1 = np.logical_and(mask, Fw <= k)\n",
    "    res = np.where(m1, 1., 0.)           # If Fw <= k and volatility ~0, probability = 1\n",
    "    res += np.where(MASK, cn, 0.0)        # Otherwise use normal CDF\n",
    "    return res\n",
    "#\n",
    "# Forward-based European put option pricing\n",
    "#\n",
    "def np_fw_euro_put(F, T, sgma, k):\n",
    "    \"\"\"\n",
    "    Prices a European put option given forward price.\n",
    "\n",
    "    Parameters:\n",
    "    - F    : Forward price\n",
    "    - T    : Time to maturity\n",
    "    - sgma : Volatility (sigma)\n",
    "    - k    : Strike price\n",
    "\n",
    "    Returns:\n",
    "    - Forward-based European put price\n",
    "    \"\"\"\n",
    "    # Put price as the combination:\n",
    "    # put = K * (cash-or-nothing probability) - F * (asset-or-nothing probability)\n",
    "    return k * __npcn__(F, T, sgma, k) - F * __npan__(F, T, sgma, k)\n",
    "#\n",
    "# Forward-based European call option pricing\n",
    "#\n",
    "def np_fw_euro_call(F, T, sgma, k):\n",
    "    \"\"\"\n",
    "    Prices a European call option given forward price.\n",
    "\n",
    "    Parameters:\n",
    "    - F    : Forward price\n",
    "    - T    : Time to maturity\n",
    "    - sgma : Volatility (sigma)\n",
    "    - k    : Strike price\n",
    "\n",
    "    Returns:\n",
    "    - Forward-based European call price\n",
    "    \"\"\"\n",
    "    # Use put-call parity at forward measure:\n",
    "    # call = put + (F - K)\n",
    "    return np_fw_euro_put(F, T, sgma, k) + F - k\n",
    "#\n",
    "# Spot-based European put option pricing\n",
    "#\n",
    "def np_euro_put(So, r, T, sigma, k):\n",
    "    \"\"\"\n",
    "    Prices a European put option starting from spot price.\n",
    "\n",
    "    Parameters:\n",
    "    - So    : Spot price at time 0\n",
    "    - r     : Risk-free rate\n",
    "    - T     : Time to maturity\n",
    "    - sigma : Volatility (sigma)\n",
    "    - k     : Strike price\n",
    "\n",
    "    Returns:\n",
    "    - Spot-based European put price\n",
    "    \"\"\"\n",
    "    # First convert spot price to forward price\n",
    "    Fw = np.exp(r * T) * So\n",
    "    # Compute forward-based put and discount it back to today\n",
    "    return np.exp(-r * T) * np_fw_euro_put(Fw, T, sigma, k)\n",
    "\n",
    "#\n",
    "# Spot-based European call option pricing\n",
    "#\n",
    "def np_euro_call(So, r, T, sigma, k):\n",
    "    \"\"\"\n",
    "    Prices a European call option starting from spot price.\n",
    "\n",
    "    Parameters:\n",
    "    - So    : Spot price at time 0\n",
    "    - r     : Risk-free rate\n",
    "    - T     : Time to maturity\n",
    "    - sigma : Volatility (sigma)\n",
    "    - k     : Strike price\n",
    "\n",
    "    Returns:\n",
    "    - Spot-based European call price\n",
    "    \"\"\"\n",
    "    # First convert spot price to forward price\n",
    "    Fw = np.exp(r * T) * So\n",
    "    # Compute forward-based call and discount it back to today\n",
    "    return np.exp(-r * T) * np_fw_euro_call(Fw, T, sigma, k)"
   ]
  },
  {
   "cell_type": "code",
   "execution_count": 3,
   "id": "c9af2453",
   "metadata": {},
   "outputs": [
    {
     "name": "stdout",
     "output_type": "stream",
     "text": [
      "()\n",
      "()\n",
      "()\n",
      "(3,)\n",
      "All tests passed!\n"
     ]
    }
   ],
   "source": [
    "def test__npan__():\n",
    "    \"\"\"\n",
    "    Test suite for the __npan__ function.\n",
    "    \"\"\"\n",
    "    # Test 1: Zero volatility, Fw < k -> should return 1.0\n",
    "    assert np.isclose(__npan__(90, 1.0, 0.0, 100), 1.0), \"Test 1 failed\"\n",
    "\n",
    "    # Test 2: Zero volatility, Fw > k -> should return 0.0\n",
    "    assert np.isclose(__npan__(110, 1.0, 0.0, 100), 0.0), \"Test 2 failed\"\n",
    "\n",
    "    # Test 3: Non-zero volatility, known input\n",
    "    result = __npan__(100, 1.0, 0.2, 100)\n",
    "    expected = norm.cdf((np.log(100/100) - 0.5 * 0.2**2) / (0.2 * np.sqrt(1.0)))\n",
    "    assert np.isclose(result, expected), \"Test 3 failed\"\n",
    "\n",
    "    # Test 4: Vectorized input\n",
    "    Fw_test = np.array([90, 100, 110])\n",
    "    T_test = np.array([1.0, 1.0, 1.0])\n",
    "    sigma_test = np.array([0.0, 0.01, 0.2])\n",
    "    k_test = np.array([100, 100, 100])\n",
    "    result = __npan__(Fw_test, T_test, sigma_test, k_test)\n",
    "    assert result.shape == (3,), \"Test 4 shape failed\"\n",
    "    assert result[0] == 1.0, \"Test 4 value[0] failed\"\n",
    "    assert 0.0 < result[1] < 1.0, \"Test 4 value[1] failed\"\n",
    "    assert 0.0 < result[2] < 1.0, \"Test 4 value[2] failed\"\n",
    "\n",
    "    print(\"All tests passed!\")\n",
    "\n",
    "\n",
    "# Run the test function\n",
    "test__npan__()"
   ]
  },
  {
   "cell_type": "markdown",
   "id": "cfc57d97",
   "metadata": {
    "id": "cfc57d97"
   },
   "source": [
    "## Training Data Generation"
   ]
  },
  {
   "cell_type": "markdown",
   "id": "007b4d02",
   "metadata": {
    "id": "007b4d02"
   },
   "source": [
    "To train the network to approximate the pricing function, we need a training dataset. For the network approximating the Black Scholes pricing function, we created one by drawing $T, K/S_0$ and $\\sigma$ using the Latin Hypercube Sampling (LHS) (see below) within the ranges usually found in real market."
   ]
  },
  {
   "cell_type": "markdown",
   "id": "3ce72498",
   "metadata": {
    "id": "3ce72498"
   },
   "source": [
    "### Sampling Utilities"
   ]
  },
  {
   "cell_type": "markdown",
   "id": "866a3b6d",
   "metadata": {
    "id": "866a3b6d"
   },
   "source": [
    "**Latin Hypercube Sampling** \n",
    "\n",
    "- Imagine you want to generate random points inside a box — for example, two variables $x_1$ and $x_2$ each between 0 and 1.\n",
    "- A **normal random sampling** (pure Monte Carlo) just picks points completely at random: some areas might get many points, other areas might get none — it’s messy.\n",
    "- **Latin Hypercube Sampling** is smarter:\n",
    "  - It **divides** the range of each variable into **equal intervals** (like slicing into 10 slices).\n",
    "  - Then it **forces** the random samples to pick **exactly one point in each slice** for each variable.\n",
    "  - In 2D, it's like making sure that every row and every column has exactly one point.\n",
    "\n",
    "So, **LHS spreads the points out much more evenly** across the space.\n",
    "\n",
    "**Very simple visual:**\n",
    "\n",
    "Imagine a 10×10 grid:\n",
    "\n",
    "- **Pure random sampling** → points can cluster in one corner, and leave other areas empty.\n",
    "- **Latin hypercube sampling** → each **row and each column** gets exactly one point, so the points are \"well distributed\" across the grid.\n",
    "\n",
    "(That's why it’s called \"hypercube\" — in many dimensions — and \"Latin\" — like a Latin square where each number appears exactly once per row and column.)\n",
    "\n",
    "**Advantages of Latin Hypercube Sampling:**\n",
    "\n",
    "| Feature | Latin Hypercube Sampling (LHS) | Pure Random Sampling |\n",
    "|:---|:---|:---|\n",
    "| Spread of points | Much more uniform | Random and often clustered |\n",
    "| Coverage of space | Guaranteed: each interval is sampled | Might miss regions entirely |\n",
    "| Accuracy of estimates (e.g., integration) | Better with fewer points | Needs many more points for similar accuracy |\n",
    "| Efficiency | High | Lower (more samples needed) |\n",
    "\n",
    "**In short:**\n",
    "\n",
    "- Latin Hypercube makes sure you **cover all parts** of your input space,  \n",
    "- It **avoids gaps** and **reduces clustering**,  \n",
    "- It gives you **better, more reliable** results **with fewer samples**."
   ]
  },
  {
   "cell_type": "code",
   "execution_count": 4,
   "id": "d6e16478",
   "metadata": {
    "executionInfo": {
     "elapsed": 525,
     "status": "ok",
     "timestamp": 1651847136173,
     "user": {
      "displayName": "Giovanni Della Lunga",
      "userId": "13927304036683734865"
     },
     "user_tz": -120
    },
    "id": "d6e16478"
   },
   "outputs": [],
   "source": [
    "from smt.sampling_methods import LHS\n",
    "\n",
    "def lhs_sampling(rand, NUM, bounds=None):\n",
    "    \"\"\"\n",
    "    Generate a Latin Hypercube Sampling (LHS) over specified variable bounds.\n",
    "\n",
    "    Parameters:\n",
    "    - rand   : (unused in this version) random seed or generator, placeholder\n",
    "    - NUM    : number of samples to generate\n",
    "    - bounds : dictionary where each key is a variable name and each value is a 2-element list [lower_bound, upper_bound]\n",
    "\n",
    "    Returns:\n",
    "    - X : Pandas DataFrame containing the generated samples, one column per variable\n",
    "    \"\"\"\n",
    "    # Convert dictionary keys into a list\n",
    "    # Note: list(bounds) gives the list of dictionary's keys\n",
    "    kw = list(bounds)\n",
    "    # Initialize an empty array to store bounds as (lower, upper) pairs\n",
    "    limits = np.empty(shape=(0, 2))\n",
    "    # Build the array of bounds by concatenating each variable's limits\n",
    "    for k in kw:\n",
    "        # Each 'bounds[k]' is assumed to be a list or array like [lower_bound, upper_bound]\n",
    "        limits = np.concatenate((limits, [bounds[k]]), axis=0)\n",
    "    # Create the LHS (Latin Hypercube Sampling) object with the bounds\n",
    "    sampling = LHS(xlimits=limits)\n",
    "    # Generate NUM random samples within the specified limits\n",
    "    x = sampling(NUM)\n",
    "    # Initialize an empty DataFrame to store samples in readable format\n",
    "    X = pd.DataFrame()\n",
    "    # For each variable, fill the corresponding column in the DataFrame\n",
    "    for n in range(len(kw)):\n",
    "        tag = kw[n]        # Variable name (key)\n",
    "        X[tag] = x[:, n]   # Assign the nth sampled column to the variable\n",
    "\n",
    "    return X"
   ]
  },
  {
   "cell_type": "code",
   "execution_count": 5,
   "id": "8ed5a0f9",
   "metadata": {},
   "outputs": [
    {
     "name": "stdout",
     "output_type": "stream",
     "text": [
      "       x1      x2\n",
      "0  0.2793  0.8882\n",
      "1  0.0231 -0.5290\n",
      "2  0.6987 -0.8862\n",
      "3  0.5973 -0.5934\n",
      "4  0.8897  0.8970\n"
     ]
    },
    {
     "data": {
      "image/png": "[encoded data removed]",
      "text/plain": [
       "<Figure size 800x600 with 1 Axes>"
      ]
     },
     "metadata": {},
     "output_type": "display_data"
    }
   ],
   "source": [
    "# Now, create a simple test example\n",
    "\n",
    "# 1. Define variable bounds\n",
    "bounds = {\n",
    "    'x1': [0.0, 1.0],   # Variable x1 ranges from 0 to 1\n",
    "    'x2': [-1.0, 1.0],  # Variable x2 ranges from -1 to 1\n",
    "}\n",
    "\n",
    "# 2. Number of samples\n",
    "NUM_SAMPLES = 5000\n",
    "\n",
    "# 3. Call the sampling function\n",
    "samples = lhs_sampling(rand=None, NUM=NUM_SAMPLES, bounds=bounds)\n",
    "\n",
    "# 4. Display the samples\n",
    "print(samples.head())\n",
    "\n",
    "# 5. Plot the samples to visualize the distribution\n",
    "plt.figure(figsize=(8,6))\n",
    "plt.scatter(samples['x1'], samples['x2'], c='blue', edgecolors='k', s=10)\n",
    "plt.title('Latin Hypercube Sampling - Test Example')\n",
    "plt.xlabel('x1')\n",
    "plt.ylabel('x2')\n",
    "plt.grid(True)\n",
    "plt.show()"
   ]
  },
  {
   "cell_type": "markdown",
   "id": "9e61f667",
   "metadata": {
    "id": "9e61f667"
   },
   "source": [
    "### Sample Generator"
   ]
  },
  {
   "cell_type": "markdown",
   "id": "9df32c26",
   "metadata": {
    "id": "9df32c26"
   },
   "source": [
    "We assume $r = q = 0, S_0 = 1$ and create a data set of $\\text{NUM}$ observations by randomly sampling from uniform distributions for the other five inputs to the Black-Scholes-Merton formula. The lower and upper bounds of  the uniform distributions are as indicated in the `bounds` dictionary. For each set of  parameters sampled, we calculate the Black-Scholes-Merton price using equations \\eqref{eq:bs_call_price} and \\eqref{eq:bs_put_price}. "
   ]
  },
  {
   "cell_type": "code",
   "execution_count": 6,
   "id": "b5d9d085",
   "metadata": {
    "colab": {
     "base_uri": "https://localhost:8080/",
     "height": 206
    },
    "executionInfo": {
     "elapsed": 481,
     "status": "ok",
     "timestamp": 1651849212533,
     "user": {
      "displayName": "Giovanni Della Lunga",
      "userId": "13927304036683734865"
     },
     "user_tz": -120
    },
    "id": "b5d9d085",
    "outputId": "6cc34d4d-5184-4030-b2a7-671cf900d25d"
   },
   "outputs": [
    {
     "data": {
      "text/html": [
       "<div>\n",
       "<style scoped>\n",
       "    .dataframe tbody tr th:only-of-type {\n",
       "        vertical-align: middle;\n",
       "    }\n",
       "\n",
       "    .dataframe tbody tr th {\n",
       "        vertical-align: top;\n",
       "    }\n",
       "\n",
       "    .dataframe thead th {\n",
       "        text-align: right;\n",
       "    }\n",
       "</style>\n",
       "<table border=\"1\" class=\"dataframe\">\n",
       "  <thead>\n",
       "    <tr style=\"text-align: right;\">\n",
       "      <th></th>\n",
       "      <th>T</th>\n",
       "      <th>Sigma</th>\n",
       "      <th>Strike</th>\n",
       "    </tr>\n",
       "  </thead>\n",
       "  <tbody>\n",
       "    <tr>\n",
       "      <th>0</th>\n",
       "      <td>1.767882</td>\n",
       "      <td>0.343107</td>\n",
       "      <td>0.955100</td>\n",
       "    </tr>\n",
       "    <tr>\n",
       "      <th>1</th>\n",
       "      <td>1.487838</td>\n",
       "      <td>0.784093</td>\n",
       "      <td>1.006932</td>\n",
       "    </tr>\n",
       "    <tr>\n",
       "      <th>2</th>\n",
       "      <td>1.084380</td>\n",
       "      <td>0.234817</td>\n",
       "      <td>0.975892</td>\n",
       "    </tr>\n",
       "    <tr>\n",
       "      <th>3</th>\n",
       "      <td>0.295250</td>\n",
       "      <td>0.460924</td>\n",
       "      <td>0.860380</td>\n",
       "    </tr>\n",
       "    <tr>\n",
       "      <th>4</th>\n",
       "      <td>1.580988</td>\n",
       "      <td>0.230932</td>\n",
       "      <td>1.125452</td>\n",
       "    </tr>\n",
       "  </tbody>\n",
       "</table>\n",
       "</div>"
      ],
      "text/plain": [
       "          T     Sigma    Strike\n",
       "0  1.767882  0.343107  0.955100\n",
       "1  1.487838  0.784093  1.006932\n",
       "2  1.084380  0.234817  0.975892\n",
       "3  0.295250  0.460924  0.860380\n",
       "4  1.580988  0.230932  1.125452"
      ]
     },
     "execution_count": 6,
     "metadata": {},
     "output_type": "execute_result"
    }
   ],
   "source": [
    "# For the neural network calculating the vanilla option prices in the Black Scholes model, \n",
    "# the features used are the time to maturity T, the moneyness (simply defined as 'Strike') \n",
    "# and the asset volatility sigma.\n",
    "#\n",
    "# Lower and upper boundaries for each parameter\n",
    "#\n",
    "bounds = {  \"T\"     : [1./12., 2.00]\n",
    "          , \"Sigma\" : [ .1  ,  .80]\n",
    "          , \"Strike\": [ .4   , 1.20]\n",
    "         }\n",
    "#\n",
    "# Number of Observations\n",
    "#\n",
    "NUM = 100000\n",
    "#\n",
    "# Random number generator\n",
    "#\n",
    "seed = 42\n",
    "rand = np.random.RandomState()\n",
    "#\n",
    "# Latin Hypercube Sampling\n",
    "#\n",
    "xDF = lhs_sampling(rand, NUM, bounds=bounds)\n",
    "xDF.head()"
   ]
  },
  {
   "cell_type": "code",
   "execution_count": 7,
   "id": "1493bf33",
   "metadata": {
    "colab": {
     "base_uri": "https://localhost:8080/",
     "height": 368
    },
    "executionInfo": {
     "elapsed": 1674,
     "status": "ok",
     "timestamp": 1651849219113,
     "user": {
      "displayName": "Giovanni Della Lunga",
      "userId": "13927304036683734865"
     },
     "user_tz": -120
    },
    "id": "1493bf33",
    "outputId": "856d38d4-6161-4fb7-e068-c53ad8c7db60"
   },
   "outputs": [
    {
     "data": {
      "text/plain": [
       "array([[<Axes: title={'center': 'T'}>, <Axes: title={'center': 'Sigma'}>],\n",
       "       [<Axes: title={'center': 'Strike'}>, <Axes: >]], dtype=object)"
      ]
     },
     "execution_count": 7,
     "metadata": {},
     "output_type": "execute_result"
    },
    {
     "data": {
      "image/png": "[encoded data removed]",
      "text/plain": [
       "<Figure size 640x480 with 4 Axes>"
      ]
     },
     "metadata": {},
     "output_type": "display_data"
    }
   ],
   "source": [
    "xDF.hist(bins=100)"
   ]
  },
  {
   "cell_type": "markdown",
   "id": "494129fb",
   "metadata": {},
   "source": [
    "The for each set of randomly generated parameters, we calculate the theoretical **call** price according to the Black and Scholes model:"
   ]
  },
  {
   "cell_type": "code",
   "execution_count": 8,
   "id": "b5b332bf",
   "metadata": {
    "executionInfo": {
     "elapsed": 372,
     "status": "ok",
     "timestamp": 1651849220792,
     "user": {
      "displayName": "Giovanni Della Lunga",
      "userId": "13927304036683734865"
     },
     "user_tz": -120
    },
    "id": "b5b332bf"
   },
   "outputs": [],
   "source": [
    "def gen(NUM, pars):\n",
    "\n",
    "    S0     = np.full(NUM, 1.0, dtype = np.double)\n",
    "    r      = np.full(NUM, 0.0, dtype = np.double)\n",
    "    price  = np_euro_call(S0, r, pars[\"T\"], pars[\"Sigma\"], pars[\"Strike\"])\n",
    "    \n",
    "    df = pd.DataFrame(pars)\n",
    "    df[\"Price\"] = price\n",
    "\n",
    "    return df"
   ]
  },
  {
   "cell_type": "code",
   "execution_count": 9,
   "id": "25d9e6fc",
   "metadata": {
    "colab": {
     "base_uri": "https://localhost:8080/",
     "height": 224
    },
    "executionInfo": {
     "elapsed": 6,
     "status": "ok",
     "timestamp": 1651849221176,
     "user": {
      "displayName": "Giovanni Della Lunga",
      "userId": "13927304036683734865"
     },
     "user_tz": -120
    },
    "id": "25d9e6fc",
    "outputId": "ba5b85f8-a5ae-4b22-a49e-ac11f153df6b"
   },
   "outputs": [
    {
     "name": "stdout",
     "output_type": "stream",
     "text": [
      "(100000,)\n",
      "@ GEN                               : elapsed 0.0582 sec\n"
     ]
    },
    {
     "data": {
      "text/html": [
       "<div>\n",
       "<style scoped>\n",
       "    .dataframe tbody tr th:only-of-type {\n",
       "        vertical-align: middle;\n",
       "    }\n",
       "\n",
       "    .dataframe tbody tr th {\n",
       "        vertical-align: top;\n",
       "    }\n",
       "\n",
       "    .dataframe thead th {\n",
       "        text-align: right;\n",
       "    }\n",
       "</style>\n",
       "<table border=\"1\" class=\"dataframe\">\n",
       "  <thead>\n",
       "    <tr style=\"text-align: right;\">\n",
       "      <th></th>\n",
       "      <th>T</th>\n",
       "      <th>Sigma</th>\n",
       "      <th>Strike</th>\n",
       "      <th>Price</th>\n",
       "    </tr>\n",
       "  </thead>\n",
       "  <tbody>\n",
       "    <tr>\n",
       "      <th>0</th>\n",
       "      <td>1.767882</td>\n",
       "      <td>0.343107</td>\n",
       "      <td>0.955100</td>\n",
       "      <td>0.199709</td>\n",
       "    </tr>\n",
       "    <tr>\n",
       "      <th>1</th>\n",
       "      <td>1.487838</td>\n",
       "      <td>0.784093</td>\n",
       "      <td>1.006932</td>\n",
       "      <td>0.365313</td>\n",
       "    </tr>\n",
       "    <tr>\n",
       "      <th>2</th>\n",
       "      <td>1.084380</td>\n",
       "      <td>0.234817</td>\n",
       "      <td>0.975892</td>\n",
       "      <td>0.108665</td>\n",
       "    </tr>\n",
       "    <tr>\n",
       "      <th>3</th>\n",
       "      <td>0.295250</td>\n",
       "      <td>0.460924</td>\n",
       "      <td>0.860380</td>\n",
       "      <td>0.178611</td>\n",
       "    </tr>\n",
       "    <tr>\n",
       "      <th>4</th>\n",
       "      <td>1.580988</td>\n",
       "      <td>0.230932</td>\n",
       "      <td>1.125452</td>\n",
       "      <td>0.069888</td>\n",
       "    </tr>\n",
       "  </tbody>\n",
       "</table>\n",
       "</div>"
      ],
      "text/plain": [
       "          T     Sigma    Strike     Price\n",
       "0  1.767882  0.343107  0.955100  0.199709\n",
       "1  1.487838  0.784093  1.006932  0.365313\n",
       "2  1.084380  0.234817  0.975892  0.108665\n",
       "3  0.295250  0.460924  0.860380  0.178611\n",
       "4  1.580988  0.230932  1.125452  0.069888"
      ]
     },
     "execution_count": 9,
     "metadata": {},
     "output_type": "execute_result"
    }
   ],
   "source": [
    "__tStart = time.perf_counter()\n",
    "df =  gen(NUM, xDF)\n",
    "__tEnd = time.perf_counter()\n",
    "print(\"@ %-34s: elapsed %.4f sec\" %(\"GEN\", __tEnd - __tStart) )\n",
    "\n",
    "df.head()"
   ]
  },
  {
   "cell_type": "code",
   "execution_count": 10,
   "id": "b5b1cd88",
   "metadata": {
    "colab": {
     "base_uri": "https://localhost:8080/",
     "height": 224
    },
    "executionInfo": {
     "elapsed": 6,
     "status": "ok",
     "timestamp": 1651849223118,
     "user": {
      "displayName": "Giovanni Della Lunga",
      "userId": "13927304036683734865"
     },
     "user_tz": -120
    },
    "id": "b5b1cd88",
    "outputId": "fb4acab6-c089-4413-9d8a-e7df56e13a93"
   },
   "outputs": [
    {
     "name": "stdout",
     "output_type": "stream",
     "text": [
      "67000 33000\n"
     ]
    },
    {
     "data": {
      "text/html": [
       "<div>\n",
       "<style scoped>\n",
       "    .dataframe tbody tr th:only-of-type {\n",
       "        vertical-align: middle;\n",
       "    }\n",
       "\n",
       "    .dataframe tbody tr th {\n",
       "        vertical-align: top;\n",
       "    }\n",
       "\n",
       "    .dataframe thead th {\n",
       "        text-align: right;\n",
       "    }\n",
       "</style>\n",
       "<table border=\"1\" class=\"dataframe\">\n",
       "  <thead>\n",
       "    <tr style=\"text-align: right;\">\n",
       "      <th></th>\n",
       "      <th>T</th>\n",
       "      <th>Sigma</th>\n",
       "      <th>Strike</th>\n",
       "      <th>Price</th>\n",
       "    </tr>\n",
       "  </thead>\n",
       "  <tbody>\n",
       "    <tr>\n",
       "      <th>59428</th>\n",
       "      <td>1.701508</td>\n",
       "      <td>0.719763</td>\n",
       "      <td>0.562508</td>\n",
       "      <td>0.547110</td>\n",
       "    </tr>\n",
       "    <tr>\n",
       "      <th>34957</th>\n",
       "      <td>0.823425</td>\n",
       "      <td>0.479866</td>\n",
       "      <td>0.652676</td>\n",
       "      <td>0.377323</td>\n",
       "    </tr>\n",
       "    <tr>\n",
       "      <th>4264</th>\n",
       "      <td>1.485308</td>\n",
       "      <td>0.272344</td>\n",
       "      <td>0.812732</td>\n",
       "      <td>0.235378</td>\n",
       "    </tr>\n",
       "    <tr>\n",
       "      <th>53791</th>\n",
       "      <td>1.320954</td>\n",
       "      <td>0.103126</td>\n",
       "      <td>0.465572</td>\n",
       "      <td>0.534428</td>\n",
       "    </tr>\n",
       "    <tr>\n",
       "      <th>82114</th>\n",
       "      <td>0.938310</td>\n",
       "      <td>0.372675</td>\n",
       "      <td>1.082324</td>\n",
       "      <td>0.111498</td>\n",
       "    </tr>\n",
       "  </tbody>\n",
       "</table>\n",
       "</div>"
      ],
      "text/plain": [
       "              T     Sigma    Strike     Price\n",
       "59428  1.701508  0.719763  0.562508  0.547110\n",
       "34957  0.823425  0.479866  0.652676  0.377323\n",
       "4264   1.485308  0.272344  0.812732  0.235378\n",
       "53791  1.320954  0.103126  0.465572  0.534428\n",
       "82114  0.938310  0.372675  1.082324  0.111498"
      ]
     },
     "execution_count": 10,
     "metadata": {},
     "output_type": "execute_result"
    }
   ],
   "source": [
    "X_train, X_test = train_test_split(df, test_size=0.33, random_state=42)\n",
    "print(len(X_train), len(X_test))\n",
    "X_train.head()"
   ]
  },
  {
   "cell_type": "code",
   "execution_count": 11,
   "id": "fc665012",
   "metadata": {
    "colab": {
     "base_uri": "https://localhost:8080/",
     "height": 206
    },
    "executionInfo": {
     "elapsed": 5,
     "status": "ok",
     "timestamp": 1651849223462,
     "user": {
      "displayName": "Giovanni Della Lunga",
      "userId": "13927304036683734865"
     },
     "user_tz": -120
    },
    "id": "fc665012",
    "outputId": "9b11d46b-5a52-4e06-c823-cb3f2e1f1990"
   },
   "outputs": [
    {
     "data": {
      "text/html": [
       "<div>\n",
       "<style scoped>\n",
       "    .dataframe tbody tr th:only-of-type {\n",
       "        vertical-align: middle;\n",
       "    }\n",
       "\n",
       "    .dataframe tbody tr th {\n",
       "        vertical-align: top;\n",
       "    }\n",
       "\n",
       "    .dataframe thead th {\n",
       "        text-align: right;\n",
       "    }\n",
       "</style>\n",
       "<table border=\"1\" class=\"dataframe\">\n",
       "  <thead>\n",
       "    <tr style=\"text-align: right;\">\n",
       "      <th></th>\n",
       "      <th>T</th>\n",
       "      <th>Sigma</th>\n",
       "      <th>Strike</th>\n",
       "      <th>Price</th>\n",
       "    </tr>\n",
       "  </thead>\n",
       "  <tbody>\n",
       "    <tr>\n",
       "      <th>75721</th>\n",
       "      <td>0.822160</td>\n",
       "      <td>0.642623</td>\n",
       "      <td>0.694108</td>\n",
       "      <td>0.382496</td>\n",
       "    </tr>\n",
       "    <tr>\n",
       "      <th>80184</th>\n",
       "      <td>1.786148</td>\n",
       "      <td>0.239717</td>\n",
       "      <td>0.754404</td>\n",
       "      <td>0.274373</td>\n",
       "    </tr>\n",
       "    <tr>\n",
       "      <th>19864</th>\n",
       "      <td>1.256592</td>\n",
       "      <td>0.416754</td>\n",
       "      <td>0.899740</td>\n",
       "      <td>0.229946</td>\n",
       "    </tr>\n",
       "    <tr>\n",
       "      <th>76699</th>\n",
       "      <td>0.910423</td>\n",
       "      <td>0.495259</td>\n",
       "      <td>0.777548</td>\n",
       "      <td>0.299653</td>\n",
       "    </tr>\n",
       "    <tr>\n",
       "      <th>92991</th>\n",
       "      <td>1.548635</td>\n",
       "      <td>0.591607</td>\n",
       "      <td>0.491076</td>\n",
       "      <td>0.552865</td>\n",
       "    </tr>\n",
       "  </tbody>\n",
       "</table>\n",
       "</div>"
      ],
      "text/plain": [
       "              T     Sigma    Strike     Price\n",
       "75721  0.822160  0.642623  0.694108  0.382496\n",
       "80184  1.786148  0.239717  0.754404  0.274373\n",
       "19864  1.256592  0.416754  0.899740  0.229946\n",
       "76699  0.910423  0.495259  0.777548  0.299653\n",
       "92991  1.548635  0.591607  0.491076  0.552865"
      ]
     },
     "execution_count": 11,
     "metadata": {},
     "output_type": "execute_result"
    }
   ],
   "source": [
    "X_test.head()"
   ]
  },
  {
   "cell_type": "markdown",
   "id": "b70d8544",
   "metadata": {
    "id": "b70d8544"
   },
   "source": [
    "To make the illustration more interesting, we can add a random error to each calculated price. The random error is normally distributed with a mean of zero and a standard deviation of $\\epsilon \\cdot (P_{max} - P_{min})$ where $\\epsilon$ is a scale parameter defined by the user."
   ]
  },
  {
   "cell_type": "code",
   "execution_count": 12,
   "id": "92b5b342",
   "metadata": {
    "executionInfo": {
     "elapsed": 357,
     "status": "ok",
     "timestamp": 1651849225521,
     "user": {
      "displayName": "Giovanni Della Lunga",
      "userId": "13927304036683734865"
     },
     "user_tz": -120
    },
    "id": "92b5b342"
   },
   "outputs": [],
   "source": [
    "def add_noise(rand, Xv, eps):\n",
    "    X  = Xv.copy()\n",
    "    xl = np.min(X[\"Price\"])\n",
    "    xh = np.max(X[\"Price\"])\n",
    "\n",
    "    xi = rand.normal( loc = 0.0, scale = eps*(xh-xl), size=X.shape[0])\n",
    "    X[\"Price\"] += xi\n",
    "    return X"
   ]
  },
  {
   "cell_type": "code",
   "execution_count": 13,
   "id": "4909fd35",
   "metadata": {
    "executionInfo": {
     "elapsed": 2,
     "status": "ok",
     "timestamp": 1651849225521,
     "user": {
      "displayName": "Giovanni Della Lunga",
      "userId": "13927304036683734865"
     },
     "user_tz": -120
    },
    "id": "4909fd35"
   },
   "outputs": [],
   "source": [
    "EPS = 0.00\n",
    "if EPS > 0.0: \n",
    "    X_train = add_noise(rand, X_train, EPS)"
   ]
  },
  {
   "cell_type": "code",
   "execution_count": 14,
   "id": "510c6c0f",
   "metadata": {
    "executionInfo": {
     "elapsed": 2,
     "status": "ok",
     "timestamp": 1651849225875,
     "user": {
      "displayName": "Giovanni Della Lunga",
      "userId": "13927304036683734865"
     },
     "user_tz": -120
    },
    "id": "510c6c0f"
   },
   "outputs": [],
   "source": [
    "y_train = X_train['Price']\n",
    "y_test  = X_test['Price']"
   ]
  },
  {
   "cell_type": "code",
   "execution_count": 15,
   "id": "bb205352",
   "metadata": {
    "colab": {
     "base_uri": "https://localhost:8080/",
     "height": 367
    },
    "executionInfo": {
     "elapsed": 393,
     "status": "ok",
     "timestamp": 1651849226784,
     "user": {
      "displayName": "Giovanni Della Lunga",
      "userId": "13927304036683734865"
     },
     "user_tz": -120
    },
    "id": "bb205352",
    "outputId": "57c3e0e6-fedc-4298-a54a-b56f4ad27398"
   },
   "outputs": [
    {
     "data": {
      "text/plain": [
       "Text(0.5, 0, 'BS Price')"
      ]
     },
     "execution_count": 15,
     "metadata": {},
     "output_type": "execute_result"
    },
    {
     "data": {
      "image/png": "[encoded data removed]",
      "text/plain": [
       "<Figure size 1200x500 with 1 Axes>"
      ]
     },
     "metadata": {},
     "output_type": "display_data"
    }
   ],
   "source": [
    "ax=y_train.plot(kind='hist', bins=100, grid=False, figsize=(12,5), color='green', title = 'Training Set')\n",
    "ax.set_xlabel('BS Price')"
   ]
  },
  {
   "cell_type": "code",
   "execution_count": 16,
   "id": "8aa53e04",
   "metadata": {
    "colab": {
     "base_uri": "https://localhost:8080/",
     "height": 367
    },
    "executionInfo": {
     "elapsed": 744,
     "status": "ok",
     "timestamp": 1651849227522,
     "user": {
      "displayName": "Giovanni Della Lunga",
      "userId": "13927304036683734865"
     },
     "user_tz": -120
    },
    "id": "8aa53e04",
    "outputId": "d40dccde-620a-4984-a77e-3e33656bb53c"
   },
   "outputs": [
    {
     "data": {
      "text/plain": [
       "Text(0.5, 0, 'BS Price')"
      ]
     },
     "execution_count": 16,
     "metadata": {},
     "output_type": "execute_result"
    },
    {
     "data": {
      "image/png": "[encoded data removed]",
      "text/plain": [
       "<Figure size 1200x500 with 1 Axes>"
      ]
     },
     "metadata": {},
     "output_type": "display_data"
    }
   ],
   "source": [
    "ax=y_train.plot(kind='hist', bins=100, grid=False, figsize=(12,5), color='blue', title = 'Test Set')\n",
    "ax.set_xlabel('BS Price')"
   ]
  },
  {
   "cell_type": "code",
   "execution_count": 17,
   "id": "d39fb1e1",
   "metadata": {
    "colab": {
     "base_uri": "https://localhost:8080/",
     "height": 206
    },
    "executionInfo": {
     "elapsed": 10,
     "status": "ok",
     "timestamp": 1651849227524,
     "user": {
      "displayName": "Giovanni Della Lunga",
      "userId": "13927304036683734865"
     },
     "user_tz": -120
    },
    "id": "d39fb1e1",
    "outputId": "4688fbb9-b47e-4a28-9dec-20ace47e34e0"
   },
   "outputs": [
    {
     "data": {
      "text/html": [
       "<div>\n",
       "<style scoped>\n",
       "    .dataframe tbody tr th:only-of-type {\n",
       "        vertical-align: middle;\n",
       "    }\n",
       "\n",
       "    .dataframe tbody tr th {\n",
       "        vertical-align: top;\n",
       "    }\n",
       "\n",
       "    .dataframe thead th {\n",
       "        text-align: right;\n",
       "    }\n",
       "</style>\n",
       "<table border=\"1\" class=\"dataframe\">\n",
       "  <thead>\n",
       "    <tr style=\"text-align: right;\">\n",
       "      <th></th>\n",
       "      <th>T</th>\n",
       "      <th>Sigma</th>\n",
       "      <th>Strike</th>\n",
       "    </tr>\n",
       "  </thead>\n",
       "  <tbody>\n",
       "    <tr>\n",
       "      <th>59428</th>\n",
       "      <td>1.701508</td>\n",
       "      <td>0.719763</td>\n",
       "      <td>0.562508</td>\n",
       "    </tr>\n",
       "    <tr>\n",
       "      <th>34957</th>\n",
       "      <td>0.823425</td>\n",
       "      <td>0.479866</td>\n",
       "      <td>0.652676</td>\n",
       "    </tr>\n",
       "    <tr>\n",
       "      <th>4264</th>\n",
       "      <td>1.485308</td>\n",
       "      <td>0.272344</td>\n",
       "      <td>0.812732</td>\n",
       "    </tr>\n",
       "    <tr>\n",
       "      <th>53791</th>\n",
       "      <td>1.320954</td>\n",
       "      <td>0.103126</td>\n",
       "      <td>0.465572</td>\n",
       "    </tr>\n",
       "    <tr>\n",
       "      <th>82114</th>\n",
       "      <td>0.938310</td>\n",
       "      <td>0.372675</td>\n",
       "      <td>1.082324</td>\n",
       "    </tr>\n",
       "  </tbody>\n",
       "</table>\n",
       "</div>"
      ],
      "text/plain": [
       "              T     Sigma    Strike\n",
       "59428  1.701508  0.719763  0.562508\n",
       "34957  0.823425  0.479866  0.652676\n",
       "4264   1.485308  0.272344  0.812732\n",
       "53791  1.320954  0.103126  0.465572\n",
       "82114  0.938310  0.372675  1.082324"
      ]
     },
     "execution_count": 17,
     "metadata": {},
     "output_type": "execute_result"
    }
   ],
   "source": [
    "X_train = X_train.drop(['Price'], axis=1)\n",
    "X_test  = X_test.drop(['Price'], axis=1)\n",
    "X_train.head()"
   ]
  },
  {
   "cell_type": "markdown",
   "id": "a012fced",
   "metadata": {
    "id": "a012fced"
   },
   "source": [
    "### Scaling Data"
   ]
  },
  {
   "cell_type": "code",
   "execution_count": 18,
   "id": "e7a94c55",
   "metadata": {
    "executionInfo": {
     "elapsed": 4,
     "status": "ok",
     "timestamp": 1651849229246,
     "user": {
      "displayName": "Giovanni Della Lunga",
      "userId": "13927304036683734865"
     },
     "user_tz": -120
    },
    "id": "e7a94c55"
   },
   "outputs": [],
   "source": [
    "from sklearn.preprocessing import StandardScaler\n",
    "\n",
    "scaling = False\n",
    "\n",
    "if scaling:\n",
    "    # Scale the train set\n",
    "    scaler = StandardScaler().fit(X_train)\n",
    "    X_train = scaler.transform(X_train)\n",
    "\n",
    "    # Scale the test set\n",
    "    scaler = StandardScaler().fit(X_test)\n",
    "    X_test = scaler.transform(X_test)\n",
    "    \n",
    "    # Transform into pd DataFrame\n",
    "    X_train = pd.DataFrame(X_train)\n",
    "    X_test = pd.DataFrame(X_test)"
   ]
  },
  {
   "cell_type": "markdown",
   "id": "43465473",
   "metadata": {
    "id": "43465473"
   },
   "source": [
    "## Create the Model"
   ]
  },
  {
   "cell_type": "markdown",
   "id": "9451ce01",
   "metadata": {
    "id": "9451ce01"
   },
   "source": [
    "### Neural Network Architecture"
   ]
  },
  {
   "cell_type": "markdown",
   "id": "3338ecbd",
   "metadata": {
    "id": "3338ecbd"
   },
   "source": [
    "We use mean absolute error (mae) as the cost function. The neural  network has two hidden layers and a decreasing number of neurons per layer. The relu activation function is used. "
   ]
  },
  {
   "cell_type": "code",
   "execution_count": 19,
   "id": "fb025a6b",
   "metadata": {
    "executionInfo": {
     "elapsed": 4,
     "status": "ok",
     "timestamp": 1651849231669,
     "user": {
      "displayName": "Giovanni Della Lunga",
      "userId": "13927304036683734865"
     },
     "user_tz": -120
    },
    "id": "fb025a6b"
   },
   "outputs": [],
   "source": [
    "from keras.models import Sequential\n",
    "from keras.layers import Dense"
   ]
  },
  {
   "cell_type": "markdown",
   "id": "73e9afcd",
   "metadata": {
    "id": "73e9afcd"
   },
   "source": [
    "**The input shape**\n",
    "\n",
    "What flows between layers are tensors. Tensors can be seen as matrices, with shapes. Shapes are consequences of the model's configuration. Shapes are tuples representing how many elements an array or tensor has in each dimension.\n",
    "\n",
    "> Ex: a shape (30,4,10) means an array or tensor with 3 dimensions, containing 30 elements in the first dimension, 4 in the second and 10 in the third, totaling 30*4*10 = 1200 elements or numbers.\n",
    "\n",
    "In Keras, the input layer itself is not a layer, but a tensor. It's the starting tensor you send to the first hidden layer. This tensor must have the same shape as your training data. \n",
    "\n",
    "> Ex: if you have 30 images of 50x50 pixels in RGB (3 channels), the shape of your input data is (30,50,50,3). Then your  input layer tensor, must have this shape.\n",
    "\n",
    "Since the input shape is the only one you need to define, Keras will demand it in the first layer. "
   ]
  },
  {
   "cell_type": "code",
   "execution_count": 20,
   "id": "39093c06",
   "metadata": {
    "executionInfo": {
     "elapsed": 1,
     "status": "ok",
     "timestamp": 1651849232664,
     "user": {
      "displayName": "Giovanni Della Lunga",
      "userId": "13927304036683734865"
     },
     "user_tz": -120
    },
    "id": "39093c06"
   },
   "outputs": [],
   "source": [
    "def model_builder( inputShape = (1,)):\n",
    "    # Initialize the constructor\n",
    "    model = Sequential()\n",
    "    # Start from the first hidden layer, since the input is not actually a layer   \n",
    "    # But inform the shape of the input, with inputShape elements.    \n",
    "    model.add(Dense(200, activation='relu', input_shape=inputShape))\n",
    "    # Add one more hidden layer \n",
    "    model.add(Dense(200, activation='relu'))\n",
    "    # Add one more hidden layer \n",
    "    model.add(Dense(200, activation='relu'))\n",
    "    # Add an output layer \n",
    "    model.add(Dense(1))\n",
    "    # End model construction\n",
    "\n",
    "    # Model output shape\n",
    "    #print(\"model.output_shape: %s\" %(str(model.output_shape)))\n",
    "    # Model summary\n",
    "    #print(\"Model.summary\"); model.summary()\n",
    "    # Model config\n",
    "    #print(\"Model.config\"); model.get_config()\n",
    "\n",
    "    model.compile(loss='mse', optimizer='rmsprop', metrics=['mae'])\n",
    "    return model"
   ]
  },
  {
   "cell_type": "code",
   "execution_count": 21,
   "id": "a51f1cd0",
   "metadata": {
    "colab": {
     "base_uri": "https://localhost:8080/"
    },
    "executionInfo": {
     "elapsed": 395,
     "status": "ok",
     "timestamp": 1651849233509,
     "user": {
      "displayName": "Giovanni Della Lunga",
      "userId": "13927304036683734865"
     },
     "user_tz": -120
    },
    "id": "a51f1cd0",
    "outputId": "645e7756-c916-48fa-e83e-880ed21dcd1b"
   },
   "outputs": [
    {
     "name": "stderr",
     "output_type": "stream",
     "text": [
      "C:\\Users\\User\\anaconda3\\lib\\site-packages\\keras\\src\\layers\\core\\dense.py:87: UserWarning: Do not pass an `input_shape`/`input_dim` argument to a layer. When using Sequential models, prefer using an `Input(shape)` object as the first layer in the model instead.\n",
      "  super().__init__(activity_regularizer=activity_regularizer, **kwargs)\n"
     ]
    },
    {
     "data": {
      "text/html": [
       "<pre style=\"white-space:pre;overflow-x:auto;line-height:normal;font-family:Menlo,'DejaVu Sans Mono',consolas,'Courier New',monospace\"><span style=\"font-weight: bold\">Model: \"sequential\"</span>\n",
       "</pre>\n"
      ],
      "text/plain": [
       "\u001b[1mModel: \"sequential\"\u001b[0m\n"
      ]
     },
     "metadata": {},
     "output_type": "display_data"
    },
    {
     "data": {
      "text/html": [
       "<pre style=\"white-space:pre;overflow-x:auto;line-height:normal;font-family:Menlo,'DejaVu Sans Mono',consolas,'Courier New',monospace\">┏━━━━━━━━━━━━━━━━━━━━━━━━━━━━━━━━━━━━━━┳━━━━━━━━━━━━━━━━━━━━━━━━━━━━━┳━━━━━━━━━━━━━━━━━┓\n",
       "┃<span style=\"font-weight: bold\"> Layer (type)                         </span>┃<span style=\"font-weight: bold\"> Output Shape                </span>┃<span style=\"font-weight: bold\">         Param # </span>┃\n",
       "┡━━━━━━━━━━━━━━━━━━━━━━━━━━━━━━━━━━━━━━╇━━━━━━━━━━━━━━━━━━━━━━━━━━━━━╇━━━━━━━━━━━━━━━━━┩\n",
       "│ dense (<span style=\"color: #0087ff; text-decoration-color: #0087ff\">Dense</span>)                        │ (<span style=\"color: #00d7ff; text-decoration-color: #00d7ff\">None</span>, <span style=\"color: #00af00; text-decoration-color: #00af00\">200</span>)                 │             <span style=\"color: #00af00; text-decoration-color: #00af00\">800</span> │\n",
       "├──────────────────────────────────────┼─────────────────────────────┼─────────────────┤\n",
       "│ dense_1 (<span style=\"color: #0087ff; text-decoration-color: #0087ff\">Dense</span>)                      │ (<span style=\"color: #00d7ff; text-decoration-color: #00d7ff\">None</span>, <span style=\"color: #00af00; text-decoration-color: #00af00\">200</span>)                 │          <span style=\"color: #00af00; text-decoration-color: #00af00\">40,200</span> │\n",
       "├──────────────────────────────────────┼─────────────────────────────┼─────────────────┤\n",
       "│ dense_2 (<span style=\"color: #0087ff; text-decoration-color: #0087ff\">Dense</span>)                      │ (<span style=\"color: #00d7ff; text-decoration-color: #00d7ff\">None</span>, <span style=\"color: #00af00; text-decoration-color: #00af00\">200</span>)                 │          <span style=\"color: #00af00; text-decoration-color: #00af00\">40,200</span> │\n",
       "├──────────────────────────────────────┼─────────────────────────────┼─────────────────┤\n",
       "│ dense_3 (<span style=\"color: #0087ff; text-decoration-color: #0087ff\">Dense</span>)                      │ (<span style=\"color: #00d7ff; text-decoration-color: #00d7ff\">None</span>, <span style=\"color: #00af00; text-decoration-color: #00af00\">1</span>)                   │             <span style=\"color: #00af00; text-decoration-color: #00af00\">201</span> │\n",
       "└──────────────────────────────────────┴─────────────────────────────┴─────────────────┘\n",
       "</pre>\n"
      ],
      "text/plain": [
       "┏━━━━━━━━━━━━━━━━━━━━━━━━━━━━━━━━━━━━━━┳━━━━━━━━━━━━━━━━━━━━━━━━━━━━━┳━━━━━━━━━━━━━━━━━┓\n",
       "┃\u001b[1m \u001b[0m\u001b[1mLayer (type)                        \u001b[0m\u001b[1m \u001b[0m┃\u001b[1m \u001b[0m\u001b[1mOutput Shape               \u001b[0m\u001b[1m \u001b[0m┃\u001b[1m \u001b[0m\u001b[1m        Param #\u001b[0m\u001b[1m \u001b[0m┃\n",
       "┡━━━━━━━━━━━━━━━━━━━━━━━━━━━━━━━━━━━━━━╇━━━━━━━━━━━━━━━━━━━━━━━━━━━━━╇━━━━━━━━━━━━━━━━━┩\n",
       "│ dense (\u001b[38;5;33mDense\u001b[0m)                        │ (\u001b[38;5;45mNone\u001b[0m, \u001b[38;5;34m200\u001b[0m)                 │             \u001b[38;5;34m800\u001b[0m │\n",
       "├──────────────────────────────────────┼─────────────────────────────┼─────────────────┤\n",
       "│ dense_1 (\u001b[38;5;33mDense\u001b[0m)                      │ (\u001b[38;5;45mNone\u001b[0m, \u001b[38;5;34m200\u001b[0m)                 │          \u001b[38;5;34m40,200\u001b[0m │\n",
       "├──────────────────────────────────────┼─────────────────────────────┼─────────────────┤\n",
       "│ dense_2 (\u001b[38;5;33mDense\u001b[0m)                      │ (\u001b[38;5;45mNone\u001b[0m, \u001b[38;5;34m200\u001b[0m)                 │          \u001b[38;5;34m40,200\u001b[0m │\n",
       "├──────────────────────────────────────┼─────────────────────────────┼─────────────────┤\n",
       "│ dense_3 (\u001b[38;5;33mDense\u001b[0m)                      │ (\u001b[38;5;45mNone\u001b[0m, \u001b[38;5;34m1\u001b[0m)                   │             \u001b[38;5;34m201\u001b[0m │\n",
       "└──────────────────────────────────────┴─────────────────────────────┴─────────────────┘\n"
      ]
     },
     "metadata": {},
     "output_type": "display_data"
    },
    {
     "data": {
      "text/html": [
       "<pre style=\"white-space:pre;overflow-x:auto;line-height:normal;font-family:Menlo,'DejaVu Sans Mono',consolas,'Courier New',monospace\"><span style=\"font-weight: bold\"> Total params: </span><span style=\"color: #00af00; text-decoration-color: #00af00\">81,401</span> (317.97 KB)\n",
       "</pre>\n"
      ],
      "text/plain": [
       "\u001b[1m Total params: \u001b[0m\u001b[38;5;34m81,401\u001b[0m (317.97 KB)\n"
      ]
     },
     "metadata": {},
     "output_type": "display_data"
    },
    {
     "data": {
      "text/html": [
       "<pre style=\"white-space:pre;overflow-x:auto;line-height:normal;font-family:Menlo,'DejaVu Sans Mono',consolas,'Courier New',monospace\"><span style=\"font-weight: bold\"> Trainable params: </span><span style=\"color: #00af00; text-decoration-color: #00af00\">81,401</span> (317.97 KB)\n",
       "</pre>\n"
      ],
      "text/plain": [
       "\u001b[1m Trainable params: \u001b[0m\u001b[38;5;34m81,401\u001b[0m (317.97 KB)\n"
      ]
     },
     "metadata": {},
     "output_type": "display_data"
    },
    {
     "data": {
      "text/html": [
       "<pre style=\"white-space:pre;overflow-x:auto;line-height:normal;font-family:Menlo,'DejaVu Sans Mono',consolas,'Courier New',monospace\"><span style=\"font-weight: bold\"> Non-trainable params: </span><span style=\"color: #00af00; text-decoration-color: #00af00\">0</span> (0.00 B)\n",
       "</pre>\n"
      ],
      "text/plain": [
       "\u001b[1m Non-trainable params: \u001b[0m\u001b[38;5;34m0\u001b[0m (0.00 B)\n"
      ]
     },
     "metadata": {},
     "output_type": "display_data"
    }
   ],
   "source": [
    "model = model_builder( inputShape = (X_train.shape[1],))\n",
    "model.summary()"
   ]
  },
  {
   "cell_type": "markdown",
   "id": "fa8f8695",
   "metadata": {
    "id": "fa8f8695"
   },
   "source": [
    "## Train the Model"
   ]
  },
  {
   "cell_type": "code",
   "execution_count": 22,
   "id": "b93ac3de",
   "metadata": {
    "executionInfo": {
     "elapsed": 2,
     "status": "ok",
     "timestamp": 1651849233855,
     "user": {
      "displayName": "Giovanni Della Lunga",
      "userId": "13927304036683734865"
     },
     "user_tz": -120
    },
    "id": "b93ac3de"
   },
   "outputs": [],
   "source": [
    "def show_scattered( y, t, TAG, ax = None):\n",
    "    #x      = model.predict(X)\n",
    "    #y      = np.ravel(x)\n",
    "    xMin = min(t)\n",
    "    xMax = max(t)\n",
    "    v    = np.arange(xMin, xMax, (xMax-xMin)/100.)\n",
    "\n",
    "    diff   = np.fabs(y - t)\n",
    "    print(\"@ %-24s: E[y-t]: %.6f Std(y-t): %.6f\" %( TAG, np.mean(diff), np.std(diff)))\n",
    "    if ax == None: return\n",
    "\n",
    "    ax.plot( y, t, \".\")\n",
    "    ax.plot( v, v, color=\"red\")\n",
    "    ax.set_title(\"%s mae=%8.4f, std=%8.4f\" %(TAG, np.mean(diff), np.std(diff)))\n",
    "    ax.set_xlabel(\"predicted\")\n",
    "    ax.set_ylabel(\"target\")"
   ]
  },
  {
   "cell_type": "code",
   "execution_count": 23,
   "id": "1981b439",
   "metadata": {
    "executionInfo": {
     "elapsed": 2,
     "status": "ok",
     "timestamp": 1651849234248,
     "user": {
      "displayName": "Giovanni Della Lunga",
      "userId": "13927304036683734865"
     },
     "user_tz": -120
    },
    "id": "1981b439"
   },
   "outputs": [],
   "source": [
    "def display_nn_results( model, X_train, X_test, t_train, t_test, resFile=None):\n",
    "\n",
    "    fig, ax = plt.subplots(1,2, figsize=(12,6))\n",
    "    fig.suptitle(\"Scattered plots\")\n",
    "    #\n",
    "    # The numpy module ravel of NumPy provides a function, called numpy.ravel, which is used to change \n",
    "    # a 2-dimensional array or a multi-dimensional array into a contiguous flattened array. The returned \n",
    "    # array has the same data type as the source array or input array.\n",
    "    #\n",
    "    y_train  = np.ravel(model.predict(X_train))\n",
    "    show_scattered( y_train, t_train, \"InSample\", ax = ax[0])\n",
    "    diff   = np.fabs(y_train - t_train)\n",
    "    delta  = y_train - t_train\n",
    "    RES    = pd.DataFrame({\"predicted\": y_train, \"target\": t_train, \"err\": diff, \"delta\": delta})\n",
    "    h1     = RES['delta'] \n",
    "    RES.to_csv(\"res_in_sample.csv\", sep=',', float_format=\"%.6f\", index=True)\n",
    "    \n",
    "    y_test  = np.ravel(model.predict(X_test))\n",
    "    show_scattered( y_test , t_test, \"OutOfSample\", ax= ax[1])\n",
    "    diff   = np.fabs(y_test-t_test)\n",
    "    delta  = y_test - t_test\n",
    "    RES    = pd.DataFrame({\"predicted\": y_test, \"target\": t_test, \"err\": diff, \"delta\": delta})\n",
    "    h2     = RES['delta']\n",
    "    RES.to_csv(\"res_ou_sample.csv\", sep=',', float_format=\"%.6f\", index=True)\n",
    "\n",
    "    if resFile != None:\n",
    "        plt.savefig(resFile, format=\"png\")\n",
    "        print(\"\\nResults saved to '%s' \" % resFile)\n",
    "    plt.show()\n",
    "\n",
    "\n",
    "    score = model.evaluate(X_test, t_test, verbose=1)\n",
    "    print('Score:'); print(score)\n",
    "    \n",
    "    h1.plot(kind='hist', bins=100, grid=False, figsize=(12,5), color='blue', title = 'err distribution')\n",
    "    h2.plot(kind='hist', bins=100, grid=False, figsize=(12,5), color='red')\n"
   ]
  },
  {
   "cell_type": "code",
   "execution_count": 24,
   "id": "da445aef",
   "metadata": {},
   "outputs": [
    {
     "name": "stdout",
     "output_type": "stream",
     "text": [
      "(67000, 3)\n",
      "(33000, 3)\n",
      "(67000,)\n",
      "(33000,)\n"
     ]
    }
   ],
   "source": [
    "print(X_train.shape)\n",
    "print(X_test.shape)\n",
    "print(y_train.shape)\n",
    "print(y_test.shape)"
   ]
  },
  {
   "cell_type": "code",
   "execution_count": 25,
   "id": "55f63bda",
   "metadata": {
    "executionInfo": {
     "elapsed": 2,
     "status": "ok",
     "timestamp": 1651849234958,
     "user": {
      "displayName": "Giovanni Della Lunga",
      "userId": "13927304036683734865"
     },
     "user_tz": -120
    },
    "id": "55f63bda"
   },
   "outputs": [],
   "source": [
    "frames = [X_train, X_test]\n",
    "X = pd.concat(frames)\n",
    "\n",
    "frames = [y_train, y_test]\n",
    "Y = pd.concat(frames)"
   ]
  },
  {
   "cell_type": "code",
   "execution_count": 26,
   "id": "18daaaf6",
   "metadata": {
    "colab": {
     "base_uri": "https://localhost:8080/"
    },
    "executionInfo": {
     "elapsed": 84880,
     "status": "ok",
     "timestamp": 1651849321343,
     "user": {
      "displayName": "Giovanni Della Lunga",
      "userId": "13927304036683734865"
     },
     "user_tz": -120
    },
    "id": "18daaaf6",
    "outputId": "0f16c925-221d-44ee-b9e6-4903cca4196d"
   },
   "outputs": [
    {
     "name": "stdout",
     "output_type": "stream",
     "text": [
      "Epoch 1/25\n",
      "\u001b[1m2094/2094\u001b[0m \u001b[32m━━━━━━━━━━━━━━━━━━━━\u001b[0m\u001b[37m\u001b[0m \u001b[1m11s\u001b[0m 5ms/step - loss: 0.0042 - mae: 0.0405 - val_loss: 5.7557e-04 - val_mae: 0.0224\n",
      "Epoch 2/25\n",
      "\u001b[1m2094/2094\u001b[0m \u001b[32m━━━━━━━━━━━━━━━━━━━━\u001b[0m\u001b[37m\u001b[0m \u001b[1m9s\u001b[0m 4ms/step - loss: 2.4787e-04 - mae: 0.0135 - val_loss: 3.9071e-04 - val_mae: 0.0191\n",
      "Epoch 3/25\n",
      "\u001b[1m2094/2094\u001b[0m \u001b[32m━━━━━━━━━━━━━━━━━━━━\u001b[0m\u001b[37m\u001b[0m \u001b[1m10s\u001b[0m 5ms/step - loss: 1.6830e-04 - mae: 0.0111 - val_loss: 2.6051e-04 - val_mae: 0.0153\n",
      "Epoch 4/25\n",
      "\u001b[1m2094/2094\u001b[0m \u001b[32m━━━━━━━━━━━━━━━━━━━━\u001b[0m\u001b[37m\u001b[0m \u001b[1m9s\u001b[0m 4ms/step - loss: 1.2878e-04 - mae: 0.0095 - val_loss: 2.3396e-05 - val_mae: 0.0043\n",
      "Epoch 5/25\n",
      "\u001b[1m2094/2094\u001b[0m \u001b[32m━━━━━━━━━━━━━━━━━━━━\u001b[0m\u001b[37m\u001b[0m \u001b[1m13s\u001b[0m 5ms/step - loss: 1.0800e-04 - mae: 0.0089 - val_loss: 1.6950e-04 - val_mae: 0.0123\n",
      "Epoch 6/25\n",
      "\u001b[1m2094/2094\u001b[0m \u001b[32m━━━━━━━━━━━━━━━━━━━━\u001b[0m\u001b[37m\u001b[0m \u001b[1m10s\u001b[0m 5ms/step - loss: 9.0159e-05 - mae: 0.0081 - val_loss: 7.2437e-05 - val_mae: 0.0074\n",
      "Epoch 7/25\n",
      "\u001b[1m2094/2094\u001b[0m \u001b[32m━━━━━━━━━━━━━━━━━━━━\u001b[0m\u001b[37m\u001b[0m \u001b[1m11s\u001b[0m 5ms/step - loss: 7.7554e-05 - mae: 0.0075 - val_loss: 2.2669e-05 - val_mae: 0.0043\n",
      "Epoch 8/25\n",
      "\u001b[1m2094/2094\u001b[0m \u001b[32m━━━━━━━━━━━━━━━━━━━━\u001b[0m\u001b[37m\u001b[0m \u001b[1m19s\u001b[0m 4ms/step - loss: 6.7724e-05 - mae: 0.0069 - val_loss: 8.7513e-05 - val_mae: 0.0088\n",
      "Epoch 9/25\n",
      "\u001b[1m2094/2094\u001b[0m \u001b[32m━━━━━━━━━━━━━━━━━━━━\u001b[0m\u001b[37m\u001b[0m \u001b[1m9s\u001b[0m 4ms/step - loss: 5.9431e-05 - mae: 0.0064 - val_loss: 1.7778e-05 - val_mae: 0.0036\n",
      "Epoch 10/25\n",
      "\u001b[1m2094/2094\u001b[0m \u001b[32m━━━━━━━━━━━━━━━━━━━━\u001b[0m\u001b[37m\u001b[0m \u001b[1m10s\u001b[0m 4ms/step - loss: 5.4420e-05 - mae: 0.0063 - val_loss: 8.3876e-05 - val_mae: 0.0089\n",
      "Epoch 11/25\n",
      "\u001b[1m2094/2094\u001b[0m \u001b[32m━━━━━━━━━━━━━━━━━━━━\u001b[0m\u001b[37m\u001b[0m \u001b[1m9s\u001b[0m 4ms/step - loss: 4.9285e-05 - mae: 0.0058 - val_loss: 7.8091e-06 - val_mae: 0.0023\n",
      "Epoch 12/25\n",
      "\u001b[1m2094/2094\u001b[0m \u001b[32m━━━━━━━━━━━━━━━━━━━━\u001b[0m\u001b[37m\u001b[0m \u001b[1m11s\u001b[0m 5ms/step - loss: 4.4887e-05 - mae: 0.0056 - val_loss: 1.4874e-05 - val_mae: 0.0035\n",
      "Epoch 13/25\n",
      "\u001b[1m2094/2094\u001b[0m \u001b[32m━━━━━━━━━━━━━━━━━━━━\u001b[0m\u001b[37m\u001b[0m \u001b[1m10s\u001b[0m 5ms/step - loss: 4.0514e-05 - mae: 0.0054 - val_loss: 8.7200e-06 - val_mae: 0.0026\n",
      "Epoch 14/25\n",
      "\u001b[1m2094/2094\u001b[0m \u001b[32m━━━━━━━━━━━━━━━━━━━━\u001b[0m\u001b[37m\u001b[0m \u001b[1m11s\u001b[0m 5ms/step - loss: 3.7293e-05 - mae: 0.0051 - val_loss: 1.7685e-05 - val_mae: 0.0039\n",
      "Epoch 15/25\n",
      "\u001b[1m2094/2094\u001b[0m \u001b[32m━━━━━━━━━━━━━━━━━━━━\u001b[0m\u001b[37m\u001b[0m \u001b[1m11s\u001b[0m 5ms/step - loss: 3.5169e-05 - mae: 0.0050 - val_loss: 5.4011e-05 - val_mae: 0.0072\n",
      "Epoch 16/25\n",
      "\u001b[1m2094/2094\u001b[0m \u001b[32m━━━━━━━━━━━━━━━━━━━━\u001b[0m\u001b[37m\u001b[0m \u001b[1m19s\u001b[0m 5ms/step - loss: 3.3120e-05 - mae: 0.0048 - val_loss: 1.8391e-05 - val_mae: 0.0039\n",
      "Epoch 17/25\n",
      "\u001b[1m2094/2094\u001b[0m \u001b[32m━━━━━━━━━━━━━━━━━━━━\u001b[0m\u001b[37m\u001b[0m \u001b[1m10s\u001b[0m 5ms/step - loss: 3.0310e-05 - mae: 0.0047 - val_loss: 5.0403e-06 - val_mae: 0.0019\n",
      "Epoch 18/25\n",
      "\u001b[1m2094/2094\u001b[0m \u001b[32m━━━━━━━━━━━━━━━━━━━━\u001b[0m\u001b[37m\u001b[0m \u001b[1m9s\u001b[0m 4ms/step - loss: 2.9097e-05 - mae: 0.0045 - val_loss: 4.1102e-06 - val_mae: 0.0017\n",
      "Epoch 19/25\n",
      "\u001b[1m2094/2094\u001b[0m \u001b[32m━━━━━━━━━━━━━━━━━━━━\u001b[0m\u001b[37m\u001b[0m \u001b[1m9s\u001b[0m 4ms/step - loss: 2.6784e-05 - mae: 0.0043 - val_loss: 6.9174e-05 - val_mae: 0.0073\n",
      "Epoch 20/25\n",
      "\u001b[1m2094/2094\u001b[0m \u001b[32m━━━━━━━━━━━━━━━━━━━━\u001b[0m\u001b[37m\u001b[0m \u001b[1m9s\u001b[0m 4ms/step - loss: 2.6147e-05 - mae: 0.0043 - val_loss: 1.7691e-05 - val_mae: 0.0038\n",
      "Epoch 21/25\n",
      "\u001b[1m2094/2094\u001b[0m \u001b[32m━━━━━━━━━━━━━━━━━━━━\u001b[0m\u001b[37m\u001b[0m \u001b[1m10s\u001b[0m 4ms/step - loss: 2.5057e-05 - mae: 0.0042 - val_loss: 1.5511e-05 - val_mae: 0.0036\n",
      "Epoch 22/25\n",
      "\u001b[1m2094/2094\u001b[0m \u001b[32m━━━━━━━━━━━━━━━━━━━━\u001b[0m\u001b[37m\u001b[0m \u001b[1m10s\u001b[0m 5ms/step - loss: 2.4176e-05 - mae: 0.0041 - val_loss: 4.1117e-05 - val_mae: 0.0059\n",
      "Epoch 23/25\n",
      "\u001b[1m2094/2094\u001b[0m \u001b[32m━━━━━━━━━━━━━━━━━━━━\u001b[0m\u001b[37m\u001b[0m \u001b[1m9s\u001b[0m 4ms/step - loss: 2.3355e-05 - mae: 0.0042 - val_loss: 1.9271e-06 - val_mae: 0.0011\n",
      "Epoch 24/25\n",
      "\u001b[1m2094/2094\u001b[0m \u001b[32m━━━━━━━━━━━━━━━━━━━━\u001b[0m\u001b[37m\u001b[0m \u001b[1m10s\u001b[0m 5ms/step - loss: 2.1436e-05 - mae: 0.0039 - val_loss: 1.0470e-05 - val_mae: 0.0030\n",
      "Epoch 25/25\n",
      "\u001b[1m2094/2094\u001b[0m \u001b[32m━━━━━━━━━━━━━━━━━━━━\u001b[0m\u001b[37m\u001b[0m \u001b[1m20s\u001b[0m 4ms/step - loss: 2.1044e-05 - mae: 0.0039 - val_loss: 4.9399e-06 - val_mae: 0.0020\n"
     ]
    }
   ],
   "source": [
    "# Fit the model\n",
    "history = model.fit(X, Y, validation_split=0.33, epochs=25, verbose=1)"
   ]
  },
  {
   "cell_type": "code",
   "execution_count": 27,
   "id": "ec19e94b",
   "metadata": {
    "colab": {
     "base_uri": "https://localhost:8080/",
     "height": 889
    },
    "executionInfo": {
     "elapsed": 9079,
     "status": "ok",
     "timestamp": 1651849330409,
     "user": {
      "displayName": "Giovanni Della Lunga",
      "userId": "13927304036683734865"
     },
     "user_tz": -120
    },
    "id": "ec19e94b",
    "outputId": "c5611957-dd86-4765-98a4-f7956cba8277"
   },
   "outputs": [
    {
     "name": "stdout",
     "output_type": "stream",
     "text": [
      "\u001b[1m2094/2094\u001b[0m \u001b[32m━━━━━━━━━━━━━━━━━━━━\u001b[0m\u001b[37m\u001b[0m \u001b[1m4s\u001b[0m 2ms/step\n",
      "@ InSample                : E[y-t]: 0.001995 Std(y-t): 0.000977\n",
      "\u001b[1m1032/1032\u001b[0m \u001b[32m━━━━━━━━━━━━━━━━━━━━\u001b[0m\u001b[37m\u001b[0m \u001b[1m3s\u001b[0m 2ms/step\n",
      "@ OutOfSample             : E[y-t]: 0.001993 Std(y-t): 0.000985\n",
      "\n",
      "Results saved to 'training.png' \n"
     ]
    },
    {
     "data": {
      "image/png": "[encoded data removed]",
      "text/plain": [
       "<Figure size 1200x600 with 2 Axes>"
      ]
     },
     "metadata": {},
     "output_type": "display_data"
    },
    {
     "name": "stdout",
     "output_type": "stream",
     "text": [
      "\u001b[1m1032/1032\u001b[0m \u001b[32m━━━━━━━━━━━━━━━━━━━━\u001b[0m\u001b[37m\u001b[0m \u001b[1m4s\u001b[0m 4ms/step - loss: 4.9315e-06 - mae: 0.0020\n",
      "Score:\n",
      "[4.939904101775028e-06, 0.0019925518427044153]\n"
     ]
    },
    {
     "data": {
      "image/png": "[encoded data removed]",
      "text/plain": [
       "<Figure size 1200x500 with 1 Axes>"
      ]
     },
     "metadata": {},
     "output_type": "display_data"
    }
   ],
   "source": [
    "import warnings\n",
    "warnings.simplefilter('ignore')\n",
    "\n",
    "display_nn_results(model, X_train, X_test, y_train, y_test, resFile='training.png')"
   ]
  },
  {
   "cell_type": "markdown",
   "id": "63a4bec1",
   "metadata": {
    "id": "63a4bec1"
   },
   "source": [
    "### Access Model Training History in Keras\n",
    "\n",
    "Keras provides the capability to register callbacks when training a deep learning model. One of the default callbacks that is registered when training all deep learning models is the **History callback**. It records training metrics for each epoch. This includes the loss and the accuracy (for classification problems) as well as the loss and accuracy for the validation dataset, if one is set.\n",
    "\n",
    "The history object is returned from calls to the fit() function used to train the model. Metrics are stored in a dictionary in the history member of the object returned.\n",
    "\n",
    "For example, you can list the metrics collected in a history object using the following snippet of code after a model is trained:"
   ]
  },
  {
   "cell_type": "code",
   "execution_count": 28,
   "id": "c50c5815",
   "metadata": {
    "colab": {
     "base_uri": "https://localhost:8080/",
     "height": 590
    },
    "executionInfo": {
     "elapsed": 1157,
     "status": "ok",
     "timestamp": 1651849352148,
     "user": {
      "displayName": "Giovanni Della Lunga",
      "userId": "13927304036683734865"
     },
     "user_tz": -120
    },
    "id": "c50c5815",
    "outputId": "91cc291e-4e6f-4507-c73f-0e79747adf1c"
   },
   "outputs": [
    {
     "data": {
      "image/png": "[encoded data removed]",
      "text/plain": [
       "<Figure size 500x300 with 1 Axes>"
      ]
     },
     "metadata": {},
     "output_type": "display_data"
    },
    {
     "data": {
      "image/png": "[encoded data removed]",
      "text/plain": [
       "<Figure size 500x300 with 1 Axes>"
      ]
     },
     "metadata": {},
     "output_type": "display_data"
    }
   ],
   "source": [
    "# Set fixed y-axis limits\n",
    "Y_MIN = 0.0     # Typically zero for loss/MAE\n",
    "Y_MAX_1 = 0.02    # Example: 2% MAE, you can adapt based on your expected errors\n",
    "Y_MAX_2 = 0.001\n",
    "\n",
    "# Plot MAE\n",
    "plt.figure(figsize=(5,3))\n",
    "plt.plot(history.history['mae'], label='Training MAE')\n",
    "plt.plot(history.history['val_mae'], label='Validation MAE')\n",
    "plt.title('Model Mean Absolute Error')\n",
    "plt.ylabel('MAE')\n",
    "plt.xlabel('Epoch')\n",
    "plt.legend()\n",
    "plt.grid(True)\n",
    "plt.ylim([Y_MIN, Y_MAX_1])  # <- Fix y-axis\n",
    "plt.show()\n",
    "\n",
    "# Plot Loss\n",
    "plt.figure(figsize=(5,3))\n",
    "plt.plot(history.history['loss'], label='Training Loss')\n",
    "plt.plot(history.history['val_loss'], label='Validation Loss')\n",
    "plt.title('Model Loss')\n",
    "plt.ylabel('Loss')\n",
    "plt.xlabel('Epoch')\n",
    "plt.legend()\n",
    "plt.grid(True)\n",
    "plt.ylim([Y_MIN, Y_MAX_2])  # <- Fix y-axis\n",
    "plt.show()\n"
   ]
  },
  {
   "cell_type": "markdown",
   "id": "0b234801",
   "metadata": {},
   "source": [
    "## A Better Approximation"
   ]
  },
  {
   "cell_type": "code",
   "execution_count": null,
   "id": "4f41c2e2",
   "metadata": {},
   "outputs": [],
   "source": [
    "import numpy as np\n",
    "import pandas as pd\n",
    "import matplotlib.pyplot as plt\n",
    "from smt.sampling_methods import LHS\n",
    "from scipy.stats import norm\n",
    "\n",
    "# Improved LHS sampling\n",
    "def improved_lhs_sampling(NUM):\n",
    "    \"\"\"\n",
    "    Improved parameter generation based on moneyness, volatility, maturity, and rate.\n",
    "\n",
    "    Returns:\n",
    "    - DataFrame with sampled parameters\n",
    "    \"\"\"\n",
    "    bounds = {\n",
    "        'moneyness': [0.9, 1.1],  # S0/K ratio\n",
    "        'Sigma'    : [0.1, 0.8],  # volatility\n",
    "        'T'        : [1./12., 2.0],  # time to maturity\n",
    "        'r'        : [0.0, 0.0], # interest rate\n",
    "    }\n",
    "    \n",
    "    # List of keys\n",
    "    kw = list(bounds)\n",
    "    \n",
    "    # Build limits array\n",
    "    limits = np.array([bounds[k] for k in kw])\n",
    "    \n",
    "    # LHS sampling\n",
    "    sampling = LHS(xlimits=limits)\n",
    "    x = sampling(NUM)\n",
    "\n",
    "    # Create DataFrame\n",
    "    X = pd.DataFrame()\n",
    "    for n in range(len(kw)):\n",
    "        tag = kw[n]\n",
    "        X[tag] = x[:, n]\n",
    "\n",
    "    return X\n",
    "\n",
    "# Simple Black-Scholes call price function (assuming K=1)\n",
    "def bs_call_price(S0, K, r, sigma, tau):\n",
    "    if sigma * np.sqrt(tau) < 1e-10:\n",
    "        return max(S0 - K * np.exp(-r * tau), 0.0)\n",
    "    d1 = (np.log(S0 / K) + (r + 0.5 * sigma ** 2) * tau) / (sigma * np.sqrt(tau))\n",
    "    d2 = d1 - sigma * np.sqrt(tau)\n",
    "    call_price = S0 * norm.cdf(d1) - K * np.exp(-r * tau) * norm.cdf(d2)\n",
    "    return call_price\n",
    "\n",
    "# Now, generate samples\n",
    "NUM_SAMPLES = 100000\n",
    "samples = improved_lhs_sampling(NUM_SAMPLES)\n",
    "\n",
    "# Assume S0 = 1 for simplicity\n",
    "samples['K'] = 1.0 / samples['moneyness']\n",
    "\n",
    "# Compute Black-Scholes call prices\n",
    "samples['Price'] = samples.apply(lambda row: bs_call_price(1.0, row['K'], row['r'], row['Sigma'], row['T']), axis=1)\n",
    "\n",
    "# Plot the histogram of generated call prices\n",
    "plt.figure(figsize=(10, 5))\n",
    "plt.hist(samples['Price'], bins=100, color='blue', edgecolor='k')\n",
    "plt.title('Training Set (Improved Parameter Generation)')\n",
    "plt.xlabel('BS Price')\n",
    "plt.ylabel('Frequency')\n",
    "plt.grid(True)\n",
    "plt.show()"
   ]
  },
  {
   "cell_type": "code",
   "execution_count": null,
   "id": "47fa30d5",
   "metadata": {},
   "outputs": [],
   "source": [
    "samples.head()"
   ]
  },
  {
   "cell_type": "code",
   "execution_count": null,
   "id": "b58736e4",
   "metadata": {},
   "outputs": [],
   "source": [
    "X_train_2, X_test_2 = train_test_split(samples, test_size=0.33, random_state=42)\n",
    "print(len(X_train_2), len(X_test_2))\n",
    "X_train_2.head()"
   ]
  },
  {
   "cell_type": "code",
   "execution_count": null,
   "id": "9a15fa28",
   "metadata": {},
   "outputs": [],
   "source": [
    "y_train_2 = X_train_2['Price']\n",
    "y_test_2  = X_test_2['Price']"
   ]
  },
  {
   "cell_type": "code",
   "execution_count": null,
   "id": "b83fbaf4",
   "metadata": {},
   "outputs": [],
   "source": [
    "X_train_2 = X_train_2.drop(['Price', 'moneyness', 'r'], axis=1)\n",
    "X_test_2  = X_test_2.drop(['Price', 'moneyness', 'r'], axis=1)\n",
    "X_train_2.head()"
   ]
  },
  {
   "cell_type": "code",
   "execution_count": null,
   "id": "43cd563d",
   "metadata": {},
   "outputs": [],
   "source": [
    "print(X_train_2.shape)\n",
    "print(X_test_2.shape)\n",
    "print(y_train_2.shape)\n",
    "print(y_test_2.shape)"
   ]
  },
  {
   "cell_type": "code",
   "execution_count": null,
   "id": "bfbd9971",
   "metadata": {},
   "outputs": [],
   "source": [
    "frames = [X_train_2, X_test_2]\n",
    "X_2 = pd.concat(frames)\n",
    "\n",
    "frames = [y_train_2, y_test_2]\n",
    "Y_2= pd.concat(frames)"
   ]
  },
  {
   "cell_type": "code",
   "execution_count": null,
   "id": "865ad4f3",
   "metadata": {},
   "outputs": [],
   "source": [
    "# Fit the model\n",
    "history = model.fit(X_2, Y_2, validation_split=0.33, epochs=25, verbose=0)"
   ]
  },
  {
   "cell_type": "code",
   "execution_count": null,
   "id": "03736824",
   "metadata": {},
   "outputs": [],
   "source": [
    "import warnings\n",
    "warnings.simplefilter('ignore')\n",
    "\n",
    "display_nn_results(model, X_train_2, X_test_2, y_train_2, y_test_2, resFile='training_2.png')"
   ]
  },
  {
   "cell_type": "code",
   "execution_count": null,
   "id": "25ef52b5",
   "metadata": {},
   "outputs": [],
   "source": [
    "# Set fixed y-axis limits\n",
    "Y_MIN = 0.0     # Typically zero for loss/MAE\n",
    "Y_MAX_1 = 0.02    # Example: 2% MAE, you can adapt based on your expected errors\n",
    "Y_MAX_2 = 0.001\n",
    "\n",
    "# Plot MAE\n",
    "plt.figure(figsize=(5,3))\n",
    "plt.plot(history.history['mae'], label='Training MAE')\n",
    "plt.plot(history.history['val_mae'], label='Validation MAE')\n",
    "plt.title('Model Mean Absolute Error')\n",
    "plt.ylabel('MAE')\n",
    "plt.xlabel('Epoch')\n",
    "plt.legend()\n",
    "plt.grid(True)\n",
    "plt.ylim([Y_MIN, Y_MAX_1])  # <- Fix y-axis\n",
    "plt.show()\n",
    "\n",
    "# Plot Loss\n",
    "plt.figure(figsize=(5,3))\n",
    "plt.plot(history.history['loss'], label='Training Loss')\n",
    "plt.plot(history.history['val_loss'], label='Validation Loss')\n",
    "plt.title('Model Loss')\n",
    "plt.ylabel('Loss')\n",
    "plt.xlabel('Epoch')\n",
    "plt.legend()\n",
    "plt.grid(True)\n",
    "plt.ylim([Y_MIN, Y_MAX_2])  # <- Fix y-axis\n",
    "plt.show()\n"
   ]
  },
  {
   "cell_type": "markdown",
   "id": "2d6e7fa1",
   "metadata": {
    "id": "2d6e7fa1"
   },
   "source": [
    "## Saving the Model"
   ]
  },
  {
   "cell_type": "code",
   "execution_count": null,
   "id": "f37216cc",
   "metadata": {
    "colab": {
     "base_uri": "https://localhost:8080/"
    },
    "executionInfo": {
     "elapsed": 1657,
     "status": "ok",
     "timestamp": 1651849358625,
     "user": {
      "displayName": "Giovanni Della Lunga",
      "userId": "13927304036683734865"
     },
     "user_tz": -120
    },
    "id": "f37216cc",
    "outputId": "02f5f612-6f2f-4551-d33c-cc7c9fb5b003"
   },
   "outputs": [],
   "source": [
    "TAG        = 'bs-0100000-050-T'\n",
    "mdlDir     = \"model_%s.keras\" %(TAG)\n",
    "\n",
    "\n",
    "model.save(mdlDir)\n",
    "print(\"@ %-24s: model saved to '%s'\" %(\"Info\", mdlDir))  "
   ]
  },
  {
   "cell_type": "markdown",
   "id": "acd1cb77",
   "metadata": {
    "id": "jHdyxj1t5OBR"
   },
   "source": [
    "## Appendix"
   ]
  },
  {
   "cell_type": "markdown",
   "id": "3a9a112b",
   "metadata": {},
   "source": [
    "### Why is $ M_T $ a martingale?\n",
    "\n",
    "$ M_T $ is defined as:\n",
    "\n",
    "$$\n",
    "M_T := \\frac{e^{-r(T-t)} S_T}{S_t}\n",
    "$$\n",
    "\n",
    "Now we check if $ (M_u)_{u \\geq t} $ is a martingale under the risk-neutral measure $ \\mathbb{Q} $.\n",
    "\n",
    "**Recall**:\n",
    "\n",
    "Under $ \\mathbb{Q} $, the discounted stock price $ (e^{-r(u-t)} S_u) $ is a martingale.\n",
    "\n",
    "That is:\n",
    "\n",
    "$$\n",
    "\\mathbb{E}^\\mathbb{Q} \\left[ e^{-r(u'-t)} S_{u'} \\, \\big| \\, \\mathcal{F}_u \\right] = e^{-r(u-t)} S_u\n",
    "\\quad \\text{for all} \\quad t \\leq u \\leq u'\n",
    "$$\n",
    "\n",
    "Thus, if we define:\n",
    "\n",
    "$$\n",
    "M_u := \\frac{e^{-r(u-t)} S_u}{S_t}\n",
    "$$\n",
    "\n",
    "then:\n",
    "\n",
    "$$\n",
    "\\mathbb{E}^\\mathbb{Q} \\left[ M_{u'} \\, \\big| \\, \\mathcal{F}_u \\right]\n",
    "= \\mathbb{E}^\\mathbb{Q} \\left[ \\frac{e^{-r(u'-t)} S_{u'}}{S_t} \\, \\bigg| \\, \\mathcal{F}_u \\right]\n",
    "= \\frac{1}{S_t} \\mathbb{E}^\\mathbb{Q} \\left[ e^{-r(u'-t)} S_{u'} \\, \\big| \\, \\mathcal{F}_u \\right]\n",
    "$$\n",
    "\n",
    "but since $ e^{-r(u'-t)} S_{u'} $ is a martingale:\n",
    "\n",
    "$$\n",
    "= \\frac{1}{S_t} e^{-r(u-t)} S_u\n",
    "= e^{-r(u-t)} \\frac{S_u}{S_t}\n",
    "= M_u\n",
    "$$\n",
    "\n",
    "Thus:\n",
    "$$\n",
    "\\mathbb{E}^\\mathbb{Q}[M_{u'}|\\mathcal{F}_u] = M_u\n",
    "$$\n",
    "\n",
    "meaning $ (M_u)_{u \\geq t} $ is a **martingale**."
   ]
  },
  {
   "cell_type": "markdown",
   "id": "bde58c10",
   "metadata": {},
   "source": [
    "### Why do we say “martingale with zero interest rate”?\n",
    "\n",
    "\n",
    "Under the **risk-neutral measure** $ \\mathbb{Q} $, it is a **basic fact** from financial theory that:\n",
    "\n",
    "$$\n",
    "\\left( e^{-r(u-t)} S_u \\right)_{u \\geq t} \\quad \\text{is a martingale}.\n",
    "$$\n",
    "\n",
    "**Why?**\n",
    "\n",
    "Because under $ \\mathbb{Q} $, $ S_u $ follows:\n",
    "\n",
    "$$\n",
    "dS_u = r S_u \\, du + \\sigma S_u \\, dW_u^\\mathbb{Q}\n",
    "$$\n",
    "\n",
    "and the process $ e^{-r(u-t)} S_u $ has exactly the drift term that cancels the risk-free rate $ r $.\n",
    "\n",
    "When you compute $ d(e^{-r(u-t)} S_u) $ using Itô's lemma, you get:\n",
    "\n",
    "$$\n",
    "d(e^{-r(u-t)} S_u) = e^{-r(u-t)} \\sigma S_u \\, dW_u^\\mathbb{Q}\n",
    "$$\n",
    "\n",
    "**no drift term** → it's a local martingale → and under mild conditions on $ S_u $, it's a true martingale.\n",
    "\n",
    "Thus:\n",
    "\n",
    "$$\n",
    "\\mathbb{E}^\\mathbb{Q}\\left[ e^{-r(u'-t)} S_{u'} \\,|\\, \\mathcal{F}_u \\right] = e^{-r(u-t)} S_u\n",
    "\\quad \\text{for all} \\quad t \\leq u \\leq u'\n",
    "$$\n",
    "\n",
    "Now, $ M_u $ is just $ e^{-r(u-t)} S_u $ normalized by $ S_t $\n",
    "\n",
    "We have:\n",
    "\n",
    "$$\n",
    "M_u = \\frac{e^{-r(u-t)} S_u}{S_t}\n",
    "$$\n",
    "\n",
    "Since $ S_t $ is **known** at time $ t $ (deterministic from the viewpoint of $ t $), dividing by $ S_t $ is just scaling by a constant.\n",
    "\n",
    "Thus, if $ e^{-r(u-t)} S_u $ is a martingale, **then $ M_u $ is a martingale too** (because multiplying/dividing by a constant preserves the martingale property).\n",
    "\n",
    "$ M_u $ behaves like the **price process** of an asset that:\n",
    "\n",
    "- starts at $ M_t = 1 $,\n",
    "- has **no drift**,\n",
    "- only has volatility $ \\sigma $,\n",
    "- evolves according to a pure geometric Brownian motion **without any risk-free rate adjustment**.\n",
    "\n",
    "Meaning: it’s as if the underlying asset $ M_u $ evolves in a market where $ r = 0 $.\n",
    "\n",
    "Specifically, $ M_u $ satisfies a **pure diffusion** SDE:\n",
    "\n",
    "$$\n",
    "dM_u = \\sigma M_u \\, dW_u^\\mathbb{Q}\n",
    "$$\n",
    "\n",
    "(no $ r $ term, no drift, only randomness from $ dW_u^\\mathbb{Q} $).\n",
    "\n",
    "In that world:\n",
    "\n",
    "- The discounted price is the same as the non-discounted price (because $ r=0 $),\n",
    "- You don’t need to adjust cash flows by $ e^{-r(T-t)} $.\n",
    "\n",
    "Thus, **$ M_u $ is a martingale in a world where the interest rate is 0**."
   ]
  },
  {
   "cell_type": "code",
   "execution_count": null,
   "id": "8024d532",
   "metadata": {},
   "outputs": [],
   "source": []
  }
 ],
 "metadata": {
  "colab": {
   "collapsed_sections": [],
   "name": "chapter-2-1.ipynb",
   "provenance": [
    {
     "file_id": "https://github.com/polyhedron-gdl/advanced-machine-learning-for-finance/blob/main/2022/1-notebooks/chapter-2-1.ipynb",
     "timestamp": 1651847032020
    }
   ]
  },
  "kernelspec": {
   "display_name": "Python 3 (ipykernel)",
   "language": "python",
   "name": "python3"
  },
  "language_info": {
   "codemirror_mode": {
    "name": "ipython",
    "version": 3
   },
   "file_extension": ".py",
   "mimetype": "text/x-python",
   "name": "python",
   "nbconvert_exporter": "python",
   "pygments_lexer": "ipython3",
   "version": "3.10.9"
  },
  "toc": {
   "base_numbering": 1,
   "nav_menu": {},
   "number_sections": true,
   "sideBar": true,
   "skip_h1_title": false,
   "title_cell": "Table of Contents",
   "title_sidebar": "Contents",
   "toc_cell": false,
   "toc_position": {},
   "toc_section_display": true,
   "toc_window_display": false
  }
 },
 "nbformat": 4,
 "nbformat_minor": 5
}
