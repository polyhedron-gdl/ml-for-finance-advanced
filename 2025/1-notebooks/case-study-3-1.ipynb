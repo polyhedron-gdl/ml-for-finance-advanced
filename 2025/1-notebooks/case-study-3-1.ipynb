{
 "cells": [
  {
   "cell_type": "markdown",
   "id": "80023247",
   "metadata": {},
   "source": [
    "# Case Study: Fraud detection using Autoencoders in Keras"
   ]
  },
  {
   "cell_type": "markdown",
   "id": "1845c68b",
   "metadata": {},
   "source": [
    "## General Setup"
   ]
  },
  {
   "cell_type": "code",
   "execution_count": 1,
   "id": "722858dd",
   "metadata": {},
   "outputs": [],
   "source": [
    "# Import required packages\n",
    "# matplotlib inline\n",
    "import pandas as pd\n",
    "import numpy as np\n",
    "from scipy import stats\n",
    "import tensorflow as tf\n",
    "import matplotlib.pyplot as plt\n",
    "import seaborn as sns\n",
    "import pickle\n",
    "from sklearn.model_selection import train_test_split\n",
    "from sklearn.metrics import confusion_matrix, precision_recall_curve\n",
    "from sklearn.metrics import recall_score, classification_report, auc, roc_curve\n",
    "from sklearn.metrics import precision_recall_fscore_support, f1_score\n",
    "from sklearn.preprocessing import StandardScaler\n",
    "from pylab import rcParams\n",
    "from keras.models import Model, load_model\n",
    "from keras.layers import Input, Dense\n",
    "from keras.callbacks import ModelCheckpoint, TensorBoard\n",
    "from keras import regularizers"
   ]
  },
  {
   "cell_type": "code",
   "execution_count": 2,
   "id": "f0087109",
   "metadata": {},
   "outputs": [],
   "source": [
    "#set random seed and percentage of test data\n",
    "RANDOM_SEED = 314 #used to help randomly select the data points\n",
    "TEST_PCT = 0.2 # 20% of the data"
   ]
  },
  {
   "cell_type": "code",
   "execution_count": 3,
   "id": "cf92902d",
   "metadata": {},
   "outputs": [],
   "source": [
    "#set up graphic style (color scheme from xkcd.com)\n",
    "rcParams['figure.figsize'] = 14, 8.7 # Golden Mean\n",
    "LABELS = [\"Normal\",\"Fraud\"]\n",
    "\n",
    "col_list = [\"cerulean\",\"scarlet\"]# https://xkcd.com/color/rgb/\n",
    "sns.set(style='white', font_scale=1.75)\n",
    "sns.set_palette(sns.xkcd_palette(col_list))"
   ]
  },
  {
   "cell_type": "markdown",
   "id": "7bcd0c4a",
   "metadata": {},
   "source": [
    "## Description of the \"Credit Card Fraud Detection\" Dataset (Kaggle)\n",
    "\n",
    "The \"Credit Card Fraud Detection\" dataset from Kaggle is a widely used benchmark for evaluating fraud detection systems. It contains transactions made by European cardholders over two days in September 2013. The dataset includes **284,807 transactions**, of which **492 are fraudulent**, resulting in a highly **imbalanced dataset** (only about 0.172% fraud cases).\n",
    "\n",
    "**Key Features:**\n",
    "- **Time**: The number of seconds elapsed between the first transaction in the dataset and the current transaction.\n",
    "- **V1 to V28**: These are the result of a **PCA (Principal Component Analysis) transformation** applied to the original features for confidentiality reasons. The original features (like merchant name, location, etc.) are not included to protect sensitive information.\n",
    "- **Amount**: The transaction amount, which can be useful for modeling.\n",
    "- **Class**: The target variable. It takes the value **1** in case of fraud and **0** otherwise.\n",
    "\n",
    "**Important Characteristics:**\n",
    "- **Strong class imbalance**: Most machine learning models must be adapted or tuned (e.g., via resampling techniques or specialized loss functions) to handle the rare positive (fraud) cases.\n",
    "- **PCA-transformed features**: No direct interpretation of the individual V1–V28 components is possible, but patterns can still be learned by models.\n",
    "- **Real-world relevance**: Despite anonymization, the dataset reflects the challenges of detecting fraud in real transaction flows.\n",
    "\n",
    "**Common Uses:**\n",
    "- Testing anomaly detection algorithms.\n",
    "- Experimenting with sampling strategies (e.g., SMOTE, undersampling).\n",
    "- Benchmarking classification models, especially under imbalanced conditions.\n",
    "- Studying precision-recall tradeoffs rather than focusing only on accuracy."
   ]
  },
  {
   "cell_type": "markdown",
   "id": "6f2b690d",
   "metadata": {},
   "source": [
    "## Import and Check Data"
   ]
  },
  {
   "cell_type": "code",
   "execution_count": 4,
   "id": "176121d5",
   "metadata": {},
   "outputs": [],
   "source": [
    "df = pd.read_csv(\"C:/DATA/creditcard.csv\")"
   ]
  },
  {
   "cell_type": "code",
   "execution_count": 5,
   "id": "b50f2574",
   "metadata": {},
   "outputs": [
    {
     "data": {
      "text/html": [
       "<div>\n",
       "<style scoped>\n",
       "    .dataframe tbody tr th:only-of-type {\n",
       "        vertical-align: middle;\n",
       "    }\n",
       "\n",
       "    .dataframe tbody tr th {\n",
       "        vertical-align: top;\n",
       "    }\n",
       "\n",
       "    .dataframe thead th {\n",
       "        text-align: right;\n",
       "    }\n",
       "</style>\n",
       "<table border=\"1\" class=\"dataframe\">\n",
       "  <thead>\n",
       "    <tr style=\"text-align: right;\">\n",
       "      <th></th>\n",
       "      <th>Time</th>\n",
       "      <th>V1</th>\n",
       "      <th>V2</th>\n",
       "      <th>V3</th>\n",
       "      <th>V4</th>\n",
       "      <th>V5</th>\n",
       "      <th>V6</th>\n",
       "      <th>V7</th>\n",
       "      <th>V8</th>\n",
       "      <th>V9</th>\n",
       "      <th>...</th>\n",
       "      <th>V21</th>\n",
       "      <th>V22</th>\n",
       "      <th>V23</th>\n",
       "      <th>V24</th>\n",
       "      <th>V25</th>\n",
       "      <th>V26</th>\n",
       "      <th>V27</th>\n",
       "      <th>V28</th>\n",
       "      <th>Amount</th>\n",
       "      <th>Class</th>\n",
       "    </tr>\n",
       "  </thead>\n",
       "  <tbody>\n",
       "    <tr>\n",
       "      <th>0</th>\n",
       "      <td>0.0</td>\n",
       "      <td>-1.359807</td>\n",
       "      <td>-0.072781</td>\n",
       "      <td>2.536347</td>\n",
       "      <td>1.378155</td>\n",
       "      <td>-0.338321</td>\n",
       "      <td>0.462388</td>\n",
       "      <td>0.239599</td>\n",
       "      <td>0.098698</td>\n",
       "      <td>0.363787</td>\n",
       "      <td>...</td>\n",
       "      <td>-0.018307</td>\n",
       "      <td>0.277838</td>\n",
       "      <td>-0.110474</td>\n",
       "      <td>0.066928</td>\n",
       "      <td>0.128539</td>\n",
       "      <td>-0.189115</td>\n",
       "      <td>0.133558</td>\n",
       "      <td>-0.021053</td>\n",
       "      <td>149.62</td>\n",
       "      <td>0</td>\n",
       "    </tr>\n",
       "    <tr>\n",
       "      <th>1</th>\n",
       "      <td>0.0</td>\n",
       "      <td>1.191857</td>\n",
       "      <td>0.266151</td>\n",
       "      <td>0.166480</td>\n",
       "      <td>0.448154</td>\n",
       "      <td>0.060018</td>\n",
       "      <td>-0.082361</td>\n",
       "      <td>-0.078803</td>\n",
       "      <td>0.085102</td>\n",
       "      <td>-0.255425</td>\n",
       "      <td>...</td>\n",
       "      <td>-0.225775</td>\n",
       "      <td>-0.638672</td>\n",
       "      <td>0.101288</td>\n",
       "      <td>-0.339846</td>\n",
       "      <td>0.167170</td>\n",
       "      <td>0.125895</td>\n",
       "      <td>-0.008983</td>\n",
       "      <td>0.014724</td>\n",
       "      <td>2.69</td>\n",
       "      <td>0</td>\n",
       "    </tr>\n",
       "    <tr>\n",
       "      <th>2</th>\n",
       "      <td>1.0</td>\n",
       "      <td>-1.358354</td>\n",
       "      <td>-1.340163</td>\n",
       "      <td>1.773209</td>\n",
       "      <td>0.379780</td>\n",
       "      <td>-0.503198</td>\n",
       "      <td>1.800499</td>\n",
       "      <td>0.791461</td>\n",
       "      <td>0.247676</td>\n",
       "      <td>-1.514654</td>\n",
       "      <td>...</td>\n",
       "      <td>0.247998</td>\n",
       "      <td>0.771679</td>\n",
       "      <td>0.909412</td>\n",
       "      <td>-0.689281</td>\n",
       "      <td>-0.327642</td>\n",
       "      <td>-0.139097</td>\n",
       "      <td>-0.055353</td>\n",
       "      <td>-0.059752</td>\n",
       "      <td>378.66</td>\n",
       "      <td>0</td>\n",
       "    </tr>\n",
       "    <tr>\n",
       "      <th>3</th>\n",
       "      <td>1.0</td>\n",
       "      <td>-0.966272</td>\n",
       "      <td>-0.185226</td>\n",
       "      <td>1.792993</td>\n",
       "      <td>-0.863291</td>\n",
       "      <td>-0.010309</td>\n",
       "      <td>1.247203</td>\n",
       "      <td>0.237609</td>\n",
       "      <td>0.377436</td>\n",
       "      <td>-1.387024</td>\n",
       "      <td>...</td>\n",
       "      <td>-0.108300</td>\n",
       "      <td>0.005274</td>\n",
       "      <td>-0.190321</td>\n",
       "      <td>-1.175575</td>\n",
       "      <td>0.647376</td>\n",
       "      <td>-0.221929</td>\n",
       "      <td>0.062723</td>\n",
       "      <td>0.061458</td>\n",
       "      <td>123.50</td>\n",
       "      <td>0</td>\n",
       "    </tr>\n",
       "    <tr>\n",
       "      <th>4</th>\n",
       "      <td>2.0</td>\n",
       "      <td>-1.158233</td>\n",
       "      <td>0.877737</td>\n",
       "      <td>1.548718</td>\n",
       "      <td>0.403034</td>\n",
       "      <td>-0.407193</td>\n",
       "      <td>0.095921</td>\n",
       "      <td>0.592941</td>\n",
       "      <td>-0.270533</td>\n",
       "      <td>0.817739</td>\n",
       "      <td>...</td>\n",
       "      <td>-0.009431</td>\n",
       "      <td>0.798278</td>\n",
       "      <td>-0.137458</td>\n",
       "      <td>0.141267</td>\n",
       "      <td>-0.206010</td>\n",
       "      <td>0.502292</td>\n",
       "      <td>0.219422</td>\n",
       "      <td>0.215153</td>\n",
       "      <td>69.99</td>\n",
       "      <td>0</td>\n",
       "    </tr>\n",
       "  </tbody>\n",
       "</table>\n",
       "<p>5 rows × 31 columns</p>\n",
       "</div>"
      ],
      "text/plain": [
       "   Time        V1        V2        V3        V4        V5        V6        V7  \\\n",
       "0   0.0 -1.359807 -0.072781  2.536347  1.378155 -0.338321  0.462388  0.239599   \n",
       "1   0.0  1.191857  0.266151  0.166480  0.448154  0.060018 -0.082361 -0.078803   \n",
       "2   1.0 -1.358354 -1.340163  1.773209  0.379780 -0.503198  1.800499  0.791461   \n",
       "3   1.0 -0.966272 -0.185226  1.792993 -0.863291 -0.010309  1.247203  0.237609   \n",
       "4   2.0 -1.158233  0.877737  1.548718  0.403034 -0.407193  0.095921  0.592941   \n",
       "\n",
       "         V8        V9  ...       V21       V22       V23       V24       V25  \\\n",
       "0  0.098698  0.363787  ... -0.018307  0.277838 -0.110474  0.066928  0.128539   \n",
       "1  0.085102 -0.255425  ... -0.225775 -0.638672  0.101288 -0.339846  0.167170   \n",
       "2  0.247676 -1.514654  ...  0.247998  0.771679  0.909412 -0.689281 -0.327642   \n",
       "3  0.377436 -1.387024  ... -0.108300  0.005274 -0.190321 -1.175575  0.647376   \n",
       "4 -0.270533  0.817739  ... -0.009431  0.798278 -0.137458  0.141267 -0.206010   \n",
       "\n",
       "        V26       V27       V28  Amount  Class  \n",
       "0 -0.189115  0.133558 -0.021053  149.62      0  \n",
       "1  0.125895 -0.008983  0.014724    2.69      0  \n",
       "2 -0.139097 -0.055353 -0.059752  378.66      0  \n",
       "3 -0.221929  0.062723  0.061458  123.50      0  \n",
       "4  0.502292  0.219422  0.215153   69.99      0  \n",
       "\n",
       "[5 rows x 31 columns]"
      ]
     },
     "execution_count": 5,
     "metadata": {},
     "output_type": "execute_result"
    }
   ],
   "source": [
    "df.head(5)"
   ]
  },
  {
   "cell_type": "code",
   "execution_count": 6,
   "id": "32f73ce9",
   "metadata": {},
   "outputs": [
    {
     "data": {
      "text/plain": [
       "(284807, 31)"
      ]
     },
     "execution_count": 6,
     "metadata": {},
     "output_type": "execute_result"
    }
   ],
   "source": [
    "df.shape"
   ]
  },
  {
   "cell_type": "code",
   "execution_count": 7,
   "id": "18b7a118",
   "metadata": {},
   "outputs": [
    {
     "data": {
      "text/plain": [
       "0"
      ]
     },
     "execution_count": 7,
     "metadata": {},
     "output_type": "execute_result"
    }
   ],
   "source": [
    "# No of null values in dataset\n",
    "df.isnull().values.sum()"
   ]
  },
  {
   "cell_type": "markdown",
   "id": "d044a4cc",
   "metadata": {},
   "source": [
    "Indeed the data seems to be cleaned and loaded as we expect. Now we want to check if we have the expected number of normal and fraudulent rows of data. We will simply pull the \"Class\" column and count the number of normal (0) and fraud (1) rows."
   ]
  },
  {
   "cell_type": "code",
   "execution_count": 8,
   "id": "51555e12",
   "metadata": {},
   "outputs": [
    {
     "data": {
      "text/plain": [
       "Class\n",
       "0    284315\n",
       "1       492\n",
       "Name: count, dtype: int64"
      ]
     },
     "execution_count": 8,
     "metadata": {},
     "output_type": "execute_result"
    }
   ],
   "source": [
    "pd.Series(df['Class']).value_counts(sort=True)"
   ]
  },
  {
   "cell_type": "markdown",
   "id": "01eacee6",
   "metadata": {},
   "source": [
    "The counts are as expected (284,315 normal transactions and 492 fraud transactions). As is typical in fraud and anomaly detection in general, this is a very unbalanced dataset.\n",
    "\n",
    "We will cut up the dataset into two data frames, one for normal transactions and the other for fraud"
   ]
  },
  {
   "cell_type": "code",
   "execution_count": 9,
   "id": "93285737",
   "metadata": {},
   "outputs": [],
   "source": [
    "normal_df = df[df['Class']==0]\n",
    "fraud_df  = df[df['Class']==1]"
   ]
  },
  {
   "cell_type": "markdown",
   "id": "11501f0a",
   "metadata": {},
   "source": [
    "**Summary Statistics of the Transaction Amount Data**"
   ]
  },
  {
   "cell_type": "code",
   "execution_count": 10,
   "id": "aa6a3c6d",
   "metadata": {},
   "outputs": [
    {
     "data": {
      "text/plain": [
       "count    284315.000000\n",
       "mean         88.291022\n",
       "std         250.105092\n",
       "min           0.000000\n",
       "25%           5.650000\n",
       "50%          22.000000\n",
       "75%          77.050000\n",
       "max       25691.160000\n",
       "Name: Amount, dtype: float64"
      ]
     },
     "execution_count": 10,
     "metadata": {},
     "output_type": "execute_result"
    }
   ],
   "source": [
    "normal_df.Amount.describe()"
   ]
  },
  {
   "cell_type": "code",
   "execution_count": 11,
   "id": "c974421b",
   "metadata": {},
   "outputs": [
    {
     "data": {
      "text/plain": [
       "count     492.000000\n",
       "mean      122.211321\n",
       "std       256.683288\n",
       "min         0.000000\n",
       "25%         1.000000\n",
       "50%         9.250000\n",
       "75%       105.890000\n",
       "max      2125.870000\n",
       "Name: Amount, dtype: float64"
      ]
     },
     "execution_count": 11,
     "metadata": {},
     "output_type": "execute_result"
    }
   ],
   "source": [
    "fraud_df.Amount.describe()"
   ]
  },
  {
   "cell_type": "markdown",
   "id": "f4353e67",
   "metadata": {},
   "source": [
    "Although the mean is a little higher in the fraud transactions, it is certainly within a standard deviation and so is unlikely to be easy to discriminate in a highly precise manner between the classes with pure statistical methods."
   ]
  },
  {
   "cell_type": "markdown",
   "id": "5834b734",
   "metadata": {},
   "source": [
    "## Visual Exploration of the Transaction Amount Data"
   ]
  },
  {
   "cell_type": "markdown",
   "id": "6dc8aa42",
   "metadata": {},
   "source": [
    "In anomaly detection datasets it is common to have the areas of interest \"washed out\" by abundant data. In this dataset, a lot of low-value transactions that will be generally uninteresting (buying cups of coffee, lunches, etc). This abundant data is likely to wash out the rest of the data, so looking at transactions which are $200+"
   ]
  },
  {
   "cell_type": "code",
   "execution_count": 12,
   "id": "7b98055f",
   "metadata": {},
   "outputs": [
    {
     "data": {
      "image/png": "[encoded data removed]",
      "text/plain": [
       "<Figure size 700x400 with 1 Axes>"
      ]
     },
     "metadata": {},
     "output_type": "display_data"
    }
   ],
   "source": [
    "# Define bins for the histogram:\n",
    "# Create 100 evenly spaced values between $200 and $2500.\n",
    "# These bins will define the ranges for transaction amounts in the histograms.\n",
    "bins = np.linspace(200, 2500, 100)\n",
    "\n",
    "# Set the figure size for the plot\n",
    "plt.figure(figsize=(7, 4))\n",
    "\n",
    "# Plot histogram for normal (non-fraudulent) transactions:\n",
    "# - 'Amount' column from the normal transactions dataframe (normal_df).\n",
    "# - Use the previously defined bins.\n",
    "# - 'alpha=1' means fully opaque.\n",
    "# - 'density=True' normalizes the histogram so the total area equals 1 (useful for comparing distributions).\n",
    "# - 'label' sets the label that will appear in the legend.\n",
    "plt.hist(normal_df.Amount, bins, alpha=1, density=True, label='Normal')\n",
    "\n",
    "# Plot histogram for fraudulent transactions:\n",
    "# - 'Amount' column from the fraud transactions dataframe (fraud_df).\n",
    "# - Same bins as above for direct comparison.\n",
    "# - 'alpha=0.6' makes this plot slightly transparent (easier to compare overlapping areas).\n",
    "# - 'density=True' again normalizes the histogram.\n",
    "# - 'label' identifies the curve as representing fraud cases.\n",
    "plt.hist(fraud_df.Amount, bins, alpha=0.6, density=True, label='Fraud')\n",
    "\n",
    "# Add a legend in the upper right corner to differentiate 'Normal' and 'Fraud' plots\n",
    "plt.legend(loc='upper right', fontsize=10)\n",
    "# Set the title of the plot\n",
    "plt.title(\"Amount by percentage of transactions (transactions \\$200+)\", fontsize=10)\n",
    "# Set the x-axis label\n",
    "plt.xlabel(\"Transaction amount (USD)\", fontsize=10)\n",
    "# Set the y-axis label\n",
    "plt.ylabel(\"Percentage of transactions (%)\", fontsize=10)\n",
    "plt.xticks(fontsize=10)   # X-axis ticks font size\n",
    "plt.yticks(fontsize=10)   # Y-axis ticks font size\n",
    "# Display the plot\n",
    "plt.show()"
   ]
  },
  {
   "cell_type": "markdown",
   "id": "8775d308",
   "metadata": {},
   "source": [
    "Since the fraud cases are relatively few in number compared to bin size, we see the data looks predictably more variable. In the long tail, especially, we are likely observing only a single fraud transaction. ***It would be hard to differentiate fraud from normal transactions by transaction amount alone***."
   ]
  },
  {
   "cell_type": "code",
   "execution_count": 13,
   "id": "826e9a52",
   "metadata": {},
   "outputs": [
    {
     "data": {
      "image/png": "[encoded data removed]",
      "text/plain": [
       "<Figure size 700x400 with 1 Axes>"
      ]
     },
     "metadata": {},
     "output_type": "display_data"
    }
   ],
   "source": [
    "bins = np.linspace(0, 48, 48) #48 hours\n",
    "plt.figure(figsize=(7, 4))\n",
    "plt.hist((normal_df.Time/(60*60)), bins, alpha=1, density=True, label='Normal')\n",
    "plt.hist((fraud_df.Time/(60*60)), bins, alpha=0.6, density=True, label='Fraud')\n",
    "plt.legend(loc='upper right', fontsize=10)\n",
    "plt.title(\"Percentage of transactions by hour\", fontsize=10)\n",
    "plt.xlabel(\"Transaction time as measured from first transaction in the dataset (hours)\", fontsize=10)\n",
    "plt.ylabel(\"Percentage of transactions (%)\", fontsize=10);\n",
    "# plt.hist((df.Time/(60*60)),bins)\n",
    "plt.xticks(fontsize=10)   # X-axis ticks font size\n",
    "plt.yticks(fontsize=10)   # Y-axis ticks font size\n",
    "\n",
    "plt.show()"
   ]
  },
  {
   "cell_type": "markdown",
   "id": "cadc22c0",
   "metadata": {},
   "source": [
    "Hour \"zero\" corresponds to the hour the first transaction happened and not necessarily 12-1am. Given the heavy decrease in normal transactions from hours 1 to 8 and again roughly at hours 24 to 32, we can assume those time correspond to nighttime for this dataset. If this is true, fraud tends to occur at higher rates during the night. Statistical tests could be used to give evidence for this fact, but are not in the scope of this article. Again, however, ***the potential time offset between normal and fraud transactions is not enough to make a simple, precise classifier***."
   ]
  },
  {
   "cell_type": "markdown",
   "id": "b222631c",
   "metadata": {},
   "source": [
    "## Using Autoencoder\n",
    "\n",
    "### Normalize and Scale Data¶\n",
    "\n",
    "Both time and amount have very different magnitudes, which will likely result in the large magnitude value \"washing out\" the small magnitude value. It is therefore common to scale the data to similar magnitudes. As most of the data (other than 'time' and 'amount') result from the product of a PCA analysis. The PCA done on the dataset transformed it into standard-normal form. We will do the same to the 'time' and 'amount' columns."
   ]
  },
  {
   "cell_type": "code",
   "execution_count": 14,
   "id": "bdfc5891",
   "metadata": {},
   "outputs": [],
   "source": [
    "df_norm = df.copy()\n",
    "# Reshape your data either using array.reshape(-1, 1) if your data has a single feature\n",
    "# or array.reshape(1, -1) if it contains a single sample.\n",
    "df_norm['Time'] = StandardScaler().fit_transform(df_norm['Time'].values.reshape(-1, 1))\n",
    "df_norm['Amount'] = StandardScaler().fit_transform(df_norm['Amount'].values.reshape(-1, 1))"
   ]
  },
  {
   "cell_type": "markdown",
   "id": "fa3c4427",
   "metadata": {},
   "source": [
    "### Dividing Training and Test Set\n",
    "\n",
    "Now we split the data into training and testing sets according to the percentage and with a random seed we wrote at the beginning of the code."
   ]
  },
  {
   "cell_type": "code",
   "execution_count": 15,
   "id": "1cc12003",
   "metadata": {},
   "outputs": [],
   "source": [
    "train_x, test_x = train_test_split(df_norm, test_size=TEST_PCT, random_state=RANDOM_SEED)\n",
    "train_x = train_x[train_x.Class == 0]       # where normal transactions\n",
    "train_x = train_x.drop(['Class'], axis=1)   # drop the class column\n",
    "\n",
    "\n",
    "test_y = test_x['Class']                    # save the class column for the test set\n",
    "test_x = test_x.drop(['Class'], axis=1)     # drop the class column\n",
    "\n",
    "train_x = train_x.values                    # transform to ndarray\n",
    "test_x = test_x.values                      # transform to ndarray"
   ]
  },
  {
   "cell_type": "markdown",
   "id": "8628d74e",
   "metadata": {},
   "source": [
    "## Creating The Model\n",
    "\n",
    "### Autoencoder Layer Structure and Parameters\n",
    "\n",
    "Autoencoder has symmetric encoding and decoding layers that are \"dense\". We are reducing the input into some form of simplified encoding and then expanding it again. The input and output dimension is the feature space (e.g. 30 columns), so the encoding layer should be smaller by an amount that expect to represent some feature. In this case, we are encoding 30 columns into 14 dimensions so we are expecting high-level features to be represented by roughly two columns (30/14 = 2.1). Of those high-level features, we are expecting them to map to roughly seven hidden/latent features in the data.\n",
    "\n",
    "Additionally, the epochs, batch size, learning rate, learning policy, and activation functions were all set to values empirically good values."
   ]
  },
  {
   "cell_type": "code",
   "execution_count": 16,
   "id": "3924ad72",
   "metadata": {},
   "outputs": [],
   "source": [
    "nb_epoch      = 250\n",
    "batch_size    = 128\n",
    "input_dim     = train_x.shape[1] #num of columns, 30\n",
    "encoding_dim  = 18\n",
    "hidden_dim1   = 10 #int(encoding_dim / 2) #i.e. 7\n",
    "hidden_dim2   = 6\n",
    "learning_rate = 1e-7"
   ]
  },
  {
   "cell_type": "code",
   "execution_count": 17,
   "id": "6ec4b563",
   "metadata": {},
   "outputs": [
    {
     "data": {
      "text/html": [
       "<pre style=\"white-space:pre;overflow-x:auto;line-height:normal;font-family:Menlo,'DejaVu Sans Mono',consolas,'Courier New',monospace\"><span style=\"font-weight: bold\">Model: \"functional\"</span>\n",
       "</pre>\n"
      ],
      "text/plain": [
       "\u001b[1mModel: \"functional\"\u001b[0m\n"
      ]
     },
     "metadata": {},
     "output_type": "display_data"
    },
    {
     "data": {
      "text/html": [
       "<pre style=\"white-space:pre;overflow-x:auto;line-height:normal;font-family:Menlo,'DejaVu Sans Mono',consolas,'Courier New',monospace\">┏━━━━━━━━━━━━━━━━━━━━━━━━━━━━━━━━━━━━━━┳━━━━━━━━━━━━━━━━━━━━━━━━━━━━━┳━━━━━━━━━━━━━━━━━┓\n",
       "┃<span style=\"font-weight: bold\"> Layer (type)                         </span>┃<span style=\"font-weight: bold\"> Output Shape                </span>┃<span style=\"font-weight: bold\">         Param # </span>┃\n",
       "┡━━━━━━━━━━━━━━━━━━━━━━━━━━━━━━━━━━━━━━╇━━━━━━━━━━━━━━━━━━━━━━━━━━━━━╇━━━━━━━━━━━━━━━━━┩\n",
       "│ input_layer (<span style=\"color: #0087ff; text-decoration-color: #0087ff\">InputLayer</span>)             │ (<span style=\"color: #00d7ff; text-decoration-color: #00d7ff\">None</span>, <span style=\"color: #00af00; text-decoration-color: #00af00\">30</span>)                  │               <span style=\"color: #00af00; text-decoration-color: #00af00\">0</span> │\n",
       "├──────────────────────────────────────┼─────────────────────────────┼─────────────────┤\n",
       "│ dense (<span style=\"color: #0087ff; text-decoration-color: #0087ff\">Dense</span>)                        │ (<span style=\"color: #00d7ff; text-decoration-color: #00d7ff\">None</span>, <span style=\"color: #00af00; text-decoration-color: #00af00\">18</span>)                  │             <span style=\"color: #00af00; text-decoration-color: #00af00\">558</span> │\n",
       "├──────────────────────────────────────┼─────────────────────────────┼─────────────────┤\n",
       "│ dense_1 (<span style=\"color: #0087ff; text-decoration-color: #0087ff\">Dense</span>)                      │ (<span style=\"color: #00d7ff; text-decoration-color: #00d7ff\">None</span>, <span style=\"color: #00af00; text-decoration-color: #00af00\">10</span>)                  │             <span style=\"color: #00af00; text-decoration-color: #00af00\">190</span> │\n",
       "├──────────────────────────────────────┼─────────────────────────────┼─────────────────┤\n",
       "│ dense_2 (<span style=\"color: #0087ff; text-decoration-color: #0087ff\">Dense</span>)                      │ (<span style=\"color: #00d7ff; text-decoration-color: #00d7ff\">None</span>, <span style=\"color: #00af00; text-decoration-color: #00af00\">6</span>)                   │              <span style=\"color: #00af00; text-decoration-color: #00af00\">66</span> │\n",
       "├──────────────────────────────────────┼─────────────────────────────┼─────────────────┤\n",
       "│ dense_3 (<span style=\"color: #0087ff; text-decoration-color: #0087ff\">Dense</span>)                      │ (<span style=\"color: #00d7ff; text-decoration-color: #00d7ff\">None</span>, <span style=\"color: #00af00; text-decoration-color: #00af00\">6</span>)                   │              <span style=\"color: #00af00; text-decoration-color: #00af00\">42</span> │\n",
       "├──────────────────────────────────────┼─────────────────────────────┼─────────────────┤\n",
       "│ dense_4 (<span style=\"color: #0087ff; text-decoration-color: #0087ff\">Dense</span>)                      │ (<span style=\"color: #00d7ff; text-decoration-color: #00d7ff\">None</span>, <span style=\"color: #00af00; text-decoration-color: #00af00\">10</span>)                  │              <span style=\"color: #00af00; text-decoration-color: #00af00\">70</span> │\n",
       "├──────────────────────────────────────┼─────────────────────────────┼─────────────────┤\n",
       "│ dense_5 (<span style=\"color: #0087ff; text-decoration-color: #0087ff\">Dense</span>)                      │ (<span style=\"color: #00d7ff; text-decoration-color: #00d7ff\">None</span>, <span style=\"color: #00af00; text-decoration-color: #00af00\">30</span>)                  │             <span style=\"color: #00af00; text-decoration-color: #00af00\">330</span> │\n",
       "└──────────────────────────────────────┴─────────────────────────────┴─────────────────┘\n",
       "</pre>\n"
      ],
      "text/plain": [
       "┏━━━━━━━━━━━━━━━━━━━━━━━━━━━━━━━━━━━━━━┳━━━━━━━━━━━━━━━━━━━━━━━━━━━━━┳━━━━━━━━━━━━━━━━━┓\n",
       "┃\u001b[1m \u001b[0m\u001b[1mLayer (type)                        \u001b[0m\u001b[1m \u001b[0m┃\u001b[1m \u001b[0m\u001b[1mOutput Shape               \u001b[0m\u001b[1m \u001b[0m┃\u001b[1m \u001b[0m\u001b[1m        Param #\u001b[0m\u001b[1m \u001b[0m┃\n",
       "┡━━━━━━━━━━━━━━━━━━━━━━━━━━━━━━━━━━━━━━╇━━━━━━━━━━━━━━━━━━━━━━━━━━━━━╇━━━━━━━━━━━━━━━━━┩\n",
       "│ input_layer (\u001b[38;5;33mInputLayer\u001b[0m)             │ (\u001b[38;5;45mNone\u001b[0m, \u001b[38;5;34m30\u001b[0m)                  │               \u001b[38;5;34m0\u001b[0m │\n",
       "├──────────────────────────────────────┼─────────────────────────────┼─────────────────┤\n",
       "│ dense (\u001b[38;5;33mDense\u001b[0m)                        │ (\u001b[38;5;45mNone\u001b[0m, \u001b[38;5;34m18\u001b[0m)                  │             \u001b[38;5;34m558\u001b[0m │\n",
       "├──────────────────────────────────────┼─────────────────────────────┼─────────────────┤\n",
       "│ dense_1 (\u001b[38;5;33mDense\u001b[0m)                      │ (\u001b[38;5;45mNone\u001b[0m, \u001b[38;5;34m10\u001b[0m)                  │             \u001b[38;5;34m190\u001b[0m │\n",
       "├──────────────────────────────────────┼─────────────────────────────┼─────────────────┤\n",
       "│ dense_2 (\u001b[38;5;33mDense\u001b[0m)                      │ (\u001b[38;5;45mNone\u001b[0m, \u001b[38;5;34m6\u001b[0m)                   │              \u001b[38;5;34m66\u001b[0m │\n",
       "├──────────────────────────────────────┼─────────────────────────────┼─────────────────┤\n",
       "│ dense_3 (\u001b[38;5;33mDense\u001b[0m)                      │ (\u001b[38;5;45mNone\u001b[0m, \u001b[38;5;34m6\u001b[0m)                   │              \u001b[38;5;34m42\u001b[0m │\n",
       "├──────────────────────────────────────┼─────────────────────────────┼─────────────────┤\n",
       "│ dense_4 (\u001b[38;5;33mDense\u001b[0m)                      │ (\u001b[38;5;45mNone\u001b[0m, \u001b[38;5;34m10\u001b[0m)                  │              \u001b[38;5;34m70\u001b[0m │\n",
       "├──────────────────────────────────────┼─────────────────────────────┼─────────────────┤\n",
       "│ dense_5 (\u001b[38;5;33mDense\u001b[0m)                      │ (\u001b[38;5;45mNone\u001b[0m, \u001b[38;5;34m30\u001b[0m)                  │             \u001b[38;5;34m330\u001b[0m │\n",
       "└──────────────────────────────────────┴─────────────────────────────┴─────────────────┘\n"
      ]
     },
     "metadata": {},
     "output_type": "display_data"
    },
    {
     "data": {
      "text/html": [
       "<pre style=\"white-space:pre;overflow-x:auto;line-height:normal;font-family:Menlo,'DejaVu Sans Mono',consolas,'Courier New',monospace\"><span style=\"font-weight: bold\"> Total params: </span><span style=\"color: #00af00; text-decoration-color: #00af00\">1,256</span> (4.91 KB)\n",
       "</pre>\n"
      ],
      "text/plain": [
       "\u001b[1m Total params: \u001b[0m\u001b[38;5;34m1,256\u001b[0m (4.91 KB)\n"
      ]
     },
     "metadata": {},
     "output_type": "display_data"
    },
    {
     "data": {
      "text/html": [
       "<pre style=\"white-space:pre;overflow-x:auto;line-height:normal;font-family:Menlo,'DejaVu Sans Mono',consolas,'Courier New',monospace\"><span style=\"font-weight: bold\"> Trainable params: </span><span style=\"color: #00af00; text-decoration-color: #00af00\">1,256</span> (4.91 KB)\n",
       "</pre>\n"
      ],
      "text/plain": [
       "\u001b[1m Trainable params: \u001b[0m\u001b[38;5;34m1,256\u001b[0m (4.91 KB)\n"
      ]
     },
     "metadata": {},
     "output_type": "display_data"
    },
    {
     "data": {
      "text/html": [
       "<pre style=\"white-space:pre;overflow-x:auto;line-height:normal;font-family:Menlo,'DejaVu Sans Mono',consolas,'Courier New',monospace\"><span style=\"font-weight: bold\"> Non-trainable params: </span><span style=\"color: #00af00; text-decoration-color: #00af00\">0</span> (0.00 B)\n",
       "</pre>\n"
      ],
      "text/plain": [
       "\u001b[1m Non-trainable params: \u001b[0m\u001b[38;5;34m0\u001b[0m (0.00 B)\n"
      ]
     },
     "metadata": {},
     "output_type": "display_data"
    }
   ],
   "source": [
    "# This returns a tensor\n",
    "input_layer = Input(shape=(input_dim, ))\n",
    "\n",
    "# a layer instance is callable on a tensor, and returns a tensor\n",
    "# Dense implements the operation: output = activation(dot(input, kernel) + bias), where\n",
    "# activation is the element-wise activation function passed as the activation argument, \n",
    "\n",
    "# activity_regularizer: Regularizer function applied to the output of the layer\n",
    "encoder = Dense(encoding_dim, activation=\"tanh\", \n",
    "                activity_regularizer=regularizers.l1(learning_rate))(input_layer)\n",
    "encoder = Dense(hidden_dim1, activation=\"elu\")(encoder)\n",
    "encoder = Dense(hidden_dim2, activation=\"tanh\")(encoder)\n",
    "decoder = Dense(hidden_dim2, activation='elu')(encoder)\n",
    "decoder = Dense(hidden_dim1, activation='tanh')(decoder)\n",
    "decoder = Dense(input_dim, activation='elu')(decoder)\n",
    "\n",
    "# This creates a model that includes\n",
    "# the Input layer and four Dense layers\n",
    "autoencoder = Model(inputs=input_layer, outputs=decoder)\n",
    "autoencoder.summary()"
   ]
  },
  {
   "cell_type": "code",
   "execution_count": 18,
   "id": "dd9ae94f",
   "metadata": {},
   "outputs": [],
   "source": [
    "# Configure the learning process, by compiling the model\n",
    "autoencoder.compile(optimizer='adam',\n",
    "                    metrics=['accuracy'],\n",
    "                    loss='mean_squared_error')"
   ]
  },
  {
   "cell_type": "code",
   "execution_count": 18,
   "id": "b0b5fed9",
   "metadata": {},
   "outputs": [],
   "source": [
    "# Saving the model\n",
    "cp = ModelCheckpoint(filepath=\"autoencoder_fraud.keras\",\n",
    "                     save_best_only=True,\n",
    "                     verbose=0)"
   ]
  },
  {
   "cell_type": "code",
   "execution_count": 19,
   "id": "feabe440",
   "metadata": {},
   "outputs": [],
   "source": [
    "# TensorBoard basic visualizations.\n",
    "# This callback writes a log for TensorBoard, \n",
    "# which allows you to visualize dynamic graphs of your training and test metrics\n",
    "tb = TensorBoard(log_dir='./logs',\n",
    "                 histogram_freq=0,\n",
    "                 write_graph=True,\n",
    "                 write_images=True)"
   ]
  },
  {
   "cell_type": "code",
   "execution_count": 25,
   "id": "4f3321df",
   "metadata": {},
   "outputs": [
    {
     "name": "stdout",
     "output_type": "stream",
     "text": [
      "Epoch 1/250\n",
      "\u001b[1m1778/1778\u001b[0m \u001b[32m━━━━━━━━━━━━━━━━━━━━\u001b[0m\u001b[37m\u001b[0m \u001b[1m8s\u001b[0m 3ms/step - accuracy: 0.6647 - loss: 0.5296 - val_accuracy: 0.6667 - val_loss: 0.5562\n",
      "Epoch 2/250\n",
      "\u001b[1m1778/1778\u001b[0m \u001b[32m━━━━━━━━━━━━━━━━━━━━\u001b[0m\u001b[37m\u001b[0m \u001b[1m6s\u001b[0m 3ms/step - accuracy: 0.6670 - loss: 0.5264 - val_accuracy: 0.6633 - val_loss: 0.5579\n",
      "Epoch 3/250\n",
      "\u001b[1m1778/1778\u001b[0m \u001b[32m━━━━━━━━━━━━━━━━━━━━\u001b[0m\u001b[37m\u001b[0m \u001b[1m6s\u001b[0m 3ms/step - accuracy: 0.6649 - loss: 0.5301 - val_accuracy: 0.6688 - val_loss: 0.5558\n",
      "Epoch 4/250\n",
      "\u001b[1m1778/1778\u001b[0m \u001b[32m━━━━━━━━━━━━━━━━━━━━\u001b[0m\u001b[37m\u001b[0m \u001b[1m10s\u001b[0m 5ms/step - accuracy: 0.6651 - loss: 0.5313 - val_accuracy: 0.6627 - val_loss: 0.5551\n",
      "Epoch 5/250\n",
      "\u001b[1m1778/1778\u001b[0m \u001b[32m━━━━━━━━━━━━━━━━━━━━\u001b[0m\u001b[37m\u001b[0m \u001b[1m6s\u001b[0m 3ms/step - accuracy: 0.6650 - loss: 0.5237 - val_accuracy: 0.6664 - val_loss: 0.5558\n",
      "Epoch 6/250\n",
      "\u001b[1m1778/1778\u001b[0m \u001b[32m━━━━━━━━━━━━━━━━━━━━\u001b[0m\u001b[37m\u001b[0m \u001b[1m5s\u001b[0m 3ms/step - accuracy: 0.6652 - loss: 0.5182 - val_accuracy: 0.6650 - val_loss: 0.5551\n",
      "Epoch 7/250\n",
      "\u001b[1m1778/1778\u001b[0m \u001b[32m━━━━━━━━━━━━━━━━━━━━\u001b[0m\u001b[37m\u001b[0m \u001b[1m5s\u001b[0m 3ms/step - accuracy: 0.6659 - loss: 0.5174 - val_accuracy: 0.6572 - val_loss: 0.5568\n",
      "Epoch 8/250\n",
      "\u001b[1m1778/1778\u001b[0m \u001b[32m━━━━━━━━━━━━━━━━━━━━\u001b[0m\u001b[37m\u001b[0m \u001b[1m6s\u001b[0m 4ms/step - accuracy: 0.6650 - loss: 0.5167 - val_accuracy: 0.6656 - val_loss: 0.5546\n",
      "Epoch 9/250\n",
      "\u001b[1m1778/1778\u001b[0m \u001b[32m━━━━━━━━━━━━━━━━━━━━\u001b[0m\u001b[37m\u001b[0m \u001b[1m6s\u001b[0m 3ms/step - accuracy: 0.6656 - loss: 0.5497 - val_accuracy: 0.6708 - val_loss: 0.5542\n",
      "Epoch 10/250\n",
      "\u001b[1m1778/1778\u001b[0m \u001b[32m━━━━━━━━━━━━━━━━━━━━\u001b[0m\u001b[37m\u001b[0m \u001b[1m5s\u001b[0m 3ms/step - accuracy: 0.6640 - loss: 0.5188 - val_accuracy: 0.6619 - val_loss: 0.5548\n",
      "Epoch 11/250\n",
      "\u001b[1m1778/1778\u001b[0m \u001b[32m━━━━━━━━━━━━━━━━━━━━\u001b[0m\u001b[37m\u001b[0m \u001b[1m6s\u001b[0m 3ms/step - accuracy: 0.6625 - loss: 0.5173 - val_accuracy: 0.6623 - val_loss: 0.5539\n",
      "Epoch 12/250\n",
      "\u001b[1m1778/1778\u001b[0m \u001b[32m━━━━━━━━━━━━━━━━━━━━\u001b[0m\u001b[37m\u001b[0m \u001b[1m5s\u001b[0m 3ms/step - accuracy: 0.6663 - loss: 0.5284 - val_accuracy: 0.6659 - val_loss: 0.5535\n",
      "Epoch 13/250\n",
      "\u001b[1m1778/1778\u001b[0m \u001b[32m━━━━━━━━━━━━━━━━━━━━\u001b[0m\u001b[37m\u001b[0m \u001b[1m5s\u001b[0m 3ms/step - accuracy: 0.6636 - loss: 0.5150 - val_accuracy: 0.6657 - val_loss: 0.5533\n",
      "Epoch 14/250\n",
      "\u001b[1m1778/1778\u001b[0m \u001b[32m━━━━━━━━━━━━━━━━━━━━\u001b[0m\u001b[37m\u001b[0m \u001b[1m5s\u001b[0m 3ms/step - accuracy: 0.6649 - loss: 0.5267 - val_accuracy: 0.6674 - val_loss: 0.5536\n",
      "Epoch 15/250\n",
      "\u001b[1m1778/1778\u001b[0m \u001b[32m━━━━━━━━━━━━━━━━━━━━\u001b[0m\u001b[37m\u001b[0m \u001b[1m11s\u001b[0m 3ms/step - accuracy: 0.6663 - loss: 0.5469 - val_accuracy: 0.6623 - val_loss: 0.5535\n",
      "Epoch 16/250\n",
      "\u001b[1m1778/1778\u001b[0m \u001b[32m━━━━━━━━━━━━━━━━━━━━\u001b[0m\u001b[37m\u001b[0m \u001b[1m8s\u001b[0m 4ms/step - accuracy: 0.6644 - loss: 0.5215 - val_accuracy: 0.6566 - val_loss: 0.5537\n",
      "Epoch 17/250\n",
      "\u001b[1m1778/1778\u001b[0m \u001b[32m━━━━━━━━━━━━━━━━━━━━\u001b[0m\u001b[37m\u001b[0m \u001b[1m10s\u001b[0m 4ms/step - accuracy: 0.6653 - loss: 0.5165 - val_accuracy: 0.6636 - val_loss: 0.5523\n",
      "Epoch 18/250\n",
      "\u001b[1m1778/1778\u001b[0m \u001b[32m━━━━━━━━━━━━━━━━━━━━\u001b[0m\u001b[37m\u001b[0m \u001b[1m6s\u001b[0m 3ms/step - accuracy: 0.6652 - loss: 0.5115 - val_accuracy: 0.6692 - val_loss: 0.5531\n",
      "Epoch 19/250\n",
      "\u001b[1m1778/1778\u001b[0m \u001b[32m━━━━━━━━━━━━━━━━━━━━\u001b[0m\u001b[37m\u001b[0m \u001b[1m6s\u001b[0m 4ms/step - accuracy: 0.6644 - loss: 0.5432 - val_accuracy: 0.6559 - val_loss: 0.5574\n",
      "Epoch 20/250\n",
      "\u001b[1m1778/1778\u001b[0m \u001b[32m━━━━━━━━━━━━━━━━━━━━\u001b[0m\u001b[37m\u001b[0m \u001b[1m12s\u001b[0m 4ms/step - accuracy: 0.6653 - loss: 0.5102 - val_accuracy: 0.6571 - val_loss: 0.5548\n",
      "Epoch 21/250\n",
      "\u001b[1m1778/1778\u001b[0m \u001b[32m━━━━━━━━━━━━━━━━━━━━\u001b[0m\u001b[37m\u001b[0m \u001b[1m7s\u001b[0m 4ms/step - accuracy: 0.6658 - loss: 0.5124 - val_accuracy: 0.6669 - val_loss: 0.5530\n",
      "Epoch 22/250\n",
      "\u001b[1m1778/1778\u001b[0m \u001b[32m━━━━━━━━━━━━━━━━━━━━\u001b[0m\u001b[37m\u001b[0m \u001b[1m6s\u001b[0m 3ms/step - accuracy: 0.6651 - loss: 0.5244 - val_accuracy: 0.6535 - val_loss: 0.5567\n",
      "Epoch 23/250\n",
      "\u001b[1m1778/1778\u001b[0m \u001b[32m━━━━━━━━━━━━━━━━━━━━\u001b[0m\u001b[37m\u001b[0m \u001b[1m5s\u001b[0m 3ms/step - accuracy: 0.6628 - loss: 0.5238 - val_accuracy: 0.6643 - val_loss: 0.5528\n",
      "Epoch 24/250\n",
      "\u001b[1m1778/1778\u001b[0m \u001b[32m━━━━━━━━━━━━━━━━━━━━\u001b[0m\u001b[37m\u001b[0m \u001b[1m5s\u001b[0m 3ms/step - accuracy: 0.6658 - loss: 0.5221 - val_accuracy: 0.6617 - val_loss: 0.5530\n",
      "Epoch 25/250\n",
      "\u001b[1m1778/1778\u001b[0m \u001b[32m━━━━━━━━━━━━━━━━━━━━\u001b[0m\u001b[37m\u001b[0m \u001b[1m6s\u001b[0m 3ms/step - accuracy: 0.6644 - loss: 0.5141 - val_accuracy: 0.6643 - val_loss: 0.5539\n",
      "Epoch 26/250\n",
      "\u001b[1m1778/1778\u001b[0m \u001b[32m━━━━━━━━━━━━━━━━━━━━\u001b[0m\u001b[37m\u001b[0m \u001b[1m5s\u001b[0m 3ms/step - accuracy: 0.6645 - loss: 0.5274 - val_accuracy: 0.6675 - val_loss: 0.5529\n",
      "Epoch 27/250\n",
      "\u001b[1m1778/1778\u001b[0m \u001b[32m━━━━━━━━━━━━━━━━━━━━\u001b[0m\u001b[37m\u001b[0m \u001b[1m5s\u001b[0m 3ms/step - accuracy: 0.6660 - loss: 0.5299 - val_accuracy: 0.6596 - val_loss: 0.5518\n",
      "Epoch 28/250\n",
      "\u001b[1m1778/1778\u001b[0m \u001b[32m━━━━━━━━━━━━━━━━━━━━\u001b[0m\u001b[37m\u001b[0m \u001b[1m6s\u001b[0m 3ms/step - accuracy: 0.6658 - loss: 0.5368 - val_accuracy: 0.6613 - val_loss: 0.5513\n",
      "Epoch 29/250\n",
      "\u001b[1m1778/1778\u001b[0m \u001b[32m━━━━━━━━━━━━━━━━━━━━\u001b[0m\u001b[37m\u001b[0m \u001b[1m6s\u001b[0m 4ms/step - accuracy: 0.6641 - loss: 0.5153 - val_accuracy: 0.6638 - val_loss: 0.5520\n",
      "Epoch 30/250\n",
      "\u001b[1m1778/1778\u001b[0m \u001b[32m━━━━━━━━━━━━━━━━━━━━\u001b[0m\u001b[37m\u001b[0m \u001b[1m5s\u001b[0m 3ms/step - accuracy: 0.6647 - loss: 0.5179 - val_accuracy: 0.6676 - val_loss: 0.5513\n",
      "Epoch 31/250\n",
      "\u001b[1m1778/1778\u001b[0m \u001b[32m━━━━━━━━━━━━━━━━━━━━\u001b[0m\u001b[37m\u001b[0m \u001b[1m5s\u001b[0m 3ms/step - accuracy: 0.6649 - loss: 0.5344 - val_accuracy: 0.6644 - val_loss: 0.5525\n",
      "Epoch 32/250\n",
      "\u001b[1m1778/1778\u001b[0m \u001b[32m━━━━━━━━━━━━━━━━━━━━\u001b[0m\u001b[37m\u001b[0m \u001b[1m5s\u001b[0m 3ms/step - accuracy: 0.6631 - loss: 0.5101 - val_accuracy: 0.6620 - val_loss: 0.5506\n",
      "Epoch 33/250\n",
      "\u001b[1m1778/1778\u001b[0m \u001b[32m━━━━━━━━━━━━━━━━━━━━\u001b[0m\u001b[37m\u001b[0m \u001b[1m5s\u001b[0m 3ms/step - accuracy: 0.6645 - loss: 0.5167 - val_accuracy: 0.6701 - val_loss: 0.5502\n",
      "Epoch 34/250\n",
      "\u001b[1m1778/1778\u001b[0m \u001b[32m━━━━━━━━━━━━━━━━━━━━\u001b[0m\u001b[37m\u001b[0m \u001b[1m5s\u001b[0m 3ms/step - accuracy: 0.6645 - loss: 0.5016 - val_accuracy: 0.6532 - val_loss: 0.5532\n",
      "Epoch 35/250\n",
      "\u001b[1m1778/1778\u001b[0m \u001b[32m━━━━━━━━━━━━━━━━━━━━\u001b[0m\u001b[37m\u001b[0m \u001b[1m5s\u001b[0m 3ms/step - accuracy: 0.6640 - loss: 0.5178 - val_accuracy: 0.6639 - val_loss: 0.5523\n",
      "Epoch 36/250\n",
      "\u001b[1m1778/1778\u001b[0m \u001b[32m━━━━━━━━━━━━━━━━━━━━\u001b[0m\u001b[37m\u001b[0m \u001b[1m5s\u001b[0m 3ms/step - accuracy: 0.6647 - loss: 0.5105 - val_accuracy: 0.6660 - val_loss: 0.5502\n",
      "Epoch 37/250\n",
      "\u001b[1m1778/1778\u001b[0m \u001b[32m━━━━━━━━━━━━━━━━━━━━\u001b[0m\u001b[37m\u001b[0m \u001b[1m5s\u001b[0m 3ms/step - accuracy: 0.6633 - loss: 0.5156 - val_accuracy: 0.6669 - val_loss: 0.5502\n",
      "Epoch 38/250\n",
      "\u001b[1m1778/1778\u001b[0m \u001b[32m━━━━━━━━━━━━━━━━━━━━\u001b[0m\u001b[37m\u001b[0m \u001b[1m10s\u001b[0m 3ms/step - accuracy: 0.6650 - loss: 0.5193 - val_accuracy: 0.6666 - val_loss: 0.5518\n",
      "Epoch 39/250\n",
      "\u001b[1m1778/1778\u001b[0m \u001b[32m━━━━━━━━━━━━━━━━━━━━\u001b[0m\u001b[37m\u001b[0m \u001b[1m6s\u001b[0m 3ms/step - accuracy: 0.6637 - loss: 0.5121 - val_accuracy: 0.6625 - val_loss: 0.5504\n",
      "Epoch 40/250\n",
      "\u001b[1m1778/1778\u001b[0m \u001b[32m━━━━━━━━━━━━━━━━━━━━\u001b[0m\u001b[37m\u001b[0m \u001b[1m7s\u001b[0m 4ms/step - accuracy: 0.6645 - loss: 0.5201 - val_accuracy: 0.6619 - val_loss: 0.5498\n",
      "Epoch 41/250\n",
      "\u001b[1m1778/1778\u001b[0m \u001b[32m━━━━━━━━━━━━━━━━━━━━\u001b[0m\u001b[37m\u001b[0m \u001b[1m6s\u001b[0m 3ms/step - accuracy: 0.6645 - loss: 0.5279 - val_accuracy: 0.6650 - val_loss: 0.5505\n",
      "Epoch 42/250\n",
      "\u001b[1m1778/1778\u001b[0m \u001b[32m━━━━━━━━━━━━━━━━━━━━\u001b[0m\u001b[37m\u001b[0m \u001b[1m6s\u001b[0m 3ms/step - accuracy: 0.6649 - loss: 0.5136 - val_accuracy: 0.6487 - val_loss: 0.5524\n",
      "Epoch 43/250\n",
      "\u001b[1m1778/1778\u001b[0m \u001b[32m━━━━━━━━━━━━━━━━━━━━\u001b[0m\u001b[37m\u001b[0m \u001b[1m6s\u001b[0m 3ms/step - accuracy: 0.6649 - loss: 0.5342 - val_accuracy: 0.6611 - val_loss: 0.5509\n",
      "Epoch 44/250\n",
      "\u001b[1m1778/1778\u001b[0m \u001b[32m━━━━━━━━━━━━━━━━━━━━\u001b[0m\u001b[37m\u001b[0m \u001b[1m5s\u001b[0m 3ms/step - accuracy: 0.6650 - loss: 0.5299 - val_accuracy: 0.6571 - val_loss: 0.5518\n",
      "Epoch 45/250\n",
      "\u001b[1m1778/1778\u001b[0m \u001b[32m━━━━━━━━━━━━━━━━━━━━\u001b[0m\u001b[37m\u001b[0m \u001b[1m5s\u001b[0m 3ms/step - accuracy: 0.6662 - loss: 0.5105 - val_accuracy: 0.6665 - val_loss: 0.5507\n",
      "Epoch 46/250\n",
      "\u001b[1m1778/1778\u001b[0m \u001b[32m━━━━━━━━━━━━━━━━━━━━\u001b[0m\u001b[37m\u001b[0m \u001b[1m6s\u001b[0m 3ms/step - accuracy: 0.6655 - loss: 0.5094 - val_accuracy: 0.6702 - val_loss: 0.5501\n",
      "Epoch 47/250\n",
      "\u001b[1m1778/1778\u001b[0m \u001b[32m━━━━━━━━━━━━━━━━━━━━\u001b[0m\u001b[37m\u001b[0m \u001b[1m5s\u001b[0m 3ms/step - accuracy: 0.6655 - loss: 0.5154 - val_accuracy: 0.6591 - val_loss: 0.5491\n",
      "Epoch 48/250\n",
      "\u001b[1m1778/1778\u001b[0m \u001b[32m━━━━━━━━━━━━━━━━━━━━\u001b[0m\u001b[37m\u001b[0m \u001b[1m11s\u001b[0m 4ms/step - accuracy: 0.6641 - loss: 0.5168 - val_accuracy: 0.6599 - val_loss: 0.5493\n",
      "Epoch 49/250\n",
      "\u001b[1m1778/1778\u001b[0m \u001b[32m━━━━━━━━━━━━━━━━━━━━\u001b[0m\u001b[37m\u001b[0m \u001b[1m10s\u001b[0m 3ms/step - accuracy: 0.6646 - loss: 0.5097 - val_accuracy: 0.6591 - val_loss: 0.5514\n",
      "Epoch 50/250\n",
      "\u001b[1m1778/1778\u001b[0m \u001b[32m━━━━━━━━━━━━━━━━━━━━\u001b[0m\u001b[37m\u001b[0m \u001b[1m5s\u001b[0m 3ms/step - accuracy: 0.6643 - loss: 0.5184 - val_accuracy: 0.6694 - val_loss: 0.5499\n",
      "Epoch 51/250\n",
      "\u001b[1m1778/1778\u001b[0m \u001b[32m━━━━━━━━━━━━━━━━━━━━\u001b[0m\u001b[37m\u001b[0m \u001b[1m5s\u001b[0m 3ms/step - accuracy: 0.6645 - loss: 0.5147 - val_accuracy: 0.6665 - val_loss: 0.5490\n",
      "Epoch 52/250\n",
      "\u001b[1m1778/1778\u001b[0m \u001b[32m━━━━━━━━━━━━━━━━━━━━\u001b[0m\u001b[37m\u001b[0m \u001b[1m5s\u001b[0m 3ms/step - accuracy: 0.6652 - loss: 0.5265 - val_accuracy: 0.6457 - val_loss: 0.5541\n",
      "Epoch 53/250\n",
      "\u001b[1m1778/1778\u001b[0m \u001b[32m━━━━━━━━━━━━━━━━━━━━\u001b[0m\u001b[37m\u001b[0m \u001b[1m6s\u001b[0m 3ms/step - accuracy: 0.6644 - loss: 0.5261 - val_accuracy: 0.6571 - val_loss: 0.5502\n",
      "Epoch 54/250\n",
      "\u001b[1m1778/1778\u001b[0m \u001b[32m━━━━━━━━━━━━━━━━━━━━\u001b[0m\u001b[37m\u001b[0m \u001b[1m6s\u001b[0m 4ms/step - accuracy: 0.6651 - loss: 0.5154 - val_accuracy: 0.6688 - val_loss: 0.5500\n",
      "Epoch 55/250\n",
      "\u001b[1m1778/1778\u001b[0m \u001b[32m━━━━━━━━━━━━━━━━━━━━\u001b[0m\u001b[37m\u001b[0m \u001b[1m6s\u001b[0m 3ms/step - accuracy: 0.6658 - loss: 0.5245 - val_accuracy: 0.6612 - val_loss: 0.5483\n",
      "Epoch 56/250\n",
      "\u001b[1m1778/1778\u001b[0m \u001b[32m━━━━━━━━━━━━━━━━━━━━\u001b[0m\u001b[37m\u001b[0m \u001b[1m13s\u001b[0m 5ms/step - accuracy: 0.6659 - loss: 0.5054 - val_accuracy: 0.6465 - val_loss: 0.5515\n",
      "Epoch 57/250\n",
      "\u001b[1m1778/1778\u001b[0m \u001b[32m━━━━━━━━━━━━━━━━━━━━\u001b[0m\u001b[37m\u001b[0m \u001b[1m10s\u001b[0m 5ms/step - accuracy: 0.6643 - loss: 0.5139 - val_accuracy: 0.6585 - val_loss: 0.5499\n",
      "Epoch 58/250\n",
      "\u001b[1m1778/1778\u001b[0m \u001b[32m━━━━━━━━━━━━━━━━━━━━\u001b[0m\u001b[37m\u001b[0m \u001b[1m7s\u001b[0m 4ms/step - accuracy: 0.6653 - loss: 0.5173 - val_accuracy: 0.6637 - val_loss: 0.5485\n",
      "Epoch 59/250\n",
      "\u001b[1m1778/1778\u001b[0m \u001b[32m━━━━━━━━━━━━━━━━━━━━\u001b[0m\u001b[37m\u001b[0m \u001b[1m8s\u001b[0m 3ms/step - accuracy: 0.6636 - loss: 0.5425 - val_accuracy: 0.6657 - val_loss: 0.5484\n",
      "Epoch 60/250\n",
      "\u001b[1m1778/1778\u001b[0m \u001b[32m━━━━━━━━━━━━━━━━━━━━\u001b[0m\u001b[37m\u001b[0m \u001b[1m6s\u001b[0m 3ms/step - accuracy: 0.6649 - loss: 0.5192 - val_accuracy: 0.6611 - val_loss: 0.5487\n",
      "Epoch 61/250\n",
      "\u001b[1m1778/1778\u001b[0m \u001b[32m━━━━━━━━━━━━━━━━━━━━\u001b[0m\u001b[37m\u001b[0m \u001b[1m5s\u001b[0m 3ms/step - accuracy: 0.6640 - loss: 0.5158 - val_accuracy: 0.6622 - val_loss: 0.5487\n",
      "Epoch 62/250\n",
      "\u001b[1m1778/1778\u001b[0m \u001b[32m━━━━━━━━━━━━━━━━━━━━\u001b[0m\u001b[37m\u001b[0m \u001b[1m5s\u001b[0m 3ms/step - accuracy: 0.6648 - loss: 0.5437 - val_accuracy: 0.6635 - val_loss: 0.5499\n",
      "Epoch 63/250\n",
      "\u001b[1m1778/1778\u001b[0m \u001b[32m━━━━━━━━━━━━━━━━━━━━\u001b[0m\u001b[37m\u001b[0m \u001b[1m5s\u001b[0m 3ms/step - accuracy: 0.6661 - loss: 0.5246 - val_accuracy: 0.6683 - val_loss: 0.5477\n",
      "Epoch 64/250\n",
      "\u001b[1m1778/1778\u001b[0m \u001b[32m━━━━━━━━━━━━━━━━━━━━\u001b[0m\u001b[37m\u001b[0m \u001b[1m5s\u001b[0m 3ms/step - accuracy: 0.6667 - loss: 0.4970 - val_accuracy: 0.6490 - val_loss: 0.5524\n",
      "Epoch 65/250\n",
      "\u001b[1m1778/1778\u001b[0m \u001b[32m━━━━━━━━━━━━━━━━━━━━\u001b[0m\u001b[37m\u001b[0m \u001b[1m5s\u001b[0m 3ms/step - accuracy: 0.6662 - loss: 0.5178 - val_accuracy: 0.6600 - val_loss: 0.5491\n",
      "Epoch 66/250\n",
      "\u001b[1m1778/1778\u001b[0m \u001b[32m━━━━━━━━━━━━━━━━━━━━\u001b[0m\u001b[37m\u001b[0m \u001b[1m5s\u001b[0m 3ms/step - accuracy: 0.6648 - loss: 0.5146 - val_accuracy: 0.6652 - val_loss: 0.5484\n",
      "Epoch 67/250\n",
      "\u001b[1m1778/1778\u001b[0m \u001b[32m━━━━━━━━━━━━━━━━━━━━\u001b[0m\u001b[37m\u001b[0m \u001b[1m6s\u001b[0m 3ms/step - accuracy: 0.6653 - loss: 0.5131 - val_accuracy: 0.6611 - val_loss: 0.5485\n",
      "Epoch 68/250\n",
      "\u001b[1m1778/1778\u001b[0m \u001b[32m━━━━━━━━━━━━━━━━━━━━\u001b[0m\u001b[37m\u001b[0m \u001b[1m6s\u001b[0m 3ms/step - accuracy: 0.6658 - loss: 0.5132 - val_accuracy: 0.6622 - val_loss: 0.5479\n",
      "Epoch 69/250\n",
      "\u001b[1m1778/1778\u001b[0m \u001b[32m━━━━━━━━━━━━━━━━━━━━\u001b[0m\u001b[37m\u001b[0m \u001b[1m5s\u001b[0m 3ms/step - accuracy: 0.6657 - loss: 0.5233 - val_accuracy: 0.6579 - val_loss: 0.5499\n",
      "Epoch 70/250\n",
      "\u001b[1m1778/1778\u001b[0m \u001b[32m━━━━━━━━━━━━━━━━━━━━\u001b[0m\u001b[37m\u001b[0m \u001b[1m5s\u001b[0m 3ms/step - accuracy: 0.6657 - loss: 0.5284 - val_accuracy: 0.6663 - val_loss: 0.5478\n",
      "Epoch 71/250\n",
      "\u001b[1m1778/1778\u001b[0m \u001b[32m━━━━━━━━━━━━━━━━━━━━\u001b[0m\u001b[37m\u001b[0m \u001b[1m7s\u001b[0m 4ms/step - accuracy: 0.6660 - loss: 0.5139 - val_accuracy: 0.6713 - val_loss: 0.5469\n",
      "Epoch 72/250\n",
      "\u001b[1m1778/1778\u001b[0m \u001b[32m━━━━━━━━━━━━━━━━━━━━\u001b[0m\u001b[37m\u001b[0m \u001b[1m5s\u001b[0m 3ms/step - accuracy: 0.6659 - loss: 0.5242 - val_accuracy: 0.6580 - val_loss: 0.5487\n",
      "Epoch 73/250\n",
      "\u001b[1m1778/1778\u001b[0m \u001b[32m━━━━━━━━━━━━━━━━━━━━\u001b[0m\u001b[37m\u001b[0m \u001b[1m5s\u001b[0m 3ms/step - accuracy: 0.6670 - loss: 0.5099 - val_accuracy: 0.6616 - val_loss: 0.5478\n",
      "Epoch 74/250\n",
      "\u001b[1m1778/1778\u001b[0m \u001b[32m━━━━━━━━━━━━━━━━━━━━\u001b[0m\u001b[37m\u001b[0m \u001b[1m5s\u001b[0m 3ms/step - accuracy: 0.6670 - loss: 0.5141 - val_accuracy: 0.6518 - val_loss: 0.5517\n",
      "Epoch 75/250\n",
      "\u001b[1m1778/1778\u001b[0m \u001b[32m━━━━━━━━━━━━━━━━━━━━\u001b[0m\u001b[37m\u001b[0m \u001b[1m5s\u001b[0m 3ms/step - accuracy: 0.6659 - loss: 0.5113 - val_accuracy: 0.6574 - val_loss: 0.5489\n",
      "Epoch 76/250\n",
      "\u001b[1m1778/1778\u001b[0m \u001b[32m━━━━━━━━━━━━━━━━━━━━\u001b[0m\u001b[37m\u001b[0m \u001b[1m5s\u001b[0m 3ms/step - accuracy: 0.6655 - loss: 0.5064 - val_accuracy: 0.6657 - val_loss: 0.5480\n",
      "Epoch 77/250\n",
      "\u001b[1m1778/1778\u001b[0m \u001b[32m━━━━━━━━━━━━━━━━━━━━\u001b[0m\u001b[37m\u001b[0m \u001b[1m6s\u001b[0m 3ms/step - accuracy: 0.6655 - loss: 0.5086 - val_accuracy: 0.6663 - val_loss: 0.5476\n",
      "Epoch 78/250\n",
      "\u001b[1m1778/1778\u001b[0m \u001b[32m━━━━━━━━━━━━━━━━━━━━\u001b[0m\u001b[37m\u001b[0m \u001b[1m6s\u001b[0m 3ms/step - accuracy: 0.6649 - loss: 0.5191 - val_accuracy: 0.6668 - val_loss: 0.5480\n",
      "Epoch 79/250\n",
      "\u001b[1m1778/1778\u001b[0m \u001b[32m━━━━━━━━━━━━━━━━━━━━\u001b[0m\u001b[37m\u001b[0m \u001b[1m5s\u001b[0m 3ms/step - accuracy: 0.6636 - loss: 0.5207 - val_accuracy: 0.6655 - val_loss: 0.5487\n",
      "Epoch 80/250\n",
      "\u001b[1m1778/1778\u001b[0m \u001b[32m━━━━━━━━━━━━━━━━━━━━\u001b[0m\u001b[37m\u001b[0m \u001b[1m5s\u001b[0m 3ms/step - accuracy: 0.6657 - loss: 0.5193 - val_accuracy: 0.6686 - val_loss: 0.5483\n",
      "Epoch 81/250\n",
      "\u001b[1m1778/1778\u001b[0m \u001b[32m━━━━━━━━━━━━━━━━━━━━\u001b[0m\u001b[37m\u001b[0m \u001b[1m6s\u001b[0m 3ms/step - accuracy: 0.6649 - loss: 0.5179 - val_accuracy: 0.6535 - val_loss: 0.5488\n",
      "Epoch 82/250\n",
      "\u001b[1m1778/1778\u001b[0m \u001b[32m━━━━━━━━━━━━━━━━━━━━\u001b[0m\u001b[37m\u001b[0m \u001b[1m9s\u001b[0m 3ms/step - accuracy: 0.6663 - loss: 0.5094 - val_accuracy: 0.6576 - val_loss: 0.5482\n",
      "Epoch 83/250\n",
      "\u001b[1m1778/1778\u001b[0m \u001b[32m━━━━━━━━━━━━━━━━━━━━\u001b[0m\u001b[37m\u001b[0m \u001b[1m6s\u001b[0m 3ms/step - accuracy: 0.6665 - loss: 0.5119 - val_accuracy: 0.6685 - val_loss: 0.5477\n",
      "Epoch 84/250\n",
      "\u001b[1m1778/1778\u001b[0m \u001b[32m━━━━━━━━━━━━━━━━━━━━\u001b[0m\u001b[37m\u001b[0m \u001b[1m6s\u001b[0m 3ms/step - accuracy: 0.6657 - loss: 0.5134 - val_accuracy: 0.6633 - val_loss: 0.5482\n",
      "Epoch 85/250\n",
      "\u001b[1m1778/1778\u001b[0m \u001b[32m━━━━━━━━━━━━━━━━━━━━\u001b[0m\u001b[37m\u001b[0m \u001b[1m5s\u001b[0m 3ms/step - accuracy: 0.6647 - loss: 0.5159 - val_accuracy: 0.6624 - val_loss: 0.5468\n",
      "Epoch 86/250\n",
      "\u001b[1m1778/1778\u001b[0m \u001b[32m━━━━━━━━━━━━━━━━━━━━\u001b[0m\u001b[37m\u001b[0m \u001b[1m5s\u001b[0m 3ms/step - accuracy: 0.6664 - loss: 0.5082 - val_accuracy: 0.6601 - val_loss: 0.5474\n",
      "Epoch 87/250\n",
      "\u001b[1m1778/1778\u001b[0m \u001b[32m━━━━━━━━━━━━━━━━━━━━\u001b[0m\u001b[37m\u001b[0m \u001b[1m5s\u001b[0m 3ms/step - accuracy: 0.6649 - loss: 0.5184 - val_accuracy: 0.6656 - val_loss: 0.5477\n",
      "Epoch 88/250\n",
      "\u001b[1m1778/1778\u001b[0m \u001b[32m━━━━━━━━━━━━━━━━━━━━\u001b[0m\u001b[37m\u001b[0m \u001b[1m5s\u001b[0m 3ms/step - accuracy: 0.6668 - loss: 0.5134 - val_accuracy: 0.6703 - val_loss: 0.5472\n",
      "Epoch 89/250\n",
      "\u001b[1m1778/1778\u001b[0m \u001b[32m━━━━━━━━━━━━━━━━━━━━\u001b[0m\u001b[37m\u001b[0m \u001b[1m5s\u001b[0m 3ms/step - accuracy: 0.6657 - loss: 0.5049 - val_accuracy: 0.6688 - val_loss: 0.5465\n",
      "Epoch 90/250\n",
      "\u001b[1m1778/1778\u001b[0m \u001b[32m━━━━━━━━━━━━━━━━━━━━\u001b[0m\u001b[37m\u001b[0m \u001b[1m7s\u001b[0m 4ms/step - accuracy: 0.6666 - loss: 0.5184 - val_accuracy: 0.6640 - val_loss: 0.5482\n",
      "Epoch 91/250\n",
      "\u001b[1m1778/1778\u001b[0m \u001b[32m━━━━━━━━━━━━━━━━━━━━\u001b[0m\u001b[37m\u001b[0m \u001b[1m5s\u001b[0m 3ms/step - accuracy: 0.6657 - loss: 0.5125 - val_accuracy: 0.6621 - val_loss: 0.5470\n",
      "Epoch 92/250\n",
      "\u001b[1m1778/1778\u001b[0m \u001b[32m━━━━━━━━━━━━━━━━━━━━\u001b[0m\u001b[37m\u001b[0m \u001b[1m5s\u001b[0m 3ms/step - accuracy: 0.6659 - loss: 0.5026 - val_accuracy: 0.6587 - val_loss: 0.5472\n",
      "Epoch 93/250\n",
      "\u001b[1m1778/1778\u001b[0m \u001b[32m━━━━━━━━━━━━━━━━━━━━\u001b[0m\u001b[37m\u001b[0m \u001b[1m5s\u001b[0m 3ms/step - accuracy: 0.6657 - loss: 0.5163 - val_accuracy: 0.6619 - val_loss: 0.5468\n",
      "Epoch 94/250\n",
      "\u001b[1m1778/1778\u001b[0m \u001b[32m━━━━━━━━━━━━━━━━━━━━\u001b[0m\u001b[37m\u001b[0m \u001b[1m5s\u001b[0m 3ms/step - accuracy: 0.6631 - loss: 0.5188 - val_accuracy: 0.6691 - val_loss: 0.5463\n",
      "Epoch 95/250\n",
      "\u001b[1m1778/1778\u001b[0m \u001b[32m━━━━━━━━━━━━━━━━━━━━\u001b[0m\u001b[37m\u001b[0m \u001b[1m6s\u001b[0m 3ms/step - accuracy: 0.6664 - loss: 0.5232 - val_accuracy: 0.6717 - val_loss: 0.5468\n",
      "Epoch 96/250\n",
      "\u001b[1m1778/1778\u001b[0m \u001b[32m━━━━━━━━━━━━━━━━━━━━\u001b[0m\u001b[37m\u001b[0m \u001b[1m7s\u001b[0m 4ms/step - accuracy: 0.6668 - loss: 0.5237 - val_accuracy: 0.6606 - val_loss: 0.5463\n",
      "Epoch 97/250\n",
      "\u001b[1m1778/1778\u001b[0m \u001b[32m━━━━━━━━━━━━━━━━━━━━\u001b[0m\u001b[37m\u001b[0m \u001b[1m8s\u001b[0m 3ms/step - accuracy: 0.6657 - loss: 0.5102 - val_accuracy: 0.6553 - val_loss: 0.5509\n",
      "Epoch 98/250\n",
      "\u001b[1m1778/1778\u001b[0m \u001b[32m━━━━━━━━━━━━━━━━━━━━\u001b[0m\u001b[37m\u001b[0m \u001b[1m5s\u001b[0m 3ms/step - accuracy: 0.6663 - loss: 0.5241 - val_accuracy: 0.6668 - val_loss: 0.5457\n",
      "Epoch 99/250\n"
     ]
    },
    {
     "name": "stdout",
     "output_type": "stream",
     "text": [
      "\u001b[1m1778/1778\u001b[0m \u001b[32m━━━━━━━━━━━━━━━━━━━━\u001b[0m\u001b[37m\u001b[0m \u001b[1m5s\u001b[0m 3ms/step - accuracy: 0.6651 - loss: 0.5125 - val_accuracy: 0.6657 - val_loss: 0.5461\n",
      "Epoch 100/250\n",
      "\u001b[1m1778/1778\u001b[0m \u001b[32m━━━━━━━━━━━━━━━━━━━━\u001b[0m\u001b[37m\u001b[0m \u001b[1m5s\u001b[0m 3ms/step - accuracy: 0.6670 - loss: 0.5201 - val_accuracy: 0.6617 - val_loss: 0.5481\n",
      "Epoch 101/250\n",
      "\u001b[1m1778/1778\u001b[0m \u001b[32m━━━━━━━━━━━━━━━━━━━━\u001b[0m\u001b[37m\u001b[0m \u001b[1m10s\u001b[0m 3ms/step - accuracy: 0.6655 - loss: 0.4994 - val_accuracy: 0.6637 - val_loss: 0.5455\n",
      "Epoch 102/250\n",
      "\u001b[1m1778/1778\u001b[0m \u001b[32m━━━━━━━━━━━━━━━━━━━━\u001b[0m\u001b[37m\u001b[0m \u001b[1m5s\u001b[0m 3ms/step - accuracy: 0.6663 - loss: 0.5116 - val_accuracy: 0.6637 - val_loss: 0.5454\n",
      "Epoch 103/250\n",
      "\u001b[1m1778/1778\u001b[0m \u001b[32m━━━━━━━━━━━━━━━━━━━━\u001b[0m\u001b[37m\u001b[0m \u001b[1m5s\u001b[0m 3ms/step - accuracy: 0.6647 - loss: 0.5128 - val_accuracy: 0.6617 - val_loss: 0.5459\n",
      "Epoch 104/250\n",
      "\u001b[1m1778/1778\u001b[0m \u001b[32m━━━━━━━━━━━━━━━━━━━━\u001b[0m\u001b[37m\u001b[0m \u001b[1m5s\u001b[0m 3ms/step - accuracy: 0.6646 - loss: 0.5035 - val_accuracy: 0.6689 - val_loss: 0.5456\n",
      "Epoch 105/250\n",
      "\u001b[1m1778/1778\u001b[0m \u001b[32m━━━━━━━━━━━━━━━━━━━━\u001b[0m\u001b[37m\u001b[0m \u001b[1m10s\u001b[0m 3ms/step - accuracy: 0.6659 - loss: 0.5097 - val_accuracy: 0.6663 - val_loss: 0.5458\n",
      "Epoch 106/250\n",
      "\u001b[1m1778/1778\u001b[0m \u001b[32m━━━━━━━━━━━━━━━━━━━━\u001b[0m\u001b[37m\u001b[0m \u001b[1m5s\u001b[0m 3ms/step - accuracy: 0.6655 - loss: 0.5057 - val_accuracy: 0.6628 - val_loss: 0.5467\n",
      "Epoch 107/250\n",
      "\u001b[1m1778/1778\u001b[0m \u001b[32m━━━━━━━━━━━━━━━━━━━━\u001b[0m\u001b[37m\u001b[0m \u001b[1m6s\u001b[0m 3ms/step - accuracy: 0.6658 - loss: 0.5137 - val_accuracy: 0.6629 - val_loss: 0.5458\n",
      "Epoch 108/250\n",
      "\u001b[1m1778/1778\u001b[0m \u001b[32m━━━━━━━━━━━━━━━━━━━━\u001b[0m\u001b[37m\u001b[0m \u001b[1m10s\u001b[0m 3ms/step - accuracy: 0.6649 - loss: 0.5199 - val_accuracy: 0.6651 - val_loss: 0.5494\n",
      "Epoch 109/250\n",
      "\u001b[1m1778/1778\u001b[0m \u001b[32m━━━━━━━━━━━━━━━━━━━━\u001b[0m\u001b[37m\u001b[0m \u001b[1m6s\u001b[0m 3ms/step - accuracy: 0.6648 - loss: 0.5333 - val_accuracy: 0.6690 - val_loss: 0.5470\n",
      "Epoch 110/250\n",
      "\u001b[1m1778/1778\u001b[0m \u001b[32m━━━━━━━━━━━━━━━━━━━━\u001b[0m\u001b[37m\u001b[0m \u001b[1m6s\u001b[0m 3ms/step - accuracy: 0.6662 - loss: 0.5104 - val_accuracy: 0.6642 - val_loss: 0.5457\n",
      "Epoch 111/250\n",
      "\u001b[1m1778/1778\u001b[0m \u001b[32m━━━━━━━━━━━━━━━━━━━━\u001b[0m\u001b[37m\u001b[0m \u001b[1m8s\u001b[0m 4ms/step - accuracy: 0.6639 - loss: 0.5073 - val_accuracy: 0.6675 - val_loss: 0.5450\n",
      "Epoch 112/250\n",
      "\u001b[1m1778/1778\u001b[0m \u001b[32m━━━━━━━━━━━━━━━━━━━━\u001b[0m\u001b[37m\u001b[0m \u001b[1m6s\u001b[0m 3ms/step - accuracy: 0.6634 - loss: 0.5240 - val_accuracy: 0.6713 - val_loss: 0.5459\n",
      "Epoch 113/250\n",
      "\u001b[1m1778/1778\u001b[0m \u001b[32m━━━━━━━━━━━━━━━━━━━━\u001b[0m\u001b[37m\u001b[0m \u001b[1m5s\u001b[0m 3ms/step - accuracy: 0.6646 - loss: 0.5270 - val_accuracy: 0.6653 - val_loss: 0.5452\n",
      "Epoch 114/250\n",
      "\u001b[1m1778/1778\u001b[0m \u001b[32m━━━━━━━━━━━━━━━━━━━━\u001b[0m\u001b[37m\u001b[0m \u001b[1m6s\u001b[0m 4ms/step - accuracy: 0.6667 - loss: 0.5122 - val_accuracy: 0.6653 - val_loss: 0.5470\n",
      "Epoch 115/250\n",
      "\u001b[1m1778/1778\u001b[0m \u001b[32m━━━━━━━━━━━━━━━━━━━━\u001b[0m\u001b[37m\u001b[0m \u001b[1m7s\u001b[0m 4ms/step - accuracy: 0.6633 - loss: 0.5104 - val_accuracy: 0.6644 - val_loss: 0.5454\n",
      "Epoch 116/250\n",
      "\u001b[1m1778/1778\u001b[0m \u001b[32m━━━━━━━━━━━━━━━━━━━━\u001b[0m\u001b[37m\u001b[0m \u001b[1m5s\u001b[0m 3ms/step - accuracy: 0.6657 - loss: 0.5131 - val_accuracy: 0.6572 - val_loss: 0.5460\n",
      "Epoch 117/250\n",
      "\u001b[1m1778/1778\u001b[0m \u001b[32m━━━━━━━━━━━━━━━━━━━━\u001b[0m\u001b[37m\u001b[0m \u001b[1m5s\u001b[0m 3ms/step - accuracy: 0.6666 - loss: 0.5303 - val_accuracy: 0.6631 - val_loss: 0.5455\n",
      "Epoch 118/250\n",
      "\u001b[1m1778/1778\u001b[0m \u001b[32m━━━━━━━━━━━━━━━━━━━━\u001b[0m\u001b[37m\u001b[0m \u001b[1m5s\u001b[0m 3ms/step - accuracy: 0.6654 - loss: 0.5154 - val_accuracy: 0.6514 - val_loss: 0.5485\n",
      "Epoch 119/250\n",
      "\u001b[1m1778/1778\u001b[0m \u001b[32m━━━━━━━━━━━━━━━━━━━━\u001b[0m\u001b[37m\u001b[0m \u001b[1m5s\u001b[0m 3ms/step - accuracy: 0.6654 - loss: 0.5062 - val_accuracy: 0.6676 - val_loss: 0.5456\n",
      "Epoch 120/250\n",
      "\u001b[1m1778/1778\u001b[0m \u001b[32m━━━━━━━━━━━━━━━━━━━━\u001b[0m\u001b[37m\u001b[0m \u001b[1m5s\u001b[0m 3ms/step - accuracy: 0.6679 - loss: 0.4966 - val_accuracy: 0.6698 - val_loss: 0.5459\n",
      "Epoch 121/250\n",
      "\u001b[1m1778/1778\u001b[0m \u001b[32m━━━━━━━━━━━━━━━━━━━━\u001b[0m\u001b[37m\u001b[0m \u001b[1m11s\u001b[0m 3ms/step - accuracy: 0.6659 - loss: 0.5234 - val_accuracy: 0.6550 - val_loss: 0.5465\n",
      "Epoch 122/250\n",
      "\u001b[1m1778/1778\u001b[0m \u001b[32m━━━━━━━━━━━━━━━━━━━━\u001b[0m\u001b[37m\u001b[0m \u001b[1m5s\u001b[0m 3ms/step - accuracy: 0.6653 - loss: 0.5215 - val_accuracy: 0.6582 - val_loss: 0.5484\n",
      "Epoch 123/250\n",
      "\u001b[1m1778/1778\u001b[0m \u001b[32m━━━━━━━━━━━━━━━━━━━━\u001b[0m\u001b[37m\u001b[0m \u001b[1m5s\u001b[0m 3ms/step - accuracy: 0.6666 - loss: 0.5057 - val_accuracy: 0.6638 - val_loss: 0.5450\n",
      "Epoch 124/250\n",
      "\u001b[1m1778/1778\u001b[0m \u001b[32m━━━━━━━━━━━━━━━━━━━━\u001b[0m\u001b[37m\u001b[0m \u001b[1m5s\u001b[0m 3ms/step - accuracy: 0.6670 - loss: 0.5200 - val_accuracy: 0.6593 - val_loss: 0.5499\n",
      "Epoch 125/250\n",
      "\u001b[1m1778/1778\u001b[0m \u001b[32m━━━━━━━━━━━━━━━━━━━━\u001b[0m\u001b[37m\u001b[0m \u001b[1m5s\u001b[0m 3ms/step - accuracy: 0.6664 - loss: 0.5152 - val_accuracy: 0.6645 - val_loss: 0.5465\n",
      "Epoch 126/250\n",
      "\u001b[1m1778/1778\u001b[0m \u001b[32m━━━━━━━━━━━━━━━━━━━━\u001b[0m\u001b[37m\u001b[0m \u001b[1m6s\u001b[0m 4ms/step - accuracy: 0.6671 - loss: 0.5067 - val_accuracy: 0.6639 - val_loss: 0.5458\n",
      "Epoch 127/250\n",
      "\u001b[1m1778/1778\u001b[0m \u001b[32m━━━━━━━━━━━━━━━━━━━━\u001b[0m\u001b[37m\u001b[0m \u001b[1m7s\u001b[0m 4ms/step - accuracy: 0.6673 - loss: 0.5326 - val_accuracy: 0.6691 - val_loss: 0.5459\n",
      "Epoch 128/250\n",
      "\u001b[1m1778/1778\u001b[0m \u001b[32m━━━━━━━━━━━━━━━━━━━━\u001b[0m\u001b[37m\u001b[0m \u001b[1m5s\u001b[0m 3ms/step - accuracy: 0.6667 - loss: 0.5143 - val_accuracy: 0.6602 - val_loss: 0.5455\n",
      "Epoch 129/250\n",
      "\u001b[1m1778/1778\u001b[0m \u001b[32m━━━━━━━━━━━━━━━━━━━━\u001b[0m\u001b[37m\u001b[0m \u001b[1m6s\u001b[0m 3ms/step - accuracy: 0.6657 - loss: 0.5184 - val_accuracy: 0.6680 - val_loss: 0.5457\n",
      "Epoch 130/250\n",
      "\u001b[1m1778/1778\u001b[0m \u001b[32m━━━━━━━━━━━━━━━━━━━━\u001b[0m\u001b[37m\u001b[0m \u001b[1m5s\u001b[0m 3ms/step - accuracy: 0.6677 - loss: 0.5127 - val_accuracy: 0.6642 - val_loss: 0.5448\n",
      "Epoch 131/250\n",
      "\u001b[1m1778/1778\u001b[0m \u001b[32m━━━━━━━━━━━━━━━━━━━━\u001b[0m\u001b[37m\u001b[0m \u001b[1m6s\u001b[0m 3ms/step - accuracy: 0.6676 - loss: 0.5053 - val_accuracy: 0.6603 - val_loss: 0.5455\n",
      "Epoch 132/250\n",
      "\u001b[1m1778/1778\u001b[0m \u001b[32m━━━━━━━━━━━━━━━━━━━━\u001b[0m\u001b[37m\u001b[0m \u001b[1m10s\u001b[0m 3ms/step - accuracy: 0.6672 - loss: 0.5176 - val_accuracy: 0.6699 - val_loss: 0.5455\n",
      "Epoch 133/250\n",
      "\u001b[1m1778/1778\u001b[0m \u001b[32m━━━━━━━━━━━━━━━━━━━━\u001b[0m\u001b[37m\u001b[0m \u001b[1m5s\u001b[0m 3ms/step - accuracy: 0.6652 - loss: 0.5076 - val_accuracy: 0.6647 - val_loss: 0.5444\n",
      "Epoch 134/250\n",
      "\u001b[1m1778/1778\u001b[0m \u001b[32m━━━━━━━━━━━━━━━━━━━━\u001b[0m\u001b[37m\u001b[0m \u001b[1m5s\u001b[0m 3ms/step - accuracy: 0.6668 - loss: 0.5158 - val_accuracy: 0.6512 - val_loss: 0.5474\n",
      "Epoch 135/250\n",
      "\u001b[1m1778/1778\u001b[0m \u001b[32m━━━━━━━━━━━━━━━━━━━━\u001b[0m\u001b[37m\u001b[0m \u001b[1m5s\u001b[0m 3ms/step - accuracy: 0.6643 - loss: 0.5248 - val_accuracy: 0.6638 - val_loss: 0.5457\n",
      "Epoch 136/250\n",
      "\u001b[1m1778/1778\u001b[0m \u001b[32m━━━━━━━━━━━━━━━━━━━━\u001b[0m\u001b[37m\u001b[0m \u001b[1m5s\u001b[0m 3ms/step - accuracy: 0.6679 - loss: 0.5139 - val_accuracy: 0.6634 - val_loss: 0.5444\n",
      "Epoch 137/250\n",
      "\u001b[1m1778/1778\u001b[0m \u001b[32m━━━━━━━━━━━━━━━━━━━━\u001b[0m\u001b[37m\u001b[0m \u001b[1m5s\u001b[0m 3ms/step - accuracy: 0.6652 - loss: 0.5158 - val_accuracy: 0.6630 - val_loss: 0.5459\n",
      "Epoch 138/250\n",
      "\u001b[1m1778/1778\u001b[0m \u001b[32m━━━━━━━━━━━━━━━━━━━━\u001b[0m\u001b[37m\u001b[0m \u001b[1m6s\u001b[0m 3ms/step - accuracy: 0.6656 - loss: 0.5195 - val_accuracy: 0.6609 - val_loss: 0.5450\n",
      "Epoch 139/250\n",
      "\u001b[1m1778/1778\u001b[0m \u001b[32m━━━━━━━━━━━━━━━━━━━━\u001b[0m\u001b[37m\u001b[0m \u001b[1m6s\u001b[0m 3ms/step - accuracy: 0.6667 - loss: 0.5045 - val_accuracy: 0.6619 - val_loss: 0.5467\n",
      "Epoch 140/250\n",
      "\u001b[1m1778/1778\u001b[0m \u001b[32m━━━━━━━━━━━━━━━━━━━━\u001b[0m\u001b[37m\u001b[0m \u001b[1m10s\u001b[0m 3ms/step - accuracy: 0.6663 - loss: 0.5078 - val_accuracy: 0.6624 - val_loss: 0.5456\n",
      "Epoch 141/250\n",
      "\u001b[1m1778/1778\u001b[0m \u001b[32m━━━━━━━━━━━━━━━━━━━━\u001b[0m\u001b[37m\u001b[0m \u001b[1m5s\u001b[0m 3ms/step - accuracy: 0.6681 - loss: 0.5180 - val_accuracy: 0.6745 - val_loss: 0.5442\n",
      "Epoch 142/250\n",
      "\u001b[1m1778/1778\u001b[0m \u001b[32m━━━━━━━━━━━━━━━━━━━━\u001b[0m\u001b[37m\u001b[0m \u001b[1m5s\u001b[0m 3ms/step - accuracy: 0.6686 - loss: 0.5033 - val_accuracy: 0.6615 - val_loss: 0.5450\n",
      "Epoch 143/250\n",
      "\u001b[1m1778/1778\u001b[0m \u001b[32m━━━━━━━━━━━━━━━━━━━━\u001b[0m\u001b[37m\u001b[0m \u001b[1m5s\u001b[0m 3ms/step - accuracy: 0.6638 - loss: 0.5105 - val_accuracy: 0.6642 - val_loss: 0.5452\n",
      "Epoch 144/250\n",
      "\u001b[1m1778/1778\u001b[0m \u001b[32m━━━━━━━━━━━━━━━━━━━━\u001b[0m\u001b[37m\u001b[0m \u001b[1m5s\u001b[0m 3ms/step - accuracy: 0.6681 - loss: 0.5180 - val_accuracy: 0.6659 - val_loss: 0.5465\n",
      "Epoch 145/250\n",
      "\u001b[1m1778/1778\u001b[0m \u001b[32m━━━━━━━━━━━━━━━━━━━━\u001b[0m\u001b[37m\u001b[0m \u001b[1m5s\u001b[0m 3ms/step - accuracy: 0.6696 - loss: 0.5073 - val_accuracy: 0.6691 - val_loss: 0.5442\n",
      "Epoch 146/250\n",
      "\u001b[1m1778/1778\u001b[0m \u001b[32m━━━━━━━━━━━━━━━━━━━━\u001b[0m\u001b[37m\u001b[0m \u001b[1m5s\u001b[0m 3ms/step - accuracy: 0.6652 - loss: 0.5397 - val_accuracy: 0.6678 - val_loss: 0.5458\n",
      "Epoch 147/250\n",
      "\u001b[1m1778/1778\u001b[0m \u001b[32m━━━━━━━━━━━━━━━━━━━━\u001b[0m\u001b[37m\u001b[0m \u001b[1m5s\u001b[0m 3ms/step - accuracy: 0.6670 - loss: 0.4994 - val_accuracy: 0.6648 - val_loss: 0.5476\n",
      "Epoch 148/250\n",
      "\u001b[1m1778/1778\u001b[0m \u001b[32m━━━━━━━━━━━━━━━━━━━━\u001b[0m\u001b[37m\u001b[0m \u001b[1m5s\u001b[0m 3ms/step - accuracy: 0.6675 - loss: 0.5177 - val_accuracy: 0.6654 - val_loss: 0.5452\n",
      "Epoch 149/250\n",
      "\u001b[1m1778/1778\u001b[0m \u001b[32m━━━━━━━━━━━━━━━━━━━━\u001b[0m\u001b[37m\u001b[0m \u001b[1m6s\u001b[0m 3ms/step - accuracy: 0.6671 - loss: 0.5233 - val_accuracy: 0.6707 - val_loss: 0.5437\n",
      "Epoch 150/250\n",
      "\u001b[1m1778/1778\u001b[0m \u001b[32m━━━━━━━━━━━━━━━━━━━━\u001b[0m\u001b[37m\u001b[0m \u001b[1m5s\u001b[0m 3ms/step - accuracy: 0.6661 - loss: 0.5149 - val_accuracy: 0.6658 - val_loss: 0.5446\n",
      "Epoch 151/250\n",
      "\u001b[1m1778/1778\u001b[0m \u001b[32m━━━━━━━━━━━━━━━━━━━━\u001b[0m\u001b[37m\u001b[0m \u001b[1m5s\u001b[0m 3ms/step - accuracy: 0.6663 - loss: 0.5154 - val_accuracy: 0.6628 - val_loss: 0.5457\n",
      "Epoch 152/250\n",
      "\u001b[1m1778/1778\u001b[0m \u001b[32m━━━━━━━━━━━━━━━━━━━━\u001b[0m\u001b[37m\u001b[0m \u001b[1m6s\u001b[0m 3ms/step - accuracy: 0.6661 - loss: 0.5066 - val_accuracy: 0.6539 - val_loss: 0.5494\n",
      "Epoch 153/250\n",
      "\u001b[1m1778/1778\u001b[0m \u001b[32m━━━━━━━━━━━━━━━━━━━━\u001b[0m\u001b[37m\u001b[0m \u001b[1m6s\u001b[0m 3ms/step - accuracy: 0.6662 - loss: 0.5043 - val_accuracy: 0.6593 - val_loss: 0.5460\n",
      "Epoch 154/250\n",
      "\u001b[1m1778/1778\u001b[0m \u001b[32m━━━━━━━━━━━━━━━━━━━━\u001b[0m\u001b[37m\u001b[0m \u001b[1m5s\u001b[0m 3ms/step - accuracy: 0.6662 - loss: 0.5099 - val_accuracy: 0.6623 - val_loss: 0.5457\n",
      "Epoch 155/250\n",
      "\u001b[1m1778/1778\u001b[0m \u001b[32m━━━━━━━━━━━━━━━━━━━━\u001b[0m\u001b[37m\u001b[0m \u001b[1m6s\u001b[0m 3ms/step - accuracy: 0.6638 - loss: 0.5013 - val_accuracy: 0.6645 - val_loss: 0.5446\n",
      "Epoch 156/250\n",
      "\u001b[1m1778/1778\u001b[0m \u001b[32m━━━━━━━━━━━━━━━━━━━━\u001b[0m\u001b[37m\u001b[0m \u001b[1m5s\u001b[0m 3ms/step - accuracy: 0.6650 - loss: 0.5082 - val_accuracy: 0.6590 - val_loss: 0.5452\n",
      "Epoch 157/250\n",
      "\u001b[1m1778/1778\u001b[0m \u001b[32m━━━━━━━━━━━━━━━━━━━━\u001b[0m\u001b[37m\u001b[0m \u001b[1m6s\u001b[0m 3ms/step - accuracy: 0.6674 - loss: 0.4959 - val_accuracy: 0.6604 - val_loss: 0.5445\n",
      "Epoch 158/250\n",
      "\u001b[1m1778/1778\u001b[0m \u001b[32m━━━━━━━━━━━━━━━━━━━━\u001b[0m\u001b[37m\u001b[0m \u001b[1m7s\u001b[0m 4ms/step - accuracy: 0.6649 - loss: 0.4998 - val_accuracy: 0.6654 - val_loss: 0.5459\n",
      "Epoch 159/250\n",
      "\u001b[1m1778/1778\u001b[0m \u001b[32m━━━━━━━━━━━━━━━━━━━━\u001b[0m\u001b[37m\u001b[0m \u001b[1m5s\u001b[0m 3ms/step - accuracy: 0.6665 - loss: 0.5079 - val_accuracy: 0.6648 - val_loss: 0.5451\n",
      "Epoch 160/250\n",
      "\u001b[1m1778/1778\u001b[0m \u001b[32m━━━━━━━━━━━━━━━━━━━━\u001b[0m\u001b[37m\u001b[0m \u001b[1m5s\u001b[0m 3ms/step - accuracy: 0.6669 - loss: 0.5151 - val_accuracy: 0.6694 - val_loss: 0.5434\n",
      "Epoch 161/250\n",
      "\u001b[1m1778/1778\u001b[0m \u001b[32m━━━━━━━━━━━━━━━━━━━━\u001b[0m\u001b[37m\u001b[0m \u001b[1m6s\u001b[0m 3ms/step - accuracy: 0.6654 - loss: 0.5283 - val_accuracy: 0.6588 - val_loss: 0.5453\n",
      "Epoch 162/250\n",
      "\u001b[1m1778/1778\u001b[0m \u001b[32m━━━━━━━━━━━━━━━━━━━━\u001b[0m\u001b[37m\u001b[0m \u001b[1m6s\u001b[0m 4ms/step - accuracy: 0.6647 - loss: 0.5124 - val_accuracy: 0.6359 - val_loss: 0.5704\n",
      "Epoch 163/250\n",
      "\u001b[1m1778/1778\u001b[0m \u001b[32m━━━━━━━━━━━━━━━━━━━━\u001b[0m\u001b[37m\u001b[0m \u001b[1m9s\u001b[0m 3ms/step - accuracy: 0.6637 - loss: 0.5207 - val_accuracy: 0.6563 - val_loss: 0.5458\n",
      "Epoch 164/250\n",
      "\u001b[1m1778/1778\u001b[0m \u001b[32m━━━━━━━━━━━━━━━━━━━━\u001b[0m\u001b[37m\u001b[0m \u001b[1m5s\u001b[0m 3ms/step - accuracy: 0.6637 - loss: 0.5064 - val_accuracy: 0.6644 - val_loss: 0.5459\n",
      "Epoch 165/250\n",
      "\u001b[1m1778/1778\u001b[0m \u001b[32m━━━━━━━━━━━━━━━━━━━━\u001b[0m\u001b[37m\u001b[0m \u001b[1m6s\u001b[0m 3ms/step - accuracy: 0.6654 - loss: 0.5159 - val_accuracy: 0.6681 - val_loss: 0.5439\n",
      "Epoch 166/250\n",
      "\u001b[1m1778/1778\u001b[0m \u001b[32m━━━━━━━━━━━━━━━━━━━━\u001b[0m\u001b[37m\u001b[0m \u001b[1m8s\u001b[0m 5ms/step - accuracy: 0.6680 - loss: 0.5087 - val_accuracy: 0.6655 - val_loss: 0.5444\n",
      "Epoch 167/250\n",
      "\u001b[1m1778/1778\u001b[0m \u001b[32m━━━━━━━━━━━━━━━━━━━━\u001b[0m\u001b[37m\u001b[0m \u001b[1m5s\u001b[0m 3ms/step - accuracy: 0.6680 - loss: 0.5062 - val_accuracy: 0.6590 - val_loss: 0.5451\n",
      "Epoch 168/250\n",
      "\u001b[1m1778/1778\u001b[0m \u001b[32m━━━━━━━━━━━━━━━━━━━━\u001b[0m\u001b[37m\u001b[0m \u001b[1m5s\u001b[0m 3ms/step - accuracy: 0.6652 - loss: 0.5267 - val_accuracy: 0.6598 - val_loss: 0.5461\n",
      "Epoch 169/250\n",
      "\u001b[1m1778/1778\u001b[0m \u001b[32m━━━━━━━━━━━━━━━━━━━━\u001b[0m\u001b[37m\u001b[0m \u001b[1m5s\u001b[0m 3ms/step - accuracy: 0.6648 - loss: 0.5103 - val_accuracy: 0.6482 - val_loss: 0.5486\n",
      "Epoch 170/250\n",
      "\u001b[1m1778/1778\u001b[0m \u001b[32m━━━━━━━━━━━━━━━━━━━━\u001b[0m\u001b[37m\u001b[0m \u001b[1m5s\u001b[0m 3ms/step - accuracy: 0.6653 - loss: 0.5038 - val_accuracy: 0.6565 - val_loss: 0.5466\n",
      "Epoch 171/250\n",
      "\u001b[1m1778/1778\u001b[0m \u001b[32m━━━━━━━━━━━━━━━━━━━━\u001b[0m\u001b[37m\u001b[0m \u001b[1m5s\u001b[0m 3ms/step - accuracy: 0.6661 - loss: 0.5103 - val_accuracy: 0.6561 - val_loss: 0.5444\n",
      "Epoch 172/250\n",
      "\u001b[1m1778/1778\u001b[0m \u001b[32m━━━━━━━━━━━━━━━━━━━━\u001b[0m\u001b[37m\u001b[0m \u001b[1m6s\u001b[0m 3ms/step - accuracy: 0.6662 - loss: 0.5142 - val_accuracy: 0.6644 - val_loss: 0.5438\n",
      "Epoch 173/250\n",
      "\u001b[1m1778/1778\u001b[0m \u001b[32m━━━━━━━━━━━━━━━━━━━━\u001b[0m\u001b[37m\u001b[0m \u001b[1m6s\u001b[0m 3ms/step - accuracy: 0.6660 - loss: 0.5050 - val_accuracy: 0.6641 - val_loss: 0.5440\n",
      "Epoch 174/250\n",
      "\u001b[1m1778/1778\u001b[0m \u001b[32m━━━━━━━━━━━━━━━━━━━━\u001b[0m\u001b[37m\u001b[0m \u001b[1m7s\u001b[0m 4ms/step - accuracy: 0.6648 - loss: 0.5083 - val_accuracy: 0.6585 - val_loss: 0.5452\n",
      "Epoch 175/250\n",
      "\u001b[1m1778/1778\u001b[0m \u001b[32m━━━━━━━━━━━━━━━━━━━━\u001b[0m\u001b[37m\u001b[0m \u001b[1m6s\u001b[0m 3ms/step - accuracy: 0.6660 - loss: 0.5002 - val_accuracy: 0.6673 - val_loss: 0.5436\n",
      "Epoch 176/250\n",
      "\u001b[1m1778/1778\u001b[0m \u001b[32m━━━━━━━━━━━━━━━━━━━━\u001b[0m\u001b[37m\u001b[0m \u001b[1m5s\u001b[0m 3ms/step - accuracy: 0.6657 - loss: 0.5202 - val_accuracy: 0.6632 - val_loss: 0.5445\n",
      "Epoch 177/250\n",
      "\u001b[1m1778/1778\u001b[0m \u001b[32m━━━━━━━━━━━━━━━━━━━━\u001b[0m\u001b[37m\u001b[0m \u001b[1m5s\u001b[0m 3ms/step - accuracy: 0.6665 - loss: 0.5048 - val_accuracy: 0.6676 - val_loss: 0.5433\n",
      "Epoch 178/250\n",
      "\u001b[1m1778/1778\u001b[0m \u001b[32m━━━━━━━━━━━━━━━━━━━━\u001b[0m\u001b[37m\u001b[0m \u001b[1m6s\u001b[0m 3ms/step - accuracy: 0.6656 - loss: 0.5241 - val_accuracy: 0.6650 - val_loss: 0.5458\n",
      "Epoch 179/250\n",
      "\u001b[1m1778/1778\u001b[0m \u001b[32m━━━━━━━━━━━━━━━━━━━━\u001b[0m\u001b[37m\u001b[0m \u001b[1m6s\u001b[0m 4ms/step - accuracy: 0.6647 - loss: 0.5099 - val_accuracy: 0.6658 - val_loss: 0.5432\n",
      "Epoch 180/250\n",
      "\u001b[1m1778/1778\u001b[0m \u001b[32m━━━━━━━━━━━━━━━━━━━━\u001b[0m\u001b[37m\u001b[0m \u001b[1m10s\u001b[0m 4ms/step - accuracy: 0.6670 - loss: 0.4995 - val_accuracy: 0.6627 - val_loss: 0.5435\n",
      "Epoch 181/250\n",
      "\u001b[1m1778/1778\u001b[0m \u001b[32m━━━━━━━━━━━━━━━━━━━━\u001b[0m\u001b[37m\u001b[0m \u001b[1m5s\u001b[0m 3ms/step - accuracy: 0.6659 - loss: 0.5108 - val_accuracy: 0.6674 - val_loss: 0.5437\n",
      "Epoch 182/250\n",
      "\u001b[1m1778/1778\u001b[0m \u001b[32m━━━━━━━━━━━━━━━━━━━━\u001b[0m\u001b[37m\u001b[0m \u001b[1m7s\u001b[0m 4ms/step - accuracy: 0.6672 - loss: 0.5120 - val_accuracy: 0.6660 - val_loss: 0.5439\n",
      "Epoch 183/250\n",
      "\u001b[1m1778/1778\u001b[0m \u001b[32m━━━━━━━━━━━━━━━━━━━━\u001b[0m\u001b[37m\u001b[0m \u001b[1m9s\u001b[0m 3ms/step - accuracy: 0.6670 - loss: 0.5022 - val_accuracy: 0.6644 - val_loss: 0.5440\n",
      "Epoch 184/250\n",
      "\u001b[1m1778/1778\u001b[0m \u001b[32m━━━━━━━━━━━━━━━━━━━━\u001b[0m\u001b[37m\u001b[0m \u001b[1m5s\u001b[0m 3ms/step - accuracy: 0.6658 - loss: 0.5032 - val_accuracy: 0.6600 - val_loss: 0.5476\n",
      "Epoch 185/250\n",
      "\u001b[1m1778/1778\u001b[0m \u001b[32m━━━━━━━━━━━━━━━━━━━━\u001b[0m\u001b[37m\u001b[0m \u001b[1m5s\u001b[0m 3ms/step - accuracy: 0.6668 - loss: 0.4946 - val_accuracy: 0.6681 - val_loss: 0.5449\n",
      "Epoch 186/250\n",
      "\u001b[1m1778/1778\u001b[0m \u001b[32m━━━━━━━━━━━━━━━━━━━━\u001b[0m\u001b[37m\u001b[0m \u001b[1m6s\u001b[0m 3ms/step - accuracy: 0.6642 - loss: 0.5162 - val_accuracy: 0.6622 - val_loss: 0.5441\n",
      "Epoch 187/250\n",
      "\u001b[1m1778/1778\u001b[0m \u001b[32m━━━━━━━━━━━━━━━━━━━━\u001b[0m\u001b[37m\u001b[0m \u001b[1m5s\u001b[0m 3ms/step - accuracy: 0.6679 - loss: 0.5077 - val_accuracy: 0.6642 - val_loss: 0.5439\n",
      "Epoch 188/250\n",
      "\u001b[1m1778/1778\u001b[0m \u001b[32m━━━━━━━━━━━━━━━━━━━━\u001b[0m\u001b[37m\u001b[0m \u001b[1m5s\u001b[0m 3ms/step - accuracy: 0.6675 - loss: 0.5284 - val_accuracy: 0.6635 - val_loss: 0.5429\n",
      "Epoch 189/250\n",
      "\u001b[1m1778/1778\u001b[0m \u001b[32m━━━━━━━━━━━━━━━━━━━━\u001b[0m\u001b[37m\u001b[0m \u001b[1m5s\u001b[0m 3ms/step - accuracy: 0.6677 - loss: 0.5113 - val_accuracy: 0.6661 - val_loss: 0.5430\n",
      "Epoch 190/250\n",
      "\u001b[1m1778/1778\u001b[0m \u001b[32m━━━━━━━━━━━━━━━━━━━━\u001b[0m\u001b[37m\u001b[0m \u001b[1m6s\u001b[0m 3ms/step - accuracy: 0.6662 - loss: 0.5115 - val_accuracy: 0.6596 - val_loss: 0.5443\n",
      "Epoch 191/250\n",
      "\u001b[1m1778/1778\u001b[0m \u001b[32m━━━━━━━━━━━━━━━━━━━━\u001b[0m\u001b[37m\u001b[0m \u001b[1m6s\u001b[0m 3ms/step - accuracy: 0.6659 - loss: 0.5028 - val_accuracy: 0.6697 - val_loss: 0.5432\n",
      "Epoch 192/250\n",
      "\u001b[1m1778/1778\u001b[0m \u001b[32m━━━━━━━━━━━━━━━━━━━━\u001b[0m\u001b[37m\u001b[0m \u001b[1m5s\u001b[0m 3ms/step - accuracy: 0.6655 - loss: 0.4973 - val_accuracy: 0.6619 - val_loss: 0.5451\n",
      "Epoch 193/250\n",
      "\u001b[1m1778/1778\u001b[0m \u001b[32m━━━━━━━━━━━━━━━━━━━━\u001b[0m\u001b[37m\u001b[0m \u001b[1m5s\u001b[0m 3ms/step - accuracy: 0.6651 - loss: 0.5080 - val_accuracy: 0.6564 - val_loss: 0.5454\n",
      "Epoch 194/250\n",
      "\u001b[1m1778/1778\u001b[0m \u001b[32m━━━━━━━━━━━━━━━━━━━━\u001b[0m\u001b[37m\u001b[0m \u001b[1m5s\u001b[0m 3ms/step - accuracy: 0.6671 - loss: 0.5115 - val_accuracy: 0.6611 - val_loss: 0.5437\n",
      "Epoch 195/250\n",
      "\u001b[1m1778/1778\u001b[0m \u001b[32m━━━━━━━━━━━━━━━━━━━━\u001b[0m\u001b[37m\u001b[0m \u001b[1m5s\u001b[0m 3ms/step - accuracy: 0.6681 - loss: 0.5033 - val_accuracy: 0.6683 - val_loss: 0.5431\n",
      "Epoch 196/250\n",
      "\u001b[1m1778/1778\u001b[0m \u001b[32m━━━━━━━━━━━━━━━━━━━━\u001b[0m\u001b[37m\u001b[0m \u001b[1m6s\u001b[0m 3ms/step - accuracy: 0.6672 - loss: 0.5081 - val_accuracy: 0.6608 - val_loss: 0.5435\n",
      "Epoch 197/250\n"
     ]
    },
    {
     "name": "stdout",
     "output_type": "stream",
     "text": [
      "\u001b[1m1778/1778\u001b[0m \u001b[32m━━━━━━━━━━━━━━━━━━━━\u001b[0m\u001b[37m\u001b[0m \u001b[1m5s\u001b[0m 3ms/step - accuracy: 0.6664 - loss: 0.5089 - val_accuracy: 0.6608 - val_loss: 0.5433\n",
      "Epoch 198/250\n",
      "\u001b[1m1778/1778\u001b[0m \u001b[32m━━━━━━━━━━━━━━━━━━━━\u001b[0m\u001b[37m\u001b[0m \u001b[1m5s\u001b[0m 3ms/step - accuracy: 0.6650 - loss: 0.5159 - val_accuracy: 0.6619 - val_loss: 0.5432\n",
      "Epoch 199/250\n",
      "\u001b[1m1778/1778\u001b[0m \u001b[32m━━━━━━━━━━━━━━━━━━━━\u001b[0m\u001b[37m\u001b[0m \u001b[1m5s\u001b[0m 3ms/step - accuracy: 0.6669 - loss: 0.5168 - val_accuracy: 0.6614 - val_loss: 0.5439\n",
      "Epoch 200/250\n",
      "\u001b[1m1778/1778\u001b[0m \u001b[32m━━━━━━━━━━━━━━━━━━━━\u001b[0m\u001b[37m\u001b[0m \u001b[1m5s\u001b[0m 3ms/step - accuracy: 0.6680 - loss: 0.5065 - val_accuracy: 0.6646 - val_loss: 0.5455\n",
      "Epoch 201/250\n",
      "\u001b[1m1778/1778\u001b[0m \u001b[32m━━━━━━━━━━━━━━━━━━━━\u001b[0m\u001b[37m\u001b[0m \u001b[1m6s\u001b[0m 3ms/step - accuracy: 0.6686 - loss: 0.5040 - val_accuracy: 0.6569 - val_loss: 0.5433\n",
      "Epoch 202/250\n",
      "\u001b[1m1778/1778\u001b[0m \u001b[32m━━━━━━━━━━━━━━━━━━━━\u001b[0m\u001b[37m\u001b[0m \u001b[1m10s\u001b[0m 3ms/step - accuracy: 0.6658 - loss: 0.5154 - val_accuracy: 0.6590 - val_loss: 0.5477\n",
      "Epoch 203/250\n",
      "\u001b[1m1778/1778\u001b[0m \u001b[32m━━━━━━━━━━━━━━━━━━━━\u001b[0m\u001b[37m\u001b[0m \u001b[1m6s\u001b[0m 3ms/step - accuracy: 0.6648 - loss: 0.5176 - val_accuracy: 0.6581 - val_loss: 0.5451\n",
      "Epoch 204/250\n",
      "\u001b[1m1778/1778\u001b[0m \u001b[32m━━━━━━━━━━━━━━━━━━━━\u001b[0m\u001b[37m\u001b[0m \u001b[1m5s\u001b[0m 3ms/step - accuracy: 0.6656 - loss: 0.4996 - val_accuracy: 0.6560 - val_loss: 0.5442\n",
      "Epoch 205/250\n",
      "\u001b[1m1778/1778\u001b[0m \u001b[32m━━━━━━━━━━━━━━━━━━━━\u001b[0m\u001b[37m\u001b[0m \u001b[1m5s\u001b[0m 3ms/step - accuracy: 0.6659 - loss: 0.5206 - val_accuracy: 0.6665 - val_loss: 0.5441\n",
      "Epoch 206/250\n",
      "\u001b[1m1778/1778\u001b[0m \u001b[32m━━━━━━━━━━━━━━━━━━━━\u001b[0m\u001b[37m\u001b[0m \u001b[1m5s\u001b[0m 3ms/step - accuracy: 0.6656 - loss: 0.5070 - val_accuracy: 0.6706 - val_loss: 0.5430\n",
      "Epoch 207/250\n",
      "\u001b[1m1778/1778\u001b[0m \u001b[32m━━━━━━━━━━━━━━━━━━━━\u001b[0m\u001b[37m\u001b[0m \u001b[1m10s\u001b[0m 3ms/step - accuracy: 0.6666 - loss: 0.5067 - val_accuracy: 0.6590 - val_loss: 0.5449\n",
      "Epoch 208/250\n",
      "\u001b[1m1778/1778\u001b[0m \u001b[32m━━━━━━━━━━━━━━━━━━━━\u001b[0m\u001b[37m\u001b[0m \u001b[1m6s\u001b[0m 3ms/step - accuracy: 0.6647 - loss: 0.5066 - val_accuracy: 0.6650 - val_loss: 0.5432\n",
      "Epoch 209/250\n",
      "\u001b[1m1778/1778\u001b[0m \u001b[32m━━━━━━━━━━━━━━━━━━━━\u001b[0m\u001b[37m\u001b[0m \u001b[1m10s\u001b[0m 3ms/step - accuracy: 0.6664 - loss: 0.5077 - val_accuracy: 0.6614 - val_loss: 0.5444\n",
      "Epoch 210/250\n",
      "\u001b[1m1778/1778\u001b[0m \u001b[32m━━━━━━━━━━━━━━━━━━━━\u001b[0m\u001b[37m\u001b[0m \u001b[1m6s\u001b[0m 3ms/step - accuracy: 0.6655 - loss: 0.5071 - val_accuracy: 0.6557 - val_loss: 0.5440\n",
      "Epoch 211/250\n",
      "\u001b[1m1778/1778\u001b[0m \u001b[32m━━━━━━━━━━━━━━━━━━━━\u001b[0m\u001b[37m\u001b[0m \u001b[1m5s\u001b[0m 3ms/step - accuracy: 0.6659 - loss: 0.5109 - val_accuracy: 0.6632 - val_loss: 0.5434\n",
      "Epoch 212/250\n",
      "\u001b[1m1778/1778\u001b[0m \u001b[32m━━━━━━━━━━━━━━━━━━━━\u001b[0m\u001b[37m\u001b[0m \u001b[1m5s\u001b[0m 3ms/step - accuracy: 0.6657 - loss: 0.5047 - val_accuracy: 0.6560 - val_loss: 0.5450\n",
      "Epoch 213/250\n",
      "\u001b[1m1778/1778\u001b[0m \u001b[32m━━━━━━━━━━━━━━━━━━━━\u001b[0m\u001b[37m\u001b[0m \u001b[1m6s\u001b[0m 3ms/step - accuracy: 0.6662 - loss: 0.5236 - val_accuracy: 0.6667 - val_loss: 0.5425\n",
      "Epoch 214/250\n",
      "\u001b[1m1778/1778\u001b[0m \u001b[32m━━━━━━━━━━━━━━━━━━━━\u001b[0m\u001b[37m\u001b[0m \u001b[1m6s\u001b[0m 4ms/step - accuracy: 0.6666 - loss: 0.5250 - val_accuracy: 0.6612 - val_loss: 0.5432\n",
      "Epoch 215/250\n",
      "\u001b[1m1778/1778\u001b[0m \u001b[32m━━━━━━━━━━━━━━━━━━━━\u001b[0m\u001b[37m\u001b[0m \u001b[1m5s\u001b[0m 3ms/step - accuracy: 0.6658 - loss: 0.5146 - val_accuracy: 0.6626 - val_loss: 0.5468\n",
      "Epoch 216/250\n",
      "\u001b[1m1778/1778\u001b[0m \u001b[32m━━━━━━━━━━━━━━━━━━━━\u001b[0m\u001b[37m\u001b[0m \u001b[1m5s\u001b[0m 3ms/step - accuracy: 0.6655 - loss: 0.5030 - val_accuracy: 0.6619 - val_loss: 0.5430\n",
      "Epoch 217/250\n",
      "\u001b[1m1778/1778\u001b[0m \u001b[32m━━━━━━━━━━━━━━━━━━━━\u001b[0m\u001b[37m\u001b[0m \u001b[1m5s\u001b[0m 3ms/step - accuracy: 0.6649 - loss: 0.5114 - val_accuracy: 0.6617 - val_loss: 0.5438\n",
      "Epoch 218/250\n",
      "\u001b[1m1778/1778\u001b[0m \u001b[32m━━━━━━━━━━━━━━━━━━━━\u001b[0m\u001b[37m\u001b[0m \u001b[1m5s\u001b[0m 3ms/step - accuracy: 0.6648 - loss: 0.5143 - val_accuracy: 0.6621 - val_loss: 0.5437\n",
      "Epoch 219/250\n",
      "\u001b[1m1778/1778\u001b[0m \u001b[32m━━━━━━━━━━━━━━━━━━━━\u001b[0m\u001b[37m\u001b[0m \u001b[1m6s\u001b[0m 3ms/step - accuracy: 0.6659 - loss: 0.5072 - val_accuracy: 0.6644 - val_loss: 0.5424\n",
      "Epoch 220/250\n",
      "\u001b[1m1778/1778\u001b[0m \u001b[32m━━━━━━━━━━━━━━━━━━━━\u001b[0m\u001b[37m\u001b[0m \u001b[1m7s\u001b[0m 4ms/step - accuracy: 0.6643 - loss: 0.5065 - val_accuracy: 0.6528 - val_loss: 0.5444\n",
      "Epoch 221/250\n",
      "\u001b[1m1778/1778\u001b[0m \u001b[32m━━━━━━━━━━━━━━━━━━━━\u001b[0m\u001b[37m\u001b[0m \u001b[1m8s\u001b[0m 3ms/step - accuracy: 0.6640 - loss: 0.5009 - val_accuracy: 0.6612 - val_loss: 0.5441\n",
      "Epoch 222/250\n",
      "\u001b[1m1778/1778\u001b[0m \u001b[32m━━━━━━━━━━━━━━━━━━━━\u001b[0m\u001b[37m\u001b[0m \u001b[1m5s\u001b[0m 3ms/step - accuracy: 0.6640 - loss: 0.5239 - val_accuracy: 0.6657 - val_loss: 0.5427\n",
      "Epoch 223/250\n",
      "\u001b[1m1778/1778\u001b[0m \u001b[32m━━━━━━━━━━━━━━━━━━━━\u001b[0m\u001b[37m\u001b[0m \u001b[1m5s\u001b[0m 3ms/step - accuracy: 0.6667 - loss: 0.4949 - val_accuracy: 0.6640 - val_loss: 0.5440\n",
      "Epoch 224/250\n",
      "\u001b[1m1778/1778\u001b[0m \u001b[32m━━━━━━━━━━━━━━━━━━━━\u001b[0m\u001b[37m\u001b[0m \u001b[1m6s\u001b[0m 3ms/step - accuracy: 0.6637 - loss: 0.5143 - val_accuracy: 0.6671 - val_loss: 0.5423\n",
      "Epoch 225/250\n",
      "\u001b[1m1778/1778\u001b[0m \u001b[32m━━━━━━━━━━━━━━━━━━━━\u001b[0m\u001b[37m\u001b[0m \u001b[1m5s\u001b[0m 3ms/step - accuracy: 0.6638 - loss: 0.5082 - val_accuracy: 0.6579 - val_loss: 0.5440\n",
      "Epoch 226/250\n",
      "\u001b[1m1778/1778\u001b[0m \u001b[32m━━━━━━━━━━━━━━━━━━━━\u001b[0m\u001b[37m\u001b[0m \u001b[1m5s\u001b[0m 3ms/step - accuracy: 0.6669 - loss: 0.5043 - val_accuracy: 0.6650 - val_loss: 0.5430\n",
      "Epoch 227/250\n",
      "\u001b[1m1778/1778\u001b[0m \u001b[32m━━━━━━━━━━━━━━━━━━━━\u001b[0m\u001b[37m\u001b[0m \u001b[1m5s\u001b[0m 3ms/step - accuracy: 0.6665 - loss: 0.5158 - val_accuracy: 0.6582 - val_loss: 0.5446\n",
      "Epoch 228/250\n",
      "\u001b[1m1778/1778\u001b[0m \u001b[32m━━━━━━━━━━━━━━━━━━━━\u001b[0m\u001b[37m\u001b[0m \u001b[1m5s\u001b[0m 3ms/step - accuracy: 0.6629 - loss: 0.5074 - val_accuracy: 0.6710 - val_loss: 0.5446\n",
      "Epoch 229/250\n",
      "\u001b[1m1778/1778\u001b[0m \u001b[32m━━━━━━━━━━━━━━━━━━━━\u001b[0m\u001b[37m\u001b[0m \u001b[1m5s\u001b[0m 3ms/step - accuracy: 0.6647 - loss: 0.5043 - val_accuracy: 0.6580 - val_loss: 0.5425\n",
      "Epoch 230/250\n",
      "\u001b[1m1778/1778\u001b[0m \u001b[32m━━━━━━━━━━━━━━━━━━━━\u001b[0m\u001b[37m\u001b[0m \u001b[1m5s\u001b[0m 3ms/step - accuracy: 0.6679 - loss: 0.5086 - val_accuracy: 0.6626 - val_loss: 0.5457\n",
      "Epoch 231/250\n",
      "\u001b[1m1778/1778\u001b[0m \u001b[32m━━━━━━━━━━━━━━━━━━━━\u001b[0m\u001b[37m\u001b[0m \u001b[1m5s\u001b[0m 3ms/step - accuracy: 0.6636 - loss: 0.5142 - val_accuracy: 0.6643 - val_loss: 0.5426\n",
      "Epoch 232/250\n",
      "\u001b[1m1778/1778\u001b[0m \u001b[32m━━━━━━━━━━━━━━━━━━━━\u001b[0m\u001b[37m\u001b[0m \u001b[1m6s\u001b[0m 3ms/step - accuracy: 0.6646 - loss: 0.5179 - val_accuracy: 0.6643 - val_loss: 0.5428\n",
      "Epoch 233/250\n",
      "\u001b[1m1778/1778\u001b[0m \u001b[32m━━━━━━━━━━━━━━━━━━━━\u001b[0m\u001b[37m\u001b[0m \u001b[1m10s\u001b[0m 3ms/step - accuracy: 0.6632 - loss: 0.5081 - val_accuracy: 0.6417 - val_loss: 0.5564\n",
      "Epoch 234/250\n",
      "\u001b[1m1778/1778\u001b[0m \u001b[32m━━━━━━━━━━━━━━━━━━━━\u001b[0m\u001b[37m\u001b[0m \u001b[1m5s\u001b[0m 3ms/step - accuracy: 0.6642 - loss: 0.5021 - val_accuracy: 0.6694 - val_loss: 0.5429\n",
      "Epoch 235/250\n",
      "\u001b[1m1778/1778\u001b[0m \u001b[32m━━━━━━━━━━━━━━━━━━━━\u001b[0m\u001b[37m\u001b[0m \u001b[1m5s\u001b[0m 3ms/step - accuracy: 0.6645 - loss: 0.5300 - val_accuracy: 0.6508 - val_loss: 0.5440\n",
      "Epoch 236/250\n",
      "\u001b[1m1778/1778\u001b[0m \u001b[32m━━━━━━━━━━━━━━━━━━━━\u001b[0m\u001b[37m\u001b[0m \u001b[1m6s\u001b[0m 3ms/step - accuracy: 0.6628 - loss: 0.5224 - val_accuracy: 0.6664 - val_loss: 0.5424\n",
      "Epoch 237/250\n",
      "\u001b[1m1778/1778\u001b[0m \u001b[32m━━━━━━━━━━━━━━━━━━━━\u001b[0m\u001b[37m\u001b[0m \u001b[1m5s\u001b[0m 3ms/step - accuracy: 0.6661 - loss: 0.5021 - val_accuracy: 0.6585 - val_loss: 0.5430\n",
      "Epoch 238/250\n",
      "\u001b[1m1778/1778\u001b[0m \u001b[32m━━━━━━━━━━━━━━━━━━━━\u001b[0m\u001b[37m\u001b[0m \u001b[1m5s\u001b[0m 3ms/step - accuracy: 0.6653 - loss: 0.5060 - val_accuracy: 0.6633 - val_loss: 0.5431\n",
      "Epoch 239/250\n",
      "\u001b[1m1778/1778\u001b[0m \u001b[32m━━━━━━━━━━━━━━━━━━━━\u001b[0m\u001b[37m\u001b[0m \u001b[1m6s\u001b[0m 3ms/step - accuracy: 0.6656 - loss: 0.4946 - val_accuracy: 0.6634 - val_loss: 0.5442\n",
      "Epoch 240/250\n",
      "\u001b[1m1778/1778\u001b[0m \u001b[32m━━━━━━━━━━━━━━━━━━━━\u001b[0m\u001b[37m\u001b[0m \u001b[1m6s\u001b[0m 3ms/step - accuracy: 0.6639 - loss: 0.5055 - val_accuracy: 0.6595 - val_loss: 0.5441\n",
      "Epoch 241/250\n",
      "\u001b[1m1778/1778\u001b[0m \u001b[32m━━━━━━━━━━━━━━━━━━━━\u001b[0m\u001b[37m\u001b[0m \u001b[1m5s\u001b[0m 3ms/step - accuracy: 0.6666 - loss: 0.5163 - val_accuracy: 0.5641 - val_loss: 0.5861\n",
      "Epoch 242/250\n",
      "\u001b[1m1778/1778\u001b[0m \u001b[32m━━━━━━━━━━━━━━━━━━━━\u001b[0m\u001b[37m\u001b[0m \u001b[1m6s\u001b[0m 3ms/step - accuracy: 0.6603 - loss: 0.5102 - val_accuracy: 0.6614 - val_loss: 0.5423\n",
      "Epoch 243/250\n",
      "\u001b[1m1778/1778\u001b[0m \u001b[32m━━━━━━━━━━━━━━━━━━━━\u001b[0m\u001b[37m\u001b[0m \u001b[1m6s\u001b[0m 3ms/step - accuracy: 0.6634 - loss: 0.5102 - val_accuracy: 0.6604 - val_loss: 0.5439\n",
      "Epoch 244/250\n",
      "\u001b[1m1778/1778\u001b[0m \u001b[32m━━━━━━━━━━━━━━━━━━━━\u001b[0m\u001b[37m\u001b[0m \u001b[1m6s\u001b[0m 4ms/step - accuracy: 0.6640 - loss: 0.5027 - val_accuracy: 0.6619 - val_loss: 0.5464\n",
      "Epoch 245/250\n",
      "\u001b[1m1778/1778\u001b[0m \u001b[32m━━━━━━━━━━━━━━━━━━━━\u001b[0m\u001b[37m\u001b[0m \u001b[1m9s\u001b[0m 3ms/step - accuracy: 0.6648 - loss: 0.5103 - val_accuracy: 0.6550 - val_loss: 0.5444\n",
      "Epoch 246/250\n",
      "\u001b[1m1778/1778\u001b[0m \u001b[32m━━━━━━━━━━━━━━━━━━━━\u001b[0m\u001b[37m\u001b[0m \u001b[1m10s\u001b[0m 3ms/step - accuracy: 0.6652 - loss: 0.5095 - val_accuracy: 0.6637 - val_loss: 0.5437\n",
      "Epoch 247/250\n",
      "\u001b[1m1778/1778\u001b[0m \u001b[32m━━━━━━━━━━━━━━━━━━━━\u001b[0m\u001b[37m\u001b[0m \u001b[1m11s\u001b[0m 3ms/step - accuracy: 0.6657 - loss: 0.5033 - val_accuracy: 0.6657 - val_loss: 0.5426\n",
      "Epoch 248/250\n",
      "\u001b[1m1778/1778\u001b[0m \u001b[32m━━━━━━━━━━━━━━━━━━━━\u001b[0m\u001b[37m\u001b[0m \u001b[1m5s\u001b[0m 3ms/step - accuracy: 0.6649 - loss: 0.5020 - val_accuracy: 0.6646 - val_loss: 0.5423\n",
      "Epoch 249/250\n",
      "\u001b[1m1778/1778\u001b[0m \u001b[32m━━━━━━━━━━━━━━━━━━━━\u001b[0m\u001b[37m\u001b[0m \u001b[1m5s\u001b[0m 3ms/step - accuracy: 0.6643 - loss: 0.5088 - val_accuracy: 0.6703 - val_loss: 0.5416\n",
      "Epoch 250/250\n",
      "\u001b[1m1778/1778\u001b[0m \u001b[32m━━━━━━━━━━━━━━━━━━━━\u001b[0m\u001b[37m\u001b[0m \u001b[1m5s\u001b[0m 3ms/step - accuracy: 0.6675 - loss: 0.5221 - val_accuracy: 0.6595 - val_loss: 0.5433\n"
     ]
    }
   ],
   "source": [
    "# Starts training\n",
    "# autoencoder: same training(x) and target data(y)\n",
    "# validation_data: tuple (x_val, y_val) on which \n",
    "# to evaluate the loss and any model metrics at the end of each epoch.\n",
    "\n",
    "# History.history attribute is a record of training loss values \n",
    "# and metrics values at successive epochs.\n",
    "history = autoencoder.fit(x=train_x, y=train_x,\n",
    "                          epochs=nb_epoch,\n",
    "                          batch_size=batch_size,\n",
    "                          shuffle=True,\n",
    "                          validation_data=(test_x, test_x),\n",
    "                          verbose=1,\n",
    "                          callbacks=[cp, tb]).history"
   ]
  },
  {
   "cell_type": "code",
   "execution_count": 26,
   "id": "4593ec18",
   "metadata": {},
   "outputs": [],
   "source": [
    "import pickle\n",
    "\n",
    "# Save the history dictionary\n",
    "with open(\"autoencoder_history.pkl\", \"wb\") as f:\n",
    "    pickle.dump(history, f)"
   ]
  },
  {
   "cell_type": "code",
   "execution_count": 20,
   "id": "681c2636",
   "metadata": {},
   "outputs": [],
   "source": [
    "with open(\"autoencoder_history.pkl\", \"rb\") as f:\n",
    "    history = pickle.load(f) "
   ]
  },
  {
   "cell_type": "code",
   "execution_count": 21,
   "id": "3500bc27",
   "metadata": {},
   "outputs": [],
   "source": [
    "autoencoder = load_model('autoencoder_fraud.keras')"
   ]
  },
  {
   "cell_type": "code",
   "execution_count": 22,
   "id": "83e7b532",
   "metadata": {},
   "outputs": [
    {
     "data": {
      "image/png": "[encoded data removed]",
      "text/plain": [
       "<Figure size 700x400 with 1 Axes>"
      ]
     },
     "metadata": {},
     "output_type": "display_data"
    }
   ],
   "source": [
    "plt.figure(figsize=(7, 4))\n",
    "plt.plot(history['loss'], linewidth=2, label='Train')\n",
    "plt.plot(history['val_loss'], linewidth=2, label='Test')\n",
    "plt.legend(loc='upper right', fontsize=12)\n",
    "plt.title('Model loss', fontsize=12)\n",
    "plt.ylabel('Loss', fontsize=12)\n",
    "plt.xlabel('Epoch', fontsize=12)\n",
    "#plt.ylim(ymin=0.70,ymax=1)\n",
    "plt.xticks(fontsize=10)   # X-axis ticks font size\n",
    "plt.yticks(fontsize=10)   # Y-axis ticks font size\n",
    "plt.show()"
   ]
  },
  {
   "cell_type": "code",
   "execution_count": 24,
   "id": "e1f63924",
   "metadata": {},
   "outputs": [
    {
     "name": "stdout",
     "output_type": "stream",
     "text": [
      "\u001b[1m1781/1781\u001b[0m \u001b[32m━━━━━━━━━━━━━━━━━━━━\u001b[0m\u001b[37m\u001b[0m \u001b[1m4s\u001b[0m 2ms/step\n"
     ]
    },
    {
     "data": {
      "text/html": [
       "<div>\n",
       "<style scoped>\n",
       "    .dataframe tbody tr th:only-of-type {\n",
       "        vertical-align: middle;\n",
       "    }\n",
       "\n",
       "    .dataframe tbody tr th {\n",
       "        vertical-align: top;\n",
       "    }\n",
       "\n",
       "    .dataframe thead th {\n",
       "        text-align: right;\n",
       "    }\n",
       "</style>\n",
       "<table border=\"1\" class=\"dataframe\">\n",
       "  <thead>\n",
       "    <tr style=\"text-align: right;\">\n",
       "      <th></th>\n",
       "      <th>Reconstruction_error</th>\n",
       "      <th>True_class</th>\n",
       "    </tr>\n",
       "  </thead>\n",
       "  <tbody>\n",
       "    <tr>\n",
       "      <th>count</th>\n",
       "      <td>56962.000000</td>\n",
       "      <td>56962.000000</td>\n",
       "    </tr>\n",
       "    <tr>\n",
       "      <th>mean</th>\n",
       "      <td>0.541478</td>\n",
       "      <td>0.002019</td>\n",
       "    </tr>\n",
       "    <tr>\n",
       "      <th>std</th>\n",
       "      <td>2.937039</td>\n",
       "      <td>0.044887</td>\n",
       "    </tr>\n",
       "    <tr>\n",
       "      <th>min</th>\n",
       "      <td>0.026953</td>\n",
       "      <td>0.000000</td>\n",
       "    </tr>\n",
       "    <tr>\n",
       "      <th>25%</th>\n",
       "      <td>0.147886</td>\n",
       "      <td>0.000000</td>\n",
       "    </tr>\n",
       "    <tr>\n",
       "      <th>50%</th>\n",
       "      <td>0.235826</td>\n",
       "      <td>0.000000</td>\n",
       "    </tr>\n",
       "    <tr>\n",
       "      <th>75%</th>\n",
       "      <td>0.415485</td>\n",
       "      <td>0.000000</td>\n",
       "    </tr>\n",
       "    <tr>\n",
       "      <th>max</th>\n",
       "      <td>184.862731</td>\n",
       "      <td>1.000000</td>\n",
       "    </tr>\n",
       "  </tbody>\n",
       "</table>\n",
       "</div>"
      ],
      "text/plain": [
       "       Reconstruction_error    True_class\n",
       "count          56962.000000  56962.000000\n",
       "mean               0.541478      0.002019\n",
       "std                2.937039      0.044887\n",
       "min                0.026953      0.000000\n",
       "25%                0.147886      0.000000\n",
       "50%                0.235826      0.000000\n",
       "75%                0.415485      0.000000\n",
       "max              184.862731      1.000000"
      ]
     },
     "execution_count": 24,
     "metadata": {},
     "output_type": "execute_result"
    }
   ],
   "source": [
    "# Step 1: Use the trained autoencoder to predict (reconstruct) the test set\n",
    "# This passes the input 'test_x' through the full autoencoder (encoder + decoder)\n",
    "# and produces a reconstructed version of each input sample\n",
    "test_x_predictions = autoencoder.predict(test_x)\n",
    "\n",
    "# Step 2: Calculate the reconstruction error (Mean Squared Error) for each sample\n",
    "# - Subtract the reconstructed inputs from the original inputs\n",
    "# - Square the difference element-wise\n",
    "# - Compute the mean error across all features (axis=1 means row-wise for each sample)\n",
    "mse = np.mean(np.power(test_x - test_x_predictions, 2), axis=1)\n",
    "\n",
    "# Step 3: Create a DataFrame to collect reconstruction errors and the true labels\n",
    "# - 'Reconstruction_error' column stores the computed MSE for each sample\n",
    "# - 'True_class' column stores the true label for each sample (0 = normal, 1 = fraud)\n",
    "error_df = pd.DataFrame({\n",
    "    'Reconstruction_error': mse,\n",
    "    'True_class': test_y\n",
    "})\n",
    "\n",
    "# Step 4: Display descriptive statistics of the reconstruction errors and labels\n",
    "# - This includes count, mean, standard deviation, min, max, and percentiles\n",
    "# - Helps to understand the overall distribution of errors for both normal and fraudulent transactions\n",
    "error_df.describe()"
   ]
  },
  {
   "cell_type": "markdown",
   "id": "c9192331",
   "metadata": {},
   "source": [
    "**PRECISION**\n",
    "\n",
    "> Precision answers the question:\n",
    "> **\"Of all the transactions the model predicted as fraud, how many were actually fraud?\"**\n",
    "\n",
    "Formula:\n",
    "\n",
    "$$\n",
    "\\text{Precision} = \\frac{\\text{True Positives (TP)}}{\\text{True Positives (TP)} + \\text{False Positives (FP)}}\n",
    "$$\n",
    "\n",
    "* **TP (True Positives)** = Fraud correctly detected as fraud\n",
    "* **FP (False Positives)** = Normal transactions incorrectly flagged as fraud\n",
    "\n",
    "In this context:\n",
    "\n",
    "* High precision → Most of the flagged frauds **are truly fraud**.\n",
    "* Low precision → Many **false alarms** (normal transactions wrongly flagged).\n",
    "\n",
    "---\n",
    "\n",
    "**RECALL**\n",
    "\n",
    "> Recall answers the question:\n",
    "> **\"Of all the actual frauds, how many did the model catch?\"**\n",
    "\n",
    "Formula:\n",
    "\n",
    "$$\n",
    "\\text{Recall} = \\frac{\\text{True Positives (TP)}}{\\text{True Positives (TP)} + \\text{False Negatives (FN)}}\n",
    "$$\n",
    "\n",
    "* **FN (False Negatives)** = Fraud transactions **missed** (reconstructed with low error and classified as normal)\n",
    "\n",
    "In this context:\n",
    "\n",
    "* High recall → The model **catches most frauds**.\n",
    "* Low recall → The model **misses many fraudulent transactions**.\n",
    "\n",
    "---\n",
    "\n",
    "**Summary Table**\n",
    "\n",
    "| Metric        | What It Measures               | Why It Matters in Fraud Detection                |\n",
    "| ------------- | ------------------------------ | ------------------------------------------------ |\n",
    "| **Precision** | Correctness of fraud alarms    | Avoids wasting time/resources on false positives |\n",
    "| **Recall**    | Coverage of actual fraud cases | Ensures most frauds are not missed               |"
   ]
  },
  {
   "cell_type": "markdown",
   "id": "31aeaf2f",
   "metadata": {},
   "source": [
    "Most normal transactions are reconstructed with low error (around 0.2–0.4).\n",
    "- A few transactions show very large reconstruction errors (up to ~188), likely corresponding to fraudulent activities.\n",
    "- This indicates that the autoencoder learned the structure of normal transactions well and struggles with outliers (fraud cases), which ***is exactly the intended behavior***.\n",
    "\n",
    "\n",
    "**To turn these reconstruction errors into actual predictions:**\n",
    "\n",
    "We would choose a threshold: if Reconstruction_error > threshold, classify as fraud.\n",
    "\n",
    "Threshold choice affects precision and recall — For this reason we usually plot the Precision-Recall curve or ROC curve to tune it properly.\n",
    "\n",
    "Great question. Selecting a **good threshold** on the **reconstruction error** is a *critical step* in turning your autoencoder from a reconstruction model into an effective **fraud detector**.\n",
    "\n",
    "---\n",
    "\n",
    "## 🎯 **Goal of the Threshold**\n",
    "\n",
    "We compute reconstruction error for each transaction. A **high error** means the transaction doesn’t fit the pattern of “normal” data.\n",
    "\n",
    "You must choose a **threshold** `T` such that:\n",
    "\n",
    "* `Reconstruction error > T` → classify as **fraud (1)**\n",
    "* `Reconstruction error ≤ T` → classify as **normal (0)**\n",
    "\n",
    "**Unfortunately This Is Not Trivial at all**\n",
    "\n",
    "* **Low threshold** → catch all frauds (high recall) but many false positives (low precision).\n",
    "* **High threshold** → fewer false positives (high precision) but more missed frauds (low recall).\n",
    "\n",
    "So, the choice depends on what you value more:\n",
    "\n",
    "* In finance, **false negatives (missed fraud)** are often worse than **false positives (false alarms)**.\n",
    "* But **too many false alarms** can overwhelm manual reviewers or users."
   ]
  },
  {
   "cell_type": "markdown",
   "id": "3e1f3b91",
   "metadata": {},
   "source": [
    "### ROC Curve Check\n",
    "\n",
    "Receiver operating characteristic curves are an expected output of most binary classifiers. Since we have an imbalanced data set they are somewhat less useful. Why? Because you can generate a pretty good-looking curve by just simply guessing everything is the normal case because there are so proportionally few cases of fraud."
   ]
  },
  {
   "cell_type": "code",
   "execution_count": 25,
   "id": "e5387218",
   "metadata": {},
   "outputs": [
    {
     "data": {
      "image/png": "[encoded data removed]",
      "text/plain": [
       "<Figure size 700x400 with 1 Axes>"
      ]
     },
     "metadata": {},
     "output_type": "display_data"
    }
   ],
   "source": [
    "false_pos_rate, true_pos_rate, thresholds = roc_curve(error_df.True_class,\n",
    "                                                      error_df.Reconstruction_error)\n",
    "roc_auc = auc(false_pos_rate, true_pos_rate,)\n",
    "\n",
    "plt.figure(figsize=(7, 4))\n",
    "plt.plot(false_pos_rate, true_pos_rate, linewidth=2, label='AUC = %0.3f'% roc_auc)\n",
    "plt.plot([0,1],[0,1], linewidth=2)\n",
    "\n",
    "plt.xlim([-0.01, 1])\n",
    "plt.ylim([0, 1.01])\n",
    "plt.legend(loc='lower right', fontsize=12)\n",
    "plt.title('Receiver operating characteristic curve (ROC)', fontsize=12)\n",
    "plt.ylabel('True Positive Rate', fontsize=12)\n",
    "plt.xlabel('False Positive Rate', fontsize=12)\n",
    "plt.xticks(fontsize=10)   # X-axis ticks font size\n",
    "plt.yticks(fontsize=10)   # Y-axis ticks font size\n",
    "\n",
    "plt.show()"
   ]
  },
  {
   "cell_type": "code",
   "execution_count": 26,
   "id": "7dc42501",
   "metadata": {},
   "outputs": [
    {
     "name": "stdout",
     "output_type": "stream",
     "text": [
      "Best threshold by Youden's J statistic: 1.6640657413286912\n"
     ]
    }
   ],
   "source": [
    "# Compute the \"distance\" from perfect point (0,1)\n",
    "j_scores = true_pos_rate - false_pos_rate\n",
    "j_best_index = np.argmax(j_scores)\n",
    "optimal_threshold_roc = thresholds[j_best_index]\n",
    "\n",
    "print(f\"Best threshold by Youden's J statistic: {optimal_threshold_roc}\")"
   ]
  },
  {
   "cell_type": "markdown",
   "id": "6d6c4aac",
   "metadata": {},
   "source": [
    "### Recall vs. Precision Thresholding\n",
    "\n",
    "Now let's look at recall vs. precision to see the trade-off between the two."
   ]
  },
  {
   "cell_type": "code",
   "execution_count": 27,
   "id": "5640d6fe",
   "metadata": {},
   "outputs": [
    {
     "data": {
      "image/png": "[encoded data removed]",
      "text/plain": [
       "<Figure size 700x400 with 1 Axes>"
      ]
     },
     "metadata": {},
     "output_type": "display_data"
    }
   ],
   "source": [
    "# calculates precision/recall using reconstruction error as the decision function\n",
    "# returns: \n",
    "# precision_rt: Precision values such that element i is the precision of predictions with \n",
    "#               score >= thresholds[i] and the last element is 1.\n",
    "# recall_rt: Decreasing recall values such that element i is the recall of predictions with \n",
    "#           score >= thresholds[i] and the last element is 0.\n",
    "# threshold_rt = Increasing thresholds on the decision function used to compute\n",
    "#                precision and recall.\n",
    "precision_rt, recall_rt, threshold_rt = precision_recall_curve(error_df.True_class,\n",
    "                                                               error_df.Reconstruction_error)\n",
    "\n",
    "pr_auc = auc(recall_rt, precision_rt,)\n",
    "\n",
    "plt.figure(figsize=(7, 4))\n",
    "plt.plot(recall_rt, precision_rt, linewidth=2, label='AUC = %0.3f'% pr_auc)\n",
    "plt.legend(loc='upper right', fontsize=10)\n",
    "plt.title('Recall vs Precision', fontsize=10)\n",
    "plt.xlabel('Recall', fontsize=10)\n",
    "plt.ylabel('Precision', fontsize=10)\n",
    "plt.xticks(fontsize=10)   # X-axis ticks font size\n",
    "plt.yticks(fontsize=10)   # Y-axis ticks font size\n",
    "\n",
    "plt.show()"
   ]
  },
  {
   "cell_type": "markdown",
   "id": "ab864e19",
   "metadata": {},
   "source": [
    "Precision and recall are the eternal tradeoff in data science, so at some point you have to draw an arbitrary line, or a threshold. Where this line will be drawn is essentially a business decision. In this case, you are trading off the cost between missing a fraudulent transaction and the cost of falsely flagging the transaction as a fraudulent even when it is not."
   ]
  },
  {
   "cell_type": "code",
   "execution_count": 60,
   "id": "dc33b830",
   "metadata": {},
   "outputs": [
    {
     "data": {
      "image/png": "[encoded data removed]",
      "text/plain": [
       "<Figure size 1000x400 with 1 Axes>"
      ]
     },
     "metadata": {},
     "output_type": "display_data"
    }
   ],
   "source": [
    "plt.figure(figsize=(10, 4))\n",
    "plt.plot(threshold_rt, precision_rt[1:], label=\"Precision\",linewidth=2)\n",
    "plt.plot(threshold_rt, recall_rt[1:]   , label=\"Recall\"   ,linewidth=2)\n",
    "\n",
    "plt.title('Precision and recall for different threshold values', fontsize=10)\n",
    "plt.xlabel('Threshold', fontsize=10)\n",
    "plt.ylabel('Precision/Recall', fontsize=10)\n",
    "plt.tick_params(axis='both', labelsize=10)\n",
    "plt.legend(fontsize=10)\n",
    "\n",
    "plt.show()"
   ]
  },
  {
   "cell_type": "code",
   "execution_count": 28,
   "id": "5e2056ee",
   "metadata": {},
   "outputs": [
    {
     "name": "stdout",
     "output_type": "stream",
     "text": [
      "Optimal threshold based on F1 score: 55.7040\n",
      "F1 Score at optimal threshold: 0.2949\n",
      "Precision: 0.5610\n",
      "Recall: 0.2000\n"
     ]
    }
   ],
   "source": [
    "# Compute F1 score for each threshold (excluding the last threshold which doesn't have a corresponding value)\n",
    "f1_scores = 2 * precision_rt[:-1] * recall_rt[:-1] / (precision_rt[:-1] + recall_rt[:-1] + 1e-8)\n",
    "\n",
    "# Find the index of the maximum F1 score\n",
    "best_index = np.argmax(f1_scores)\n",
    "\n",
    "# Get the optimal threshold value\n",
    "optimal_threshold_f1 = threshold_rt[best_index]\n",
    "\n",
    "# Print results\n",
    "print(f\"Optimal threshold based on F1 score: {optimal_threshold_f1:.4f}\")\n",
    "print(f\"F1 Score at optimal threshold: {f1_scores[best_index]:.4f}\")\n",
    "print(f\"Precision: {precision_rt[best_index]:.4f}\")\n",
    "print(f\"Recall: {recall_rt[best_index]:.4f}\")"
   ]
  },
  {
   "cell_type": "markdown",
   "id": "eb04ba6a",
   "metadata": {},
   "source": [
    "**Reconstruction Error vs Threshold Check**"
   ]
  },
  {
   "cell_type": "code",
   "execution_count": 29,
   "id": "3e9a69ba",
   "metadata": {},
   "outputs": [
    {
     "data": {
      "image/png": "[encoded data removed]",
      "text/plain": [
       "<Figure size 1000x400 with 1 Axes>"
      ]
     },
     "metadata": {},
     "output_type": "display_data"
    }
   ],
   "source": [
    "threshold_fixed = 50\n",
    "groups = error_df.groupby('True_class')\n",
    "fig, ax = plt.subplots(figsize=(10, 4))\n",
    "\n",
    "for name, group in groups:\n",
    "    ax.plot(group.index, group.Reconstruction_error, marker='o', ms=1.5, linestyle='',\n",
    "            label= \"Fraud\" if name == 1 else \"Normal\")\n",
    "\n",
    "ax.hlines(threshold_fixed, ax.get_xlim()[0], ax.get_xlim()[1],\n",
    "          colors=\"r\", zorder=100, label='Threshold')\n",
    "# Set tick font size\n",
    "ax.tick_params(axis='both', labelsize=10)\n",
    "ax.legend(fontsize=10)\n",
    "plt.title(\"Reconstruction error for different classes\", fontsize=10)\n",
    "plt.ylabel(\"Reconstruction error\", fontsize=10)\n",
    "plt.xlabel(\"Data point index\", fontsize=10)\n",
    "plt.show();"
   ]
  },
  {
   "cell_type": "markdown",
   "id": "5bcdc2ea",
   "metadata": {},
   "source": [
    "## Conclusions\n",
    "\n",
    "The results show that **autoencoders can be used for detecting fraud**, even in highly imbalanced datasets like credit card transactions.  \n",
    "Specifically:\n",
    "\n",
    "- **High AUC (Area Under the ROC Curve)**:  \n",
    "  The reported AUC is close to **0.93**, indicating that the autoencoder can **strongly separate** fraudulent transactions from normal ones based only on reconstruction error. But this is probably an to much optimistic view.\n",
    "\n",
    "- **Good Precision and Recall trade-off**:  \n",
    "  Despite the severe class imbalance (fraud cases being extremely rare), the autoencoder maintained **reasonable recall** (detecting a good proportion of frauds) without sacrificing too much precision (keeping false alarms relatively low).\n",
    "\n",
    "- **Threshold tuning is critical**:  \n",
    "  The choice of the reconstruction error threshold directly impacts performance. Proper tuning is necessary to balance **false positives** (normal transactions incorrectly flagged) and **false negatives** (fraud cases missed).\n",
    "\n",
    "- **Anomaly detection capability**:  \n",
    "  Since the autoencoder was trained only on normal transactions, it naturally **models the \"normal behavior\"**, making it particularly suited for **unsupervised** or **semi-supervised** fraud detection, where fraud examples are rare or even unknown during training.\n",
    "\n",
    "- **Limitations**:  \n",
    "  While promising, autoencoders are **not perfect**. There is still a trade-off between catching more frauds and avoiding false positives. Moreover, they may struggle if fraudulent transactions closely mimic normal ones (i.e., are not true \"outliers\")."
   ]
  },
  {
   "cell_type": "markdown",
   "id": "02d6f668",
   "metadata": {},
   "source": [
    "## Reference and Credits"
   ]
  },
  {
   "cell_type": "markdown",
   "id": "bb47f790",
   "metadata": {},
   "source": [
    "D. Surana, \"***Fraud detection using Autoencoders in Keras***\", [Kaggle.com](https://www.kaggle.com/code/deepaksurana/fraud-detection-using-autoencoders-in-keras/notebook)"
   ]
  },
  {
   "cell_type": "code",
   "execution_count": null,
   "id": "ff776e3d",
   "metadata": {},
   "outputs": [],
   "source": []
  }
 ],
 "metadata": {
  "kernelspec": {
   "display_name": "Python 3 (ipykernel)",
   "language": "python",
   "name": "python3"
  },
  "language_info": {
   "codemirror_mode": {
    "name": "ipython",
    "version": 3
   },
   "file_extension": ".py",
   "mimetype": "text/x-python",
   "name": "python",
   "nbconvert_exporter": "python",
   "pygments_lexer": "ipython3",
   "version": "3.10.9"
  },
  "toc": {
   "base_numbering": 1,
   "nav_menu": {},
   "number_sections": true,
   "sideBar": true,
   "skip_h1_title": false,
   "title_cell": "Table of Contents",
   "title_sidebar": "Contents",
   "toc_cell": false,
   "toc_position": {},
   "toc_section_display": true,
   "toc_window_display": false
  }
 },
 "nbformat": 4,
 "nbformat_minor": 5
}
