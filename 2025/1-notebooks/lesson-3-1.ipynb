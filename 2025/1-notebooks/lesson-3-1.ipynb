{
 "cells": [
  {
   "cell_type": "markdown",
   "id": "3cc3212d",
   "metadata": {
    "hideCode": true,
    "hidePrompt": true,
    "slideshow": {
     "slide_type": "skip"
    }
   },
   "source": [
    "<table align=\"left\">\n",
    "  <td>\n",
    "    <a target=\"_blank\" href=\"https://colab.research.google.com/github/polyhedron-gdl/unibo-intensive-program-2024/blob/main/1-notebooks/chapter-08-01.ipynb\">\n",
    "        <img src=\"https://www.tensorflow.org/images/colab_logo_32px.png\" />Run in Google Colab</a>\n",
    "  </td>\n",
    "</table>"
   ]
  },
  {
   "cell_type": "markdown",
   "id": "95511547",
   "metadata": {
    "hideCode": true,
    "hidePrompt": true,
    "slideshow": {
     "slide_type": "slide"
    }
   },
   "source": [
    "# Introduction to Generative AI"
   ]
  },
  {
   "cell_type": "markdown",
   "id": "67e8fc7a",
   "metadata": {
    "hideCode": true,
    "hidePrompt": true,
    "slideshow": {
     "slide_type": "slide"
    }
   },
   "source": [
    "## Autoencoders"
   ]
  },
  {
   "cell_type": "markdown",
   "id": "6f8c9830",
   "metadata": {
    "hideCode": true,
    "hidePrompt": true,
    "slideshow": {
     "slide_type": "slide"
    }
   },
   "source": [
    "### Introduction\n",
    "\n",
    "- Autoencoders are a type of artificial neural network used for unsupervised learning of efficient codings, with applications in dimensionality reduction, feature learning, and more recently, generative models. \n",
    "\n",
    "- The main goal of an autoencoder is ***to learn a representation (encoding) for a set of data***, typically for the purpose of dimensionality reduction, by training the network to ignore signal “noise.”"
   ]
  },
  {
   "cell_type": "markdown",
   "id": "7fbd3cb2",
   "metadata": {
    "hideCode": true,
    "hidePrompt": true,
    "slideshow": {
     "slide_type": "subslide"
    }
   },
   "source": [
    "### Structure of Autoencoders\n",
    "\n",
    "An autoencoder consists of tree main parts: the encoder, the latent space and the decoder. \n",
    "\n",
    "- **Encoder**: This part of the network compresses the input into a latent-space representation. It encapsulates the inputs into a lower-dimensional code. This process reduces the dimensionality of the data by learning how to ignore non relevant features in the input. \n",
    "\n",
    "- **Latent vector**: This is also referred to as latent representation or latent space in some literature. This represents the most important features of the input data in a lower-dimensional form. This is the output provided by the encoder and will be the input for the decoder. The dimension of the latent vector can be bigger than $x$. If so, the autoencoder will simply copy the input to the output. In other words, it will try to memorize the input data. However, in most cases, the dimension of the latent vector is much smaller than $x$.\n",
    "  \n",
    "- **Decoder**: After encoding, the decoder part of the network reconstructs the input data from the encoded representation. The aim is to produce an output that matches the input as closely as possible, essentially learning the identity function under certain constraints."
   ]
  },
  {
   "cell_type": "markdown",
   "id": "8b20997c",
   "metadata": {
    "hideCode": true,
    "hidePrompt": true,
    "slideshow": {
     "slide_type": "subslide"
    }
   },
   "source": [
    "<center>\n",
    "    \n",
    "<img src=\"./pics/ch-08-01-00.jpg\" width=\"500\" height=\"500\">\n",
    "</center>\n",
    "\n",
    "*An autoencoder consists of 3 components: encoder, code and decoder. The encoder compresses the input and produces the code, the decoder then reconstructs the input only using this code.*"
   ]
  },
  {
   "cell_type": "markdown",
   "id": "07af0a00",
   "metadata": {
    "hideCode": true,
    "hidePrompt": true,
    "slideshow": {
     "slide_type": "subslide"
    }
   },
   "source": [
    "- First the input passes through the encoder, which is a fully-connected ANN, to produce the code. The decoder, which has the similar NN structure, then produces the output only using the code. \n",
    "\n",
    "- The goal is to get an ***output identical with the input***. \n",
    "\n",
    "- Note that the decoder architecture is the mirror image of the encoder. This is not a requirement but it’s typically the case. The only requirement is the dimensionality of the input and output needs to be the same. Anything in the middle can be played with."
   ]
  },
  {
   "cell_type": "markdown",
   "id": "3de4cc7e",
   "metadata": {
    "hideCode": true,
    "hidePrompt": true,
    "slideshow": {
     "slide_type": "subslide"
    }
   },
   "source": [
    "<center>\n",
    "    \n",
    "<img src=\"./pics/ch-08-01-01.jpg\" width=\"500\" height=\"500\">\n",
    "</center>\n",
    "\n",
    "\n",
    "*In the simpler version, both the encoder and decoder are fully-connected feedforward neural networks (but we can have more complicated architecture for example CNN). Code is a single layer of an ANN with the dimensionality of our choice. The number of nodes in the code layer (code size) is a hyperparameter that we set before training the autoencoder.*"
   ]
  },
  {
   "cell_type": "markdown",
   "id": "7b7247b2",
   "metadata": {
    "hideCode": true,
    "hidePrompt": true,
    "slideshow": {
     "slide_type": "subslide"
    }
   },
   "source": [
    "- From a more formal point of view, The encoder network receives a $d$-dimensional input feature vector associated with example $x$ (that is, $𝒙 \\in \\mathbb{R}^d$) and encodes it into a $p$-dimensional vector, $z$ (that is, $𝒛 \\in \\mathbb{R}^p$ ). \n",
    "\n",
    "- In other words, the role of the encoder is to learn how to model the function $𝒛 =f(x)$ . \n",
    "\n",
    "- The encoded vector, $z$, is also called the latent vector, or the latent feature representation. \n",
    "\n",
    "- Typically, the dimensionality of the latent vector is less than that of the input examples; in other words, $p < d$. Hence, we can say that the encoder acts as a data compression function. \n",
    "\n",
    "- Then, the decoder decompresses $\\hat x$ from the lower-dimensional latent vector, $z$, where we can think of the decoder as a function, $\\hat x = g(z)$."
   ]
  },
  {
   "cell_type": "markdown",
   "id": "1514455f",
   "metadata": {
    "hideCode": true,
    "hidePrompt": true,
    "slideshow": {
     "slide_type": "subslide"
    }
   },
   "source": [
    "### Variants of Autoencoders\n",
    "\n",
    "Autoencoders can be categorized into several types, each with unique characteristics and applications:\n",
    "\n",
    "- **Basic Autoencoders**: Focus on encoding and decoding input data to learn efficient data codings.\n",
    "- **Sparse Autoencoders**: Introduce sparsity in the encoded representations to improve robustness and achieve better feature selection.\n",
    "- **Denoising Autoencoders**: Aim to reconstruct the input from a corrupted version, thus learning to ignore or “denoise” the input.\n",
    "- **Convolutional Autoencoders**: Utilize convolutional neural networks (CNNs) in the encoder and decoder, making them suitable for image data.\n",
    "- **Variational Autoencoders (VAEs)**: Incorporate probabilistic layers to model the input distribution, enabling them to generate new data that's similar to the input data."
   ]
  },
  {
   "cell_type": "markdown",
   "id": "cd2f3597",
   "metadata": {
    "hideCode": true,
    "hidePrompt": true,
    "slideshow": {
     "slide_type": "subslide"
    }
   },
   "source": [
    "### Training Autoencoders\n",
    "\n",
    "- Training an autoencoder involves using backpropagation, just as with other types of neural networks. \n",
    "\n",
    "- However, instead of predicting a target value, autoencoders aim to reproduce their inputs. \n",
    "\n",
    "- Therefore, the loss function used during training measures the difference between the input and the output (reconstruction loss), such as the mean squared error for continuous input data or cross-entropy for binary input data.\n",
    "\n",
    "<center>\n",
    "    \n",
    "<img src=\"./pics/ch-08-01-05.jpg\" width=\"500\" height=\"500\">\n",
    "</center>"
   ]
  },
  {
   "cell_type": "markdown",
   "id": "551234cc",
   "metadata": {
    "hideCode": true,
    "hidePrompt": true,
    "slideshow": {
     "slide_type": "subslide"
    }
   },
   "source": [
    "### Applications of Autoencoders\n",
    "\n",
    "Autoencoders have a wide range of applications:\n",
    "\n",
    "- **Dimensionality Reduction**: Similar to PCA but more powerful due to their non-linearity, autoencoders can reduce the dimensionality of data for visualization or preprocessing steps.\n",
    "- **Feature Learning**: They can learn features from raw data that can be useful for classification tasks or other machine learning applications.\n",
    "- **Denoising**: Autoencoders can remove noise from data, which is valuable for tasks like image denoising or signal processing.\n",
    "- **Anomaly Detection**: By learning to reproduce normal data, autoencoders can be used to detect outliers or anomalies in datasets.\n",
    "- **Generative Models**: Variational autoencoders and their extensions can generate new data that's similar to the training data, useful in domains like drug discovery or creative art generation."
   ]
  },
  {
   "cell_type": "markdown",
   "id": "6ffd9432",
   "metadata": {
    "hideCode": false,
    "hidePrompt": false,
    "slideshow": {
     "slide_type": "subslide"
    }
   },
   "source": [
    "### A simple example\n",
    "\n",
    "We will use the extremely popular [MNIST](https://en.wikipedia.org/wiki/MNIST_database) dataset as input. It contains black-and-white images of handwritten digits.\n",
    "\n",
    "<center>\n",
    "    \n",
    "<img src=\"./pics/ch-08-01-02.jpg\" width=\"500\" height=\"500\">\n",
    "</center>\n",
    "\n",
    "They’re of size 28x28 and we use them as a vector of 784 numbers between [0, 1]. We will now implement the autoencoder with Keras. The hyperparameters are: 128 nodes in the hidden layer, code size is 32, and binary crossentropy is the loss function."
   ]
  },
  {
   "cell_type": "code",
   "execution_count": 1,
   "id": "816e5cd5",
   "metadata": {
    "hideCode": false,
    "hidePrompt": false,
    "slideshow": {
     "slide_type": "skip"
    }
   },
   "outputs": [],
   "source": [
    "%matplotlib inline\n",
    "%config InlineBackend.figure_format = 'retina'\n",
    "import matplotlib.pyplot as plt\n",
    "import pandas as pd\n",
    "import numpy as np\n",
    "import seaborn as sns\n",
    "import warnings\n",
    "\n",
    "warnings.filterwarnings('ignore')\n",
    "\n",
    "from __future__ import print_function\n",
    "import keras\n",
    "from keras.models import Model\n",
    "from keras.layers import Dense, Input\n",
    "from keras.datasets import mnist\n",
    "from keras.regularizers import l1\n",
    "from keras.optimizers import Adam"
   ]
  },
  {
   "cell_type": "code",
   "execution_count": 2,
   "id": "884f2973",
   "metadata": {
    "hideCode": false,
    "hidePrompt": false,
    "slideshow": {
     "slide_type": "skip"
    }
   },
   "outputs": [
    {
     "name": "stdout",
     "output_type": "stream",
     "text": [
      "tensorflow\n"
     ]
    }
   ],
   "source": [
    "print(keras.backend.backend())"
   ]
  },
  {
   "cell_type": "markdown",
   "id": "957f3761",
   "metadata": {
    "hideCode": false,
    "hidePrompt": false,
    "slideshow": {
     "slide_type": "skip"
    }
   },
   "source": [
    "**Utility Functions**"
   ]
  },
  {
   "cell_type": "markdown",
   "id": "fc561587",
   "metadata": {
    "hideCode": false,
    "hidePrompt": false,
    "slideshow": {
     "slide_type": "skip"
    }
   },
   "source": [
    "**Plot Encoder Outputs**\n",
    "\n",
    "The following code defines a function `plot_autoencoder_outputs` that visualizes the outputs of an autoencoder model alongside their original inputs for comparison. This function is particularly useful for assessing the performance of an autoencoder in reconstructing images. It demonstrates how well the autoencoder has learned to compress and then decompress the input data.\n",
    "\n",
    "This function aims to visually compare the original images from the test dataset (`x_test`) with their reconstructed versions produced by an autoencoder. \n",
    "It takes as input:\n",
    "  - `autoencoder`: The trained autoencoder model.\n",
    "  - `n`          : The number of images to display.\n",
    "  - `dims`       : The dimensions to which the images should be reshaped for display (e.g., `(28, 28)` for MNIST).\n",
    "\n",
    "The function first generates reconstructed images by predicting on the test set with the autoencoder. It then plots `n` examples of original and reconstructed images side by side for easy comparison. This visual comparison helps in understanding how well the autoencoder has learned to capture and reconstruct the essential features of the input images. The use of grayscale color mapping and the removal of axis labels focus attention on the images themselves, making it easier to evaluate the reconstruction quality."
   ]
  },
  {
   "cell_type": "code",
   "execution_count": 3,
   "id": "6fcfff1a",
   "metadata": {
    "hideCode": false,
    "hidePrompt": false,
    "slideshow": {
     "slide_type": "skip"
    }
   },
   "outputs": [],
   "source": [
    "def plot_autoencoder_outputs(autoencoder, n, dims):\n",
    "    # Predict the outputs for the test set using the trained autoencoder model.\n",
    "    decoded_imgs = autoencoder.predict(x_test)\n",
    "\n",
    "    # Set up the figure size for plotting the images.\n",
    "    plt.figure(figsize=(6, 3))\n",
    "    for i in range(n):  # Loop over `n` examples to display.\n",
    "        # Plot original image.\n",
    "        ax = plt.subplot(2, n, i + 1)  # Create a subplot for the original image.\n",
    "        plt.imshow(x_test[i].reshape(*dims))  # Reshape and display the original image from the test set.\n",
    "        plt.gray()  # Use grayscale color map.\n",
    "        ax.get_xaxis().set_visible(False)  # Hide the x-axis.\n",
    "        ax.get_yaxis().set_visible(False)  # Hide the y-axis.\n",
    "        if i == n/2:  # Optionally, set a title for the middle image of the original set.\n",
    "            ax.set_title('Original Images')\n",
    "\n",
    "        # Plot reconstructed image.\n",
    "        ax = plt.subplot(2, n, i + 1 + n)  # Create a subplot for the reconstructed image.\n",
    "        plt.imshow(decoded_imgs[i].reshape(*dims))  # Reshape and display the decoded (reconstructed) image.\n",
    "        plt.gray()  # Use grayscale color map.\n",
    "        ax.get_xaxis().set_visible(False)  # Hide the x-axis.\n",
    "        ax.get_yaxis().set_visible(False)  # Hide the y-axis.\n",
    "        if i == n/2:  # Optionally, set a title for the middle image of the reconstructed set.\n",
    "            ax.set_title('Reconstructed Images')\n",
    "    \n",
    "    # Display the plot containing both original and reconstructed images.\n",
    "    plt.show()\n"
   ]
  },
  {
   "cell_type": "markdown",
   "id": "09ec85dc",
   "metadata": {
    "hideCode": false,
    "hidePrompt": false,
    "slideshow": {
     "slide_type": "skip"
    }
   },
   "source": [
    ">**NOTE** The `reshape(*dims)` instruction in Python is used to reshape an array into a new shape specified by the `dims` tuple. The asterisk (`*`) before `dims` is the unpacking operator, which is used to unpack the elements of the tuple (or list) `dims` into separate arguments. When you call a function with `*args`, Python unpacks the elements of `args` and passes them to the function as separate positional arguments. This is particularly useful when you want to pass a variable number of arguments to a function or when the shape you want to reshape an array into is stored in a tuple or list.\n",
    ">\n",
    ">For example, if `dims` is `(28, 28)`, then `reshape(*dims)` is equivalent to `reshape(28, 28)`. This tells the reshape method to reshape the array into a shape that has 28 rows and 28 columns.\n",
    ">\n",
    ">Here's a brief breakdown of how it works:\n",
    ">- `dims`: A tuple (or list) that specifies the new shape of the array. For instance, if you're working with images like in the >MNIST dataset, `dims` might be `(28, 28)` to represent a 2D image of 28x28 pixels.\n",
    ">- `*dims`: The unpacking operator `*` is used here to pass the elements of `dims` as separate arguments to the `reshape` >function. This is necessary because the `reshape` method expects each dimension as a separate argument, rather than receiving a >single tuple or list.\n",
    ">\n",
    ">This feature of Python makes the code more flexible and readable, especially when the shape dimensions are dynamically determined or if you want to reuse the same shape in multiple places without hardcoding the dimensions each time."
   ]
  },
  {
   "cell_type": "code",
   "execution_count": 4,
   "id": "39071469",
   "metadata": {
    "hideCode": false,
    "hidePrompt": false,
    "slideshow": {
     "slide_type": "skip"
    }
   },
   "outputs": [],
   "source": [
    "# Load the MNIST dataset. `mnist.load_data()` returns two tuples: one for the \n",
    "# training set (x_train, y_train) and one for the test set (x_test, y_test).\n",
    "(x_train, y_train), (x_test, y_test) = mnist.load_data()\n",
    "\n",
    "# Convert the pixel values of the images from integers to floating-point numbers.\n",
    "# This is done to prepare the data for normalization.\n",
    "x_train = x_train.astype('float32')\n",
    "x_test  = x_test.astype ('float32')\n",
    "\n",
    "# Normalize the pixel values of the images to be between 0 and 1.\n",
    "# This improves the convergence of the model during training.\n",
    "x_train = x_train / 255.0\n",
    "x_test  = x_test  / 255.0"
   ]
  },
  {
   "cell_type": "code",
   "execution_count": 5,
   "id": "69afc332",
   "metadata": {
    "hideCode": false,
    "hidePrompt": false,
    "slideshow": {
     "slide_type": "skip"
    }
   },
   "outputs": [
    {
     "name": "stdout",
     "output_type": "stream",
     "text": [
      "(60000, 28, 28)\n",
      "60000\n",
      "28\n",
      "28\n",
      "784\n"
     ]
    }
   ],
   "source": [
    "# Print some simple infos about the shape of data\n",
    "print(x_train.shape)\n",
    "# get the number of \"rows\"\n",
    "print(len(x_train))\n",
    "# get the number of \"columns\" of first row along second dimension\n",
    "print(len(x_train[0]))\n",
    "# get the number of \"columns\" of first row along third dimension\n",
    "print(len(x_train[0][0]))\n",
    "# get the total number of pixel of a single image\n",
    "print(np.prod(x_train.shape[1:]))"
   ]
  },
  {
   "cell_type": "code",
   "execution_count": 6,
   "id": "721cfe22",
   "metadata": {
    "hideCode": false,
    "hidePrompt": false,
    "slideshow": {
     "slide_type": "skip"
    }
   },
   "outputs": [
    {
     "name": "stdout",
     "output_type": "stream",
     "text": [
      "(60000, 784)\n",
      "(10000, 784)\n"
     ]
    }
   ],
   "source": [
    "# Reshape the training and test data sets so that each image is represented by a single array of pixels.\n",
    "# Here, `np.prod(x_train.shape[1:])` calculates the product of the dimensions of each image, \n",
    "# effectively flattening the image data while keeping the dataset's structure as \n",
    "# (number of images, number of pixels per image).\n",
    "x_train = x_train.reshape((len(x_train), np.prod(x_train.shape[1:])))\n",
    "x_test = x_test.reshape((len(x_test), np.prod(x_test.shape[1:])))\n",
    "# Print the shapes of the processed training and test datasets to confirm their dimensions.\n",
    "# This is useful for debugging and to ensure that the data is correctly formatted for the model.\n",
    "print(x_train.shape)\n",
    "print(x_test.shape)"
   ]
  },
  {
   "cell_type": "markdown",
   "id": "b631fef4",
   "metadata": {
    "hideCode": false,
    "hidePrompt": false,
    "slideshow": {
     "slide_type": "skip"
    }
   },
   "source": [
    "In the following cells you find the code to train an autoencoder on the MNIST dataset of handwritten digits, given the input size of 784, which corresponds to the flattened 28x28 pixel images. The autoencoder learns to compress the input images into a 32-dimensional encoded representation and then decode this representation back to images as similar as possible to the original inputs. The training process involves minimizing the difference between the original images and the reconstructed images, using the binary crossentropy loss function. This type of model can be used for feature extraction, noise reduction, or data compression tasks."
   ]
  },
  {
   "cell_type": "markdown",
   "id": "55905f38",
   "metadata": {
    "hideCode": false,
    "hidePrompt": false,
    "slideshow": {
     "slide_type": "skip"
    }
   },
   "source": [
    "**Deep Autoencoder**"
   ]
  },
  {
   "cell_type": "code",
   "execution_count": 8,
   "id": "a5baf73e",
   "metadata": {
    "hideCode": false,
    "hidePrompt": false,
    "slideshow": {
     "slide_type": "skip"
    }
   },
   "outputs": [
    {
     "data": {
      "text/html": [
       "<pre style=\"white-space:pre;overflow-x:auto;line-height:normal;font-family:Menlo,'DejaVu Sans Mono',consolas,'Courier New',monospace\"><span style=\"font-weight: bold\">Model: \"functional_1\"</span>\n",
       "</pre>\n"
      ],
      "text/plain": [
       "\u001b[1mModel: \"functional_1\"\u001b[0m\n"
      ]
     },
     "metadata": {},
     "output_type": "display_data"
    },
    {
     "data": {
      "text/html": [
       "<pre style=\"white-space:pre;overflow-x:auto;line-height:normal;font-family:Menlo,'DejaVu Sans Mono',consolas,'Courier New',monospace\">┏━━━━━━━━━━━━━━━━━━━━━━━━━━━━━━━━━━━━━━┳━━━━━━━━━━━━━━━━━━━━━━━━━━━━━┳━━━━━━━━━━━━━━━━━┓\n",
       "┃<span style=\"font-weight: bold\"> Layer (type)                         </span>┃<span style=\"font-weight: bold\"> Output Shape                </span>┃<span style=\"font-weight: bold\">         Param # </span>┃\n",
       "┡━━━━━━━━━━━━━━━━━━━━━━━━━━━━━━━━━━━━━━╇━━━━━━━━━━━━━━━━━━━━━━━━━━━━━╇━━━━━━━━━━━━━━━━━┩\n",
       "│ input_layer_1 (<span style=\"color: #0087ff; text-decoration-color: #0087ff\">InputLayer</span>)           │ (<span style=\"color: #00d7ff; text-decoration-color: #00d7ff\">None</span>, <span style=\"color: #00af00; text-decoration-color: #00af00\">784</span>)                 │               <span style=\"color: #00af00; text-decoration-color: #00af00\">0</span> │\n",
       "├──────────────────────────────────────┼─────────────────────────────┼─────────────────┤\n",
       "│ dense_4 (<span style=\"color: #0087ff; text-decoration-color: #0087ff\">Dense</span>)                      │ (<span style=\"color: #00d7ff; text-decoration-color: #00d7ff\">None</span>, <span style=\"color: #00af00; text-decoration-color: #00af00\">128</span>)                 │         <span style=\"color: #00af00; text-decoration-color: #00af00\">100,480</span> │\n",
       "├──────────────────────────────────────┼─────────────────────────────┼─────────────────┤\n",
       "│ dense_5 (<span style=\"color: #0087ff; text-decoration-color: #0087ff\">Dense</span>)                      │ (<span style=\"color: #00d7ff; text-decoration-color: #00d7ff\">None</span>, <span style=\"color: #00af00; text-decoration-color: #00af00\">32</span>)                  │           <span style=\"color: #00af00; text-decoration-color: #00af00\">4,128</span> │\n",
       "├──────────────────────────────────────┼─────────────────────────────┼─────────────────┤\n",
       "│ dense_6 (<span style=\"color: #0087ff; text-decoration-color: #0087ff\">Dense</span>)                      │ (<span style=\"color: #00d7ff; text-decoration-color: #00d7ff\">None</span>, <span style=\"color: #00af00; text-decoration-color: #00af00\">128</span>)                 │           <span style=\"color: #00af00; text-decoration-color: #00af00\">4,224</span> │\n",
       "├──────────────────────────────────────┼─────────────────────────────┼─────────────────┤\n",
       "│ dense_7 (<span style=\"color: #0087ff; text-decoration-color: #0087ff\">Dense</span>)                      │ (<span style=\"color: #00d7ff; text-decoration-color: #00d7ff\">None</span>, <span style=\"color: #00af00; text-decoration-color: #00af00\">784</span>)                 │         <span style=\"color: #00af00; text-decoration-color: #00af00\">101,136</span> │\n",
       "└──────────────────────────────────────┴─────────────────────────────┴─────────────────┘\n",
       "</pre>\n"
      ],
      "text/plain": [
       "┏━━━━━━━━━━━━━━━━━━━━━━━━━━━━━━━━━━━━━━┳━━━━━━━━━━━━━━━━━━━━━━━━━━━━━┳━━━━━━━━━━━━━━━━━┓\n",
       "┃\u001b[1m \u001b[0m\u001b[1mLayer (type)                        \u001b[0m\u001b[1m \u001b[0m┃\u001b[1m \u001b[0m\u001b[1mOutput Shape               \u001b[0m\u001b[1m \u001b[0m┃\u001b[1m \u001b[0m\u001b[1m        Param #\u001b[0m\u001b[1m \u001b[0m┃\n",
       "┡━━━━━━━━━━━━━━━━━━━━━━━━━━━━━━━━━━━━━━╇━━━━━━━━━━━━━━━━━━━━━━━━━━━━━╇━━━━━━━━━━━━━━━━━┩\n",
       "│ input_layer_1 (\u001b[38;5;33mInputLayer\u001b[0m)           │ (\u001b[38;5;45mNone\u001b[0m, \u001b[38;5;34m784\u001b[0m)                 │               \u001b[38;5;34m0\u001b[0m │\n",
       "├──────────────────────────────────────┼─────────────────────────────┼─────────────────┤\n",
       "│ dense_4 (\u001b[38;5;33mDense\u001b[0m)                      │ (\u001b[38;5;45mNone\u001b[0m, \u001b[38;5;34m128\u001b[0m)                 │         \u001b[38;5;34m100,480\u001b[0m │\n",
       "├──────────────────────────────────────┼─────────────────────────────┼─────────────────┤\n",
       "│ dense_5 (\u001b[38;5;33mDense\u001b[0m)                      │ (\u001b[38;5;45mNone\u001b[0m, \u001b[38;5;34m32\u001b[0m)                  │           \u001b[38;5;34m4,128\u001b[0m │\n",
       "├──────────────────────────────────────┼─────────────────────────────┼─────────────────┤\n",
       "│ dense_6 (\u001b[38;5;33mDense\u001b[0m)                      │ (\u001b[38;5;45mNone\u001b[0m, \u001b[38;5;34m128\u001b[0m)                 │           \u001b[38;5;34m4,224\u001b[0m │\n",
       "├──────────────────────────────────────┼─────────────────────────────┼─────────────────┤\n",
       "│ dense_7 (\u001b[38;5;33mDense\u001b[0m)                      │ (\u001b[38;5;45mNone\u001b[0m, \u001b[38;5;34m784\u001b[0m)                 │         \u001b[38;5;34m101,136\u001b[0m │\n",
       "└──────────────────────────────────────┴─────────────────────────────┴─────────────────┘\n"
      ]
     },
     "metadata": {},
     "output_type": "display_data"
    },
    {
     "data": {
      "text/html": [
       "<pre style=\"white-space:pre;overflow-x:auto;line-height:normal;font-family:Menlo,'DejaVu Sans Mono',consolas,'Courier New',monospace\"><span style=\"font-weight: bold\"> Total params: </span><span style=\"color: #00af00; text-decoration-color: #00af00\">209,968</span> (820.19 KB)\n",
       "</pre>\n"
      ],
      "text/plain": [
       "\u001b[1m Total params: \u001b[0m\u001b[38;5;34m209,968\u001b[0m (820.19 KB)\n"
      ]
     },
     "metadata": {},
     "output_type": "display_data"
    },
    {
     "data": {
      "text/html": [
       "<pre style=\"white-space:pre;overflow-x:auto;line-height:normal;font-family:Menlo,'DejaVu Sans Mono',consolas,'Courier New',monospace\"><span style=\"font-weight: bold\"> Trainable params: </span><span style=\"color: #00af00; text-decoration-color: #00af00\">209,968</span> (820.19 KB)\n",
       "</pre>\n"
      ],
      "text/plain": [
       "\u001b[1m Trainable params: \u001b[0m\u001b[38;5;34m209,968\u001b[0m (820.19 KB)\n"
      ]
     },
     "metadata": {},
     "output_type": "display_data"
    },
    {
     "data": {
      "text/html": [
       "<pre style=\"white-space:pre;overflow-x:auto;line-height:normal;font-family:Menlo,'DejaVu Sans Mono',consolas,'Courier New',monospace\"><span style=\"font-weight: bold\"> Non-trainable params: </span><span style=\"color: #00af00; text-decoration-color: #00af00\">0</span> (0.00 B)\n",
       "</pre>\n"
      ],
      "text/plain": [
       "\u001b[1m Non-trainable params: \u001b[0m\u001b[38;5;34m0\u001b[0m (0.00 B)\n"
      ]
     },
     "metadata": {},
     "output_type": "display_data"
    },
    {
     "name": "stdout",
     "output_type": "stream",
     "text": [
      "layer name :  input_layer_1 \t id :  0\n",
      "layer name :  dense_4 \t id :  1\n",
      "layer name :  dense_5 \t id :  2\n",
      "layer name :  dense_6 \t id :  3\n",
      "layer name :  dense_7 \t id :  4\n"
     ]
    }
   ],
   "source": [
    "# Define the size of the input layer, hidden layer, and the encoded representation (code size).\n",
    "input_size  = 784  # Typically for flattened 28x28 images from the MNIST dataset.\n",
    "hidden_size = 128  # Number of neurons in the hidden layer.\n",
    "code_size   = 32  # Size of the compressed representation.\n",
    "\n",
    "# Define the input layer with the shape equal to the input size.\n",
    "input_img   = Input(shape=(input_size,))\n",
    "\n",
    "# First hidden layer with `hidden_size` neurons and ReLU activation function, connected to the input layer.\n",
    "hidden_1    = Dense(hidden_size, activation='relu')(input_img)\n",
    "\n",
    "# The \"code\" layer that encodes the input image into a compressed representation, with `code_size` neurons.\n",
    "code        = Dense(code_size, activation='relu')(hidden_1)\n",
    "\n",
    "# Second hidden layer, which starts the process of decoding the encoded representation, \n",
    "# has the same number of neurons as the first hidden layer and uses ReLU activation.\n",
    "hidden_2    = Dense(hidden_size, activation='relu')(code)\n",
    "\n",
    "# Output layer that reconstructs the input image from the compressed code, \n",
    "# with the same size as the original input and sigmoid activation function for binary output.\n",
    "output_img  = Dense(input_size, activation='sigmoid')(hidden_2)\n",
    "\n",
    "# Creation of the autoencoder model, specifying the input and output layers.\n",
    "autoencoder = Model(input_img, output_img)\n",
    "\n",
    "# Compile the model with Adam optimizer and binary crossentropy as the loss function.\n",
    "# This setup is typical for binary input data (e.g., black and white images).\n",
    "autoencoder.compile(optimizer='adam', loss='binary_crossentropy')\n",
    "\n",
    "autoencoder.summary()\n",
    "for idx, layer in enumerate(autoencoder.layers):\n",
    "        print('layer name : ', layer.name,'\\t', 'id : ', idx)"
   ]
  },
  {
   "cell_type": "code",
   "execution_count": 10,
   "id": "a4e4362c",
   "metadata": {
    "hideCode": false,
    "hidePrompt": false,
    "slideshow": {
     "slide_type": "skip"
    }
   },
   "outputs": [
    {
     "name": "stdout",
     "output_type": "stream",
     "text": [
      "Epoch 1/10\n",
      "\u001b[1m1875/1875\u001b[0m \u001b[32m━━━━━━━━━━━━━━━━━━━━\u001b[0m\u001b[37m\u001b[0m \u001b[1m8s\u001b[0m 4ms/step - loss: 0.0842\n",
      "Epoch 2/10\n",
      "\u001b[1m1875/1875\u001b[0m \u001b[32m━━━━━━━━━━━━━━━━━━━━\u001b[0m\u001b[37m\u001b[0m \u001b[1m10s\u001b[0m 5ms/step - loss: 0.0835\n",
      "Epoch 3/10\n",
      "\u001b[1m1875/1875\u001b[0m \u001b[32m━━━━━━━━━━━━━━━━━━━━\u001b[0m\u001b[37m\u001b[0m \u001b[1m9s\u001b[0m 4ms/step - loss: 0.0834\n",
      "Epoch 4/10\n",
      "\u001b[1m1875/1875\u001b[0m \u001b[32m━━━━━━━━━━━━━━━━━━━━\u001b[0m\u001b[37m\u001b[0m \u001b[1m8s\u001b[0m 4ms/step - loss: 0.0831\n",
      "Epoch 5/10\n",
      "\u001b[1m1875/1875\u001b[0m \u001b[32m━━━━━━━━━━━━━━━━━━━━\u001b[0m\u001b[37m\u001b[0m \u001b[1m8s\u001b[0m 4ms/step - loss: 0.0828\n",
      "Epoch 6/10\n",
      "\u001b[1m1875/1875\u001b[0m \u001b[32m━━━━━━━━━━━━━━━━━━━━\u001b[0m\u001b[37m\u001b[0m \u001b[1m10s\u001b[0m 5ms/step - loss: 0.0825\n",
      "Epoch 7/10\n",
      "\u001b[1m1875/1875\u001b[0m \u001b[32m━━━━━━━━━━━━━━━━━━━━\u001b[0m\u001b[37m\u001b[0m \u001b[1m9s\u001b[0m 5ms/step - loss: 0.0823\n",
      "Epoch 8/10\n",
      "\u001b[1m1875/1875\u001b[0m \u001b[32m━━━━━━━━━━━━━━━━━━━━\u001b[0m\u001b[37m\u001b[0m \u001b[1m10s\u001b[0m 5ms/step - loss: 0.0821\n",
      "Epoch 9/10\n",
      "\u001b[1m1875/1875\u001b[0m \u001b[32m━━━━━━━━━━━━━━━━━━━━\u001b[0m\u001b[37m\u001b[0m \u001b[1m10s\u001b[0m 5ms/step - loss: 0.0820\n",
      "Epoch 10/10\n",
      "\u001b[1m1875/1875\u001b[0m \u001b[32m━━━━━━━━━━━━━━━━━━━━\u001b[0m\u001b[37m\u001b[0m \u001b[1m9s\u001b[0m 5ms/step - loss: 0.0818\n"
     ]
    },
    {
     "data": {
      "text/plain": [
       "<keras.src.callbacks.history.History at 0x1ef254a3250>"
      ]
     },
     "execution_count": 10,
     "metadata": {},
     "output_type": "execute_result"
    }
   ],
   "source": [
    "# Train the autoencoder using the training data with the input images as both the inputs and targets,\n",
    "# which is typical for autoencoders since they aim to reconstruct the input.\n",
    "# Here, the model is trained for n epochs.\n",
    "autoencoder.fit(x_train, x_train, epochs=10)"
   ]
  },
  {
   "cell_type": "markdown",
   "id": "0bb83323",
   "metadata": {
    "hideCode": false,
    "hidePrompt": false,
    "slideshow": {
     "slide_type": "skip"
    }
   },
   "source": [
    "**Visualization**\n",
    "\n",
    "Now let’s visualize how well our autoencoder reconstructs its input. We run the autoencoder on the test set simply by using the predict function of Keras. For every image in the test set, we get the output of the autoencoder. We expect the output to be very similar to the input."
   ]
  },
  {
   "cell_type": "code",
   "execution_count": 11,
   "id": "ad973e75",
   "metadata": {
    "hideCode": false,
    "hidePrompt": false,
    "slideshow": {
     "slide_type": "subslide"
    }
   },
   "outputs": [
    {
     "name": "stdout",
     "output_type": "stream",
     "text": [
      "\u001b[1m313/313\u001b[0m \u001b[32m━━━━━━━━━━━━━━━━━━━━\u001b[0m\u001b[37m\u001b[0m \u001b[1m1s\u001b[0m 2ms/step\n"
     ]
    },
    {
     "data": {
      "image/png": "[encoded data removed]",
      "text/plain": [
       "<Figure size 600x300 with 20 Axes>"
      ]
     },
     "metadata": {
      "image/png": {
       "height": 206,
       "width": 484
      }
     },
     "output_type": "display_data"
    }
   ],
   "source": [
    "plot_autoencoder_outputs(autoencoder, 10, (28, 28))"
   ]
  },
  {
   "cell_type": "markdown",
   "id": "71cd2c96",
   "metadata": {
    "hideCode": false,
    "hidePrompt": false,
    "slideshow": {
     "slide_type": "subslide"
    }
   },
   "source": [
    "**A word of caution**\n",
    "\n",
    "- We possess full control over the design of the autoencoder, enabling us to enhance its capabilities by adding more layers, increasing the number of nodes in each layer, and, most crucially, expanding the code size. By adjusting these hyperparameters, the autoencoder can capture more complex patterns. \n",
    "\n",
    "- However, caution is needed to avoid making it excessively powerful, as it may end up merely duplicating its inputs to the outputs without capturing any significant representations, effectively acting as the identity function. In such cases, the autoencoder would perfectly reconstruct the training data but fail to generalize to new data due to overfitting, which is undesirable."
   ]
  },
  {
   "cell_type": "markdown",
   "id": "fd81a402",
   "metadata": {
    "hideCode": false,
    "hidePrompt": false,
    "slideshow": {
     "slide_type": "skip"
    }
   },
   "source": [
    "Hence, we opt for a \"sandwich\" structure, intentionally maintaining a compact code size. This undercomplete configuration, where the coding layer is of lower dimensionality than the input data, prevents the autoencoder from directly replicating its inputs to the outputs. This limitation compels it to discern and learn meaningful features. For instance, it will recognize and succinctly encode patterns like the linear nature of the digit \"1\" or the circular shape of \"0\". An undercomplete autoencoder would struggle to perfectly reconstruct input data that lacks any inherent pattern or correlation. Fortunately, real-world data often contains significant interdependencies, making this approach viable and effective."
   ]
  },
  {
   "cell_type": "markdown",
   "id": "a4cf03b1",
   "metadata": {
    "hideCode": false,
    "hidePrompt": false,
    "slideshow": {
     "slide_type": "skip"
    }
   },
   "source": [
    "**Shallow Autoencoder**"
   ]
  },
  {
   "cell_type": "code",
   "execution_count": 12,
   "id": "e14c3b75",
   "metadata": {
    "hideCode": false,
    "hidePrompt": false,
    "slideshow": {
     "slide_type": "skip"
    }
   },
   "outputs": [
    {
     "data": {
      "text/html": [
       "<pre style=\"white-space:pre;overflow-x:auto;line-height:normal;font-family:Menlo,'DejaVu Sans Mono',consolas,'Courier New',monospace\"><span style=\"font-weight: bold\">Model: \"functional_2\"</span>\n",
       "</pre>\n"
      ],
      "text/plain": [
       "\u001b[1mModel: \"functional_2\"\u001b[0m\n"
      ]
     },
     "metadata": {},
     "output_type": "display_data"
    },
    {
     "data": {
      "text/html": [
       "<pre style=\"white-space:pre;overflow-x:auto;line-height:normal;font-family:Menlo,'DejaVu Sans Mono',consolas,'Courier New',monospace\">┏━━━━━━━━━━━━━━━━━━━━━━━━━━━━━━━━━━━━━━┳━━━━━━━━━━━━━━━━━━━━━━━━━━━━━┳━━━━━━━━━━━━━━━━━┓\n",
       "┃<span style=\"font-weight: bold\"> Layer (type)                         </span>┃<span style=\"font-weight: bold\"> Output Shape                </span>┃<span style=\"font-weight: bold\">         Param # </span>┃\n",
       "┡━━━━━━━━━━━━━━━━━━━━━━━━━━━━━━━━━━━━━━╇━━━━━━━━━━━━━━━━━━━━━━━━━━━━━╇━━━━━━━━━━━━━━━━━┩\n",
       "│ input_layer_2 (<span style=\"color: #0087ff; text-decoration-color: #0087ff\">InputLayer</span>)           │ (<span style=\"color: #00d7ff; text-decoration-color: #00d7ff\">None</span>, <span style=\"color: #00af00; text-decoration-color: #00af00\">784</span>)                 │               <span style=\"color: #00af00; text-decoration-color: #00af00\">0</span> │\n",
       "├──────────────────────────────────────┼─────────────────────────────┼─────────────────┤\n",
       "│ dense_8 (<span style=\"color: #0087ff; text-decoration-color: #0087ff\">Dense</span>)                      │ (<span style=\"color: #00d7ff; text-decoration-color: #00d7ff\">None</span>, <span style=\"color: #00af00; text-decoration-color: #00af00\">32</span>)                  │          <span style=\"color: #00af00; text-decoration-color: #00af00\">25,120</span> │\n",
       "├──────────────────────────────────────┼─────────────────────────────┼─────────────────┤\n",
       "│ dense_9 (<span style=\"color: #0087ff; text-decoration-color: #0087ff\">Dense</span>)                      │ (<span style=\"color: #00d7ff; text-decoration-color: #00d7ff\">None</span>, <span style=\"color: #00af00; text-decoration-color: #00af00\">784</span>)                 │          <span style=\"color: #00af00; text-decoration-color: #00af00\">25,872</span> │\n",
       "└──────────────────────────────────────┴─────────────────────────────┴─────────────────┘\n",
       "</pre>\n"
      ],
      "text/plain": [
       "┏━━━━━━━━━━━━━━━━━━━━━━━━━━━━━━━━━━━━━━┳━━━━━━━━━━━━━━━━━━━━━━━━━━━━━┳━━━━━━━━━━━━━━━━━┓\n",
       "┃\u001b[1m \u001b[0m\u001b[1mLayer (type)                        \u001b[0m\u001b[1m \u001b[0m┃\u001b[1m \u001b[0m\u001b[1mOutput Shape               \u001b[0m\u001b[1m \u001b[0m┃\u001b[1m \u001b[0m\u001b[1m        Param #\u001b[0m\u001b[1m \u001b[0m┃\n",
       "┡━━━━━━━━━━━━━━━━━━━━━━━━━━━━━━━━━━━━━━╇━━━━━━━━━━━━━━━━━━━━━━━━━━━━━╇━━━━━━━━━━━━━━━━━┩\n",
       "│ input_layer_2 (\u001b[38;5;33mInputLayer\u001b[0m)           │ (\u001b[38;5;45mNone\u001b[0m, \u001b[38;5;34m784\u001b[0m)                 │               \u001b[38;5;34m0\u001b[0m │\n",
       "├──────────────────────────────────────┼─────────────────────────────┼─────────────────┤\n",
       "│ dense_8 (\u001b[38;5;33mDense\u001b[0m)                      │ (\u001b[38;5;45mNone\u001b[0m, \u001b[38;5;34m32\u001b[0m)                  │          \u001b[38;5;34m25,120\u001b[0m │\n",
       "├──────────────────────────────────────┼─────────────────────────────┼─────────────────┤\n",
       "│ dense_9 (\u001b[38;5;33mDense\u001b[0m)                      │ (\u001b[38;5;45mNone\u001b[0m, \u001b[38;5;34m784\u001b[0m)                 │          \u001b[38;5;34m25,872\u001b[0m │\n",
       "└──────────────────────────────────────┴─────────────────────────────┴─────────────────┘\n"
      ]
     },
     "metadata": {},
     "output_type": "display_data"
    },
    {
     "data": {
      "text/html": [
       "<pre style=\"white-space:pre;overflow-x:auto;line-height:normal;font-family:Menlo,'DejaVu Sans Mono',consolas,'Courier New',monospace\"><span style=\"font-weight: bold\"> Total params: </span><span style=\"color: #00af00; text-decoration-color: #00af00\">50,992</span> (199.19 KB)\n",
       "</pre>\n"
      ],
      "text/plain": [
       "\u001b[1m Total params: \u001b[0m\u001b[38;5;34m50,992\u001b[0m (199.19 KB)\n"
      ]
     },
     "metadata": {},
     "output_type": "display_data"
    },
    {
     "data": {
      "text/html": [
       "<pre style=\"white-space:pre;overflow-x:auto;line-height:normal;font-family:Menlo,'DejaVu Sans Mono',consolas,'Courier New',monospace\"><span style=\"font-weight: bold\"> Trainable params: </span><span style=\"color: #00af00; text-decoration-color: #00af00\">50,992</span> (199.19 KB)\n",
       "</pre>\n"
      ],
      "text/plain": [
       "\u001b[1m Trainable params: \u001b[0m\u001b[38;5;34m50,992\u001b[0m (199.19 KB)\n"
      ]
     },
     "metadata": {},
     "output_type": "display_data"
    },
    {
     "data": {
      "text/html": [
       "<pre style=\"white-space:pre;overflow-x:auto;line-height:normal;font-family:Menlo,'DejaVu Sans Mono',consolas,'Courier New',monospace\"><span style=\"font-weight: bold\"> Non-trainable params: </span><span style=\"color: #00af00; text-decoration-color: #00af00\">0</span> (0.00 B)\n",
       "</pre>\n"
      ],
      "text/plain": [
       "\u001b[1m Non-trainable params: \u001b[0m\u001b[38;5;34m0\u001b[0m (0.00 B)\n"
      ]
     },
     "metadata": {},
     "output_type": "display_data"
    }
   ],
   "source": [
    "input_size = 784\n",
    "code_size  = 32\n",
    "\n",
    "input_img  = Input(shape=(input_size,))\n",
    "code       = Dense(code_size, activation='relu')(input_img)\n",
    "output_img = Dense(input_size, activation='sigmoid')(code)\n",
    "\n",
    "autoencoder = Model(input_img, output_img)\n",
    "autoencoder.compile(optimizer='adam', loss='binary_crossentropy')\n",
    "autoencoder.summary()"
   ]
  },
  {
   "cell_type": "code",
   "execution_count": 13,
   "id": "9cbd2913",
   "metadata": {
    "hideCode": false,
    "hidePrompt": false,
    "slideshow": {
     "slide_type": "skip"
    }
   },
   "outputs": [
    {
     "name": "stdout",
     "output_type": "stream",
     "text": [
      "layer name :  input_layer_2 \t id :  0\n",
      "layer name :  dense_8 \t id :  1\n",
      "layer name :  dense_9 \t id :  2\n"
     ]
    }
   ],
   "source": [
    "for idx, layer in enumerate(autoencoder.layers):\n",
    "        print('layer name : ', layer.name,'\\t', 'id : ', idx)"
   ]
  },
  {
   "cell_type": "code",
   "execution_count": null,
   "id": "65ba4817",
   "metadata": {
    "hideCode": false,
    "hidePrompt": false,
    "slideshow": {
     "slide_type": "skip"
    }
   },
   "outputs": [],
   "source": [
    "autoencoder.fit(x_train, x_train, epochs=10, verbose=0)"
   ]
  },
  {
   "cell_type": "code",
   "execution_count": null,
   "id": "0b0a0dbd",
   "metadata": {
    "hideCode": false,
    "hidePrompt": false,
    "slideshow": {
     "slide_type": "skip"
    }
   },
   "outputs": [],
   "source": [
    "plot_autoencoder_outputs(autoencoder, 5, (28, 28))"
   ]
  },
  {
   "cell_type": "markdown",
   "id": "154ca717",
   "metadata": {
    "collapsed": true,
    "hideCode": false,
    "hidePrompt": false,
    "slideshow": {
     "slide_type": "subslide"
    }
   },
   "source": [
    "### Denoising Autoencoder\n",
    "\n",
    "Keeping the code layer small forced our autoencoder to learn an intelligent representation of the data. There is another way to force the autoencoder to learn useful features, which is adding random noise to its inputs and making it recover the original noise-free data. This way the autoencoder can’t simply copy the input to its output because the input also contains random noise. We are asking it to subtract the noise and produce the underlying meaningful data. This is called a denoising autoencoder.\n",
    "\n",
    "<center>\n",
    "    \n",
    "<img src=\"./pics/ch-08-01-03.jpg\" width=\"500\" height=\"500\">\n",
    "</center>\n"
   ]
  },
  {
   "cell_type": "markdown",
   "id": "22fbc966",
   "metadata": {
    "hideCode": false,
    "hidePrompt": false,
    "slideshow": {
     "slide_type": "subslide"
    }
   },
   "source": [
    "<center>\n",
    "    \n",
    "<img src=\"./pics/ch-08-01-04.jpg\" width=\"500\" height=\"500\">\n",
    "</center>\n",
    "\n",
    "*We add random Gaussian noise to them and the noisy data becomes the input to the autoencoder. The autoencoder doesn’t see the original image at all. But then we expect the autoencoder to regenerate the noise-free original image.*"
   ]
  },
  {
   "cell_type": "markdown",
   "id": "7a8930a4",
   "metadata": {
    "hideCode": false,
    "hidePrompt": false,
    "slideshow": {
     "slide_type": "skip"
    }
   },
   "source": [
    "The following code is designed to introduce noise into the training and test datasets and then visualize the effect of this noise on the images. It's a common technique in machine learning, especially in tasks related to image processing, to test the robustness of models against noisy data or to augment the dataset. "
   ]
  },
  {
   "cell_type": "code",
   "execution_count": 19,
   "id": "964c5f01",
   "metadata": {
    "hideCode": false,
    "hidePrompt": false,
    "slideshow": {
     "slide_type": "subslide"
    }
   },
   "outputs": [
    {
     "data": {
      "image/png": "[encoded data removed]",
      "text/plain": [
       "<Figure size 600x300 with 10 Axes>"
      ]
     },
     "metadata": {
      "image/png": {
       "height": 226,
       "width": 485
      }
     },
     "output_type": "display_data"
    }
   ],
   "source": [
    "# Introduce a noise factor which determines the magnitude of noise to add to the images.\n",
    "noise_factor = 1.0\n",
    "\n",
    "# Add Gaussian noise to the training dataset. The noise is generated with a mean of 0 and a standard deviation of 1,\n",
    "# multiplied by the noise factor, and added to the original images. This operation is vectorized for efficiency.\n",
    "x_train_noisy = x_train + noise_factor * np.random.normal(size=x_train.shape) \n",
    "\n",
    "# Repeat the process for the test dataset.\n",
    "x_test_noisy = x_test + noise_factor * np.random.normal(size=x_test.shape)\n",
    "\n",
    "# Clip the noisy images to ensure their pixel values are within the valid range [0, 1].\n",
    "# This step is necessary because the addition of noise can lead to values outside this range.\n",
    "x_train_noisy = np.clip(x_train_noisy, 0.0, 1.0)\n",
    "x_test_noisy  = np.clip(x_test_noisy, 0.0, 1.0)\n",
    "\n",
    "# Specify the number of images to display.\n",
    "n = 5\n",
    "\n",
    "# Set up the figure for plotting the images.\n",
    "plt.figure(figsize=(6, 3))\n",
    "\n",
    "# Loop through the first `n` images to plot them.\n",
    "for i in range(n):\n",
    "    # Plot the original image from the test dataset.\n",
    "    ax = plt.subplot(2, n, i + 1)\n",
    "    plt.imshow(x_test[i].reshape(28, 28))  # Reshape the image for display.\n",
    "    plt.gray()                             # Use grayscale for the image.\n",
    "    ax.get_xaxis().set_visible(False)      # Hide the x-axis.\n",
    "    ax.get_yaxis().set_visible(False)      # Hide the y-axis.\n",
    "    if i == n/2:\n",
    "        ax.set_title('Original Images')    # Optionally, set a title.\n",
    "\n",
    "    # Plot the corresponding noisy image.\n",
    "    ax = plt.subplot(2, n, i + 1 + n)\n",
    "    plt.imshow(x_test_noisy[i].reshape(28, 28))  # Reshape the noisy image for display.\n",
    "    plt.gray()                                   # Use grayscale for the image.\n",
    "    ax.get_xaxis().set_visible(False)            # Hide the x-axis.\n",
    "    ax.get_yaxis().set_visible(False)            # Hide the y-axis.\n",
    "    if i == n/2:\n",
    "        ax.set_title('Noisy Input')              # Optionally, set a title.\n"
   ]
  },
  {
   "cell_type": "markdown",
   "id": "85baa50d",
   "metadata": {
    "hideCode": false,
    "hidePrompt": false,
    "slideshow": {
     "slide_type": "skip"
    }
   },
   "source": [
    "**Implementation of a simple Denoising Autoencoder**"
   ]
  },
  {
   "cell_type": "code",
   "execution_count": 20,
   "id": "1a3990f6",
   "metadata": {
    "hideCode": false,
    "hidePrompt": false,
    "slideshow": {
     "slide_type": "skip"
    }
   },
   "outputs": [
    {
     "data": {
      "text/html": [
       "<pre style=\"white-space:pre;overflow-x:auto;line-height:normal;font-family:Menlo,'DejaVu Sans Mono',consolas,'Courier New',monospace\"><span style=\"font-weight: bold\">Model: \"functional_4\"</span>\n",
       "</pre>\n"
      ],
      "text/plain": [
       "\u001b[1mModel: \"functional_4\"\u001b[0m\n"
      ]
     },
     "metadata": {},
     "output_type": "display_data"
    },
    {
     "data": {
      "text/html": [
       "<pre style=\"white-space:pre;overflow-x:auto;line-height:normal;font-family:Menlo,'DejaVu Sans Mono',consolas,'Courier New',monospace\">┏━━━━━━━━━━━━━━━━━━━━━━━━━━━━━━━━━━━━━━┳━━━━━━━━━━━━━━━━━━━━━━━━━━━━━┳━━━━━━━━━━━━━━━━━┓\n",
       "┃<span style=\"font-weight: bold\"> Layer (type)                         </span>┃<span style=\"font-weight: bold\"> Output Shape                </span>┃<span style=\"font-weight: bold\">         Param # </span>┃\n",
       "┡━━━━━━━━━━━━━━━━━━━━━━━━━━━━━━━━━━━━━━╇━━━━━━━━━━━━━━━━━━━━━━━━━━━━━╇━━━━━━━━━━━━━━━━━┩\n",
       "│ input_layer_4 (<span style=\"color: #0087ff; text-decoration-color: #0087ff\">InputLayer</span>)           │ (<span style=\"color: #00d7ff; text-decoration-color: #00d7ff\">None</span>, <span style=\"color: #00af00; text-decoration-color: #00af00\">784</span>)                 │               <span style=\"color: #00af00; text-decoration-color: #00af00\">0</span> │\n",
       "├──────────────────────────────────────┼─────────────────────────────┼─────────────────┤\n",
       "│ dense_14 (<span style=\"color: #0087ff; text-decoration-color: #0087ff\">Dense</span>)                     │ (<span style=\"color: #00d7ff; text-decoration-color: #00d7ff\">None</span>, <span style=\"color: #00af00; text-decoration-color: #00af00\">128</span>)                 │         <span style=\"color: #00af00; text-decoration-color: #00af00\">100,480</span> │\n",
       "├──────────────────────────────────────┼─────────────────────────────┼─────────────────┤\n",
       "│ dense_15 (<span style=\"color: #0087ff; text-decoration-color: #0087ff\">Dense</span>)                     │ (<span style=\"color: #00d7ff; text-decoration-color: #00d7ff\">None</span>, <span style=\"color: #00af00; text-decoration-color: #00af00\">32</span>)                  │           <span style=\"color: #00af00; text-decoration-color: #00af00\">4,128</span> │\n",
       "├──────────────────────────────────────┼─────────────────────────────┼─────────────────┤\n",
       "│ dense_16 (<span style=\"color: #0087ff; text-decoration-color: #0087ff\">Dense</span>)                     │ (<span style=\"color: #00d7ff; text-decoration-color: #00d7ff\">None</span>, <span style=\"color: #00af00; text-decoration-color: #00af00\">128</span>)                 │           <span style=\"color: #00af00; text-decoration-color: #00af00\">4,224</span> │\n",
       "├──────────────────────────────────────┼─────────────────────────────┼─────────────────┤\n",
       "│ dense_17 (<span style=\"color: #0087ff; text-decoration-color: #0087ff\">Dense</span>)                     │ (<span style=\"color: #00d7ff; text-decoration-color: #00d7ff\">None</span>, <span style=\"color: #00af00; text-decoration-color: #00af00\">784</span>)                 │         <span style=\"color: #00af00; text-decoration-color: #00af00\">101,136</span> │\n",
       "└──────────────────────────────────────┴─────────────────────────────┴─────────────────┘\n",
       "</pre>\n"
      ],
      "text/plain": [
       "┏━━━━━━━━━━━━━━━━━━━━━━━━━━━━━━━━━━━━━━┳━━━━━━━━━━━━━━━━━━━━━━━━━━━━━┳━━━━━━━━━━━━━━━━━┓\n",
       "┃\u001b[1m \u001b[0m\u001b[1mLayer (type)                        \u001b[0m\u001b[1m \u001b[0m┃\u001b[1m \u001b[0m\u001b[1mOutput Shape               \u001b[0m\u001b[1m \u001b[0m┃\u001b[1m \u001b[0m\u001b[1m        Param #\u001b[0m\u001b[1m \u001b[0m┃\n",
       "┡━━━━━━━━━━━━━━━━━━━━━━━━━━━━━━━━━━━━━━╇━━━━━━━━━━━━━━━━━━━━━━━━━━━━━╇━━━━━━━━━━━━━━━━━┩\n",
       "│ input_layer_4 (\u001b[38;5;33mInputLayer\u001b[0m)           │ (\u001b[38;5;45mNone\u001b[0m, \u001b[38;5;34m784\u001b[0m)                 │               \u001b[38;5;34m0\u001b[0m │\n",
       "├──────────────────────────────────────┼─────────────────────────────┼─────────────────┤\n",
       "│ dense_14 (\u001b[38;5;33mDense\u001b[0m)                     │ (\u001b[38;5;45mNone\u001b[0m, \u001b[38;5;34m128\u001b[0m)                 │         \u001b[38;5;34m100,480\u001b[0m │\n",
       "├──────────────────────────────────────┼─────────────────────────────┼─────────────────┤\n",
       "│ dense_15 (\u001b[38;5;33mDense\u001b[0m)                     │ (\u001b[38;5;45mNone\u001b[0m, \u001b[38;5;34m32\u001b[0m)                  │           \u001b[38;5;34m4,128\u001b[0m │\n",
       "├──────────────────────────────────────┼─────────────────────────────┼─────────────────┤\n",
       "│ dense_16 (\u001b[38;5;33mDense\u001b[0m)                     │ (\u001b[38;5;45mNone\u001b[0m, \u001b[38;5;34m128\u001b[0m)                 │           \u001b[38;5;34m4,224\u001b[0m │\n",
       "├──────────────────────────────────────┼─────────────────────────────┼─────────────────┤\n",
       "│ dense_17 (\u001b[38;5;33mDense\u001b[0m)                     │ (\u001b[38;5;45mNone\u001b[0m, \u001b[38;5;34m784\u001b[0m)                 │         \u001b[38;5;34m101,136\u001b[0m │\n",
       "└──────────────────────────────────────┴─────────────────────────────┴─────────────────┘\n"
      ]
     },
     "metadata": {},
     "output_type": "display_data"
    },
    {
     "data": {
      "text/html": [
       "<pre style=\"white-space:pre;overflow-x:auto;line-height:normal;font-family:Menlo,'DejaVu Sans Mono',consolas,'Courier New',monospace\"><span style=\"font-weight: bold\"> Total params: </span><span style=\"color: #00af00; text-decoration-color: #00af00\">209,968</span> (820.19 KB)\n",
       "</pre>\n"
      ],
      "text/plain": [
       "\u001b[1m Total params: \u001b[0m\u001b[38;5;34m209,968\u001b[0m (820.19 KB)\n"
      ]
     },
     "metadata": {},
     "output_type": "display_data"
    },
    {
     "data": {
      "text/html": [
       "<pre style=\"white-space:pre;overflow-x:auto;line-height:normal;font-family:Menlo,'DejaVu Sans Mono',consolas,'Courier New',monospace\"><span style=\"font-weight: bold\"> Trainable params: </span><span style=\"color: #00af00; text-decoration-color: #00af00\">209,968</span> (820.19 KB)\n",
       "</pre>\n"
      ],
      "text/plain": [
       "\u001b[1m Trainable params: \u001b[0m\u001b[38;5;34m209,968\u001b[0m (820.19 KB)\n"
      ]
     },
     "metadata": {},
     "output_type": "display_data"
    },
    {
     "data": {
      "text/html": [
       "<pre style=\"white-space:pre;overflow-x:auto;line-height:normal;font-family:Menlo,'DejaVu Sans Mono',consolas,'Courier New',monospace\"><span style=\"font-weight: bold\"> Non-trainable params: </span><span style=\"color: #00af00; text-decoration-color: #00af00\">0</span> (0.00 B)\n",
       "</pre>\n"
      ],
      "text/plain": [
       "\u001b[1m Non-trainable params: \u001b[0m\u001b[38;5;34m0\u001b[0m (0.00 B)\n"
      ]
     },
     "metadata": {},
     "output_type": "display_data"
    }
   ],
   "source": [
    "# Define the size of the input layer, hidden layers, and the code (compressed representation)\n",
    "input_size  = 784  # Typically for a flattened 28x28 image, as used in the MNIST dataset\n",
    "hidden_size = 128  # Size of the hidden layer\n",
    "code_size   = 32   # Size of the compressed representation, significantly smaller than the input\n",
    "\n",
    "# Define the architecture of the autoencoder\n",
    "input_img  = Input(shape=(input_size,))  # Input layer for the autoencoder\n",
    "hidden_1   = Dense(hidden_size, activation='relu')(input_img)  # First hidden layer with ReLU activation\n",
    "code       = Dense(code_size, activation='relu')(hidden_1)  # Compressed representation layer, also with ReLU\n",
    "hidden_2   = Dense(hidden_size, activation='relu')(code)  # Second hidden layer, helps in decoding\n",
    "output_img = Dense(input_size, activation='sigmoid')(hidden_2)  # Output layer, same size as input\n",
    "\n",
    "# Create the autoencoder model by specifying the input and output layers\n",
    "autoencoder = Model(input_img, output_img)\n",
    "\n",
    "# Compile the autoencoder model with Adam optimizer and binary crossentropy loss function\n",
    "autoencoder.compile(optimizer='adam', loss='binary_crossentropy')\n",
    "autoencoder.summary()"
   ]
  },
  {
   "cell_type": "code",
   "execution_count": 21,
   "id": "905e2bae",
   "metadata": {},
   "outputs": [
    {
     "name": "stdout",
     "output_type": "stream",
     "text": [
      "Epoch 1/10\n",
      "\u001b[1m1875/1875\u001b[0m \u001b[32m━━━━━━━━━━━━━━━━━━━━\u001b[0m\u001b[37m\u001b[0m \u001b[1m11s\u001b[0m 5ms/step - loss: 0.2456\n",
      "Epoch 2/10\n",
      "\u001b[1m1875/1875\u001b[0m \u001b[32m━━━━━━━━━━━━━━━━━━━━\u001b[0m\u001b[37m\u001b[0m \u001b[1m10s\u001b[0m 5ms/step - loss: 0.1850\n",
      "Epoch 3/10\n",
      "\u001b[1m1875/1875\u001b[0m \u001b[32m━━━━━━━━━━━━━━━━━━━━\u001b[0m\u001b[37m\u001b[0m \u001b[1m9s\u001b[0m 5ms/step - loss: 0.1759\n",
      "Epoch 4/10\n",
      "\u001b[1m1875/1875\u001b[0m \u001b[32m━━━━━━━━━━━━━━━━━━━━\u001b[0m\u001b[37m\u001b[0m \u001b[1m11s\u001b[0m 5ms/step - loss: 0.1711\n",
      "Epoch 5/10\n",
      "\u001b[1m1875/1875\u001b[0m \u001b[32m━━━━━━━━━━━━━━━━━━━━\u001b[0m\u001b[37m\u001b[0m \u001b[1m10s\u001b[0m 5ms/step - loss: 0.1673\n",
      "Epoch 6/10\n",
      "\u001b[1m1875/1875\u001b[0m \u001b[32m━━━━━━━━━━━━━━━━━━━━\u001b[0m\u001b[37m\u001b[0m \u001b[1m9s\u001b[0m 5ms/step - loss: 0.1654\n",
      "Epoch 7/10\n",
      "\u001b[1m1875/1875\u001b[0m \u001b[32m━━━━━━━━━━━━━━━━━━━━\u001b[0m\u001b[37m\u001b[0m \u001b[1m9s\u001b[0m 5ms/step - loss: 0.1641\n",
      "Epoch 8/10\n",
      "\u001b[1m1875/1875\u001b[0m \u001b[32m━━━━━━━━━━━━━━━━━━━━\u001b[0m\u001b[37m\u001b[0m \u001b[1m9s\u001b[0m 5ms/step - loss: 0.1630\n",
      "Epoch 9/10\n",
      "\u001b[1m1875/1875\u001b[0m \u001b[32m━━━━━━━━━━━━━━━━━━━━\u001b[0m\u001b[37m\u001b[0m \u001b[1m10s\u001b[0m 5ms/step - loss: 0.1614\n",
      "Epoch 10/10\n",
      "\u001b[1m1875/1875\u001b[0m \u001b[32m━━━━━━━━━━━━━━━━━━━━\u001b[0m\u001b[37m\u001b[0m \u001b[1m8s\u001b[0m 4ms/step - loss: 0.1603\n"
     ]
    },
    {
     "data": {
      "text/plain": [
       "<keras.src.callbacks.history.History at 0x1ef32011810>"
      ]
     },
     "execution_count": 21,
     "metadata": {},
     "output_type": "execute_result"
    }
   ],
   "source": [
    "# Train the autoencoder using noisy input data 'x_train_noisy' and clean target data 'x_train' for 10 epochs\n",
    "autoencoder.fit(x_train_noisy, x_train, epochs=10, verbose = 1)"
   ]
  },
  {
   "cell_type": "markdown",
   "id": "76dd9b57",
   "metadata": {
    "hideCode": false,
    "hidePrompt": false,
    "slideshow": {
     "slide_type": "skip"
    }
   },
   "source": [
    "**Visualization**"
   ]
  },
  {
   "cell_type": "code",
   "execution_count": 22,
   "id": "a5382fbc",
   "metadata": {
    "hideCode": false,
    "hidePrompt": false,
    "slideshow": {
     "slide_type": "subslide"
    }
   },
   "outputs": [
    {
     "name": "stdout",
     "output_type": "stream",
     "text": [
      "\u001b[1m313/313\u001b[0m \u001b[32m━━━━━━━━━━━━━━━━━━━━\u001b[0m\u001b[37m\u001b[0m \u001b[1m1s\u001b[0m 2ms/step\n"
     ]
    },
    {
     "data": {
      "image/png": "[encoded data removed]",
      "text/plain": [
       "<Figure size 600x300 with 15 Axes>"
      ]
     },
     "metadata": {
      "image/png": {
       "height": 251,
       "width": 472
      }
     },
     "output_type": "display_data"
    }
   ],
   "source": [
    "n = 5\n",
    "plt.figure(figsize=(6, 3))\n",
    "\n",
    "images = autoencoder.predict(x_test_noisy)\n",
    "\n",
    "for i in range(n):\n",
    "    # plot original image\n",
    "    ax = plt.subplot(3, n, i + 1)\n",
    "    plt.imshow(x_test[i].reshape(28, 28))\n",
    "    plt.gray()\n",
    "    ax.get_xaxis().set_visible(False)\n",
    "    ax.get_yaxis().set_visible(False)\n",
    "    if i == n/2:\n",
    "        ax.set_title('Original Images')\n",
    "\n",
    "    # plot noisy image \n",
    "    ax = plt.subplot(3, n, i + 1 + n)\n",
    "    plt.imshow(x_test_noisy[i].reshape(28, 28))\n",
    "    plt.gray()\n",
    "    ax.get_xaxis().set_visible(False)\n",
    "    ax.get_yaxis().set_visible(False)\n",
    "    if i == n/2:\n",
    "        ax.set_title('Noisy Input')\n",
    "        \n",
    "    # plot noisy image \n",
    "    ax = plt.subplot(3, n, i + 1 + 2*n)\n",
    "    plt.imshow(images[i].reshape(28, 28))\n",
    "    plt.gray()\n",
    "    ax.get_xaxis().set_visible(False)\n",
    "    ax.get_yaxis().set_visible(False)\n",
    "    if i == n/2:\n",
    "        ax.set_title('Autoencoder Output')"
   ]
  },
  {
   "cell_type": "markdown",
   "id": "186e4e07",
   "metadata": {
    "collapsed": true,
    "hideCode": false,
    "hidePrompt": false,
    "slideshow": {
     "slide_type": "subslide"
    }
   },
   "source": [
    "### Sparse Autoencoders\n",
    "\n",
    "- We introduced two ways to force the autoencoder to learn useful features: keeping the code size small and denoising autoencoders. \n",
    "\n",
    "- The third method is using regularization. We can regularize the autoencoder by using a sparsity constraint such that only a fraction of the nodes would have nonzero values, called active nodes.\n",
    "\n",
    "- In particular, we add a penalty term to the loss function such that only a fraction of the nodes become active. This forces the autoencoder to represent each input as a combination of small number of nodes, and demands it to discover interesting structure in the data. This method works even if the code size is large, since only a small subset of the nodes will be active at any time. It’s pretty easy to do this in Keras with just one parameter"
   ]
  },
  {
   "cell_type": "code",
   "execution_count": 23,
   "id": "27bf2d5c",
   "metadata": {
    "hideCode": false,
    "hidePrompt": false,
    "slideshow": {
     "slide_type": "skip"
    }
   },
   "outputs": [],
   "source": [
    "# REGULAR AUTOENCODER\n",
    "\n",
    "input_size = 784\n",
    "code_size  = 32\n",
    "\n",
    "input_img  = Input(shape=(input_size,))\n",
    "code       = Dense(code_size, activation='relu')(input_img)\n",
    "output_img = Dense(input_size, activation='sigmoid')(code)\n",
    "\n",
    "autoencoder_standard = Model(input_img, output_img)\n",
    "autoencoder_standard.compile(optimizer='adam', loss='binary_crossentropy')\n",
    "history_standard = autoencoder_standard.fit(x_train, x_train, epochs=20, verbose=0)\n",
    "\n",
    "encoded_standard = Model(input_img, code)"
   ]
  },
  {
   "cell_type": "markdown",
   "id": "7668debb",
   "metadata": {
    "hideCode": false,
    "hidePrompt": false,
    "slideshow": {
     "slide_type": "skip"
    }
   },
   "source": [
    "We now add another parameter called `activity_regularizer` by specifying the regularization strength. This is typically a value in the range [0.001, 0.000001]. Here we chose $10^{-6}$."
   ]
  },
  {
   "cell_type": "code",
   "execution_count": 24,
   "id": "f78ca4cd",
   "metadata": {
    "hideCode": false,
    "hidePrompt": false,
    "slideshow": {
     "slide_type": "skip"
    }
   },
   "outputs": [],
   "source": [
    "# NORMALIZED AUTOENCODER\n",
    "\n",
    "# Define the size of the input images and the size of the encoded representation.\n",
    "input_size = 784  # Assuming a flattened input (e.g., a 28x28 image from MNIST dataset flattened to a 784-dimensional vector).\n",
    "code_size  = 32   # The dimensionality of the encoded representation.\n",
    "\n",
    "# Define the input layer of the autoencoder.\n",
    "input_img = Input(shape=(input_size,))\n",
    "\n",
    "# Define the encoding layer with `code_size` neurons. Use ReLU activation function.\n",
    "# `activity_regularizer` is applied to encourage sparsity in the encoded representation,\n",
    "# which can help in learning more meaningful features. l1 regularization adds a penalty \n",
    "# equal to the absolute value of the magnitude of coefficients.\n",
    "code = Dense(code_size, activation='relu', activity_regularizer=l1(10e-6))(input_img)\n",
    "\n",
    "# Define the decoding layer to reconstruct the input from the encoded representation.\n",
    "# It has the same size as the original input and uses sigmoid activation to output values in [0, 1].\n",
    "output_img = Dense(input_size, activation='sigmoid')(code)\n",
    "\n",
    "# Instantiate the autoencoder model with the input and output layers specified.\n",
    "autoencoder_regularized = Model(input_img, output_img)\n",
    "\n",
    "# Compile the autoencoder model using Adam optimizer and binary crossentropy loss.\n",
    "# This setup is typical for binary input data (e.g., pixel values in the range [0, 1]).\n",
    "autoencoder_regularized.compile(optimizer='adam', loss='binary_crossentropy')"
   ]
  },
  {
   "cell_type": "code",
   "execution_count": 95,
   "id": "e197caa7",
   "metadata": {
    "hideCode": false,
    "hidePrompt": false,
    "slideshow": {
     "slide_type": "skip"
    }
   },
   "outputs": [
    {
     "name": "stdout",
     "output_type": "stream",
     "text": [
      "Epoch 1/20\n",
      "\u001b[1m1875/1875\u001b[0m \u001b[32m━━━━━━━━━━━━━━━━━━━━\u001b[0m\u001b[37m\u001b[0m \u001b[1m5s\u001b[0m 2ms/step - loss: 0.2434\n",
      "Epoch 2/20\n",
      "\u001b[1m1875/1875\u001b[0m \u001b[32m━━━━━━━━━━━━━━━━━━━━\u001b[0m\u001b[37m\u001b[0m \u001b[1m4s\u001b[0m 2ms/step - loss: 0.1329\n",
      "Epoch 3/20\n",
      "\u001b[1m1875/1875\u001b[0m \u001b[32m━━━━━━━━━━━━━━━━━━━━\u001b[0m\u001b[37m\u001b[0m \u001b[1m4s\u001b[0m 2ms/step - loss: 0.1198\n",
      "Epoch 4/20\n",
      "\u001b[1m1875/1875\u001b[0m \u001b[32m━━━━━━━━━━━━━━━━━━━━\u001b[0m\u001b[37m\u001b[0m \u001b[1m5s\u001b[0m 3ms/step - loss: 0.1152\n",
      "Epoch 5/20\n",
      "\u001b[1m1875/1875\u001b[0m \u001b[32m━━━━━━━━━━━━━━━━━━━━\u001b[0m\u001b[37m\u001b[0m \u001b[1m6s\u001b[0m 3ms/step - loss: 0.1126\n",
      "Epoch 6/20\n",
      "\u001b[1m1875/1875\u001b[0m \u001b[32m━━━━━━━━━━━━━━━━━━━━\u001b[0m\u001b[37m\u001b[0m \u001b[1m10s\u001b[0m 3ms/step - loss: 0.1108\n",
      "Epoch 7/20\n",
      "\u001b[1m1875/1875\u001b[0m \u001b[32m━━━━━━━━━━━━━━━━━━━━\u001b[0m\u001b[37m\u001b[0m \u001b[1m9s\u001b[0m 2ms/step - loss: 0.1095\n",
      "Epoch 8/20\n",
      "\u001b[1m1875/1875\u001b[0m \u001b[32m━━━━━━━━━━━━━━━━━━━━\u001b[0m\u001b[37m\u001b[0m \u001b[1m5s\u001b[0m 2ms/step - loss: 0.1084\n",
      "Epoch 9/20\n",
      "\u001b[1m1875/1875\u001b[0m \u001b[32m━━━━━━━━━━━━━━━━━━━━\u001b[0m\u001b[37m\u001b[0m \u001b[1m4s\u001b[0m 2ms/step - loss: 0.1074\n",
      "Epoch 10/20\n",
      "\u001b[1m1875/1875\u001b[0m \u001b[32m━━━━━━━━━━━━━━━━━━━━\u001b[0m\u001b[37m\u001b[0m \u001b[1m5s\u001b[0m 2ms/step - loss: 0.1067\n",
      "Epoch 11/20\n",
      "\u001b[1m1875/1875\u001b[0m \u001b[32m━━━━━━━━━━━━━━━━━━━━\u001b[0m\u001b[37m\u001b[0m \u001b[1m5s\u001b[0m 2ms/step - loss: 0.1059\n",
      "Epoch 12/20\n",
      "\u001b[1m1875/1875\u001b[0m \u001b[32m━━━━━━━━━━━━━━━━━━━━\u001b[0m\u001b[37m\u001b[0m \u001b[1m5s\u001b[0m 2ms/step - loss: 0.1057\n",
      "Epoch 13/20\n",
      "\u001b[1m1875/1875\u001b[0m \u001b[32m━━━━━━━━━━━━━━━━━━━━\u001b[0m\u001b[37m\u001b[0m \u001b[1m5s\u001b[0m 2ms/step - loss: 0.1054\n",
      "Epoch 14/20\n",
      "\u001b[1m1875/1875\u001b[0m \u001b[32m━━━━━━━━━━━━━━━━━━━━\u001b[0m\u001b[37m\u001b[0m \u001b[1m5s\u001b[0m 3ms/step - loss: 0.1049\n",
      "Epoch 15/20\n",
      "\u001b[1m1875/1875\u001b[0m \u001b[32m━━━━━━━━━━━━━━━━━━━━\u001b[0m\u001b[37m\u001b[0m \u001b[1m5s\u001b[0m 2ms/step - loss: 0.1044\n",
      "Epoch 16/20\n",
      "\u001b[1m1875/1875\u001b[0m \u001b[32m━━━━━━━━━━━━━━━━━━━━\u001b[0m\u001b[37m\u001b[0m \u001b[1m5s\u001b[0m 2ms/step - loss: 0.1041\n",
      "Epoch 17/20\n",
      "\u001b[1m1875/1875\u001b[0m \u001b[32m━━━━━━━━━━━━━━━━━━━━\u001b[0m\u001b[37m\u001b[0m \u001b[1m5s\u001b[0m 2ms/step - loss: 0.1041\n",
      "Epoch 18/20\n",
      "\u001b[1m1875/1875\u001b[0m \u001b[32m━━━━━━━━━━━━━━━━━━━━\u001b[0m\u001b[37m\u001b[0m \u001b[1m5s\u001b[0m 3ms/step - loss: 0.1034\n",
      "Epoch 19/20\n",
      "\u001b[1m1875/1875\u001b[0m \u001b[32m━━━━━━━━━━━━━━━━━━━━\u001b[0m\u001b[37m\u001b[0m \u001b[1m5s\u001b[0m 3ms/step - loss: 0.1034\n",
      "Epoch 20/20\n",
      "\u001b[1m1875/1875\u001b[0m \u001b[32m━━━━━━━━━━━━━━━━━━━━\u001b[0m\u001b[37m\u001b[0m \u001b[1m5s\u001b[0m 3ms/step - loss: 0.1032\n"
     ]
    }
   ],
   "source": [
    "# Train the autoencoder on the training data with the input images as both the inputs and targets.\n",
    "# This is typical for autoencoders since they aim to reconstruct the input data.\n",
    "# Train for 20 epochs, which determines how many times the learning algorithm will work through the entire training dataset.\n",
    "history_regularized = autoencoder_regularized.fit(x_train, x_train, epochs=20, verbose=1)"
   ]
  },
  {
   "cell_type": "code",
   "execution_count": 96,
   "id": "93dc51f1",
   "metadata": {
    "hideCode": false,
    "hidePrompt": false,
    "slideshow": {
     "slide_type": "skip"
    }
   },
   "outputs": [],
   "source": [
    "# Create a separate model to encode input images into the encoded representation.\n",
    "# This model uses the same input layer as the autoencoder but outputs the encoded representation.\n",
    "encoded_regularized = Model(input_img, code)"
   ]
  },
  {
   "cell_type": "code",
   "execution_count": 97,
   "id": "21f8bba0",
   "metadata": {
    "hideCode": false,
    "hidePrompt": false,
    "slideshow": {
     "slide_type": "skip"
    }
   },
   "outputs": [
    {
     "name": "stdout",
     "output_type": "stream",
     "text": [
      "\u001b[1m313/313\u001b[0m \u001b[32m━━━━━━━━━━━━━━━━━━━━\u001b[0m\u001b[37m\u001b[0m \u001b[1m1s\u001b[0m 2ms/step\n"
     ]
    },
    {
     "data": {
      "image/png": "[encoded data removed]",
      "text/plain": [
       "<Figure size 600x300 with 10 Axes>"
      ]
     },
     "metadata": {
      "image/png": {
       "height": 226,
       "width": 485
      }
     },
     "output_type": "display_data"
    }
   ],
   "source": [
    "plot_autoencoder_outputs(autoencoder_regularized, 5, (28, 28))"
   ]
  },
  {
   "cell_type": "code",
   "execution_count": 98,
   "id": "337921c5",
   "metadata": {
    "hideCode": false,
    "hidePrompt": false,
    "slideshow": {
     "slide_type": "skip"
    }
   },
   "outputs": [
    {
     "name": "stdout",
     "output_type": "stream",
     "text": [
      "\u001b[1m313/313\u001b[0m \u001b[32m━━━━━━━━━━━━━━━━━━━━\u001b[0m\u001b[37m\u001b[0m \u001b[1m1s\u001b[0m 3ms/step - loss: 0.0934\n"
     ]
    }
   ],
   "source": [
    "evaluation_results = autoencoder_standard.evaluate(x_test, x_test)"
   ]
  },
  {
   "cell_type": "code",
   "execution_count": 99,
   "id": "6eceefd1",
   "metadata": {
    "hideCode": false,
    "hidePrompt": false,
    "slideshow": {
     "slide_type": "skip"
    }
   },
   "outputs": [
    {
     "name": "stdout",
     "output_type": "stream",
     "text": [
      "\u001b[1m313/313\u001b[0m \u001b[32m━━━━━━━━━━━━━━━━━━━━\u001b[0m\u001b[37m\u001b[0m \u001b[1m1s\u001b[0m 2ms/step - loss: 0.1025\n"
     ]
    },
    {
     "data": {
      "text/plain": [
       "0.1019589900970459"
      ]
     },
     "execution_count": 99,
     "metadata": {},
     "output_type": "execute_result"
    }
   ],
   "source": [
    "autoencoder_regularized.evaluate(x_test, x_test)"
   ]
  },
  {
   "cell_type": "markdown",
   "id": "080da23e",
   "metadata": {
    "hideCode": false,
    "hidePrompt": false,
    "slideshow": {
     "slide_type": "skip"
    }
   },
   "source": [
    "Let’s demonstrate the encodings generated by the regularized model are indeed sparse. The primary goal of the following code is to compare how the standard and regularized autoencoder models encode the testing data and to visualize the differences in their encoded representations' distributions. Such comparisons can help in understanding the impact of regularization on the model's ability to generalize and compress data. \n",
    "\n",
    "By plotting the distributions of the encoded representations, one can infer characteristics such as variance, skewness, and the presence of outliers in the encoded space. Regularization techniques are often employed to ensure that the autoencoder does not overfit the training data and learns a more generalized representation of the input data, which can be crucial for tasks like dimensionality reduction, anomaly detection, and feature learning."
   ]
  },
  {
   "cell_type": "code",
   "execution_count": 100,
   "id": "675ccbd2",
   "metadata": {
    "hideCode": false,
    "hidePrompt": false,
    "slideshow": {
     "slide_type": "skip"
    }
   },
   "outputs": [
    {
     "name": "stdout",
     "output_type": "stream",
     "text": [
      "\u001b[1m313/313\u001b[0m \u001b[32m━━━━━━━━━━━━━━━━━━━━\u001b[0m\u001b[37m\u001b[0m \u001b[1m0s\u001b[0m 1ms/step\n",
      "\u001b[1m313/313\u001b[0m \u001b[32m━━━━━━━━━━━━━━━━━━━━\u001b[0m\u001b[37m\u001b[0m \u001b[1m1s\u001b[0m 2ms/step\n",
      "(10000, 32)\n",
      "(10000, 32)\n",
      "6.533778\n",
      "0.7592662\n"
     ]
    }
   ],
   "source": [
    "from scipy import stats\n",
    "\n",
    "esp = encoded_standard.predict(x_test)\n",
    "erp = encoded_regularized.predict(x_test)\n",
    "\n",
    "print(esp.shape)\n",
    "print(erp.shape)\n",
    "\n",
    "print(esp.mean())\n",
    "print(erp.mean())\n",
    "\n",
    "#print(stats.kurtosis(esp))\n",
    "#print(stats.mode(esp, axis=None).mode)\n",
    "#print(stats.mode(erp, axis=None).mode)"
   ]
  },
  {
   "cell_type": "code",
   "execution_count": 101,
   "id": "b3e70a2e",
   "metadata": {
    "hideCode": false,
    "hidePrompt": false,
    "slideshow": {
     "slide_type": "subslide"
    }
   },
   "outputs": [
    {
     "name": "stdout",
     "output_type": "stream",
     "text": [
      "\u001b[1m313/313\u001b[0m \u001b[32m━━━━━━━━━━━━━━━━━━━━\u001b[0m\u001b[37m\u001b[0m \u001b[1m0s\u001b[0m 2ms/step\n",
      "\u001b[1m313/313\u001b[0m \u001b[32m━━━━━━━━━━━━━━━━━━━━\u001b[0m\u001b[37m\u001b[0m \u001b[1m0s\u001b[0m 1ms/step\n"
     ]
    },
    {
     "data": {
      "image/png": "[encoded data removed]",
      "text/plain": [
       "<Figure size 640x480 with 1 Axes>"
      ]
     },
     "metadata": {
      "image/png": {
       "height": 410,
       "width": 567
      }
     },
     "output_type": "display_data"
    }
   ],
   "source": [
    "# Predict the encoded representations of the testing data for both the standard and regularized autoencoder models,\n",
    "# and flatten the results into a 1-dimensional array\n",
    "standard_scores    = encoded_standard.predict(x_test).ravel()\n",
    "regularized_scores = encoded_regularized.predict(x_test).ravel()\n",
    "\n",
    "# Plot the distribution of scores generated by the standard autoencoder model using seaborn's distplot function\n",
    "sns.distplot(standard_scores, hist=False, label='standard model')\n",
    "\n",
    "# Plot the distribution of scores generated by the regularized autoencoder model using seaborn's distplot function\n",
    "sns.distplot(regularized_scores, hist=False, label='regularized model')\n",
    "\n",
    "# Get current axis\n",
    "ax = plt.gca()\n",
    "\n",
    "# Set x-axis major ticks to every unit. Adjust the range as necessary.\n",
    "ax.set_xticks(range(int(min(standard_scores)), int(max(standard_scores)) + 1, 1))\n",
    "\n",
    "# Enable the grid\n",
    "plt.grid(True)\n",
    "\n",
    "# Optionally, you can customize the appearance of the grid\n",
    "plt.grid(color='gray', linestyle='--', linewidth=0.5)\n",
    "plt.xticks(fontsize=8)  # Adjust fontsize as needed for x-axis tick labels\n",
    "plt.yticks(fontsize=10)  # Adjust fontsize as needed for y-axis tick labels\n",
    "\n",
    "# Display the plot\n",
    "plt.show()"
   ]
  },
  {
   "cell_type": "markdown",
   "id": "1c2cab22",
   "metadata": {
    "collapsed": true,
    "hideCode": false,
    "hidePrompt": false,
    "slideshow": {
     "slide_type": "skip"
    }
   },
   "source": [
    "**Description**:\n",
    "\n",
    "- `encoded_standard.predict(x_test)` and `encoded_regularized.predict(x_test)`: These lines predict the encoded representations of the testing data (`x_test`) using the autoencoder models (`encoded_standard` and `encoded_regularized`, respectively). These encoded representations are typically the output of the encoder part of an autoencoder model and are obtained by passing the input data through the encoder network. `ravel()` is then used to flatten the resulting arrays into 1-dimensional arrays, which makes them easier to work with for plotting purposes.\n",
    "\n",
    "- `sns.distplot(standard_scores, hist=False, label='standard model')`: This line plots the distribution of scores generated by the standard autoencoder model (`standard_scores`). It uses seaborn's `distplot` function to create a kernel density estimation (KDE) plot, which is a smoothed version of the histogram, representing the distribution of data points. The `hist=False` argument specifies that we don't want to plot the histogram along with the KDE. The `label='standard model'` argument assigns a label to this distribution, which will be used in the legend when plotting multiple distributions.\n",
    "\n",
    "- `sns.distplot(regularized_scores, hist=False, label='regularized model')`: This line plots the distribution of scores generated by the regularized autoencoder model (`regularized_scores`). It uses seaborn's `distplot` function in a similar manner to the previous line, but for the scores generated by the regularized model. The `label='regularized model'` argument assigns a label to this distribution for the legend.\n",
    "\n",
    "Overall, this code is plotting the distributions of encoded representations (scores) generated by both a standard autoencoder model and a regularized autoencoder model, allowing for a visual comparison of their respective outputs."
   ]
  },
  {
   "cell_type": "markdown",
   "id": "e04062d4",
   "metadata": {
    "hideCode": false,
    "hidePrompt": false,
    "slideshow": {
     "slide_type": "slide"
    }
   },
   "source": [
    "## References and Credits\n",
    "\n",
    "[1] - Dertat A. - [\"Applied Deep Learning - Part 3: Autoencoders\"](https://towardsdatascience.com/applied-deep-learning-part-3-autoencoders-1c083af4d798), Published in Towards Data Science"
   ]
  }
 ],
 "metadata": {
  "celltoolbar": "Hide code",
  "hide_code_all_hidden": true,
  "kernelspec": {
   "display_name": "Python 3 (ipykernel)",
   "language": "python",
   "name": "python3"
  },
  "language_info": {
   "codemirror_mode": {
    "name": "ipython",
    "version": 3
   },
   "file_extension": ".py",
   "mimetype": "text/x-python",
   "name": "python",
   "nbconvert_exporter": "python",
   "pygments_lexer": "ipython3",
   "version": "3.10.9"
  },
  "toc": {
   "base_numbering": "3",
   "nav_menu": {},
   "number_sections": true,
   "sideBar": true,
   "skip_h1_title": false,
   "title_cell": "Table of Contents",
   "title_sidebar": "Contents",
   "toc_cell": false,
   "toc_position": {},
   "toc_section_display": true,
   "toc_window_display": false
  }
 },
 "nbformat": 4,
 "nbformat_minor": 5
}
