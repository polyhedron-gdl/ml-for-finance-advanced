{
 "cells": [
  {
   "cell_type": "markdown",
   "id": "eba19c51",
   "metadata": {
    "id": "eba19c51"
   },
   "source": [
    "<table align=\"left\">\n",
    "  <td>\n",
    "    <a target=\"_blank\" href=\"https://colab.research.google.com/github/polyhedron-gdl/advanced-machine-learning-for-finance/blob/main/2022/1-notebooks/chapter-3-2.ipynb\">\n",
    "        <img src=\"https://www.tensorflow.org/images/colab_logo_32px.png\" />Run in Google Colab</a>\n",
    "  </td>\n",
    "</table>"
   ]
  },
  {
   "cell_type": "markdown",
   "id": "d4da8d5a",
   "metadata": {
    "id": "d4da8d5a"
   },
   "source": [
    "# NN Heston Model - Market Data Generations"
   ]
  },
  {
   "cell_type": "markdown",
   "id": "cb82e32b",
   "metadata": {},
   "source": [
    "## Purpose of This Notebook\n",
    "\n",
    "This notebook is a continuation of the practical implementation of the **Volatility Feature Approach (VFA)** for option pricing, as introduced in the lecture *\"Deep Learning Derivatives Pricing\"* (University of Bologna, 2025). It serves as the **final preparatory step** before training a deep neural network to learn the option pricing function from synthetic data.\n",
    "\n",
    "Whereas the previous notebook (`lesson-2-2.ipynb`) focused on generating the synthetic option pricing data under a model-driven approach, this notebook focuses on **reshaping and organizing that data** for use in a **model-free learning pipeline** — the core idea behind the VFA.\n",
    "\n",
    "**Specifically, the notebook performs the following**:\n",
    "\n",
    "1. **Loading and preprocessing option pricing data**\n",
    "- Imports CSV datasets of vanilla option prices computed with a model (e.g., Black-Scholes).\n",
    "- Parses key features such as **time to maturity**, **strike/spot ratio**, and **volatility**.\n",
    "  \n",
    "2. **Feature and target construction**\n",
    "- Builds a feature matrix `X` containing only market-observable variables (like moneyness and volatility).\n",
    "- Constructs the target variable as the model-generated price (representing the \"true\" value the network should learn to approximate).\n",
    "\n",
    "3. **Data splitting**\n",
    "- Separates the full dataset into:\n",
    "  - A **training set** with full features and known target prices.\n",
    "  - A **challenge set** (testing set) with input features only (no target shown to the model).\n",
    "  - A **target set** (labels corresponding to the challenge set) used only for model evaluation.\n",
    "\n",
    "4. **(Optional) Data perturbation**\n",
    "- Adds **Gaussian noise** to option prices to simulate real market imperfections, fostering model robustness.\n",
    "\n",
    "5. **Data visualization**\n",
    "- Produces scatter plots and histograms to verify the impact of noise and understand price distributions.\n",
    "\n",
    "6. **Export to disk**\n",
    "- Writes the three structured datasets to disk:\n",
    "  - `full_10000_VFA.csv` (training set with features and prices),\n",
    "  - `test_10000_VFA.csv` (test features only),\n",
    "  - `trgt_10000_VFA.csv` (true prices for the test set, not used during model training).\n",
    "\n",
    "\n",
    "### Role in the VFA Workflow\n",
    "\n",
    "This notebook marks the transition from **data simulation** to **machine learning model development**:\n",
    "\n",
    "```plaintext\n",
    "[Market simulation (MCA)] → [Feature-target restructuring (this notebook)] → [Neural network training (next notebook)]\n",
    "```\n",
    "\n",
    "By isolating observable features from model assumptions, the notebook aligns precisely with the **VFA philosophy**: training a model to predict option prices **directly from market data**, without fitting a parametric model."
   ]
  },
  {
   "cell_type": "code",
   "execution_count": 6,
   "id": "e3098cb0",
   "metadata": {
    "executionInfo": {
     "elapsed": 247,
     "status": "ok",
     "timestamp": 1651851308481,
     "user": {
      "displayName": "Giovanni Della Lunga",
      "userId": "13927304036683734865"
     },
     "user_tz": -120
    },
    "id": "e3098cb0"
   },
   "outputs": [],
   "source": [
    "import sys\n",
    "import numpy as np\n",
    "import pandas as pd\n",
    "import matplotlib.pyplot as plt\n",
    "import time\n",
    "import math\n",
    "\n",
    "from smt.sampling_methods import LHS\n",
    "from sklearn.model_selection import train_test_split"
   ]
  },
  {
   "cell_type": "markdown",
   "id": "20036a60",
   "metadata": {
    "id": "20036a60"
   },
   "source": [
    "## Python Auxiliary Functions"
   ]
  },
  {
   "cell_type": "code",
   "execution_count": 7,
   "id": "95aeb47c",
   "metadata": {
    "colab": {
     "base_uri": "https://localhost:8080/"
    },
    "executionInfo": {
     "elapsed": 23418,
     "status": "ok",
     "timestamp": 1651851335562,
     "user": {
      "displayName": "Giovanni Della Lunga",
      "userId": "13927304036683734865"
     },
     "user_tz": -120
    },
    "id": "95aeb47c",
    "outputId": "6b8d3412-4231-4f96-c1f9-91f053ac2399"
   },
   "outputs": [],
   "source": [
    "if 'google.colab' in str(get_ipython()):\n",
    "    from google.colab import drive\n",
    "    drive.mount('/content/gdrive')\n",
    "    sys.path.append('/content/gdrive/MyDrive/Colab Notebooks')"
   ]
  },
  {
   "cell_type": "markdown",
   "id": "5c10933b",
   "metadata": {
    "id": "5c10933b"
   },
   "source": [
    "### Latin Hypercube Sampling Function"
   ]
  },
  {
   "cell_type": "code",
   "execution_count": 8,
   "id": "dc4c2618",
   "metadata": {
    "executionInfo": {
     "elapsed": 233,
     "status": "ok",
     "timestamp": 1651851310412,
     "user": {
      "displayName": "Giovanni Della Lunga",
      "userId": "13927304036683734865"
     },
     "user_tz": -120
    },
    "id": "dc4c2618"
   },
   "outputs": [],
   "source": [
    "def lhs_sampling(rand, NUM, bounds=None):\n",
    "\n",
    "    kw = bounds.keys()\n",
    "\n",
    "    # builds the array of bounds\n",
    "    limits = np.empty( shape=(0,2) )\n",
    "    for k in kw: limits = np.concatenate((limits, [bounds[k]]), axis=0)\n",
    "\n",
    "    sampling = LHS(xlimits=limits)\n",
    "    x   = sampling(NUM)\n",
    "\n",
    "    y = np.where( 2*x[:,0]*x[:,1] < x[:,2]*x[:,2], 1, 0)\n",
    "    p = (100.*np.sum(y))/NUM\n",
    "    print(\"@ %-34s: %s = %6d out of %6d ( %.7f %s)\" %(\"Info\", \"Feller violations\", np.sum(y), NUM, p, \"%\"))\n",
    "\n",
    "    return kw, x"
   ]
  },
  {
   "cell_type": "markdown",
   "id": "6e6f7a5b",
   "metadata": {
    "id": "6e6f7a5b"
   },
   "source": [
    "### Pricing Functions"
   ]
  },
  {
   "cell_type": "markdown",
   "id": "769f13ba",
   "metadata": {},
   "source": [
    "The following function prices a European forward-start put option using the Heston stochastic volatility model, a popular choice in finance due to its ability to generate skewed and smile-shaped implied volatility surfaces. It leverages Fourier transform techniques for efficient option valuation (as opposed to finite differences or Monte Carlo methods). The function returns the put price in the forward measure, which is standard in this modeling context (often normalized by the forward price)."
   ]
  },
  {
   "cell_type": "code",
   "execution_count": 9,
   "id": "59863fb2",
   "metadata": {
    "executionInfo": {
     "elapsed": 257,
     "status": "ok",
     "timestamp": 1651851344562,
     "user": {
      "displayName": "Giovanni Della Lunga",
      "userId": "13927304036683734865"
     },
     "user_tz": -120
    },
    "id": "59863fb2"
   },
   "outputs": [],
   "source": [
    "# Import Heston model object (analytic characteristic function implementation)\n",
    "from ptr_lib_1.Heston import Heston\n",
    "# Import numerical Fourier pricing engine (Carr-Madan style or similar)\n",
    "from ptr_lib_1.FT_opt import ft_opt\n",
    "\n",
    "# Define a function that prices a forward-start European put option using the Heston model\n",
    "def HestonPut(St, Strike, T, kappa, theta, sigma, v0, rho, r, Xc=30):\n",
    "    \"\"\"\n",
    "    Prices a European forward-start put option using the Heston stochastic volatility model.\n",
    "    The pricing is done via Fourier inversion methods (e.g., Carr-Madan) using characteristic functions.\n",
    "\n",
    "    Parameters:\n",
    "    -----------\n",
    "    St : float\n",
    "        Current spot price of the underlying asset\n",
    "    Strike : float\n",
    "        Strike price of the put option\n",
    "    T : float\n",
    "        Time to maturity (in years)\n",
    "    kappa : float\n",
    "        Mean reversion speed of the variance process\n",
    "    theta : float\n",
    "        Long-run mean variance\n",
    "    sigma : float\n",
    "        Volatility of volatility\n",
    "    v0 : float\n",
    "        Initial variance (at time zero)\n",
    "    rho : float\n",
    "        Correlation between the asset price and variance Brownian motions\n",
    "    r : float\n",
    "        Risk-free rate (used to discount and compute forward price)\n",
    "    Xc : float\n",
    "        Integration cutoff value for the Fourier transform (default = 30)\n",
    "\n",
    "    Returns:\n",
    "    --------\n",
    "    float\n",
    "        The Heston-model price of the European put option in forward measure\n",
    "    \"\"\"\n",
    "\n",
    "    # Compute the normalized strike kT in terms of the forward measure:\n",
    "    # This converts the absolute strike into a discounted strike under the forward numeraire.\n",
    "    kT = (Strike / St) * math.exp(-r * T)\n",
    "\n",
    "    # Create a Heston model object with the specified parameters\n",
    "    hestn = Heston(\n",
    "        lmbda=kappa,   # Mean reversion speed (also called lambda)\n",
    "        eta=sigma,     # Vol of vol\n",
    "        nubar=theta,   # Long-run average variance\n",
    "        nu_o=v0,       # Initial variance\n",
    "        rho=rho        # Correlation between asset and variance\n",
    "    )\n",
    "\n",
    "    # Compute the option price using the Fourier pricing method\n",
    "    # Returns a dictionary with keys 'call' and 'put'\n",
    "    res = ft_opt(hestn, kT, T, Xc)\n",
    "\n",
    "    # Extract and return the price of the put option\n",
    "    return res['put']"
   ]
  },
  {
   "cell_type": "markdown",
   "id": "9baab2b0",
   "metadata": {},
   "source": [
    "The function `build_smile` is designed to **generate an implied volatility smile** for a set of strikes, assuming the option prices are given by the **Heston stochastic volatility model**.\n",
    "\n",
    "In detail:\n",
    "- It **computes the theoretical price** of a **forward-start European put option** using the Heston model for each strike.\n",
    "- Then it **inverts the Black-Scholes formula** (using the helper function `impVolFromFwPut`) to **extract the implied volatility** corresponding to that price for each strike.\n",
    "- The output is a **dictionary mapping strikes to implied volatilities** — effectively reconstructing the **implied volatility smile** implied by the Heston model parameters.\n",
    "\n",
    "1. **Inputs**:\n",
    "   - `strikes`: A list or array of strike prices for which to compute implied volatilities.\n",
    "   - `Fw`: Forward price of the underlying (default 1.0).\n",
    "   - `T`: Time to maturity (in years, default 1.0).\n",
    "   - `Kappa, Theta, sgma, Ro, Rho`: Heston model parameters:\n",
    "     - $ \\kappa $ = mean reversion speed of variance,\n",
    "     - $ \\theta $ = long-run mean of variance,\n",
    "     - $ \\sigma $ = volatility of volatility,\n",
    "     - $ \\rho $ = correlation between spot and variance shocks,\n",
    "     - $ \\rho $ (written Ro here) = initial variance.\n",
    "   - `Xc`: Cut-off for numerical integration in Heston pricing.\n",
    "\n",
    "2. **Process**:\n",
    "   - For each strike $ k $ in `strikes`:\n",
    "     - Compute the **Heston model price** of a forward-start European put option using `HestonPut`.\n",
    "     - Check that the price is not below intrinsic value (a safeguard).\n",
    "     - Use `impVolFromFwPut` to **compute the implied volatility** that would correspond to this price under the **Black-Scholes formula**.\n",
    "     - Store the implied volatility in a dictionary, keyed by the strike.\n",
    "\n",
    "3. **Output**:\n",
    "   - A dictionary `vol` where each key is the strike (formatted as `\"k=...\"`) and each value is the **corresponding implied volatility**.\n",
    "\n",
    "**Why This is Useful**\n",
    "\n",
    "In practice, **market data** is typically available **in the form of implied volatilities across strikes**, not raw option prices.  \n",
    "Thus, if you simulate option prices with a complex model like Heston, you often need to **convert them into implied volatilities** to:\n",
    "- **Compare to market smiles**,\n",
    "- **Train machine learning models** (especially under the Volatility Feature Approach),\n",
    "- **Perform model calibration** against observed implied vol surfaces,\n",
    "- **Visualize the volatility smile**.\n",
    "\n",
    "This function allows you to **generate a realistic synthetic volatility smile** derived from Heston parameters, but **expressed in the familiar implied volatility terms** used in trading and modeling."
   ]
  },
  {
   "cell_type": "code",
   "execution_count": 10,
   "id": "4012f665",
   "metadata": {},
   "outputs": [],
   "source": [
    "# Import the function used to extract implied volatility from option price,\n",
    "# using the Black-Scholes formula for forward-start put options.\n",
    "from ptr_lib_1.euro_opt import impVolFromFwPut\n",
    "\n",
    "# Define a function to build the implied volatility smile using the Heston model\n",
    "def build_smile(strikes=None, Fw=1.0, T=1.0, Kappa=1.0, Theta=1.0, sgma=1.0, Ro=0.0, Rho=0.0, Xc=10):\n",
    "    \"\"\"\n",
    "    Constructs an implied volatility smile by:\n",
    "      1. Computing Heston model prices for forward-start put options at different strikes\n",
    "      2. Inverting these prices into implied volatilities using the Black-Scholes formula\n",
    "    \n",
    "    Parameters:\n",
    "    ----------\n",
    "    strikes : list or array\n",
    "        Strike prices at which to evaluate the smile\n",
    "    Fw : float\n",
    "        Forward price of the underlying asset\n",
    "    T : float\n",
    "        Time to maturity (in years)\n",
    "    Kappa, Theta, sgma, Ro, Rho : floats\n",
    "        Parameters of the Heston model:\n",
    "            - Kappa: speed of mean reversion\n",
    "            - Theta: long-run variance\n",
    "            - sgma: volatility of volatility\n",
    "            - Ro: initial variance (v0)\n",
    "            - Rho: correlation between asset and variance\n",
    "    Xc : float\n",
    "        Integration cutoff for the Heston numerical integration method\n",
    "    \n",
    "    Returns:\n",
    "    -------\n",
    "    vol : dict\n",
    "        Dictionary mapping strike tags (\"k=...\") to corresponding Black-Scholes implied volatilities\n",
    "    \"\"\"\n",
    "    \n",
    "    vol = {}  # Initialize an empty dictionary to store volatilities\n",
    "    \n",
    "    # Loop over all strikes to compute implied volatilities\n",
    "    for k in strikes:\n",
    "        tag = \"k=%5.3f\" % k  # Format strike for use as a string key (e.g., \"k=0.950\")\n",
    "\n",
    "        # Compute the Heston-model price for a forward-start European put\n",
    "        fwPut = HestonPut(Fw, k, T, Kappa, Theta, sgma, Ro, Rho, 0.0, Xc)\n",
    "        \n",
    "        # Validate the output: the option price cannot be below intrinsic value\n",
    "        if fwPut < max(k - Fw, 0.0):\n",
    "            return None  # Exit early if the price is invalid (e.g., due to numerical issues)\n",
    "\n",
    "        # Compute the implied volatility from the Heston price using Black-Scholes inversion\n",
    "        vol[tag] = impVolFromFwPut(price=fwPut, T=T, kT=k)\n",
    "    \n",
    "    return vol  # Return the full implied volatility smile as a dictionary\n",
    "\n",
    "# Numpy vectorized version\n",
    "\n",
    "def build_smile_np(strikes=None, Fw=1.0, T= 1.0, Kappa=1., Theta=1., sgma=1.0, Ro=0.0, Rho=0.0, Xc=10):\n",
    "    vol = []\n",
    "    for k in strikes:\n",
    "        fwPut = HestonPut(Fw, k, T, Kappa, Theta, sgma, Ro, Rho, 0.0, Xc)\n",
    "        if fwPut < max( k-Fw, 0.0): return None\n",
    "        vol.append(impVolFromFwPut(price = fwPut, T = T, kT = k))\n",
    "\n",
    "    return np.array(vol)"
   ]
  },
  {
   "cell_type": "code",
   "execution_count": 12,
   "id": "2dc9a1db",
   "metadata": {
    "colab": {
     "base_uri": "https://localhost:8080/",
     "height": 300
    },
    "executionInfo": {
     "elapsed": 712,
     "status": "ok",
     "timestamp": 1651851348678,
     "user": {
      "displayName": "Giovanni Della Lunga",
      "userId": "13927304036683734865"
     },
     "user_tz": -120
    },
    "id": "2dc9a1db",
    "outputId": "dda0f78f-f92d-4511-ef46-4a849e958b36"
   },
   "outputs": [
    {
     "name": "stdout",
     "output_type": "stream",
     "text": [
      "1.8749999999999998\n"
     ]
    },
    {
     "data": {
      "text/plain": [
       "[<matplotlib.lines.Line2D at 0x1a6e1fb0730>]"
      ]
     },
     "execution_count": 12,
     "metadata": {},
     "output_type": "execute_result"
    },
    {
     "data": {
      "image/png": "[encoded data removed]",
      "text/plain": [
       "<Figure size 640x480 with 1 Axes>"
      ]
     },
     "metadata": {},
     "output_type": "display_data"
    }
   ],
   "source": [
    "strikes = np.arange(.4, 1.6,.025)\n",
    "T     = 1.0\n",
    "theta = 0.4\n",
    "kappa = 1.5\n",
    "sigma = 1.5 \n",
    "rho   = -0.9\n",
    "ro    = 0.05\n",
    "\n",
    "feller = sigma*sigma/(2*kappa*theta)\n",
    "print(feller)\n",
    "\n",
    "smile = build_smile_np(strikes, 1.0, T, kappa, theta, sigma, ro, rho, 30)\n",
    "\n",
    "plt.plot(strikes, smile)"
   ]
  },
  {
   "cell_type": "markdown",
   "id": "8c1c2136",
   "metadata": {
    "id": "8c1c2136"
   },
   "source": [
    "### Display Functions"
   ]
  },
  {
   "cell_type": "markdown",
   "id": "75494f68",
   "metadata": {},
   "source": [
    "**Purpose of the Function `histo_array`**\n",
    "\n",
    "The function `histo_array` is designed to **plot a set of histograms**, one for each feature (column) of a given 2D array `x`, with the option to label each subplot using corresponding keys.\n",
    "\n",
    "It is a **visualization tool** that helps to **quickly inspect the distribution** of multiple variables side-by-side, making it useful for:\n",
    "- Exploring synthetic datasets,\n",
    "- Verifying input feature distributions,\n",
    "- Comparing variability across different parameters.\n",
    "\n",
    "- **Inputs**:\n",
    "  - `keys`: A list of strings, one for each column of `x`, used to title the histograms.\n",
    "  - `x`: A NumPy 2D array of shape (samples, features). Each column is treated as a separate variable.\n",
    "  - `title`: (Optional) A global title for the entire figure (`None` by default).\n",
    "\n",
    "- **Procedure**:\n",
    "  1. Determines the number of features (`LEN`) from the length of `keys`.\n",
    "  2. Creates a figure with **one row** and `LEN` **subplots** side-by-side.\n",
    "  3. If a title is provided, sets it as the **figure title**.\n",
    "  4. For each feature (column):\n",
    "     - Extracts the minimum and maximum value in that column.\n",
    "     - Creates 100 evenly spaced bins between min and max.\n",
    "     - Plots the **normalized histogram** (`density=True`) for that feature.\n",
    "     - Sets the individual title of the subplot according to the corresponding key.\n",
    "  5. Adjusts the spacing between subplots to make the figure readable.\n",
    "  6. Displays the figure with all histograms.\n",
    "\n",
    "- **Outputs**:\n",
    "  - Displays a **matplotlib figure** with one histogram per feature (no return value).\n",
    "\n",
    "For example, if `x` is a dataset containing columns for time-to-maturity, moneyness, and implied volatility, and `keys = ['T', 'moneyness', 'volatility']`, the function will produce **three histograms**, side by side, allowing you to **see at a glance** how each feature is distributed.\n",
    "\n",
    "**Notes**\n",
    "\n",
    "- The function assumes `x` is a **NumPy array** and that **each column** corresponds to a feature.\n",
    "- The number of `keys` must **match** the number of columns in `x`.\n",
    "- The histograms are normalized (i.e., they represent probability densities, not raw counts)."
   ]
  },
  {
   "cell_type": "code",
   "execution_count": 13,
   "id": "1f622df8",
   "metadata": {
    "executionInfo": {
     "elapsed": 326,
     "status": "ok",
     "timestamp": 1651851351115,
     "user": {
      "displayName": "Giovanni Della Lunga",
      "userId": "13927304036683734865"
     },
     "user_tz": -120
    },
    "id": "1f622df8"
   },
   "outputs": [],
   "source": [
    "def histo_array(keys, x, title=\"None\"):\n",
    "    LEN = len(keys)\n",
    "    fig, ax = plt.subplots(1,LEN, figsize=(12,4))\n",
    "    if not title == None: fig.suptitle(title)\n",
    "    for n in range(LEN):\n",
    "        k     = keys[n]\n",
    "        lo   = np.min(x[:,n])\n",
    "        hi   = np.max(x[:,n])\n",
    "        bins = np.arange(lo, hi, (hi-lo)/100.)\n",
    "        ax[n].hist(x[:,n], density=True, facecolor='g', bins=bins)\n",
    "        ax[n].set_title(k)\n",
    "        n += 1\n",
    "    plt.subplots_adjust(left=.05, right=.95, bottom=.10, top=.80, wspace=.50)\n",
    "    plt.show()"
   ]
  },
  {
   "cell_type": "markdown",
   "id": "0fce096b",
   "metadata": {},
   "source": [
    "**Short Description of `show_smiles`**\n",
    "\n",
    "The function `show_smiles` plots multiple **implied volatility smiles** on a single figure.\n",
    "\n",
    "- **Input**:\n",
    "  - `smiles`: a dictionary where each key is a maturity \\( T \\) and each value is a 2D array with strike prices in the first column and corresponding implied volatilities in the second column.\n",
    "\n",
    "- **Behavior**:\n",
    "  - It creates a **single plot** showing all the smiles together, with one curve per maturity.\n",
    "  - Each smile is labeled by its maturity \\( T \\).\n",
    "  - It adjusts the layout to leave space for a legend placed outside the main plot.\n",
    "\n",
    "- **Purpose**:\n",
    "  - To **visually compare** implied volatility smiles across different maturities in a clean and compact way."
   ]
  },
  {
   "cell_type": "code",
   "execution_count": 14,
   "id": "f16fcb38",
   "metadata": {
    "executionInfo": {
     "elapsed": 3,
     "status": "ok",
     "timestamp": 1651851352083,
     "user": {
      "displayName": "Giovanni Della Lunga",
      "userId": "13927304036683734865"
     },
     "user_tz": -120
    },
    "id": "f16fcb38"
   },
   "outputs": [],
   "source": [
    "def show_smiles(smiles=None):\n",
    "\n",
    "    fig, ax = plt.subplots(1,1, figsize=(6,6))\n",
    "    fig.suptitle(\"Sample smiles\")\n",
    "    ll = list(smiles.keys())\n",
    "    ll.sort()\n",
    "    for t in ll:\n",
    "        smile = smiles[t]\n",
    "        ax.plot( smile[:,0], smile[:,1], label = \"T=%5.3f\" %(t))\n",
    "\n",
    "    ax.set_title(\"Sample smiles\")\n",
    "    ax.set_xlabel(\"Strike\")\n",
    "    ax.set_ylabel(\"Imp Vol\")\n",
    "\n",
    "    plt.subplots_adjust(left=.10, right=0.7)\n",
    "    plt.legend(title='Smiles', bbox_to_anchor=(1.05, 1), loc='upper left')\n",
    "    plt.show()"
   ]
  },
  {
   "cell_type": "markdown",
   "id": "1434faad",
   "metadata": {},
   "source": [
    "**Short Description of `histo_dict`**\n",
    "\n",
    "The function `histo_dict` plots a **row of normalized histograms**, one for each series in a given dictionary-like object (such as a pandas DataFrame).\n",
    "\n",
    "- **Input**:\n",
    "  - `df`: a dictionary or DataFrame where each key corresponds to a dataset (1D array-like).\n",
    "  - `TAG`: a string tag used to name the saved output figure (default `\"000000\"`).\n",
    "\n",
    "- **Behavior**:\n",
    "  - Creates one histogram per key, displaying the distribution of each dataset side-by-side.\n",
    "  - Normalizes the histograms (`density=True`) for probability interpretation.\n",
    "  - Titles each histogram with the key name and the number of samples.\n",
    "  - Saves the final figure to a PNG file named `pdf_<TAG>.png`.\n",
    "\n",
    "- **Purpose**:\n",
    "  - To **quickly visualize** and **compare** the distributions of multiple datasets in a single, organized figure."
   ]
  },
  {
   "cell_type": "code",
   "execution_count": 15,
   "id": "376ddd20",
   "metadata": {
    "executionInfo": {
     "elapsed": 297,
     "status": "ok",
     "timestamp": 1651851352740,
     "user": {
      "displayName": "Giovanni Della Lunga",
      "userId": "13927304036683734865"
     },
     "user_tz": -120
    },
    "id": "376ddd20"
   },
   "outputs": [],
   "source": [
    "def histo_dict(df, TAG=\"000000\"):\n",
    "    keys = list(df.keys())\n",
    "    LEN = len(keys)\n",
    "    fig, ax = plt.subplots(1,LEN, figsize=(12,6))\n",
    "    for n in range(LEN):\n",
    "        k     = keys[n]\n",
    "        x     = df[k]\n",
    "        lo   = np.min(x)\n",
    "        hi   = np.max(x)\n",
    "        bins = np.arange(lo, hi, (hi-lo)/100.)\n",
    "        ax[n].hist(x, density=True, facecolor='g', bins=bins)\n",
    "        ax[n].set_title(\"%s len=%d\" %(k,len(x)))\n",
    "        n += 1\n",
    "\n",
    "    plt.savefig(\"pdf_%s.png\" %TAG, format=\"png\")\n",
    "    plt.show()"
   ]
  },
  {
   "cell_type": "markdown",
   "id": "5109126a",
   "metadata": {
    "id": "5109126a"
   },
   "source": [
    "## Generating DataSet Functions"
   ]
  },
  {
   "cell_type": "markdown",
   "id": "0191da66",
   "metadata": {},
   "source": [
    "### The Function `mkt_gen`\n",
    "\n",
    "The `mkt_gen` function is responsible for **synthetically generating a structured dataset** of **market-like volatility smiles** and **option prices**, based on randomized Heston model parameters.  \n",
    "It systematically applies the earlier defined `HestonPut` and `build_smile` functions to **build a market database**, which can later be used to **train deep learning models** under the **Volatility Feature Approach (VFA)**.\n",
    "\n",
    "In short:  \n",
    "> It produces a **pandas DataFrame** where each row represents a synthetic market snapshot, including implied volatilities at different strikes, the forward-start put price, the strike, and the maturity.\n",
    "\n",
    "\n",
    "### Inputs\n",
    "\n",
    "- `pars` : a 2D NumPy array  \n",
    "  Each row contains a **set of Heston parameters** plus **T** (maturity) and **K** (strike):\n",
    "  ```\n",
    "  [Kappa, Theta, Sigma, Ro (v0), Rho, T, K]\n",
    "  ```\n",
    "- `kw` : a list of field names (keys)  \n",
    "  (Note: in this version, it’s not directly used, but may be relevant for output labeling.)\n",
    "- `Xc` : numerical cutoff for Heston Fourier inversion (default = 10).\n",
    "- `strikes` : list of strikes at which to compute implied volatilities (i.e., the strike grid for the smile).\n",
    "\n",
    "\n",
    "### How It Works\n",
    "\n",
    "1. **Initial Checks**:\n",
    "   - Verifies that both `pars` and `kw` are provided; otherwise, raises an exception.\n",
    "\n",
    "2. **Initialize Containers**:\n",
    "   - Creates a dictionary `X` with:\n",
    "     - One entry per strike to store **implied volatilities**.\n",
    "     - Three global entries:\n",
    "       - `\"T\"`: maturity,\n",
    "       - `\"Price\"`: forward-start put price,\n",
    "       - `\"Strike\"`: strike price.\n",
    "\n",
    "3. **Loop over samples** (each market scenario):\n",
    "   - **Extracts** the Heston parameters, maturity, and strike for each row.\n",
    "   - **Prices** a forward-start put using `HestonPut`.\n",
    "   - **Quality check**: if the price is invalid (violates no-arbitrage), the sample is skipped (`pCount` increases).\n",
    "   - **Builds the volatility smile** at specified strikes using `build_smile`.\n",
    "   - If building the smile fails (returns `None`), skips the sample (`cCount` increases).\n",
    "   - **Stores**:\n",
    "     - Implied volatilities for all strikes,\n",
    "     - Option price,\n",
    "     - Strike and maturity,\n",
    "     - In the corresponding arrays.\n",
    "\n",
    "4. **Timing**:\n",
    "   - Measures and prints the elapsed time for the generation process.\n",
    "\n",
    "5. **Post-processing**:\n",
    "   - Cuts the arrays to the actual number of valid samples (`nSamples`).\n",
    "   - Assembles a clean dictionary `df` containing only valid rows.\n",
    "   - **Returns** a **pandas DataFrame** ready for machine learning workflows.\n",
    "\n",
    "### Outputs\n",
    "\n",
    "- A **pandas DataFrame** where:\n",
    "  - Columns are:\n",
    "    - `\"Price\"`, `\"Strike\"`, `\"T\"`, plus\n",
    "    - One column for each strike `\"k=...\"` containing implied volatilities.\n",
    "  - Rows are **different synthetic market scenarios** based on Heston-generated smiles.\n",
    "\n",
    "- Informative printouts:\n",
    "  - Total elapsed time,\n",
    "  - Number of samples rejected (due to pricing or smile-building failures).\n",
    "\n",
    "\n",
    "### Context in the Overall Workflow\n",
    "\n",
    "In the big picture, `mkt_gen` fits into the **VFA (Volatility Feature Approach)** as the **synthetic market generator**:\n",
    "\n",
    "```plaintext\n",
    "Step 1: Generate random Heston parameter sets (outside this function)\n",
    "Step 2: Use mkt_gen to simulate full market smiles and option prices\n",
    "Step 3: Save generated data (histo_dict, write CSVs)\n",
    "Step 4: Train deep learning models to map volatility smiles to exotic option prices\n",
    "```\n",
    "\n",
    "### Additional Notes\n",
    "\n",
    "- The use of `tqdm` provides a **progress bar** for user feedback during long runs.\n",
    "- The function handles **pricing violations** gracefully without crashing the whole process.\n",
    "- It's **vectorized over samples** but not over strikes (inside sample-by-sample loop)."
   ]
  },
  {
   "cell_type": "code",
   "execution_count": 16,
   "id": "a7c2edc1",
   "metadata": {
    "executionInfo": {
     "elapsed": 231,
     "status": "ok",
     "timestamp": 1651851355075,
     "user": {
      "displayName": "Giovanni Della Lunga",
      "userId": "13927304036683734865"
     },
     "user_tz": -120
    },
    "id": "a7c2edc1"
   },
   "outputs": [],
   "source": [
    "# Import tqdm to show progress bars during long loops\n",
    "from tqdm import tqdm\n",
    "\n",
    "def mkt_gen(pars=None, kw=None, Xc=10, strikes=None):\n",
    "    \"\"\"\n",
    "    Generate a synthetic market dataset of implied volatilities and option prices\n",
    "    using the Heston model for a range of parameters.\n",
    "\n",
    "    Parameters:\n",
    "    -----------\n",
    "    pars : np.ndarray\n",
    "        2D array where each row contains Heston parameters + maturity + strike:\n",
    "        [kappa, theta, sigma, v0, rho, T, K]\n",
    "    kw : list\n",
    "        List of keys or labels (not directly used inside this version).\n",
    "    Xc : float\n",
    "        Numerical integration cutoff for Heston Fourier pricing (default = 10).\n",
    "    strikes : list\n",
    "        List of strikes to build the implied volatility smile over.\n",
    "\n",
    "    Returns:\n",
    "    --------\n",
    "    df : pandas.DataFrame\n",
    "        DataFrame containing implied volatilities for each strike,\n",
    "        the Heston model price, maturity, and strike for each sample.\n",
    "    \"\"\"\n",
    "\n",
    "    # --- Input checks ---\n",
    "    if pars is None:\n",
    "        raise Exception(\"No data to process\")\n",
    "    if kw is None:\n",
    "        raise Exception(\"No list of tags\")\n",
    "\n",
    "    # Shorthand for input parameter array\n",
    "    x = pars\n",
    "\n",
    "    # Number of total market scenarios to process\n",
    "    NUM = len(x[:, 0])\n",
    "\n",
    "    # --- Initialize output structure ---\n",
    "\n",
    "    # Dictionary to hold all generated data\n",
    "    X = {}\n",
    "\n",
    "    # For each strike, initialize an array of zeros for implied volatilities\n",
    "    for k in strikes:\n",
    "        tag = \"k=%5.3f\" % k  # Format strike as string, e.g., \"k=0.950\"\n",
    "        X[tag] = np.full(NUM, 0.0, dtype=np.double)\n",
    "\n",
    "    # Initialize arrays for price, strike, and maturity\n",
    "    X[\"T\"] = np.full(NUM, 0.0, dtype=np.double)\n",
    "    X[\"Price\"] = np.full(NUM, 0.0, dtype=np.double)\n",
    "    X[\"Strike\"] = np.full(NUM, 0.0, dtype=np.double)\n",
    "\n",
    "    # --- Set up counters and timers ---\n",
    "    __tStart = time.perf_counter()  # Start timing\n",
    "    pCount = 0  # Count of put pricing violations\n",
    "    cCount = 0  # Count of call/smile generation failures\n",
    "    n = 0       # Number of successfully processed samples\n",
    "\n",
    "    # --- Main loop over market scenarios ---\n",
    "    for m in tqdm(range(NUM)):\n",
    "        # Set basic constants\n",
    "        Fw = 1.0  # Forward price fixed at 1.0 for normalization\n",
    "\n",
    "        # Extract Heston parameters and option characteristics for this sample\n",
    "        Kappa = x[m, 0]\n",
    "        Theta = x[m, 1]\n",
    "        sgma  = x[m, 2]\n",
    "        Ro    = x[m, 3]\n",
    "        Rho   = x[m, 4]\n",
    "        T     = x[m, 5]\n",
    "        K     = x[m, 6]\n",
    "\n",
    "        # --- Price the forward-start put option using Heston ---\n",
    "        fwPut = HestonPut(Fw, K, T, Kappa, Theta, sgma, Ro, Rho, 0.0, Xc=Xc)\n",
    "\n",
    "        # --- Check for no-arbitrage violation (option price below intrinsic value) ---\n",
    "        if fwPut < max(K - Fw, 0.0):\n",
    "            pCount += 1  # Count the violation\n",
    "            continue     # Skip to next sample\n",
    "\n",
    "        # --- Build implied volatility smile for this parameter set ---\n",
    "        vol = build_smile(strikes=strikes, Fw=Fw, T=T, Kappa=Kappa, Theta=Theta,\n",
    "                          sgma=sgma, Ro=Ro, Rho=Rho, Xc=Xc)\n",
    "\n",
    "        # --- Check if smile construction failed ---\n",
    "        if vol is None:\n",
    "            cCount += 1  # Count the failure\n",
    "            continue     # Skip to next sample\n",
    "\n",
    "        # --- Save results ---\n",
    "        # Store implied volatilities for each strike\n",
    "        for k in strikes:\n",
    "            tag = \"k=%5.3f\" % k\n",
    "            X[tag][n] = vol[tag]\n",
    "\n",
    "        # Store additional information: price, strike, and maturity\n",
    "        X[\"Price\"][n]  = fwPut\n",
    "        X[\"Strike\"][n] = K\n",
    "        X[\"T\"][n]      = T\n",
    "\n",
    "        # Increment the counter of valid samples\n",
    "        n += 1\n",
    "\n",
    "    # --- Timing and reporting ---\n",
    "    __tEnd = time.perf_counter()  # End timing\n",
    "    print(\"@ %-34s: elapsed %.4f sec\" % (\"Seq. pricing\", __tEnd - __tStart))\n",
    "\n",
    "    nSamples = n  # Final count of valid samples\n",
    "\n",
    "    # --- Assemble final DataFrame ---\n",
    "    df = {}\n",
    "    for s in X.keys():\n",
    "        df[s] = np.copy(X[s][0:nSamples])  # Only keep successfully generated samples\n",
    "\n",
    "    print(\"@ %-34s: Violations Put=%d, Call=%d DB=%d out of %d\" %\n",
    "          (\"Info\", pCount, cCount, nSamples, NUM))\n",
    "\n",
    "    # Return as pandas DataFrame for easy saving and processing\n",
    "    return pd.DataFrame(df)\n"
   ]
  },
  {
   "cell_type": "code",
   "execution_count": 17,
   "id": "06801643",
   "metadata": {
    "executionInfo": {
     "elapsed": 3,
     "status": "ok",
     "timestamp": 1651851356090,
     "user": {
      "displayName": "Giovanni Della Lunga",
      "userId": "13927304036683734865"
     },
     "user_tz": -120
    },
    "id": "06801643"
   },
   "outputs": [],
   "source": [
    "def smiles_select(strikes, X, NUMSMILES=1):\n",
    "    smiles  = {}\n",
    "    ns = NUMSMILES\n",
    "    N  = len(X[\"T\"])\n",
    "    for n in range(N):\n",
    "        if X[\"T\"][n] > .5: continue\n",
    "\n",
    "        smile = np.ndarray(shape=(len(strikes),2), dtype=np.double)\n",
    "        for j in range(len(strikes)):\n",
    "            k = strikes[j]\n",
    "            tag = \"k=%5.3f\" %k\n",
    "            smile[j,0] = k\n",
    "            smile[j,1] = X[tag][n]\n",
    "\n",
    "        T         = X[\"T\"][n]\n",
    "        smiles[T] = smile\n",
    "        ns -= 1\n",
    "        if ns == 0: break\n",
    "\n",
    "    return smiles\n"
   ]
  },
  {
   "cell_type": "markdown",
   "id": "0848498c",
   "metadata": {
    "id": "0848498c"
   },
   "source": [
    "**Constants Definition**"
   ]
  },
  {
   "cell_type": "code",
   "execution_count": 18,
   "id": "dae8b701",
   "metadata": {
    "executionInfo": {
     "elapsed": 233,
     "status": "ok",
     "timestamp": 1651851623767,
     "user": {
      "displayName": "Giovanni Della Lunga",
      "userId": "13927304036683734865"
     },
     "user_tz": -120
    },
    "id": "dae8b701"
   },
   "outputs": [],
   "source": [
    "verbose = False\n",
    "    \n",
    "outputPrfx    = \"full\"\n",
    "challengePrfx = \"test\"\n",
    "targetPrfx    = \"trgt\"\n",
    "    \n",
    "EPS           = 0.01\n",
    "XC            = 10.0\n",
    "    \n",
    "# bounds for the random generation of model parameters\n",
    "# and contract parameters\n",
    "bounds = { \"k\":       [ .01   , 1.00]\n",
    "         , \"theta\":   [ .01   ,  .80]\n",
    "         , \"sigma\":   [ .01   , 1.00]\n",
    "         , \"v0\":      [ .01   ,  .80]\n",
    "         , \"rho\":     [-.99   , 0.00]\n",
    "         , \"T\":       [ 1./12., 2.00]\n",
    "         , \"Strike\":  [ .6    , 1.40]\n",
    "         }\n",
    "\n",
    "    \n",
    "NUM     = 10000\n",
    "TAG     = str(NUM) + \"_VFA\"\n",
    "rand    = np.random.RandomState(42)"
   ]
  },
  {
   "cell_type": "markdown",
   "id": "3c7c5ee6",
   "metadata": {
    "id": "3c7c5ee6"
   },
   "source": [
    "**Generats and displays the random parameters**"
   ]
  },
  {
   "cell_type": "code",
   "execution_count": 19,
   "id": "5174bb6d",
   "metadata": {
    "colab": {
     "base_uri": "https://localhost:8080/",
     "height": 336
    },
    "executionInfo": {
     "elapsed": 2110,
     "status": "ok",
     "timestamp": 1651851627229,
     "user": {
      "displayName": "Giovanni Della Lunga",
      "userId": "13927304036683734865"
     },
     "user_tz": -120
    },
    "id": "5174bb6d",
    "outputId": "2eec92cb-5d4f-4dd6-fd77-c1673703a004",
    "scrolled": true
   },
   "outputs": [
    {
     "name": "stdout",
     "output_type": "stream",
     "text": [
      "@ Info                              : Feller violations =   4377 out of  10000 ( 43.7700000 %)\n",
      "@ LHS                               : elapsed 0.0080 sec\n"
     ]
    },
    {
     "data": {
      "image/png": "[encoded data removed]",
      "text/plain": [
       "<Figure size 1200x400 with 7 Axes>"
      ]
     },
     "metadata": {},
     "output_type": "display_data"
    }
   ],
   "source": [
    "__tStart= time.perf_counter()\n",
    "kw, x = lhs_sampling(rand, NUM, bounds = bounds)\n",
    "__tEnd = time.perf_counter()\n",
    "print(\"@ %-34s: elapsed %.4f sec\" %(\"LHS\", __tEnd - __tStart) )\n",
    "    \n",
    "# Let's check the distribution of the parameters we have generated\n",
    "histo_array(list(kw), x, title = \"Random parameters density functions\") "
   ]
  },
  {
   "cell_type": "code",
   "execution_count": 22,
   "id": "39d90e8f",
   "metadata": {},
   "outputs": [],
   "source": [
    "# strikes used to build the smile used as a feature (regressor)\n",
    "strikes = np.arange(.8, 1.2, .025)"
   ]
  },
  {
   "cell_type": "code",
   "execution_count": 48,
   "id": "29483c3c",
   "metadata": {
    "colab": {
     "base_uri": "https://localhost:8080/"
    },
    "executionInfo": {
     "elapsed": 360842,
     "status": "ok",
     "timestamp": 1651852206719,
     "user": {
      "displayName": "Giovanni Della Lunga",
      "userId": "13927304036683734865"
     },
     "user_tz": -120
    },
    "id": "29483c3c",
    "outputId": "23299325-e45c-4a39-b8a9-66e27da3f412"
   },
   "outputs": [
    {
     "name": "stderr",
     "output_type": "stream",
     "text": [
      "100%|████████████████████████████████████████████████████████████████████████████| 10000/10000 [26:29<00:00,  6.29it/s]"
     ]
    },
    {
     "name": "stdout",
     "output_type": "stream",
     "text": [
      "@ Seq. pricing                      : elapsed 1589.7735 sec\n",
      "@ Info                              : Violations Put=3, Call=0 DB=9997 out of 10000\n",
      "@ GEN                               : elapsed 1589.7785 sec\n"
     ]
    },
    {
     "name": "stderr",
     "output_type": "stream",
     "text": [
      "\n"
     ]
    }
   ],
   "source": [
    "# Generate training/test set\n",
    "__tStart=time.perf_counter()\n",
    "df =  mkt_gen( pars = x, kw = kw, Xc=XC, strikes = strikes)\n",
    "__tEnd = time.perf_counter()\n",
    "print(\"@ %-34s: elapsed %.4f sec\" %(\"GEN\", __tEnd-__tStart) )"
   ]
  },
  {
   "cell_type": "markdown",
   "id": "8002c759",
   "metadata": {
    "id": "8002c759"
   },
   "source": [
    "**Generate training/test set**"
   ]
  },
  {
   "cell_type": "code",
   "execution_count": 19,
   "id": "e5ecc6c9",
   "metadata": {},
   "outputs": [
    {
     "name": "stdout",
     "output_type": "stream",
     "text": [
      "@ Info                              : mkt generated data frame written to 'C:/data/mkt_gen_out_heston_2_3.csv'\n"
     ]
    }
   ],
   "source": [
    "outputFile = 'C:/data/mkt_gen_out_heston_2_3.csv'\n",
    "df.to_csv(outputFile, sep=';', float_format=\"%.6f\", index=False)\n",
    "print(\"@ %-34s: mkt generated data frame written to '%s'\" %(\"Info\", outputFile))"
   ]
  },
  {
   "cell_type": "code",
   "execution_count": 23,
   "id": "3633bd9c",
   "metadata": {},
   "outputs": [
    {
     "name": "stdout",
     "output_type": "stream",
     "text": [
      "@ Info                              : mkt generated data frame read from 'C:/data/mkt_gen_out_heston_2_3.csv'\n"
     ]
    }
   ],
   "source": [
    "inputFile = 'C:/data/mkt_gen_out_heston_2_3.csv'\n",
    "df = pd.read_csv(inputFile, sep=';')\n",
    "print(\"@ %-34s: mkt generated data frame read from '%s'\" %(\"Info\", inputFile))"
   ]
  },
  {
   "cell_type": "markdown",
   "id": "847098ef",
   "metadata": {
    "id": "847098ef"
   },
   "source": [
    "**Select and display a subset of the generated smiles...**"
   ]
  },
  {
   "cell_type": "code",
   "execution_count": 24,
   "id": "0f3b9240",
   "metadata": {
    "colab": {
     "base_uri": "https://localhost:8080/",
     "height": 1000
    },
    "executionInfo": {
     "elapsed": 1829,
     "status": "ok",
     "timestamp": 1651655699515,
     "user": {
      "displayName": "Giovanni Della Lunga",
      "userId": "13927304036683734865"
     },
     "user_tz": -120
    },
    "id": "0f3b9240",
    "outputId": "1c0aa000-f320-4161-c4eb-c8927824c276"
   },
   "outputs": [
    {
     "data": {
      "image/png": "[encoded data removed]",
      "text/plain": [
       "<Figure size 600x600 with 1 Axes>"
      ]
     },
     "metadata": {},
     "output_type": "display_data"
    }
   ],
   "source": [
    "# displays a subset of the generated smiles ....\n",
    "smiles = smiles_select(strikes, df, NUMSMILES=10)\n",
    "show_smiles( smiles=smiles)"
   ]
  },
  {
   "cell_type": "code",
   "execution_count": 25,
   "id": "a05f8f2a",
   "metadata": {},
   "outputs": [],
   "source": [
    "from tqdm import tqdm\n",
    "import numpy as np\n",
    "import pandas as pd\n",
    "import time\n",
    "\n",
    "def mkt_gen_surface(pars=None, Xc=10, strikes=None, maturities=None):\n",
    "    \"\"\"\n",
    "    Generate a synthetic dataset of implied volatility surfaces using the Heston model.\n",
    "    For each set of Heston parameters, a full surface over (strike, maturity) is generated.\n",
    "\n",
    "    Parameters:\n",
    "    -----------\n",
    "    pars : np.ndarray\n",
    "        Array of shape (N, 5), each row is [kappa, theta, sigma, v0, rho].\n",
    "    Xc : float\n",
    "        Numerical integration cutoff for Heston Fourier pricing.\n",
    "    strikes : list or np.ndarray\n",
    "        Array of strike prices.\n",
    "    maturities : list or np.ndarray\n",
    "        Array of time to maturities.\n",
    "\n",
    "    Returns:\n",
    "    --------\n",
    "    df : pd.DataFrame\n",
    "        A DataFrame where each row corresponds to a (K, T) point for a given parameter set,\n",
    "        with columns: ParamIndex, Kappa, Theta, Sigma, v0, Rho, T, K, and IV.\n",
    "    \"\"\"\n",
    "\n",
    "    if pars is None or strikes is None or maturities is None:\n",
    "        raise ValueError(\"Missing required inputs: pars, strikes, maturities.\")\n",
    "\n",
    "    rows = []\n",
    "    Fw = 1.0  # Fixed forward price\n",
    "\n",
    "    __tStart = time.perf_counter()\n",
    "\n",
    "    for idx, p in enumerate(tqdm(pars)):\n",
    "        Kappa, Theta, Sigma, v0, Rho = p[:5]\n",
    "\n",
    "        for T in maturities:\n",
    "            # Build full smile at this maturity\n",
    "            vol_dict = build_smile(strikes=strikes, Fw=Fw, T=T,\n",
    "                                   Kappa=Kappa, Theta=Theta,\n",
    "                                   sgma=Sigma, Ro=v0, Rho=Rho, Xc=Xc)\n",
    "            if vol_dict is None:\n",
    "                continue  # skip if pricing failed\n",
    "\n",
    "            for K in strikes:\n",
    "                tag = \"k=%5.3f\" % K\n",
    "                iv = vol_dict.get(tag, np.nan)\n",
    "\n",
    "                rows.append({\n",
    "                    \"ParamIndex\": idx,\n",
    "                    \"Kappa\": Kappa,\n",
    "                    \"Theta\": Theta,\n",
    "                    \"Sigma\": Sigma,\n",
    "                    \"v0\": v0,\n",
    "                    \"Rho\": Rho,\n",
    "                    \"T\": T,\n",
    "                    \"K\": K,\n",
    "                    \"IV\": iv\n",
    "                })\n",
    "\n",
    "    __tEnd = time.perf_counter()\n",
    "    print(\"@ %-34s: elapsed %.4f sec\" % (\"Surface pricing\", __tEnd - __tStart))\n",
    "\n",
    "    return pd.DataFrame(rows)"
   ]
  },
  {
   "cell_type": "code",
   "execution_count": 26,
   "id": "69780cd9",
   "metadata": {},
   "outputs": [],
   "source": [
    "# 10 maturities from 1 month (0.08) to 2 years (2.0), in years\n",
    "maturities = np.linspace(0.08, 2.0, 10)"
   ]
  },
  {
   "cell_type": "code",
   "execution_count": 27,
   "id": "81068250",
   "metadata": {},
   "outputs": [
    {
     "name": "stderr",
     "output_type": "stream",
     "text": [
      "100%|████████████████████████████████████████████████████████████████████████████████| 100/100 [03:01<00:00,  1.81s/it]"
     ]
    },
    {
     "name": "stdout",
     "output_type": "stream",
     "text": [
      "@ Surface pricing                   : elapsed 181.4598 sec\n"
     ]
    },
    {
     "name": "stderr",
     "output_type": "stream",
     "text": [
      "\n"
     ]
    }
   ],
   "source": [
    "df_surf = mkt_gen_surface(pars=x[:100,:], strikes=strikes, maturities=maturities)"
   ]
  },
  {
   "cell_type": "code",
   "execution_count": 28,
   "id": "cbf5128b",
   "metadata": {},
   "outputs": [
    {
     "data": {
      "text/html": [
       "<div>\n",
       "<style scoped>\n",
       "    .dataframe tbody tr th:only-of-type {\n",
       "        vertical-align: middle;\n",
       "    }\n",
       "\n",
       "    .dataframe tbody tr th {\n",
       "        vertical-align: top;\n",
       "    }\n",
       "\n",
       "    .dataframe thead th {\n",
       "        text-align: right;\n",
       "    }\n",
       "</style>\n",
       "<table border=\"1\" class=\"dataframe\">\n",
       "  <thead>\n",
       "    <tr style=\"text-align: right;\">\n",
       "      <th></th>\n",
       "      <th>ParamIndex</th>\n",
       "      <th>Kappa</th>\n",
       "      <th>Theta</th>\n",
       "      <th>Sigma</th>\n",
       "      <th>v0</th>\n",
       "      <th>Rho</th>\n",
       "      <th>T</th>\n",
       "      <th>K</th>\n",
       "      <th>IV</th>\n",
       "    </tr>\n",
       "  </thead>\n",
       "  <tbody>\n",
       "    <tr>\n",
       "      <th>0</th>\n",
       "      <td>0</td>\n",
       "      <td>0.448026</td>\n",
       "      <td>0.016597</td>\n",
       "      <td>0.447036</td>\n",
       "      <td>0.20675</td>\n",
       "      <td>-0.030442</td>\n",
       "      <td>0.08</td>\n",
       "      <td>0.800</td>\n",
       "      <td>0.455430</td>\n",
       "    </tr>\n",
       "    <tr>\n",
       "      <th>1</th>\n",
       "      <td>0</td>\n",
       "      <td>0.448026</td>\n",
       "      <td>0.016597</td>\n",
       "      <td>0.447036</td>\n",
       "      <td>0.20675</td>\n",
       "      <td>-0.030442</td>\n",
       "      <td>0.08</td>\n",
       "      <td>0.825</td>\n",
       "      <td>0.454137</td>\n",
       "    </tr>\n",
       "    <tr>\n",
       "      <th>2</th>\n",
       "      <td>0</td>\n",
       "      <td>0.448026</td>\n",
       "      <td>0.016597</td>\n",
       "      <td>0.447036</td>\n",
       "      <td>0.20675</td>\n",
       "      <td>-0.030442</td>\n",
       "      <td>0.08</td>\n",
       "      <td>0.850</td>\n",
       "      <td>0.453014</td>\n",
       "    </tr>\n",
       "    <tr>\n",
       "      <th>3</th>\n",
       "      <td>0</td>\n",
       "      <td>0.448026</td>\n",
       "      <td>0.016597</td>\n",
       "      <td>0.447036</td>\n",
       "      <td>0.20675</td>\n",
       "      <td>-0.030442</td>\n",
       "      <td>0.08</td>\n",
       "      <td>0.875</td>\n",
       "      <td>0.452055</td>\n",
       "    </tr>\n",
       "    <tr>\n",
       "      <th>4</th>\n",
       "      <td>0</td>\n",
       "      <td>0.448026</td>\n",
       "      <td>0.016597</td>\n",
       "      <td>0.447036</td>\n",
       "      <td>0.20675</td>\n",
       "      <td>-0.030442</td>\n",
       "      <td>0.08</td>\n",
       "      <td>0.900</td>\n",
       "      <td>0.451252</td>\n",
       "    </tr>\n",
       "  </tbody>\n",
       "</table>\n",
       "</div>"
      ],
      "text/plain": [
       "   ParamIndex     Kappa     Theta     Sigma       v0       Rho     T      K  \\\n",
       "0           0  0.448026  0.016597  0.447036  0.20675 -0.030442  0.08  0.800   \n",
       "1           0  0.448026  0.016597  0.447036  0.20675 -0.030442  0.08  0.825   \n",
       "2           0  0.448026  0.016597  0.447036  0.20675 -0.030442  0.08  0.850   \n",
       "3           0  0.448026  0.016597  0.447036  0.20675 -0.030442  0.08  0.875   \n",
       "4           0  0.448026  0.016597  0.447036  0.20675 -0.030442  0.08  0.900   \n",
       "\n",
       "         IV  \n",
       "0  0.455430  \n",
       "1  0.454137  \n",
       "2  0.453014  \n",
       "3  0.452055  \n",
       "4  0.451252  "
      ]
     },
     "execution_count": 28,
     "metadata": {},
     "output_type": "execute_result"
    }
   ],
   "source": [
    "df_surf.head()"
   ]
  },
  {
   "cell_type": "code",
   "execution_count": 29,
   "id": "fb652953",
   "metadata": {},
   "outputs": [],
   "source": [
    "from mpl_toolkits.mplot3d import Axes3D\n",
    "\n",
    "def plot_iv_surface(df, param_index):\n",
    "    \"\"\"\n",
    "    Plot a 3D implied volatility surface for a given parameter index from the long-format DataFrame.\n",
    "\n",
    "    Parameters:\n",
    "    -----------\n",
    "    df : pd.DataFrame\n",
    "        The DataFrame produced by `mkt_gen_surface`, with columns: ParamIndex, K, T, IV, etc.\n",
    "    param_index : int\n",
    "        The integer index identifying the Heston parameter set (as stored in the 'ParamIndex' column).\n",
    "\n",
    "    Returns:\n",
    "    --------\n",
    "    None (displays a 3D matplotlib surface plot)\n",
    "    \"\"\"\n",
    "\n",
    "    # Filter the DataFrame for the specified parameter vector\n",
    "    sub_df = df[df[\"ParamIndex\"] == param_index]\n",
    "\n",
    "    if sub_df.empty:\n",
    "        print(f\"⚠️ No data found for ParamIndex = {param_index}\")\n",
    "        return\n",
    "\n",
    "    # Pivot into a 2D matrix: rows = strikes, cols = maturities\n",
    "    pivot = sub_df.pivot_table(index=\"K\", columns=\"T\", values=\"IV\")\n",
    "    strikes = pivot.index.values\n",
    "    maturities = pivot.columns.values\n",
    "    surface = pivot.values\n",
    "\n",
    "    # Prepare grid for 3D plotting\n",
    "    T_grid, K_grid = np.meshgrid(maturities, strikes)\n",
    "\n",
    "    # Plot\n",
    "    fig = plt.figure(figsize=(5, 8))\n",
    "    ax = fig.add_subplot(111, projection='3d')\n",
    "    ax.plot_surface(T_grid, K_grid, surface, cmap=\"viridis\", edgecolor=\"k\", alpha=0.9)\n",
    "\n",
    "    ax.set_xlabel(\"Maturity (T)\")\n",
    "    ax.set_ylabel(\"Strike (K)\")\n",
    "    ax.set_zlabel(\"Implied Volatility\")\n",
    "    ax.set_title(f\"IV Surface for ParamIndex = {param_index}\")\n",
    "\n",
    "    plt.tight_layout()\n",
    "    plt.show()"
   ]
  },
  {
   "cell_type": "code",
   "execution_count": 31,
   "id": "1fddac0f",
   "metadata": {},
   "outputs": [
    {
     "data": {
      "image/png": "[encoded data removed]",
      "text/plain": [
       "<Figure size 500x800 with 1 Axes>"
      ]
     },
     "metadata": {},
     "output_type": "display_data"
    }
   ],
   "source": [
    "plot_iv_surface(df_surf, param_index=5)"
   ]
  },
  {
   "cell_type": "markdown",
   "id": "ffec58c5",
   "metadata": {
    "id": "ffec58c5"
   },
   "source": [
    "**Selects a random subset as test set**"
   ]
  },
  {
   "cell_type": "code",
   "execution_count": 32,
   "id": "8118ea46",
   "metadata": {
    "id": "8118ea46"
   },
   "outputs": [],
   "source": [
    "Xv, Y = train_test_split(df, test_size=0.33, random_state=rand.randint(42))"
   ]
  },
  {
   "cell_type": "markdown",
   "id": "c270fb58",
   "metadata": {
    "id": "c270fb58"
   },
   "source": [
    "**Generate some noise for the training set**"
   ]
  },
  {
   "cell_type": "code",
   "execution_count": 33,
   "id": "93f26cc5",
   "metadata": {
    "id": "93f26cc5"
   },
   "outputs": [],
   "source": [
    "EPS = 0.0\n",
    "if EPS > 0.0:\n",
    "    X = Xv.copy()\n",
    "    xl = np.min(X[\"Price\"])\n",
    "    xh = np.max(X[\"Price\"])\n",
    "\n",
    "    xi = rand.normal( loc = 0.0, scale = EPS*(xh-xl), size=X.shape[0])\n",
    "    X[\"Price\"] += xi\n",
    "else: X = Xv"
   ]
  },
  {
   "cell_type": "markdown",
   "id": "ecdbbc9f",
   "metadata": {
    "id": "ecdbbc9f"
   },
   "source": [
    "**Display the amount of noise**"
   ]
  },
  {
   "cell_type": "code",
   "execution_count": 34,
   "id": "91687946",
   "metadata": {
    "id": "91687946"
   },
   "outputs": [],
   "source": [
    "import warnings\n",
    "warnings.simplefilter('ignore')"
   ]
  },
  {
   "cell_type": "code",
   "execution_count": 35,
   "id": "1b537c59",
   "metadata": {
    "colab": {
     "base_uri": "https://localhost:8080/",
     "height": 777
    },
    "executionInfo": {
     "elapsed": 1531,
     "status": "ok",
     "timestamp": 1651655707119,
     "user": {
      "displayName": "Giovanni Della Lunga",
      "userId": "13927304036683734865"
     },
     "user_tz": -120
    },
    "id": "1b537c59",
    "outputId": "30f615ef-bd22-4684-ee05-bb6017e3f505"
   },
   "outputs": [
    {
     "data": {
      "image/png": "[encoded data removed]",
      "text/plain": [
       "<Figure size 1200x600 with 2 Axes>"
      ]
     },
     "metadata": {},
     "output_type": "display_data"
    }
   ],
   "source": [
    "if EPS > 0.0:\n",
    "    xMin = 0.0\n",
    "    xMax = max(Xv[\"Price\"])\n",
    "    v = np.arange(xMin, xMax, (xMax - xMin)/100.)\n",
    "\n",
    "    fig, ax = plt.subplots(1,1, figsize=(12,6))\n",
    "\n",
    "    ax.plot( Xv[\"Price\"], X[\"Price\"], \".\", markersize=1)\n",
    "    ax.plot( v, v, color=\"red\")\n",
    "    ax.set_title(\"Perturbed\")\n",
    "    ax.set_xlabel(\"Xv\")\n",
    "    ax.set_ylabel(\"X\")\n",
    "\n",
    "    figName = \"scatter_%s.png\" %(TAG)\n",
    "    plt.savefig(figName, format=\"png\")        \n",
    "\n",
    "    plt.show()\n",
    "                \n",
    "    histo_dict( {\"Train\": np.array(Xv[\"Price\"]), \n",
    "                 \"Test\": np.array(Y[\"Price\"]), \n",
    "                 \"Perturbed\": np.array(X[\"Price\"]) } , TAG=TAG )\n",
    "else:\n",
    "    histo_dict( {\"Train\": np.array(Xv[\"Price\"]), \n",
    "                 \"Test\": np.array(Y[\"Price\"]) }, TAG=TAG )\n"
   ]
  },
  {
   "cell_type": "markdown",
   "id": "5cafa06e",
   "metadata": {
    "id": "5cafa06e"
   },
   "source": [
    "**Remove target from challenge set**"
   ]
  },
  {
   "cell_type": "code",
   "execution_count": 36,
   "id": "b3cb835e",
   "metadata": {
    "id": "b3cb835e"
   },
   "outputs": [],
   "source": [
    "t = pd.DataFrame({\"Price\": Y[\"Price\"]})\n",
    "y = Y.drop(columns=\"Price\") "
   ]
  },
  {
   "cell_type": "markdown",
   "id": "9e622eb7",
   "metadata": {
    "id": "9e622eb7"
   },
   "source": [
    "## Saving Result to Disk"
   ]
  },
  {
   "cell_type": "markdown",
   "id": "7eae7bc2",
   "metadata": {
    "id": "7eae7bc2"
   },
   "source": [
    "**Write training set to disk**"
   ]
  },
  {
   "cell_type": "code",
   "execution_count": 37,
   "id": "67191cf9",
   "metadata": {
    "colab": {
     "base_uri": "https://localhost:8080/"
    },
    "executionInfo": {
     "elapsed": 311,
     "status": "ok",
     "timestamp": 1651655711471,
     "user": {
      "displayName": "Giovanni Della Lunga",
      "userId": "13927304036683734865"
     },
     "user_tz": -120
    },
    "id": "67191cf9",
    "outputId": "87ff2fa2-5935-434e-845f-a4173e6aae7f"
   },
   "outputs": [
    {
     "name": "stdout",
     "output_type": "stream",
     "text": [
      "@ Info                              : training data frame written to 'C:/data/full_10000_VFA.csv'\n"
     ]
    }
   ],
   "source": [
    "outputFile = \"%s_%s.csv\" %(outputPrfx, TAG)\n",
    "outputFile = 'C:/data/' + outputFile\n",
    "X.to_csv(outputFile, sep=',', float_format=\"%.6f\", index=False)\n",
    "print(\"@ %-34s: training data frame written to '%s'\" %(\"Info\", outputFile))\n",
    "if verbose: print(outputFile); print(X)"
   ]
  },
  {
   "cell_type": "code",
   "execution_count": 38,
   "id": "a7lnepoaOyZ-",
   "metadata": {
    "colab": {
     "base_uri": "https://localhost:8080/",
     "height": 17
    },
    "executionInfo": {
     "elapsed": 5,
     "status": "ok",
     "timestamp": 1651655711835,
     "user": {
      "displayName": "Giovanni Della Lunga",
      "userId": "13927304036683734865"
     },
     "user_tz": -120
    },
    "id": "a7lnepoaOyZ-",
    "outputId": "22e41f4c-21b3-458e-e231-d3f0bec6cb63"
   },
   "outputs": [],
   "source": [
    "if 'google.colab' in str(get_ipython()):\n",
    "    from google.colab import files\n",
    "    files.download(outputFile)    "
   ]
  },
  {
   "cell_type": "markdown",
   "id": "2768b546",
   "metadata": {
    "id": "2768b546"
   },
   "source": [
    "**Write challenge set to disk**"
   ]
  },
  {
   "cell_type": "code",
   "execution_count": 39,
   "id": "12a28937",
   "metadata": {
    "colab": {
     "base_uri": "https://localhost:8080/"
    },
    "executionInfo": {
     "elapsed": 415,
     "status": "ok",
     "timestamp": 1651655716218,
     "user": {
      "displayName": "Giovanni Della Lunga",
      "userId": "13927304036683734865"
     },
     "user_tz": -120
    },
    "id": "12a28937",
    "outputId": "94c2ee33-6f96-4f1a-dabc-bab871f2d69d"
   },
   "outputs": [
    {
     "name": "stdout",
     "output_type": "stream",
     "text": [
      "@ Info                              : challenge data frame written to 'C:/data/test_10000_VFA.csv'\n"
     ]
    }
   ],
   "source": [
    "challengeFile = \"%s_%s.csv\" %(challengePrfx, TAG)\n",
    "challengeFile = 'C:/data/' + challengeFile\n",
    "y.to_csv(challengeFile, sep=',', float_format=\"%.6f\", index=False)\n",
    "print(\"@ %-34s: challenge data frame written to '%s'\" %(\"Info\", challengeFile))\n",
    "if verbose: print(challengeFile); print(y)"
   ]
  },
  {
   "cell_type": "code",
   "execution_count": 40,
   "id": "vs3NBW2pO1ls",
   "metadata": {
    "colab": {
     "base_uri": "https://localhost:8080/",
     "height": 17
    },
    "executionInfo": {
     "elapsed": 6,
     "status": "ok",
     "timestamp": 1651655717047,
     "user": {
      "displayName": "Giovanni Della Lunga",
      "userId": "13927304036683734865"
     },
     "user_tz": -120
    },
    "id": "vs3NBW2pO1ls",
    "outputId": "69f3c6ae-548a-4d9e-decb-3652293cbc69"
   },
   "outputs": [],
   "source": [
    "if 'google.colab' in str(get_ipython()):\n",
    "    from google.colab import files\n",
    "    files.download(challengeFile)    "
   ]
  },
  {
   "cell_type": "markdown",
   "id": "7985e5e5",
   "metadata": {
    "id": "7985e5e5"
   },
   "source": [
    "**Write target array do disk**"
   ]
  },
  {
   "cell_type": "code",
   "execution_count": 41,
   "id": "5e51b361",
   "metadata": {
    "colab": {
     "base_uri": "https://localhost:8080/"
    },
    "executionInfo": {
     "elapsed": 4,
     "status": "ok",
     "timestamp": 1651655720717,
     "user": {
      "displayName": "Giovanni Della Lunga",
      "userId": "13927304036683734865"
     },
     "user_tz": -120
    },
    "id": "5e51b361",
    "outputId": "a367d817-b250-4492-ab5c-caf34a00779d"
   },
   "outputs": [
    {
     "name": "stdout",
     "output_type": "stream",
     "text": [
      "@ Info                              : target data frame written to 'C:/data/trgt_10000_VFA.csv'\n"
     ]
    }
   ],
   "source": [
    "    targetFile = \"%s_%s.csv\" %(targetPrfx, TAG)\n",
    "    targetFile = 'C:/data/' + targetFile\n",
    "    t.to_csv(targetFile, sep=',', float_format=\"%.6f\", index=False)\n",
    "    print(\"@ %-34s: target data frame written to '%s'\" %(\"Info\", targetFile))\n",
    "    if verbose: print(targetFile); print(t)"
   ]
  },
  {
   "cell_type": "code",
   "execution_count": 42,
   "id": "7bba9ac3",
   "metadata": {
    "colab": {
     "base_uri": "https://localhost:8080/",
     "height": 17
    },
    "executionInfo": {
     "elapsed": 6,
     "status": "ok",
     "timestamp": 1651655721648,
     "user": {
      "displayName": "Giovanni Della Lunga",
      "userId": "13927304036683734865"
     },
     "user_tz": -120
    },
    "id": "7bba9ac3",
    "outputId": "172a965f-6e53-450d-866e-0fd778d43638"
   },
   "outputs": [],
   "source": [
    "if 'google.colab' in str(get_ipython()):\n",
    "    from google.colab import files\n",
    "    files.download(targetFile)    "
   ]
  },
  {
   "cell_type": "code",
   "execution_count": null,
   "id": "d235868d",
   "metadata": {},
   "outputs": [],
   "source": []
  }
 ],
 "metadata": {
  "colab": {
   "collapsed_sections": [],
   "name": "chapter-3-2.ipynb",
   "provenance": [
    {
     "file_id": "https://github.com/polyhedron-gdl/advanced-machine-learning-for-finance/blob/main/2022/1-notebooks/chapter-3-2.ipynb",
     "timestamp": 1651653054153
    }
   ]
  },
  "kernelspec": {
   "display_name": "Python 3 (ipykernel)",
   "language": "python",
   "name": "python3"
  },
  "language_info": {
   "codemirror_mode": {
    "name": "ipython",
    "version": 3
   },
   "file_extension": ".py",
   "mimetype": "text/x-python",
   "name": "python",
   "nbconvert_exporter": "python",
   "pygments_lexer": "ipython3",
   "version": "3.10.9"
  },
  "toc": {
   "base_numbering": "2",
   "nav_menu": {},
   "number_sections": true,
   "sideBar": true,
   "skip_h1_title": false,
   "title_cell": "Table of Contents",
   "title_sidebar": "Contents",
   "toc_cell": false,
   "toc_position": {},
   "toc_section_display": true,
   "toc_window_display": false
  }
 },
 "nbformat": 4,
 "nbformat_minor": 5
}
