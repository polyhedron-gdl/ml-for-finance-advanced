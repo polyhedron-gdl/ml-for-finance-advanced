{
 "cells": [
  {
   "cell_type": "markdown",
   "id": "eb92d39c",
   "metadata": {
    "id": "eb92d39c"
   },
   "source": [
    "<table align=\"left\">\n",
    "  <td>\n",
    "    <a target=\"_blank\" href=\"https://colab.research.google.com/github/polyhedron-gdl/advanced-machine-learning-for-finance/blob/main/2022/1-notebooks/chapter-3-1.ipynb\">\n",
    "        <img src=\"https://www.tensorflow.org/images/colab_logo_32px.png\" />Run in Google Colab</a>\n",
    "  </td>\n",
    "</table>"
   ]
  },
  {
   "cell_type": "markdown",
   "id": "c59aecd7",
   "metadata": {
    "id": "c59aecd7"
   },
   "source": [
    "# NN Heston Model - Parameters Generation"
   ]
  },
  {
   "cell_type": "code",
   "execution_count": 8,
   "id": "0b35ce4f",
   "metadata": {
    "executionInfo": {
     "elapsed": 347,
     "status": "ok",
     "timestamp": 1651849368108,
     "user": {
      "displayName": "Giovanni Della Lunga",
      "userId": "13927304036683734865"
     },
     "user_tz": -120
    },
    "id": "0b35ce4f"
   },
   "outputs": [],
   "source": [
    "import sys\n",
    "import numpy as np\n",
    "import pandas as pd\n",
    "import matplotlib.pyplot as plt\n",
    "import time\n",
    "import math\n",
    "\n",
    "from smt.sampling_methods import LHS\n",
    "from sklearn.model_selection import train_test_split"
   ]
  },
  {
   "cell_type": "markdown",
   "id": "a6d276be",
   "metadata": {},
   "source": [
    "This notebook is the first step in the presentation of a simple version of the Volatility Feature Approach (VFA). We start by generating a realistic synthetic dataset of vanilla option prices, using the **Heston model**, which will be used to train and evaluate a deep learning model. "
   ]
  },
  {
   "cell_type": "markdown",
   "id": "06139785",
   "metadata": {},
   "source": [
    "## Key Computation Steps\n",
    "\n",
    "1. **Parameter Sampling**\n",
    "- The notebook uses **Latin Hypercube Sampling (LHS)** to generate a diverse and efficient set of synthetic market scenarios.\n",
    "- Each sample corresponds to a combination of option parameters: **moneyness (S/K), maturity, volatility, etc.**\n",
    "\n",
    "2. **Option Pricing**\n",
    "- For each sampled configuration, the notebook **computes the Heston Model price**.\n",
    "- These prices represent the **target values** the model will later try to learn.\n",
    "\n",
    "3. **Data Perturbation (Optional)**\n",
    "- If noise level `EPS` is positive, **Gaussian noise** is added to the target prices to simulate **market imperfections** (e.g., liquidity effects, data errors).\n",
    "- This helps train models that are more **robust to real-world distortions**.\n",
    "\n",
    "4. **Train/Test Split**\n",
    "- The dataset is randomly split into:\n",
    "  - **Training set**: used to train a neural network\n",
    "  - **Test/challenge set**: used to evaluate generalization\n",
    "- Optionally, a **perturbed version** of the training set is used to increase noise robustness.\n",
    "\n",
    "5. **Exploratory Visualizations**\n",
    "- Scatter plots and histograms compare:\n",
    "  - Clean vs. noisy prices\n",
    "  - Distributions of training and test prices\n",
    "\n",
    "6. **Export to Disk**\n",
    "- Three CSV files are written:\n",
    "  - `full_10000_MCA.csv`: full training set\n",
    "  - `test_10000_MCA.csv`: test set without target prices\n",
    "  - `trgt_10000_MCA.csv`: true prices for test set\n",
    "\n",
    "These files serve as the **input for the deep learning model** trained in the next phase of the workflow."
   ]
  },
  {
   "cell_type": "markdown",
   "id": "4a5ca699",
   "metadata": {
    "id": "4a5ca699"
   },
   "source": [
    "## Generating Dataset"
   ]
  },
  {
   "cell_type": "markdown",
   "id": "e848cb46",
   "metadata": {
    "id": "e848cb46"
   },
   "source": [
    "### Python support functions"
   ]
  },
  {
   "cell_type": "markdown",
   "id": "544d5723",
   "metadata": {
    "id": "544d5723"
   },
   "source": [
    "#### Plotting Functions"
   ]
  },
  {
   "cell_type": "code",
   "execution_count": 9,
   "id": "991e2247",
   "metadata": {
    "executionInfo": {
     "elapsed": 415,
     "status": "ok",
     "timestamp": 1651849372338,
     "user": {
      "displayName": "Giovanni Della Lunga",
      "userId": "13927304036683734865"
     },
     "user_tz": -120
    },
    "id": "991e2247"
   },
   "outputs": [],
   "source": [
    "def histo_dict(df, TAG = '0000'):\n",
    "    keys = list(df.keys())\n",
    "    LEN = len(keys)\n",
    "    fig, ax = plt.subplots(1,LEN, figsize=(12,6))\n",
    "    for n in range(LEN):\n",
    "        k     = keys[n]\n",
    "        x     = df[k]\n",
    "        lo   = np.min(x)\n",
    "        hi   = np.max(x)\n",
    "        bins = np.arange(lo, hi, (hi-lo)/100.)\n",
    "        ax[n].hist(x, density=True, facecolor='g', bins=bins)\n",
    "        ax[n].set_title(\"%s (len=%d)\" %(k,len(x)))\n",
    "        n += 1\n",
    "    \n",
    "    #plt.savefig(\"pdf_%s.png\" %TAG, format=\"png\")\n",
    "    plt.savefig(\"param_pdf.png\", format=\"png\")\n",
    "    plt.show()\n"
   ]
  },
  {
   "cell_type": "code",
   "execution_count": 10,
   "id": "56679c34",
   "metadata": {
    "executionInfo": {
     "elapsed": 3,
     "status": "ok",
     "timestamp": 1651849373799,
     "user": {
      "displayName": "Giovanni Della Lunga",
      "userId": "13927304036683734865"
     },
     "user_tz": -120
    },
    "id": "56679c34"
   },
   "outputs": [],
   "source": [
    "def histo_params( x, title = \"None\"):\n",
    "    keys = list(x)\n",
    "    LEN  = len(keys)\n",
    "    fig, ax = plt.subplots(1,LEN, figsize=(12,4))\n",
    "    if not title == None: fig.suptitle(title)\n",
    "    for n in range(LEN):\n",
    "        tag  = keys[n]\n",
    "        lo   = np.min(x[tag])\n",
    "        hi   = np.max(x[tag])\n",
    "        bins = np.arange(lo, hi, (hi-lo)/100.)\n",
    "        ax[n].hist(x[tag], density=True, facecolor='g', bins=bins)\n",
    "        ax[n].set_title(tag)\n",
    "        n += 1\n",
    "    plt.subplots_adjust(left=.05, right=.95, bottom=.10, top=.80, wspace=.50)\n",
    "    plt.show()\n"
   ]
  },
  {
   "cell_type": "markdown",
   "id": "a253a346",
   "metadata": {
    "id": "a253a346"
   },
   "source": [
    "#### Pricing Functions"
   ]
  },
  {
   "cell_type": "markdown",
   "id": "8b6964cb",
   "metadata": {
    "id": "8b6964cb"
   },
   "source": [
    "This is the pricing function for the Heston Model we use in this example. The `Heston` class and the `ft_opt` function are defined in the `Lib` module. For a complete description of the Heston model refer to the Computational Finance Lecture Notes of Pietro Rossi."
   ]
  },
  {
   "cell_type": "code",
   "execution_count": 11,
   "id": "0670a7ef",
   "metadata": {
    "executionInfo": {
     "elapsed": 326,
     "status": "ok",
     "timestamp": 1651849382069,
     "user": {
      "displayName": "Giovanni Della Lunga",
      "userId": "13927304036683734865"
     },
     "user_tz": -120
    },
    "id": "0670a7ef"
   },
   "outputs": [],
   "source": [
    "import math\n",
    "import cmath\n",
    "from math import *\n",
    "import numpy as np\n",
    "\n",
    "#      1 + g\n",
    "#  ---------------------\n",
    "#    1 + g exp( - gamma * T )\n",
    "#\n",
    "def arg_log( c_gmma, c_g, T):\n",
    "    return (1.0 + c_g)/(1.0 + c_g*cmath.exp(-c_gmma*T))\n",
    "\n",
    "#\n",
    "#  C = 2 * log( (1 - g) / ( 1 - g e^{-gamma T } ) )/sigma^2\n",
    "#  arg_log := (1 - g) / ( 1 - g e^{-gamma T } )\n",
    "#\n",
    "def C( c_gmma, c_g, sigma, T):\n",
    "    c_psi = arg_log(c_gmma, c_g, T)\n",
    "    return 2*cmath.log(c_psi)/pow(sigma,2)\n",
    "\n",
    "#\n",
    "# .5 ( v - v^2 )\n",
    "#\n",
    "def Lambda( c_v): \n",
    "    return .5*c_v - .5*c_v*c_v\n",
    "\n",
    "#\n",
    "# Gamma =  SQRT( kappa^2 + 2 L sigma^2 )\n",
    "#\n",
    "def Gamma( c_L, c_kappa, sigma):\n",
    "    return cmath.sqrt(c_kappa*c_kappa + 2.*c_L*pow(sigma,2))\n",
    "#\n",
    "# g = ( gamma - kappa )/( gamma + kappa );\n",
    "#\n",
    "def G( c_kappa, c_gmma):\n",
    "    return (c_gmma - c_kappa)/(c_gmma + c_kappa)\n",
    "\n",
    "#\n",
    "# Z_p = ( gamma - kappa )/sigma^2\n",
    "#\n",
    "def Z_p( c_gmma, c_kappa, sigma):\n",
    "    return (c_gmma - c_kappa)/pow(sigma,2);\n",
    "#\n",
    "#\n",
    "# A = -kappa * theta * ( zp * T - C)\n",
    "#\n",
    "def A_tT( c_gmma, c_g, c_zp, c_kappa, c_theta, sigma, T):\n",
    "    c_c  = C( c_gmma, c_g, sigma, T)\n",
    "    c_kt = c_kappa * c_theta\n",
    "    return c_kt*(c_c - c_zp*T)\n",
    "#\n",
    "#\n",
    "# B = zp * ( 1 - e^{-gamma T } )/( 1 + g e^{-gamma T} )\n",
    "#\n",
    "def B_tT( c_gmma, c_g, c_zp, T):\n",
    "    c_exp_gt = cmath.exp(-c_gmma*T)\n",
    "    return c_zp*(1. - c_exp_gt)/( 1. + c_g*c_exp_gt )"
   ]
  },
  {
   "cell_type": "code",
   "execution_count": 12,
   "id": "b86002e1",
   "metadata": {},
   "outputs": [],
   "source": [
    "class Heston:\n",
    "    \"\"\"\n",
    "    Represents the Heston stochastic volatility model.\n",
    "    \n",
    "    This class encapsulates the model parameters and provides methods to compute\n",
    "    the characteristic function (CF) and its logarithm for use in option pricing\n",
    "    via Fourier inversion techniques.\n",
    "    \"\"\"\n",
    "\n",
    "    def __init__(self, **kwargs):\n",
    "        \"\"\"\n",
    "        Initializes the Heston model with the given parameters.\n",
    "        \n",
    "        Parameters (passed as keyword arguments):\n",
    "        ------------------------------------------\n",
    "        lmbda : float\n",
    "            Mean reversion speed of variance (kappa).\n",
    "        eta   : float\n",
    "            Volatility of volatility (sigma).\n",
    "        nubar : float\n",
    "            Long-run mean of the variance process (theta).\n",
    "        nu_o  : float\n",
    "            Initial variance at time t=0 (v0).\n",
    "        rho   : float\n",
    "            Correlation between the asset and variance Brownian motions.\n",
    "        \"\"\"\n",
    "        self._lambda = kwargs[\"lmbda\"]  # Mean reversion speed\n",
    "        self._eta    = kwargs[\"eta\"]    # Volatility of volatility\n",
    "        self._nubar  = kwargs[\"nubar\"]  # Long-term variance level\n",
    "        self._nu_o   = kwargs[\"nu_o\"]   # Initial variance\n",
    "        self._rho    = kwargs[\"rho\"]    # Correlation between asset and variance\n",
    "\n",
    "    # ----------------------------------------\n",
    "    # Property accessors for model parameters\n",
    "    @property\n",
    "    def lmbda(self): return self._lambda\n",
    "\n",
    "    @property\n",
    "    def eta(self): return self._eta\n",
    "\n",
    "    @property\n",
    "    def nubar(self): return self._nubar\n",
    "\n",
    "    @property\n",
    "    def nu_o(self): return self._nu_o\n",
    "\n",
    "    @property\n",
    "    def rho(self): return self._rho\n",
    "\n",
    "    # ----------------------------------------\n",
    "\n",
    "    def log_cf(self, c_k, t):\n",
    "        \"\"\"\n",
    "        Computes the logarithm of the characteristic function at Fourier variable c_k and time t.\n",
    "        \n",
    "        Parameters:\n",
    "        -----------\n",
    "        c_k : complex\n",
    "            Fourier variable (can be a complex number).\n",
    "        t   : float\n",
    "            Time to maturity.\n",
    "\n",
    "        Returns:\n",
    "        --------\n",
    "        complex\n",
    "            The value of the logarithm of the characteristic function at c_k and time t.\n",
    "        \"\"\"\n",
    "\n",
    "        # Special case: when c_k has no real part, CF is trivially 1 (log(1) = 0).\n",
    "        if c_k.real == 0.0:\n",
    "            return 0.0 + 0.0j\n",
    "\n",
    "        # Step 1: Pre-compute basic quantities\n",
    "        c_v     = c_k * 1j            # Fourier variable multiplied by imaginary unit\n",
    "        c_L     = Lambda(c_v)         # Lambda term (quadratic in c_v)\n",
    "        c_kappa = self.lmbda - self.rho * self.eta * c_v  # Modified mean reversion under Fourier space\n",
    "        c_gmma  = Gamma(c_L, c_kappa, self.eta)           # Gamma function\n",
    "        c_g     = G(c_kappa, c_gmma)                      # g parameter (controls damping)\n",
    "        c_zp    = Z_p(c_gmma, c_kappa, self.eta)          # z+ helper quantity\n",
    "\n",
    "        # Step 2: Compute A and B components of the CF exponent\n",
    "        if self.lmbda == 0.0:\n",
    "            c_A = 0.0 + 0.0j\n",
    "        else:\n",
    "            c_theta = (self.lmbda * self.nubar) / c_kappa  # Instantaneous mean reversion level\n",
    "            c_A = A_tT(c_gmma, c_g, c_zp, c_kappa, c_theta, self.eta, t)  # A(t,T) term\n",
    "\n",
    "        c_B = B_tT(c_gmma, c_g, c_zp, t)  # B(t,T) term\n",
    "\n",
    "        # Step 3: Return the log characteristic function\n",
    "        return c_A - self.nu_o * c_B\n",
    "\n",
    "    # ----------------------------------------\n",
    "\n",
    "    def cf(self, c_k, t):\n",
    "        \"\"\"\n",
    "        Computes the characteristic function at Fourier variable c_k and time t.\n",
    "\n",
    "        Parameters:\n",
    "        -----------\n",
    "        c_k : complex\n",
    "            Fourier variable (can be a complex number).\n",
    "        t   : float\n",
    "            Time to maturity.\n",
    "\n",
    "        Returns:\n",
    "        --------\n",
    "        complex\n",
    "            The value of the characteristic function at c_k and time t.\n",
    "        \"\"\"\n",
    "\n",
    "        # First, compute the logarithm of the characteristic function\n",
    "        c_x = self.log_cf(c_k, t)\n",
    "\n",
    "        # Then exponentiate to get the characteristic function itself\n",
    "        return cmath.exp(c_x)"
   ]
  },
  {
   "cell_type": "code",
   "execution_count": 13,
   "id": "76dcc8bf",
   "metadata": {
    "executionInfo": {
     "elapsed": 316,
     "status": "ok",
     "timestamp": 1651849385132,
     "user": {
      "displayName": "Giovanni Della Lunga",
      "userId": "13927304036683734865"
     },
     "user_tz": -120
    },
    "id": "76dcc8bf"
   },
   "outputs": [],
   "source": [
    "def pr_x_lt_w(self, Xc, w, off, t):\n",
    "    \"\"\"\n",
    "    Computes the cumulative probability P(X_T < w) under the Heston model,\n",
    "    using a Fourier series expansion (cosine/sine series).\n",
    "\n",
    "    Parameters:\n",
    "    -----------\n",
    "    self : Heston\n",
    "        An instance of the Heston model (providing the characteristic function).\n",
    "    Xc : float\n",
    "        Cut-off value (integration domain is [0, Xc]).\n",
    "    w : float\n",
    "        Log-strike: log(Strike / S0), the critical barrier in log-space.\n",
    "    off : complex\n",
    "        A phase offset for the Fourier variable (used to shift the integration contour).\n",
    "    t : float\n",
    "        Time to maturity.\n",
    "\n",
    "    Returns:\n",
    "    --------\n",
    "    float\n",
    "        The cumulative probability P(X_T < w).\n",
    "    \"\"\"\n",
    "    m = 1            # Start from the first nonzero Fourier mode (only odd terms are considered)\n",
    "    tot = 0.0        # Total accumulated sum of the Fourier series\n",
    "    while True:\n",
    "        # Compute Fourier frequency (with offset)\n",
    "        c_k = 2 * math.pi * (m / (2 * Xc) + off)\n",
    "        # Evaluate the characteristic function at this Fourier point\n",
    "        c_phi = self.cf(c_k, t)\n",
    "        # Compute the angle theta = π m w / Xc\n",
    "        th = math.pi * m * w / Xc\n",
    "        # Compute the contribution of this Fourier mode to the series\n",
    "        delta = (cos(th) * c_phi.imag - sin(th) * c_phi.real) / m\n",
    "        # Accumulate contribution\n",
    "        tot += delta\n",
    "        # Stopping condition: if the incremental contribution is tiny relative to total sum\n",
    "        if fabs(delta / tot) < 1.e-10:\n",
    "            break\n",
    "        # Move to next odd integer (only odd harmonics matter)\n",
    "        m += 2\n",
    "    # Final cumulative probability result\n",
    "    return 0.5 - 2.0 * tot / math.pi"
   ]
  },
  {
   "cell_type": "code",
   "execution_count": 14,
   "id": "c70cdff4",
   "metadata": {},
   "outputs": [],
   "source": [
    "def ft_opt(self, Strike, T, Xc):\n",
    "    \"\"\"\n",
    "    Computes European call and put option prices under the Heston model\n",
    "    using Fourier inversion techniques.\n",
    "\n",
    "    Parameters:\n",
    "    -----------\n",
    "    self : Heston\n",
    "        An instance of the Heston model (providing the characteristic function).\n",
    "    Strike : float\n",
    "        Strike price of the option (normalized by initial stock price if needed).\n",
    "    T : float\n",
    "        Time to maturity (in years).\n",
    "    Xc : float\n",
    "        Truncation limit for the Fourier integral (upper bound of integration).\n",
    "\n",
    "    Returns:\n",
    "    --------\n",
    "    dict\n",
    "        A dictionary containing:\n",
    "            \"put\"  : price of the put option,\n",
    "            \"call\" : price of the call option,\n",
    "            \"pCn\"  : probability-like term from integration for put,\n",
    "            \"pAn\"  : auxiliary integration term used internally.\n",
    "    \"\"\"\n",
    "    # Convert the Strike into log-strike (log-moneyness)\n",
    "    w = log(Strike)\n",
    "    # -----------------------------------\n",
    "    # First integration (no contour shift)\n",
    "    off = complex(0.0, 0.0)     # No offset\n",
    "    cn = pr_x_lt_w(self, Xc, w, off, T)  # Probability integral without shift\n",
    "    # -----------------------------------\n",
    "    # Second integration (shifted contour)\n",
    "    off = complex(0.0, -1 / (2 * math.pi))  # Shift downward by imaginary 1/(2π)\n",
    "    an = pr_x_lt_w(self, Xc, w, off, T)     # Auxiliary integral with contour shift\n",
    "    # -----------------------------------\n",
    "    # Recover put and call prices\n",
    "    # Put price = K * cn - an\n",
    "    put = Strike * cn - an\n",
    "    # Store cn and an as well\n",
    "    pcn = cn\n",
    "    pan = an\n",
    "    # Use put-call parity to recover call price\n",
    "    # Call = Put + (S0 - K), assuming normalized S0 = 1\n",
    "    call = put + (1.0 - Strike)\n",
    "    # Return a full dictionary with detailed results\n",
    "    return {\n",
    "        \"put\": put,\n",
    "        \"call\": call,\n",
    "        \"pCn\": pcn,\n",
    "        \"pAn\": pan\n",
    "    }"
   ]
  },
  {
   "cell_type": "code",
   "execution_count": 15,
   "id": "d01230d5",
   "metadata": {
    "executionInfo": {
     "elapsed": 321,
     "status": "ok",
     "timestamp": 1651849684659,
     "user": {
      "displayName": "Giovanni Della Lunga",
      "userId": "13927304036683734865"
     },
     "user_tz": -120
    },
    "id": "d01230d5"
   },
   "outputs": [],
   "source": [
    "def HestonPut(St, Strike, T, kappa, theta, sigma, v0, rho, r, Xc=30):\n",
    "    \"\"\"\n",
    "    Prices a European put option under the Heston stochastic volatility model.\n",
    "\n",
    "    Parameters:\n",
    "    -----------\n",
    "    St     : float\n",
    "        Current spot price of the underlying asset (S_0).\n",
    "    Strike : float\n",
    "        Strike price of the option (K).\n",
    "    T      : float\n",
    "        Time to maturity (in years).\n",
    "    kappa  : float\n",
    "        Speed of mean reversion of variance (lambda in Heston model).\n",
    "    theta  : float\n",
    "        Long-run variance (nubar in Heston model).\n",
    "    sigma  : float\n",
    "        Volatility of volatility (eta in Heston model).\n",
    "    v0     : float\n",
    "        Initial variance (nu_0).\n",
    "    rho    : float\n",
    "        Correlation between asset and volatility Brownian motions.\n",
    "    r      : float\n",
    "        Risk-free interest rate.\n",
    "    Xc     : float, optional (default=30)\n",
    "        Truncation limit for the Fourier integral (integration range 0 to Xc).\n",
    "\n",
    "    Returns:\n",
    "    --------\n",
    "    float\n",
    "        Price of the European put option.\n",
    "    \"\"\"\n",
    "    # Adjust the strike for discounting under risk-neutral measure:\n",
    "    # kT is the \"discounted moneyness\": (K / S_0) * exp(-rT)\n",
    "    kT = (Strike / St) * math.exp(-r * T)\n",
    "    # Create a Heston model object using the input parameters.\n",
    "    hestn = Heston(\n",
    "        lmbda=kappa,  # mean reversion speed\n",
    "        eta=sigma,    # volatility of volatility\n",
    "        nubar=theta,  # long-term variance\n",
    "        nu_o=v0,      # initial variance\n",
    "        rho=rho       # correlation\n",
    "    )\n",
    "    # Compute option prices (both call and put) via Fourier inversion.\n",
    "    # The 'ft_opt' function internally use the characteristic function \n",
    "    # and numerical integration to retrieve option prices.\n",
    "    res = ft_opt(hestn, kT, T, Xc)\n",
    "    # Return the price of the put option from the results.\n",
    "    return res['put']\n"
   ]
  },
  {
   "cell_type": "markdown",
   "id": "72f9e87d",
   "metadata": {
    "id": "72f9e87d"
   },
   "source": [
    "Make same simple pricing example..."
   ]
  },
  {
   "cell_type": "code",
   "execution_count": 16,
   "id": "067a13f6",
   "metadata": {
    "executionInfo": {
     "elapsed": 3,
     "status": "ok",
     "timestamp": 1651849685926,
     "user": {
      "displayName": "Giovanni Della Lunga",
      "userId": "13927304036683734865"
     },
     "user_tz": -120
    },
    "id": "067a13f6"
   },
   "outputs": [],
   "source": [
    "'''\n",
    "Model Parameters\n",
    "\n",
    "Heston parameters:\n",
    "    kappa  = volatility mean reversion speed parameter\n",
    "    theta  = volatility mean reversion level parameter\n",
    "    rho    = correlation between two Brownian motions\n",
    "    sigma  = volatility of variance\n",
    "    v0     = initial variance\n",
    "'''\n",
    "kappa  = 1.325  \n",
    "theta  = 0.089 \n",
    "sigma  = 0.231 \n",
    "rho    = -0.9 \n",
    "v0     = 0.153 \n",
    "\n",
    "r      = 0.00\n",
    "q      = 0.00\n",
    "St     = 1.0\n",
    "K      = 1.10\n",
    "T      = 0.25\n",
    "\n",
    "# the put price\n",
    "HestonP = St * HestonPut(St, K, T, kappa, theta, sigma, v0, rho, r, 30)\n",
    "\n",
    "# The call price by put-call parity\n",
    "HestonC  = HestonP + St * math.exp(-q * T) - K * math.exp(-r * T)"
   ]
  },
  {
   "cell_type": "code",
   "execution_count": 17,
   "id": "962ec84f",
   "metadata": {
    "colab": {
     "base_uri": "https://localhost:8080/"
    },
    "executionInfo": {
     "elapsed": 3,
     "status": "ok",
     "timestamp": 1651849687133,
     "user": {
      "displayName": "Giovanni Della Lunga",
      "userId": "13927304036683734865"
     },
     "user_tz": -120
    },
    "id": "962ec84f",
    "outputId": "cbedcc2b-e714-44c2-83f8-0149a0b0ec76"
   },
   "outputs": [
    {
     "name": "stdout",
     "output_type": "stream",
     "text": [
      "Call price : 0.03614774056244219\n",
      "Put  price : 0.1361477405624424\n"
     ]
    }
   ],
   "source": [
    "print('Call price : ' + str(HestonC))\n",
    "print('Put  price : ' + str(HestonP))"
   ]
  },
  {
   "cell_type": "code",
   "execution_count": 22,
   "id": "1786e6a7",
   "metadata": {
    "executionInfo": {
     "elapsed": 2,
     "status": "ok",
     "timestamp": 1651849687846,
     "user": {
      "displayName": "Giovanni Della Lunga",
      "userId": "13927304036683734865"
     },
     "user_tz": -120
    },
    "id": "1786e6a7"
   },
   "outputs": [],
   "source": [
    "def lhs_sampling(rand, NUM, bounds=None):\n",
    "\n",
    "    kw = list(bounds)\n",
    "\n",
    "    # builds the array of bounds\n",
    "    limits = np.empty( shape=(0,2) )\n",
    "    for k in kw: limits = np.concatenate((limits, [bounds[k]]), axis=0)\n",
    "\n",
    "    sampling = LHS(xlimits=limits)\n",
    "    x   = sampling(NUM)\n",
    "\n",
    "    X = pd.DataFrame()\n",
    "    for n in range(len(kw)):\n",
    "        tag = kw[n]\n",
    "        X[tag] = x[:,n]\n",
    "\n",
    "\n",
    "    y = np.where( 2*X[\"k\"]*X[\"theta\"] < np.power( X[\"sigma\"], 2), 1, 0)\n",
    "    p = (100.*np.sum(y))/NUM\n",
    "    print(\"@ %-34s: %s = %6d out of %6d ( %.7f %s)\" %(\"Info\", \"Feller violations\", np.sum(y), NUM, p, \"%\"))\n",
    "\n",
    "    return X\n"
   ]
  },
  {
   "cell_type": "markdown",
   "id": "bdc458a7",
   "metadata": {
    "id": "bdc458a7"
   },
   "source": [
    "#### Function for parameters generation"
   ]
  },
  {
   "cell_type": "code",
   "execution_count": 23,
   "id": "eeb91052",
   "metadata": {
    "executionInfo": {
     "elapsed": 314,
     "status": "ok",
     "timestamp": 1651849689847,
     "user": {
      "displayName": "Giovanni Della Lunga",
      "userId": "13927304036683734865"
     },
     "user_tz": -120
    },
    "id": "eeb91052"
   },
   "outputs": [],
   "source": [
    "from tqdm        import tqdm\n",
    "\n",
    "def parms_gen( lhs = None, Xc=10, strikes=None):\n",
    "\n",
    "    if lhs is None: raise Exception(\"No data to process\")\n",
    "    x = lhs\n",
    "\n",
    "    NUM = len(x[\"T\"])\n",
    "\n",
    "    X = pd.DataFrame()\n",
    "    for tag in list(x):\n",
    "        X[tag] = np.full(NUM,0.0, dtype = np.double)\n",
    "    X[\"Price\"] = np.full(NUM,0.0, dtype = np.double)\n",
    "    \n",
    "    __tStart = time.perf_counter()\n",
    "    pCount = 0\n",
    "    cCount = 0\n",
    "    n      = 0\n",
    "    \n",
    "    for m in tqdm(range(NUM)):\n",
    "        Fw    = 1.0\n",
    "        K     = x[\"Strike\"][m]\n",
    "\n",
    "        fwPut = HestonPut( St     = Fw\n",
    "                         , Strike = K\n",
    "                         , T      = x[\"T\"][m]\n",
    "                         , kappa  = x[\"k\"][m]\n",
    "                         , theta  = x[\"theta\"][m]\n",
    "                         , sigma  = x[\"sigma\"][m]\n",
    "                         , v0     = x[\"v0\"][m]\n",
    "                         , r      = 0 \n",
    "                         , rho    = x[\"rho\"][m]\n",
    "                         , Xc     = Xc)\n",
    "        \n",
    "        if fwPut < max(K-Fw,0.): \n",
    "            pCount += 1\n",
    "            continue\n",
    "\n",
    "        for tag in list(x):\n",
    "            #X[tag][n] = x[tag][m]\n",
    "            X.iloc[n, X.columns.get_loc(tag)] = x[tag][m]\n",
    "\n",
    "        #X[\"Price\"][n] = fwPut\n",
    "        X.iloc[n, X.columns.get_loc(\"Price\")] = fwPut\n",
    "        n += 1\n",
    "        # ---------------------------------------\n",
    "\n",
    "    __tEnd = time.perf_counter()\n",
    "    print(\"@ %-34s: elapsed %.4f sec\" %(\"Seq. pricing\", __tEnd - __tStart) )\n",
    "\n",
    "    # Trim the original vector ....\n",
    "    nSamples = n\n",
    "\n",
    "    df = pd.DataFrame()\n",
    "    for s in X.keys(): df[s] = np.copy(X[s][0:nSamples])\n",
    "    print(\"@ %-34s: Violations Put=%d, Call=%d DB=%d out of %d\" %(\"Info\", pCount, cCount, nSamples, NUM))\n",
    "    return df\n"
   ]
  },
  {
   "cell_type": "markdown",
   "id": "d69de355",
   "metadata": {
    "id": "d69de355"
   },
   "source": [
    "### Generates and displays random parameters"
   ]
  },
  {
   "cell_type": "markdown",
   "id": "962e4fba",
   "metadata": {
    "id": "962e4fba"
   },
   "source": [
    "**Constant Definition**"
   ]
  },
  {
   "cell_type": "code",
   "execution_count": 24,
   "id": "98530114",
   "metadata": {
    "executionInfo": {
     "elapsed": 354,
     "status": "ok",
     "timestamp": 1651849692453,
     "user": {
      "displayName": "Giovanni Della Lunga",
      "userId": "13927304036683734865"
     },
     "user_tz": -120
    },
    "id": "98530114"
   },
   "outputs": [],
   "source": [
    "verbose = False\n",
    "    \n",
    "outputPrfx    = \"full\"\n",
    "testPrfx      = \"test\"\n",
    "targetPrfx    = \"trgt\"\n",
    "    \n",
    "EPS           = 0.00\n",
    "XC            = 10.0 \n",
    "    \n",
    "# bounds for the random generation of model parameters\n",
    "# and contract parameters\n",
    "bounds = { \"k\":       [ .01   , 1.00]\n",
    "         , \"theta\":   [ .01   ,  .80]\n",
    "         , \"sigma\":   [ .01   , 1.00]\n",
    "         , \"v0\":      [ .01   ,  .80]\n",
    "         , \"rho\":     [-.99   , 0.00]\n",
    "         , \"T\":       [ 1./12., 2.00]\n",
    "         , \"Strike\":  [ .6    , 1.40]\n",
    "         }\n",
    "\n",
    "NUM     = 10000\n",
    "TAG     = str(NUM) + '_MCA'\n",
    "rand    = np.random.RandomState(42)\n",
    "\n",
    "# strikes used to build the smile used as a regressor\n",
    "strikes = np.arange(.8, 1.2, .025)"
   ]
  },
  {
   "cell_type": "code",
   "execution_count": 25,
   "id": "9180be4b",
   "metadata": {
    "colab": {
     "base_uri": "https://localhost:8080/",
     "height": 336
    },
    "executionInfo": {
     "elapsed": 2348,
     "status": "ok",
     "timestamp": 1651849696855,
     "user": {
      "displayName": "Giovanni Della Lunga",
      "userId": "13927304036683734865"
     },
     "user_tz": -120
    },
    "id": "9180be4b",
    "outputId": "e834aaa0-ecef-4688-f9f2-edd0e44124f6"
   },
   "outputs": [
    {
     "name": "stdout",
     "output_type": "stream",
     "text": [
      "@ Info                              : Feller violations =   4359 out of  10000 ( 43.5900000 %)\n",
      "@ LHS                               : elapsed 0.0184 sec\n"
     ]
    },
    {
     "data": {
      "image/png": "[encoded data removed]",
      "text/plain": [
       "<Figure size 1200x400 with 7 Axes>"
      ]
     },
     "metadata": {},
     "output_type": "display_data"
    }
   ],
   "source": [
    "__tStart = time.perf_counter()\n",
    "xDF = lhs_sampling(rand, NUM, bounds = bounds)\n",
    "__tEnd = time.perf_counter()\n",
    "print(\"@ %-34s: elapsed %.4f sec\" %(\"LHS\", __tEnd - __tStart) )\n",
    "\n",
    "# Let's check the distribution of the parameters we have generated\n",
    "histo_params( xDF, title = \"Random parameters density functions\")"
   ]
  },
  {
   "cell_type": "markdown",
   "id": "c3b08a56",
   "metadata": {
    "id": "c3b08a56"
   },
   "source": [
    "**Generate random DB**"
   ]
  },
  {
   "cell_type": "code",
   "execution_count": 26,
   "id": "7aa1f5c2",
   "metadata": {
    "colab": {
     "base_uri": "https://localhost:8080/"
    },
    "executionInfo": {
     "elapsed": 526672,
     "status": "ok",
     "timestamp": 1651850225628,
     "user": {
      "displayName": "Giovanni Della Lunga",
      "userId": "13927304036683734865"
     },
     "user_tz": -120
    },
    "id": "7aa1f5c2",
    "outputId": "d29b3509-f367-4bee-e9ae-e2e98bc565ab"
   },
   "outputs": [
    {
     "name": "stderr",
     "output_type": "stream",
     "text": [
      "100%|███████████████████████████████████████████████████████████████████████████| 10000/10000 [00:49<00:00, 201.84it/s]"
     ]
    },
    {
     "name": "stdout",
     "output_type": "stream",
     "text": [
      "@ Seq. pricing                      : elapsed 49.5561 sec\n",
      "@ Info                              : Violations Put=5, Call=0 DB=9995 out of 10000\n",
      "@ GEN                               : elapsed 49.5727 sec\n"
     ]
    },
    {
     "name": "stderr",
     "output_type": "stream",
     "text": [
      "\n"
     ]
    }
   ],
   "source": [
    "# Generate training/test set\n",
    "__tStart = time.perf_counter()\n",
    "df =  parms_gen( lhs = xDF, Xc=XC, strikes = strikes)\n",
    "__tEnd = time.perf_counter()\n",
    "print(\"@ %-34s: elapsed %.4f sec\" %(\"GEN\", __tEnd - __tStart) )"
   ]
  },
  {
   "cell_type": "code",
   "execution_count": 27,
   "id": "2699fb50",
   "metadata": {
    "colab": {
     "base_uri": "https://localhost:8080/",
     "height": 363
    },
    "executionInfo": {
     "elapsed": 5,
     "status": "ok",
     "timestamp": 1651850773300,
     "user": {
      "displayName": "Giovanni Della Lunga",
      "userId": "13927304036683734865"
     },
     "user_tz": -120
    },
    "id": "2699fb50",
    "outputId": "be5c1945-467b-45f1-aeff-6acbbefe6634"
   },
   "outputs": [
    {
     "data": {
      "text/html": [
       "<div>\n",
       "<style scoped>\n",
       "    .dataframe tbody tr th:only-of-type {\n",
       "        vertical-align: middle;\n",
       "    }\n",
       "\n",
       "    .dataframe tbody tr th {\n",
       "        vertical-align: top;\n",
       "    }\n",
       "\n",
       "    .dataframe thead th {\n",
       "        text-align: right;\n",
       "    }\n",
       "</style>\n",
       "<table border=\"1\" class=\"dataframe\">\n",
       "  <thead>\n",
       "    <tr style=\"text-align: right;\">\n",
       "      <th></th>\n",
       "      <th>k</th>\n",
       "      <th>theta</th>\n",
       "      <th>sigma</th>\n",
       "      <th>v0</th>\n",
       "      <th>rho</th>\n",
       "      <th>T</th>\n",
       "      <th>Strike</th>\n",
       "      <th>Price</th>\n",
       "    </tr>\n",
       "  </thead>\n",
       "  <tbody>\n",
       "    <tr>\n",
       "      <th>0</th>\n",
       "      <td>0.182508</td>\n",
       "      <td>0.621737</td>\n",
       "      <td>0.309327</td>\n",
       "      <td>0.012488</td>\n",
       "      <td>-0.105088</td>\n",
       "      <td>0.276821</td>\n",
       "      <td>1.06028</td>\n",
       "      <td>0.073012</td>\n",
       "    </tr>\n",
       "    <tr>\n",
       "      <th>1</th>\n",
       "      <td>0.077369</td>\n",
       "      <td>0.103576</td>\n",
       "      <td>0.119840</td>\n",
       "      <td>0.638327</td>\n",
       "      <td>-0.925798</td>\n",
       "      <td>0.281996</td>\n",
       "      <td>1.04852</td>\n",
       "      <td>0.195589</td>\n",
       "    </tr>\n",
       "    <tr>\n",
       "      <th>2</th>\n",
       "      <td>0.120335</td>\n",
       "      <td>0.151608</td>\n",
       "      <td>0.280815</td>\n",
       "      <td>0.201773</td>\n",
       "      <td>-0.874714</td>\n",
       "      <td>0.834571</td>\n",
       "      <td>1.26716</td>\n",
       "      <td>0.329462</td>\n",
       "    </tr>\n",
       "    <tr>\n",
       "      <th>3</th>\n",
       "      <td>0.584250</td>\n",
       "      <td>0.608228</td>\n",
       "      <td>0.136274</td>\n",
       "      <td>0.054438</td>\n",
       "      <td>-0.758290</td>\n",
       "      <td>1.217329</td>\n",
       "      <td>1.23796</td>\n",
       "      <td>0.356562</td>\n",
       "    </tr>\n",
       "    <tr>\n",
       "      <th>4</th>\n",
       "      <td>0.257748</td>\n",
       "      <td>0.090778</td>\n",
       "      <td>0.336948</td>\n",
       "      <td>0.112028</td>\n",
       "      <td>-0.220918</td>\n",
       "      <td>1.421838</td>\n",
       "      <td>1.28684</td>\n",
       "      <td>0.345745</td>\n",
       "    </tr>\n",
       "  </tbody>\n",
       "</table>\n",
       "</div>"
      ],
      "text/plain": [
       "          k     theta     sigma        v0       rho         T   Strike  \\\n",
       "0  0.182508  0.621737  0.309327  0.012488 -0.105088  0.276821  1.06028   \n",
       "1  0.077369  0.103576  0.119840  0.638327 -0.925798  0.281996  1.04852   \n",
       "2  0.120335  0.151608  0.280815  0.201773 -0.874714  0.834571  1.26716   \n",
       "3  0.584250  0.608228  0.136274  0.054438 -0.758290  1.217329  1.23796   \n",
       "4  0.257748  0.090778  0.336948  0.112028 -0.220918  1.421838  1.28684   \n",
       "\n",
       "      Price  \n",
       "0  0.073012  \n",
       "1  0.195589  \n",
       "2  0.329462  \n",
       "3  0.356562  \n",
       "4  0.345745  "
      ]
     },
     "execution_count": 27,
     "metadata": {},
     "output_type": "execute_result"
    }
   ],
   "source": [
    "df.head()"
   ]
  },
  {
   "cell_type": "markdown",
   "id": "c841592f",
   "metadata": {
    "id": "c841592f"
   },
   "source": [
    "Select a random subset as a challenge set"
   ]
  },
  {
   "cell_type": "code",
   "execution_count": 28,
   "id": "e4adcb4d",
   "metadata": {
    "executionInfo": {
     "elapsed": 307,
     "status": "ok",
     "timestamp": 1651850775420,
     "user": {
      "displayName": "Giovanni Della Lunga",
      "userId": "13927304036683734865"
     },
     "user_tz": -120
    },
    "id": "e4adcb4d"
   },
   "outputs": [],
   "source": [
    "X_train, X_test = train_test_split(df, test_size=0.33, random_state=42)"
   ]
  },
  {
   "cell_type": "markdown",
   "id": "93c9b0e6",
   "metadata": {
    "id": "93c9b0e6"
   },
   "source": [
    "Add some noise to the training set"
   ]
  },
  {
   "cell_type": "code",
   "execution_count": 29,
   "id": "608b812b",
   "metadata": {
    "executionInfo": {
     "elapsed": 401,
     "status": "ok",
     "timestamp": 1651850779279,
     "user": {
      "displayName": "Giovanni Della Lunga",
      "userId": "13927304036683734865"
     },
     "user_tz": -120
    },
    "id": "608b812b"
   },
   "outputs": [],
   "source": [
    "EPS = 0.0\n",
    "# Add some noise to the training set\n",
    "if EPS > 0.0:\n",
    "    xl = np.min(X_train[\"Price\"])\n",
    "    xh = np.max(X_train[\"Price\"])\n",
    "\n",
    "    xi = rand.normal( loc = 0.0, scale = EPS*(xh-xl), size=X_train.shape[0])\n",
    "    X_train[\"Price\"] += xi"
   ]
  },
  {
   "cell_type": "markdown",
   "id": "3eb08604",
   "metadata": {
    "id": "3eb08604"
   },
   "source": [
    "Display the amount of noise"
   ]
  },
  {
   "cell_type": "code",
   "execution_count": 30,
   "id": "23a530a3",
   "metadata": {
    "colab": {
     "base_uri": "https://localhost:8080/",
     "height": 390
    },
    "executionInfo": {
     "elapsed": 899,
     "status": "ok",
     "timestamp": 1651850782891,
     "user": {
      "displayName": "Giovanni Della Lunga",
      "userId": "13927304036683734865"
     },
     "user_tz": -120
    },
    "id": "23a530a3",
    "outputId": "af35d5ad-684d-45e2-80f2-6a3b3160500f"
   },
   "outputs": [
    {
     "data": {
      "image/png": "[encoded data removed]",
      "text/plain": [
       "<Figure size 1200x600 with 2 Axes>"
      ]
     },
     "metadata": {},
     "output_type": "display_data"
    }
   ],
   "source": [
    "import warnings\n",
    "warnings.simplefilter('ignore')\n",
    "# Check the dispersion\n",
    "if EPS > 0.0:\n",
    "    xMin = 0.0\n",
    "    xMax = max(X_train[\"Price\"])\n",
    "    v = np.arange(xMin, xMax, (xMax - xMin)/100.)\n",
    "\n",
    "    fig, ax = plt.subplots(1,1, figsize=(12,6))\n",
    "\n",
    "    ax.plot( X_train[\"Price\"], X_train_n[\"Price\"], \".\", markersize=1)\n",
    "    ax.plot( v, v, color=\"red\")\n",
    "    ax.set_title(\"Perturbed\")\n",
    "    ax.set_xlabel(\"X train\")\n",
    "    ax.set_ylabel(\"X train with noise\")\n",
    "\n",
    "    #figName = \"scatter_%s.png\" %(TAG)\n",
    "    figName = \"scatter_noise.png\" \n",
    "    plt.savefig(figName, format=\"png\")\n",
    "    plt.show()\n",
    "    histo_dict( {\"Train\"    : np.array(X_train[\"Price\"]), \n",
    "                 \"Test\"     : np.array(X_test[\"Price\"]), \n",
    "                 \"Perturbed\": np.array(X_train_n[\"Price\"]) }, TAG=TAG)\n",
    "else:\n",
    "    histo_dict( {\"Train\": np.array(X_train[\"Price\"]), \"Test\": np.array(X_test[\"Price\"]) }, TAG=TAG )"
   ]
  },
  {
   "cell_type": "markdown",
   "id": "12fc5ea1",
   "metadata": {
    "id": "12fc5ea1"
   },
   "source": [
    "remove the target from the test set"
   ]
  },
  {
   "cell_type": "code",
   "execution_count": 31,
   "id": "c9a73c88",
   "metadata": {
    "executionInfo": {
     "elapsed": 337,
     "status": "ok",
     "timestamp": 1651850787087,
     "user": {
      "displayName": "Giovanni Della Lunga",
      "userId": "13927304036683734865"
     },
     "user_tz": -120
    },
    "id": "c9a73c88"
   },
   "outputs": [],
   "source": [
    "Y_test = pd.DataFrame({\"Price\": X_test[\"Price\"]})\n",
    "X_test = X_test.drop(columns=\"Price\")"
   ]
  },
  {
   "cell_type": "markdown",
   "id": "05d5d9a4",
   "metadata": {
    "id": "05d5d9a4"
   },
   "source": [
    "### Saving dataset to disk"
   ]
  },
  {
   "cell_type": "markdown",
   "id": "4175a624",
   "metadata": {
    "id": "4175a624"
   },
   "source": [
    "write training set to disk"
   ]
  },
  {
   "cell_type": "code",
   "execution_count": 32,
   "id": "829314c8",
   "metadata": {
    "colab": {
     "base_uri": "https://localhost:8080/"
    },
    "executionInfo": {
     "elapsed": 2098,
     "status": "ok",
     "timestamp": 1651850973596,
     "user": {
      "displayName": "Giovanni Della Lunga",
      "userId": "13927304036683734865"
     },
     "user_tz": -120
    },
    "id": "829314c8",
    "outputId": "0572081f-ca31-46a6-af9a-c6a94446649a"
   },
   "outputs": [
    {
     "name": "stdout",
     "output_type": "stream",
     "text": [
      "@ Info                              : training data frame written to 'C:/data/full_10000_MCA.csv'\n"
     ]
    }
   ],
   "source": [
    "outputFile = \"%s_%s.csv\" %(outputPrfx, TAG)\n",
    "outputFile = 'C:/data/' + outputFile\n",
    "X_train.to_csv(outputFile, sep=',', float_format=\"%.6f\", index=False)\n",
    "print(\"@ %-34s: training data frame written to '%s'\" %(\"Info\", outputFile))\n",
    "if verbose: print(outputFile); print(X_train)"
   ]
  },
  {
   "cell_type": "code",
   "execution_count": 33,
   "id": "4f9905c1",
   "metadata": {
    "colab": {
     "base_uri": "https://localhost:8080/",
     "height": 17
    },
    "executionInfo": {
     "elapsed": 8,
     "status": "ok",
     "timestamp": 1651850973598,
     "user": {
      "displayName": "Giovanni Della Lunga",
      "userId": "13927304036683734865"
     },
     "user_tz": -120
    },
    "id": "4f9905c1",
    "outputId": "0dbc53df-ecca-449b-f2b2-5a5425a55e7c"
   },
   "outputs": [],
   "source": [
    "if 'google.colab' in str(get_ipython()):\n",
    "    from google.colab import files\n",
    "    files.download(outputFile)    "
   ]
  },
  {
   "cell_type": "markdown",
   "id": "21242f18",
   "metadata": {
    "id": "21242f18"
   },
   "source": [
    "write challenge set to disk"
   ]
  },
  {
   "cell_type": "code",
   "execution_count": 34,
   "id": "fcf40dd1",
   "metadata": {
    "colab": {
     "base_uri": "https://localhost:8080/"
    },
    "executionInfo": {
     "elapsed": 730,
     "status": "ok",
     "timestamp": 1651850988791,
     "user": {
      "displayName": "Giovanni Della Lunga",
      "userId": "13927304036683734865"
     },
     "user_tz": -120
    },
    "id": "fcf40dd1",
    "outputId": "f3e415a9-e6c0-486b-fddc-eeeee96fdfa4"
   },
   "outputs": [
    {
     "name": "stdout",
     "output_type": "stream",
     "text": [
      "@ Info                              : challenge data frame written to 'C:/data/test_10000_MCA.csv'\n"
     ]
    }
   ],
   "source": [
    "challengeFile = \"%s_%s.csv\" %(testPrfx, TAG)\n",
    "challengeFile = 'C:/data/' + challengeFile\n",
    "X_test.to_csv(challengeFile, sep=',', float_format=\"%.6f\", index=False)\n",
    "print(\"@ %-34s: challenge data frame written to '%s'\" %(\"Info\", challengeFile))\n",
    "if verbose: print(challengeFile); print(X_test)"
   ]
  },
  {
   "cell_type": "code",
   "execution_count": 35,
   "id": "6510dd5d",
   "metadata": {
    "colab": {
     "base_uri": "https://localhost:8080/",
     "height": 17
    },
    "executionInfo": {
     "elapsed": 6,
     "status": "ok",
     "timestamp": 1651850989134,
     "user": {
      "displayName": "Giovanni Della Lunga",
      "userId": "13927304036683734865"
     },
     "user_tz": -120
    },
    "id": "6510dd5d",
    "outputId": "eaa29981-a561-40b1-f525-51759de7f6ab"
   },
   "outputs": [],
   "source": [
    "if 'google.colab' in str(get_ipython()):\n",
    "    from google.colab import files\n",
    "    files.download(challengeFile)    "
   ]
  },
  {
   "cell_type": "markdown",
   "id": "a12647e8",
   "metadata": {
    "id": "a12647e8"
   },
   "source": [
    "write target to disk"
   ]
  },
  {
   "cell_type": "code",
   "execution_count": 36,
   "id": "3e6df9c3",
   "metadata": {
    "colab": {
     "base_uri": "https://localhost:8080/"
    },
    "executionInfo": {
     "elapsed": 4,
     "status": "ok",
     "timestamp": 1651850992716,
     "user": {
      "displayName": "Giovanni Della Lunga",
      "userId": "13927304036683734865"
     },
     "user_tz": -120
    },
    "id": "3e6df9c3",
    "outputId": "5a6eaa07-9caf-4e3d-882f-0a3f46bb84e8"
   },
   "outputs": [
    {
     "name": "stdout",
     "output_type": "stream",
     "text": [
      "@ Info                              : target data frame written to 'C:/data/trgt_10000_MCA.csv'\n"
     ]
    }
   ],
   "source": [
    "targetFile = \"%s_%s.csv\" %(targetPrfx, TAG)\n",
    "targetFile = 'C:/data/' + targetFile\n",
    "Y_test.to_csv(targetFile, sep=',', float_format=\"%.6f\", index=False)\n",
    "print(\"@ %-34s: target data frame written to '%s'\" %(\"Info\", targetFile))\n",
    "if verbose: print(targetFile); print(Y_test)"
   ]
  },
  {
   "cell_type": "code",
   "execution_count": 37,
   "id": "155ba7b4",
   "metadata": {
    "colab": {
     "base_uri": "https://localhost:8080/",
     "height": 17
    },
    "executionInfo": {
     "elapsed": 6,
     "status": "ok",
     "timestamp": 1651850994802,
     "user": {
      "displayName": "Giovanni Della Lunga",
      "userId": "13927304036683734865"
     },
     "user_tz": -120
    },
    "id": "155ba7b4",
    "outputId": "39170d9b-f476-40a3-b308-4aaf993e63ea"
   },
   "outputs": [],
   "source": [
    "if 'google.colab' in str(get_ipython()):\n",
    "    from google.colab import files\n",
    "    files.download(targetFile)    "
   ]
  }
 ],
 "metadata": {
  "colab": {
   "name": "chapter-3-1.ipynb",
   "provenance": [
    {
     "file_id": "https://github.com/polyhedron-gdl/advanced-machine-learning-for-finance/blob/main/2022/1-notebooks/chapter-3-1.ipynb",
     "timestamp": 1651651421265
    }
   ]
  },
  "kernelspec": {
   "display_name": "Python 3 (ipykernel)",
   "language": "python",
   "name": "python3"
  },
  "language_info": {
   "codemirror_mode": {
    "name": "ipython",
    "version": 3
   },
   "file_extension": ".py",
   "mimetype": "text/x-python",
   "name": "python",
   "nbconvert_exporter": "python",
   "pygments_lexer": "ipython3",
   "version": "3.10.9"
  },
  "toc": {
   "base_numbering": 1,
   "nav_menu": {},
   "number_sections": true,
   "sideBar": true,
   "skip_h1_title": false,
   "title_cell": "Table of Contents",
   "title_sidebar": "Contents",
   "toc_cell": false,
   "toc_position": {},
   "toc_section_display": true,
   "toc_window_display": false
  }
 },
 "nbformat": 4,
 "nbformat_minor": 5
}
