{
 "cells": [
  {
   "cell_type": "markdown",
   "id": "6e0b4b6b",
   "metadata": {},
   "source": [
    "<table align=\"left\">\n",
    "  <td>\n",
    "    <a target=\"_blank\" href=\"https://colab.research.google.com/github/polyhedron-gdl/advanced-machine-learning-for-finance/blob/main/2022/1-notebooks/chapter-3-4.ipynb\">\n",
    "        <img src=\"https://www.tensorflow.org/images/colab_logo_32px.png\" />Run in Google Colab</a>\n",
    "  </td>\n",
    "</table>"
   ]
  },
  {
   "cell_type": "code",
   "execution_count": 26,
   "id": "c2a300d7",
   "metadata": {},
   "outputs": [],
   "source": [
    "import os\n",
    "import sys\n",
    "import math\n",
    "import pandas as pd\n",
    "import numpy as np\n",
    "\n",
    "from pickle import load\n",
    "from tensorflow import keras"
   ]
  },
  {
   "cell_type": "markdown",
   "id": "b745e8a9",
   "metadata": {},
   "source": [
    "# NN Heston Model - How to use a Trained Model"
   ]
  },
  {
   "cell_type": "markdown",
   "id": "ba0ada5e",
   "metadata": {},
   "source": [
    "## Auxiliary Functions"
   ]
  },
  {
   "cell_type": "code",
   "execution_count": 27,
   "id": "5f3f563c",
   "metadata": {},
   "outputs": [],
   "source": [
    "def show_scattered( y, t, tag, ax = None):\n",
    "\n",
    "    xMin = min(t)\n",
    "    xMax = max(t)\n",
    "    v    = np.arange(xMin, xMax, (xMax-xMin)/100.)\n",
    "\n",
    "    diff   = np.fabs(y - t)\n",
    "    print(\"@ %-24s: E[y-t]: %.6f Std(y-t): %.6f\" %( tag, np.mean(diff), np.std(diff)))\n",
    "    if ax == None: return\n",
    "\n",
    "    ax.plot( y, t, \".\")\n",
    "    ax.plot( v, v, color=\"red\")\n",
    "    ax.set_title(\"%s mae=%8.4f, std=%8.4f\" %(tag, np.mean(diff), np.std(diff)))\n",
    "    ax.set_xlabel(\"predicted\")\n",
    "    ax.set_ylabel(\"target\")"
   ]
  },
  {
   "cell_type": "markdown",
   "id": "3c7b5056",
   "metadata": {},
   "source": [
    "## Constants"
   ]
  },
  {
   "cell_type": "code",
   "execution_count": 39,
   "id": "38e13b55",
   "metadata": {},
   "outputs": [
    {
     "name": "stdout",
     "output_type": "stream",
     "text": [
      "Test File       :  c:/data/test_10000_VFA.csv\n",
      "Prediction File :  c:/data/pred_10000_VFA.csv\n",
      "Scaler          :  c:/data/scaler_10000_VFA.pkl\n",
      "Model           :  c:/data/model_10000_VFA.keras\n"
     ]
    }
   ],
   "source": [
    "TAG = '10000_VFA'\n",
    "\n",
    "workDir    = 'c:/data/'\n",
    "\n",
    "inFile     = \"test_%s.csv\" % (TAG)\n",
    "outFile    = \"pred_%s.csv\" % TAG\n",
    "scalerFile = \"scaler_%s.pkl\" %TAG\n",
    "mdlDir     = \"model_%s.keras\" %TAG\n",
    "\n",
    "inFile     = os.path.join(workDir, inFile)\n",
    "outFile    = os.path.join(workDir, outFile)\n",
    "scalerFile = os.path.join(workDir, scalerFile)\n",
    "mdlDir     = os.path.join(workDir, mdlDir)\n",
    "\n",
    "print('Test File       : ', inFile)\n",
    "print('Prediction File : ', outFile)\n",
    "print('Scaler          : ', scalerFile)\n",
    "print('Model           : ', mdlDir)"
   ]
  },
  {
   "cell_type": "markdown",
   "id": "9bf054e6",
   "metadata": {},
   "source": [
    "## Reading Challenge Data and Trained Model"
   ]
  },
  {
   "cell_type": "code",
   "execution_count": 40,
   "id": "c0f81517",
   "metadata": {},
   "outputs": [
    {
     "name": "stdout",
     "output_type": "stream",
     "text": [
      "@ Info                    : reading db from 'c:/data/test_10000_VFA.csv'\n",
      "    k=0.800   k=0.825   k=0.850   k=0.875   k=0.900   k=0.925   k=0.950  \\\n",
      "0  0.699858  0.699374  0.698909  0.698463  0.698034  0.697620  0.697222   \n",
      "1  0.679454  0.676550  0.673773  0.671118  0.668580  0.666155  0.663839   \n",
      "2  0.310343  0.308666  0.307031  0.305436  0.303879  0.302357  0.300871   \n",
      "3  0.547354  0.545410  0.543533  0.541718  0.539962  0.538264  0.536619   \n",
      "4  0.681552  0.680506  0.679549  0.678678  0.677886  0.677170  0.676525   \n",
      "\n",
      "    k=0.975   k=1.000   k=1.025   k=1.050   k=1.075   k=1.100   k=1.125  \\\n",
      "0  0.696838  0.696467  0.696110  0.695764  0.695430  0.695106  0.694793   \n",
      "1  0.661627  0.659515  0.657501  0.655580  0.653750  0.652006  0.650346   \n",
      "2  0.299417  0.297995  0.296603  0.295241  0.293907  0.292600  0.291319   \n",
      "3  0.535026  0.533482  0.531985  0.530532  0.529123  0.527756  0.526428   \n",
      "4  0.675946  0.675431  0.674975  0.674575  0.674227  0.673929  0.673677   \n",
      "\n",
      "    k=1.150   k=1.175         T   Strike  \n",
      "0  0.694490  0.694196  0.930979  0.78996  \n",
      "1  0.648767  0.647267  0.799496  0.70516  \n",
      "2  0.290064  0.288834  1.208513  1.26540  \n",
      "3  0.525138  0.523884  1.459213  1.22676  \n",
      "4  0.673469  0.673302  0.776113  0.81732  \n"
     ]
    }
   ],
   "source": [
    "# Read in data to predict\n",
    "print(\"@ %-24s: reading db from '%s'\" %(\"Info\", inFile))\n",
    "db = pd.read_csv(inFile, sep=',')\n",
    "print(db.head(5))"
   ]
  },
  {
   "cell_type": "code",
   "execution_count": 41,
   "id": "01ae9a21",
   "metadata": {},
   "outputs": [
    {
     "name": "stdout",
     "output_type": "stream",
     "text": [
      "@ Info                    : loading model from directory 'c:/data/model_10000_VFA.keras'\n"
     ]
    }
   ],
   "source": [
    "# load the model from file\n",
    "print(\"@ %-24s: loading model from directory '%s'\" %(\"Info\", mdlDir))\n",
    "model = keras.models.load_model(mdlDir)"
   ]
  },
  {
   "cell_type": "code",
   "execution_count": 42,
   "id": "b7fe2a9f",
   "metadata": {},
   "outputs": [],
   "source": [
    "scaler = load(open(scalerFile, 'rb'))\n",
    "X = scaler.transform(db)"
   ]
  },
  {
   "cell_type": "markdown",
   "id": "f3d8f07e",
   "metadata": {},
   "source": [
    "## Using the Trained Model to Predict"
   ]
  },
  {
   "cell_type": "code",
   "execution_count": 43,
   "id": "fafcd721",
   "metadata": {},
   "outputs": [
    {
     "name": "stdout",
     "output_type": "stream",
     "text": [
      "\u001b[1m104/104\u001b[0m \u001b[32m━━━━━━━━━━━━━━━━━━━━\u001b[0m\u001b[37m\u001b[0m \u001b[1m0s\u001b[0m 2ms/step\n",
      "@ Info                    : predictions written to 'c:/data/pred_10000_VFA.csv'\n"
     ]
    }
   ],
   "source": [
    "Y = model.predict(X)\n",
    "Ydb = pd.DataFrame({\"Price\": Y[:,0]})\n",
    "\n",
    "Ydb.to_csv(outFile, sep=',', float_format=\"%.6f\", index=False)\n",
    "print(\"@ %-24s: predictions written to '%s'\" %(\"Info\", outFile))"
   ]
  },
  {
   "cell_type": "code",
   "execution_count": 44,
   "id": "d67a1714",
   "metadata": {},
   "outputs": [
    {
     "name": "stdout",
     "output_type": "stream",
     "text": [
      "(3300,)\n"
     ]
    }
   ],
   "source": [
    "Y = np.ravel(Y)\n",
    "print(Y.shape)"
   ]
  },
  {
   "cell_type": "markdown",
   "id": "166220db",
   "metadata": {},
   "source": [
    "## Check Results"
   ]
  },
  {
   "cell_type": "code",
   "execution_count": 45,
   "id": "8fe13c73",
   "metadata": {},
   "outputs": [
    {
     "name": "stdout",
     "output_type": "stream",
     "text": [
      "(3300,)\n"
     ]
    }
   ],
   "source": [
    "refFile = 'trgt_%s.csv' % (TAG)\n",
    "resFile = 'test_%s.jpg' % (TAG)\n",
    "refFile = os.path.join(workDir, refFile)\n",
    "resFile = os.path.join(workDir, resFile)\n",
    "# read target file\n",
    "t = pd.read_csv(refFile, sep=',')[\"Price\"]\n",
    "print(t.shape)"
   ]
  },
  {
   "cell_type": "code",
   "execution_count": 46,
   "id": "32f31255",
   "metadata": {},
   "outputs": [],
   "source": [
    "# the absolute error\n",
    "x = np.fabs(Y-t)\n",
    "\n",
    "# MAE: mean absolute error\n",
    "m = np.mean(x)\n",
    "\n",
    "# STD of absolute error\n",
    "st = np.std(x)"
   ]
  },
  {
   "cell_type": "code",
   "execution_count": 47,
   "id": "0cd2cced",
   "metadata": {},
   "outputs": [
    {
     "name": "stdout",
     "output_type": "stream",
     "text": [
      "@ 10000_VFA               : E[y-t]: 0.008323 Std(y-t): 0.008524\n",
      "@ challenge file, saved to 'c:/data/test_10000_VFA.jpg'\n"
     ]
    },
    {
     "data": {
      "image/png": "[encoded data removed]",
      "text/plain": [
       "<Figure size 800x800 with 1 Axes>"
      ]
     },
     "metadata": {},
     "output_type": "display_data"
    }
   ],
   "source": [
    "import warnings\n",
    "warnings.simplefilter('ignore')\n",
    "\n",
    "import matplotlib.pyplot as plt\n",
    "\n",
    "fit = False\n",
    "if fit: \n",
    "    fig, ax = plt.subplots(1,2, figsize=(12,6))\n",
    "    ox = ax[0]\n",
    "    ux = ax[1]\n",
    "else  : \n",
    "    fig, ax = plt.subplots(1,1, figsize=(8,8))   \n",
    "    ox = ax\n",
    "    ux = None\n",
    "\n",
    "show_scattered(Y, t, TAG, ox)\n",
    "\n",
    "if not ux == None: \n",
    "    df = pd.read_csv(refFile, sep=',')\n",
    "    k  = df[\"Strike\"]\n",
    "    t  = df[\"Price\"]\n",
    "    ux.set_title(\"%s:  mae=%6.4f, std=%6.4f\" %(TAG, m, st))\n",
    "    ux.plot( k, t, \".\", label=\"mkt\")\n",
    "    ux.plot( k, y, \".\", label=\"NN\")\n",
    "    ux.set_xlabel(\"Strike\")\n",
    "    ux.set_ylabel(\"Price\")\n",
    "    ux.legend(loc=\"best\")\n",
    "\n",
    "fig.suptitle(\"Challenge Results\")\n",
    "\n",
    "print(\"@ challenge file, saved to '%s'\" %(resFile))\n",
    "plt.savefig(resFile, format=\"png\")\n",
    "plt.show()\n"
   ]
  },
  {
   "cell_type": "code",
   "execution_count": null,
   "id": "d12d1475",
   "metadata": {},
   "outputs": [],
   "source": []
  }
 ],
 "metadata": {
  "kernelspec": {
   "display_name": "Python 3 (ipykernel)",
   "language": "python",
   "name": "python3"
  },
  "language_info": {
   "codemirror_mode": {
    "name": "ipython",
    "version": 3
   },
   "file_extension": ".py",
   "mimetype": "text/x-python",
   "name": "python",
   "nbconvert_exporter": "python",
   "pygments_lexer": "ipython3",
   "version": "3.10.9"
  },
  "toc": {
   "base_numbering": 1,
   "nav_menu": {},
   "number_sections": true,
   "sideBar": true,
   "skip_h1_title": false,
   "title_cell": "Table of Contents",
   "title_sidebar": "Contents",
   "toc_cell": false,
   "toc_position": {},
   "toc_section_display": true,
   "toc_window_display": false
  }
 },
 "nbformat": 4,
 "nbformat_minor": 5
}
