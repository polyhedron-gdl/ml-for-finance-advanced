{
 "cells": [
  {
   "cell_type": "markdown",
   "id": "87ffe2e7",
   "metadata": {},
   "source": [
    "**PROBLEM**\n",
    "\n",
    "mysql insert into return the following error: INSERT INTO ts_data_sp (date, time, price, volume)  SELECT STR_TO_DATE(date, '%m/%d/%y') as date, time, price, volume  FROM raw_data_sp\tError Code: 1292. Truncated incorrect date value: '01/03/2000'\t0.000 sec. What does it mean?"
   ]
  },
  {
   "cell_type": "markdown",
   "id": "6341870f",
   "metadata": {},
   "source": [
    "**ANSWER**\n",
    "\n",
    "The error code `1292` with the message \"Truncated incorrect date value\" usually indicates that MySQL encountered a value in `raw_data_sp` that it couldn't correctly interpret as a date based on the format you provided in `STR_TO_DATE`.\n",
    "\n",
    "The output of `STR_TO_DATE` in MySQL is in the `DATE` data type if you provide only the date part (e.g., `'%m/%d/%Y'`). \n",
    "\n",
    "However, if your format includes a time component (like `'%m/%d/%Y %H:%i:%s'`), then the result will be of the `DATETIME` data type.\n",
    "\n",
    "Here’s a summary of how `STR_TO_DATE` output is determined:\n",
    "\n",
    "- **Date-only format** (e.g., `'%m/%d/%Y'`): Returns a `DATE`.\n",
    "- **Date and time format** (e.g., `'%m/%d/%Y %H:%i:%s'`): Returns a `DATETIME`.\n",
    "\n",
    "\n",
    "In this specific case, you are trying to convert `date` from `raw_data_sp` with the format `'%m/%d/%y'`, but the actual data contains dates in the `'%m/%d/%Y'` format (e.g., `01/03/2000`), where the year has four digits rather than two.\n",
    "\n",
    "**Solution**\n",
    "\n",
    "To fix this, update the format specifier in your `STR_TO_DATE` function to match the four-digit year:\n",
    "\n",
    "```sql\n",
    "INSERT INTO ts_data_sp (date, time, price, volume)\n",
    "SELECT STR_TO_DATE(date, '%m/%d/%Y') AS date, time, price, volume\n",
    "FROM raw_data_sp;\n",
    "```\n",
    "\n",
    "**Explanation of Changes**\n",
    "\n",
    "- `'%m/%d/%Y'` matches a four-digit year (`2000`), whereas `'%m/%d/%y'` only matches a two-digit year (`00` for 2000).\n",
    "- This change should help MySQL correctly interpret dates in the `mm/dd/yyyy` format without causing the truncation error."
   ]
  },
  {
   "cell_type": "code",
   "execution_count": null,
   "id": "b086c95d",
   "metadata": {},
   "outputs": [],
   "source": []
  }
 ],
 "metadata": {
  "kernelspec": {
   "display_name": "Python 3 (ipykernel)",
   "language": "python",
   "name": "python3"
  },
  "language_info": {
   "codemirror_mode": {
    "name": "ipython",
    "version": 3
   },
   "file_extension": ".py",
   "mimetype": "text/x-python",
   "name": "python",
   "nbconvert_exporter": "python",
   "pygments_lexer": "ipython3",
   "version": "3.10.9"
  },
  "toc": {
   "base_numbering": 1,
   "nav_menu": {},
   "number_sections": true,
   "sideBar": true,
   "skip_h1_title": false,
   "title_cell": "Table of Contents",
   "title_sidebar": "Contents",
   "toc_cell": false,
   "toc_position": {},
   "toc_section_display": true,
   "toc_window_display": false
  }
 },
 "nbformat": 4,
 "nbformat_minor": 5
}
